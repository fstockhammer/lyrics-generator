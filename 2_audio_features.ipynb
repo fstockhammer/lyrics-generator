{
 "cells": [
  {
   "cell_type": "markdown",
   "metadata": {
    "cell_id": "600db2c6-b380-46be-92a4-2ff137d5bd23",
    "deepnote_cell_type": "text-cell-h1",
    "formattedRanges": [],
    "id": "0a316zRMO5Ge",
    "is_collapsed": false,
    "tags": []
   },
   "source": [
    "# (2.) Attach song characteristics from Spotify (OPTIONAL!)"
   ]
  },
  {
   "cell_type": "markdown",
   "metadata": {
    "cell_id": "84551840-d4d5-4a49-8ad2-6f213cc77214",
    "deepnote_cell_height": 142,
    "deepnote_cell_type": "markdown",
    "id": "ACxmo_YbO5Gi",
    "tags": []
   },
   "source": [
    "After downloading the lyrics, we can also attach other characteristics of the songs to the dataset. Maybe we want our generated song to be in a certain **mood**? A very danceable song maybe? However, **we ended up not using these characteristics** in the model as they mainly describe the music and not the lyrics. <br><br>\n",
    "\n",
    "The idea of this notebook is to use the Spotify API to add song characteristics to the data, which are not necessary for a simple lyrics generator but could help when we want to build a more sophisticated one that also considers genre / mood as user input.<br><br>\n",
    "\n",
    "To do this we have to find the song on spotify (get its spotify id) and then look for its characteristics, so <br>\n",
    "*1*. Get track-id from artist / title <br>\n",
    "*2*. Then get audio-features using track-id <br><br>\n",
    "\n",
    "As the genre is not part of the audio-features but rather saved by spotify on a artist level, we need another step to attach the genre of a song to the data. <br>\n",
    "*3*. Get artist-id and find genre"
   ]
  },
  {
   "cell_type": "code",
   "execution_count": null,
   "metadata": {
    "cell_id": "8eadfade-0a33-411f-9c27-d0585d63a93d",
    "deepnote_cell_height": 273.796875,
    "deepnote_cell_type": "code",
    "deepnote_to_be_reexecuted": false,
    "execution_millis": 10934,
    "execution_start": 1656423380402,
    "id": "uMhs2IH6O5Gj",
    "is_output_hidden": true,
    "outputId": "7e8b15c9-2999-49c7-cd11-2c3169b11f35",
    "source_hash": "e9b4b7d2",
    "tags": []
   },
   "outputs": [
    {
     "name": "stdout",
     "output_type": "stream",
     "text": [
      "Collecting git+https://github.com/johnwmillr/LyricsGenius.git\n",
      "  Cloning https://github.com/johnwmillr/LyricsGenius.git to /tmp/pip-req-build-n_nspx4u\n",
      "  Running command git clone --filter=blob:none --quiet https://github.com/johnwmillr/LyricsGenius.git /tmp/pip-req-build-n_nspx4u\n",
      "  Resolved https://github.com/johnwmillr/LyricsGenius.git to commit fa9528551043cd60376b900a0adacf239a93fae5\n",
      "  Preparing metadata (setup.py) ... \u001b[?25ldone\n",
      "\u001b[?25hRequirement already satisfied: beautifulsoup4>=4.6.0 in /root/venv/lib/python3.7/site-packages (from lyricsgenius==3.0.1) (4.11.1)\n",
      "Requirement already satisfied: requests>=2.20.0 in /shared-libs/python3.7/py/lib/python3.7/site-packages (from lyricsgenius==3.0.1) (2.27.1)\n",
      "Requirement already satisfied: soupsieve>1.2 in /root/venv/lib/python3.7/site-packages (from beautifulsoup4>=4.6.0->lyricsgenius==3.0.1) (2.3.2.post1)\n",
      "Requirement already satisfied: charset-normalizer~=2.0.0 in /shared-libs/python3.7/py-core/lib/python3.7/site-packages (from requests>=2.20.0->lyricsgenius==3.0.1) (2.0.12)\n",
      "Requirement already satisfied: urllib3<1.27,>=1.21.1 in /shared-libs/python3.7/py/lib/python3.7/site-packages (from requests>=2.20.0->lyricsgenius==3.0.1) (1.26.9)\n",
      "Requirement already satisfied: idna<4,>=2.5 in /shared-libs/python3.7/py-core/lib/python3.7/site-packages (from requests>=2.20.0->lyricsgenius==3.0.1) (3.3)\n",
      "Requirement already satisfied: certifi>=2017.4.17 in /shared-libs/python3.7/py/lib/python3.7/site-packages (from requests>=2.20.0->lyricsgenius==3.0.1) (2022.5.18.1)\n",
      "\u001b[33mWARNING: You are using pip version 22.0.4; however, version 22.1.2 is available.\n",
      "You should consider upgrading via the '/root/venv/bin/python -m pip install --upgrade pip' command.\u001b[0m\u001b[33m\n",
      "\u001b[0mRequirement already satisfied: spotipy in /root/venv/lib/python3.7/site-packages (2.20.0)\n",
      "Requirement already satisfied: urllib3>=1.26.0 in /shared-libs/python3.7/py/lib/python3.7/site-packages (from spotipy) (1.26.9)\n",
      "Requirement already satisfied: requests>=2.25.0 in /shared-libs/python3.7/py/lib/python3.7/site-packages (from spotipy) (2.27.1)\n",
      "Requirement already satisfied: six>=1.15.0 in /shared-libs/python3.7/py-core/lib/python3.7/site-packages (from spotipy) (1.16.0)\n",
      "Requirement already satisfied: redis>=3.5.3 in /root/venv/lib/python3.7/site-packages (from spotipy) (4.3.4)\n",
      "Requirement already satisfied: deprecated>=1.2.3 in /root/venv/lib/python3.7/site-packages (from redis>=3.5.3->spotipy) (1.2.13)\n",
      "Requirement already satisfied: async-timeout>=4.0.2 in /shared-libs/python3.7/py-core/lib/python3.7/site-packages (from redis>=3.5.3->spotipy) (4.0.2)\n",
      "Requirement already satisfied: importlib-metadata>=1.0 in /shared-libs/python3.7/py-core/lib/python3.7/site-packages (from redis>=3.5.3->spotipy) (4.11.4)\n",
      "Requirement already satisfied: packaging>=20.4 in /shared-libs/python3.7/py/lib/python3.7/site-packages (from redis>=3.5.3->spotipy) (21.3)\n",
      "Requirement already satisfied: typing-extensions in /shared-libs/python3.7/py-core/lib/python3.7/site-packages (from redis>=3.5.3->spotipy) (4.2.0)\n",
      "Requirement already satisfied: idna<4,>=2.5 in /shared-libs/python3.7/py-core/lib/python3.7/site-packages (from requests>=2.25.0->spotipy) (3.3)\n",
      "Requirement already satisfied: certifi>=2017.4.17 in /shared-libs/python3.7/py/lib/python3.7/site-packages (from requests>=2.25.0->spotipy) (2022.5.18.1)\n",
      "Requirement already satisfied: charset-normalizer~=2.0.0 in /shared-libs/python3.7/py-core/lib/python3.7/site-packages (from requests>=2.25.0->spotipy) (2.0.12)\n",
      "Requirement already satisfied: wrapt<2,>=1.10 in /shared-libs/python3.7/py/lib/python3.7/site-packages (from deprecated>=1.2.3->redis>=3.5.3->spotipy) (1.14.1)\n",
      "Requirement already satisfied: zipp>=0.5 in /shared-libs/python3.7/py-core/lib/python3.7/site-packages (from importlib-metadata>=1.0->redis>=3.5.3->spotipy) (3.8.0)\n",
      "Requirement already satisfied: pyparsing!=3.0.5,>=2.0.2 in /shared-libs/python3.7/py/lib/python3.7/site-packages (from packaging>=20.4->redis>=3.5.3->spotipy) (3.0.9)\n",
      "\u001b[33mWARNING: You are using pip version 22.0.4; however, version 22.1.2 is available.\n",
      "You should consider upgrading via the '/root/venv/bin/python -m pip install --upgrade pip' command.\u001b[0m\u001b[33m\n",
      "\u001b[0mRequirement already satisfied: pycld2 in /root/venv/lib/python3.7/site-packages (0.41)\n",
      "\u001b[33mWARNING: You are using pip version 22.0.4; however, version 22.1.2 is available.\n",
      "You should consider upgrading via the '/root/venv/bin/python -m pip install --upgrade pip' command.\u001b[0m\u001b[33m\n",
      "\u001b[0m"
     ]
    }
   ],
   "source": [
    "# imports\n",
    "import pandas as pd\n",
    "import numpy as np\n",
    "import re\n",
    "from datetime import date\n",
    "import lg_functions as lg\n",
    "# install library pycld2 for detecting the main language of a song\n",
    "!pip install -U pycld2\n",
    "import pycld2"
   ]
  },
  {
   "cell_type": "code",
   "execution_count": null,
   "metadata": {
    "cell_id": "61ef77f5-a624-47c2-8c96-6ea275b0d76b",
    "deepnote_cell_height": 636,
    "deepnote_cell_type": "code",
    "deepnote_to_be_reexecuted": false,
    "execution_millis": 643,
    "execution_start": 1656410150252,
    "id": "ftuPevLKO5Gk",
    "outputId": "b8d6bb69-345b-4c09-f4cc-f372046c5659",
    "source_hash": "fd764aeb",
    "tags": []
   },
   "outputs": [
    {
     "data": {
      "application/vnd.deepnote.dataframe.v3+json": {
       "column_count": 4,
       "columns": [
        {
         "dtype": "object",
         "name": "song",
         "stats": {
          "categories": [
           {
            "count": 10,
            "name": "Hallelujah"
           },
           {
            "count": 9,
            "name": "Home"
           },
           {
            "count": 9030,
            "name": "8076 others"
           }
          ],
          "nan_count": 0,
          "unique_count": 8078
         }
        },
        {
         "dtype": "object",
         "name": "artist",
         "stats": {
          "categories": [
           {
            "count": 179,
            "name": "['Glee Cast']"
           },
           {
            "count": 120,
            "name": "['Taylor Swift']"
           },
           {
            "count": 8750,
            "name": "4084 others"
           }
          ],
          "nan_count": 0,
          "unique_count": 4086
         }
        },
        {
         "dtype": "object",
         "name": "url",
         "stats": {
          "categories": [
           {
            "count": 1,
            "name": "https://genius.com/Adele-easy-on-me-lyrics"
           },
           {
            "count": 1,
            "name": "https://genius.com/The-kid-laroi-and-justin-bieber-stay-lyrics"
           },
           {
            "count": 9047,
            "name": "9047 others"
           }
          ],
          "nan_count": 0,
          "unique_count": 9049
         }
        },
        {
         "dtype": "object",
         "name": "lyrics",
         "stats": {
          "categories": [
           {
            "count": 1,
            "name": "Easy On Me Lyrics\nThere ain't no gold in this river\nThat I've been washin' my hands in forever\nI know there is hope in these waters\nBut I can't bring myself to swim\nWhen I am drowning in this silence\nBaby, let me in\n\nGo easy on me, baby\nI was still a child\nDidn't get the chance to\nFeel the world around me\nI had no time to choose what I chose to do\nSo go easy on me\n\nThere ain't no room for things to change\nWhen we are both so deeply stuck in our ways\nYou can't deny how hard I have tried\nI changed who I was to put you both first\nBut now I give up\n\nGo easy on mе, baby\nI was still a child\nDidn't get the chance to\nFeel thе world around me\nHad no time to choose what I chose to do\nSo go easy on me\nI had good intentions\nAnd the highest hopes\nBut I know right now\nIt probably doesn't even show\n\nGo easy on me, baby\nI was still a child\nI didn't get the chance to\nFeel the world around me\nI had no time to choose what I chose to do\nSo go easy on me149Embed"
           },
           {
            "count": 9042,
            "name": "9042 others"
           },
           {
            "count": 6,
            "name": "Missing"
           }
          ],
          "nan_count": 6,
          "unique_count": 9043
         }
        },
        {
         "dtype": "int64",
         "name": "_deepnote_index_column"
        }
       ],
       "row_count": 9049,
       "rows": [
        {
         "_deepnote_index_column": 0,
         "artist": "['Adele']",
         "lyrics": "Easy On Me Lyrics\nThere ain't no gold in this river\nThat I've been washin' my hands in forever\nI know there is hope in these waters\nBut I can't bring myself to swim\nWhen I am drowning in this silence\nBaby, let me in\n\nGo easy on me, baby\nI was still a child\nDidn't get the chance to\nFeel the world around me\nI had no time to choose what I chose to do\nSo go easy on me\n\nThere ain't no room for things to change\nWhen we are both so deeply stuck in our ways\nYou can't deny how hard I have tried\nI changed who I was to put you both first\nBut now I give up\n\nGo easy on mе, baby\nI was still a child\nDidn't get the chance to\nFeel thе world around me\nHad no time to choose what I chose to do\nSo go easy on me\nI had good intentions\nAnd the highest hopes\nBut I know right now\nIt probably doesn't even show\n\nGo easy on me, baby\nI was still a child\nI didn't get the chance to\nFeel the world around me\nI had no time to choose what I chose to do\nSo go easy on me149Embed",
         "song": "Easy On Me",
         "url": "https://genius.com/Adele-easy-on-me-lyrics"
        },
        {
         "_deepnote_index_column": 1,
         "artist": "['The Kid LAROI', 'Justin Bieber']",
         "lyrics": "STAY Lyrics\nI do the same thing I told you that I never would\nI told you I'd change, even when I knew I never could\nI know that I can’t find nobody else as good as you\nI need you to stay, need you to stay, hey (Oh)\n\nI get drunk, wake up, I'm wasted still\nI realize the time that I wasted here\nI feel like you can't feel the way I feel\nOh, I’ll be fucked up if you can't be right here\n\nOh, ooh-woah (Oh, ooh-woah, ooh-woah)\nOh, ooh-woah (Oh, ooh-woah, ooh-woah)\nOh, ooh-woah (Oh, ooh-woah, ooh-woah)\nOh, I'll be fucked up if you can't be right here\n\nI do the same thing I told you that I never would\nI told you I'd change, even when I knew I never could\nI know that I can't find nobody else as good as you\nI need you to stay, need you to stay, hey\nI do the same thing I told you that I never would\nI told you I'd change, even when I knew I never could\nI know that I can't find nobody else as good as you\nI need you to stay, need you to stay, hey\nWhen I’m away from you, I miss your touch (Ooh)\nYou’re…",
         "song": "Stay",
         "url": "https://genius.com/The-kid-laroi-and-justin-bieber-stay-lyrics"
        },
        {
         "_deepnote_index_column": 2,
         "artist": "['Lil Nas X', 'Jack Harlow']",
         "lyrics": "INDUSTRY BABY Lyrics\n(D-D-Daytrip took it to ten, hey)\nBaby back, ayy, couple racks, ayy\nCouple Grammys on him, couple plaques, ayy\nThat's a fact, ayy, throw it back, ayy\nThrow it back, ayy\nAnd this one is for the champions\nI ain't lost since I began, yeah\nFunny how you said it was the end, yeah\nThen I went did it again, yeah\n\nI told you long ago on the road\nI got what they waiting for\nI don't run from nothing, dog\nGet your soldiers, tell 'em I ain't layin' low\nYou was never really rooting for me anyway\nWhen I'm back up at the top, I wanna hear you say\nHe don't run from nothin', dog\nGet your soldiers, tell 'em that the break is over\n\nUh, need to, uh\nNeed to get this album done\nNeed a couple number onеs\nNeed a plaque on every song\nNeed mе like one with Nicki now\nTell a rap nigga I don't see ya, hah\nI'm a pop nigga like Bieber, hah\nI don't fuck bitches, I'm queer, hah\nBut these niggas bitches like Madea, yeah, yeah, yeah, ayy (Yeah)\nOh, let's do it\nI ain't fall off, I just ain't release…",
         "song": "Industry Baby",
         "url": "https://genius.com/Lil-nas-x-and-jack-harlow-industry-baby-lyrics"
        },
        {
         "_deepnote_index_column": 3,
         "artist": "['Walker Hayes']",
         "lyrics": "Fancy Like Lyrics\nAyy\nMy girl is bangin', she's so low maintenance\nDon't need no champagne-poppin' entertainment\nTake her to Wendy's, can't keep her off me\nShe wanna dip me like them fries in her Frosty\n\nBut every now and then, when I get paid\nI gotta spoil my baby with an upgrade (Yeah)\nAyy, ayy, ayy\n\nYeah, we fancy like Applebee's on a date night\nGot some Bourbon Street steak with the Oreo shake\nGet some whipped cream on the top, too\nTwo straws, one check, girl, I got you\nBougie like Natty in the styrofoam\nSqueaky-squeakin' in the truck bed all the way home\nWith some Alabama-jamma, she my Dixieland delight (Hey)\nThat's how we do, how we do, fancy like\n\nOoh\nFancy like, ooh\nFancy like, ooh\nFancy like, ooh\nUh\nDon't need no Tesla to impress her (Don't need no Tesla to impress her)\nMy girl is happy rollin' on a Vespa (There she go)\nDon't need no mansion to get romancin' (Ooh, woo)\nShe's super fine, double wide, slow dancin' (Slow dancin')\n\nBut every now and then, when I get paid\nI gotta …",
         "song": "Fancy Like",
         "url": "https://genius.com/Walker-hayes-fancy-like-lyrics"
        },
        {
         "_deepnote_index_column": 4,
         "artist": "['Ed Sheeran']",
         "lyrics": "Bad Habits Lyrics\n(One, two, three, four)\nOoh, ooh\n\nEvery time you come around, you know I can't say no\nEvery time the sun goes down, I let you take control\nI can feel the paradise before my world implodes\nAnd tonight had something wonderful\n\nMy bad habits lead to late nights endin' alone\nConversations with a stranger I barely know\nSwearin' this'll be the last, but it probably won't\nI got nothin' left to lose, or use, or do\nMy bad habits lead to wide eyes starin' at space\nAnd I know I lose control of the things that I say\nYeah, I was lookin' for a way out, now I can't escape\nNothin' happens after two, it's truе, it's true\nMy bad habits lead to you\n\nOoh-ooh, ooh-ooh\nMy bad habits lead to you\nOoh-ooh, ooh-ooh\nMy bad habits lеad to you\nEvery pure intention ends when the good times start\nFallin' over everything to reach the first time's spark\nIt started under neon lights and then it all got dark\nI only know how to go too far\n\nMy bad habits lead to late nights endin' alone\nConversations wi…",
         "song": "Bad Habits",
         "url": "https://genius.com/Ed-sheeran-bad-habits-lyrics"
        },
        {
         "_deepnote_index_column": 5,
         "artist": "['Drake', 'Future', 'Young Thug']",
         "lyrics": "Way 2 Sexy Lyrics\nI'm too sexy for my shirt\nToo sexy for my shirt\nSo sexy, it hurts\nI'm too sexy for Milan\nToo sexy for Milan\nNew York or Japan\n\nYeah, woah, woah, woah\nI'm too sexy for this syrup\nToo sexy for your girl\nToo sexy for this world\nToo sexy for this ice\nToo sexy for that jack, yeah, yeah\nI'm too sexy for this chain\nToo sexy for your gang\nToo sexy for this fame, yeah, yeah\nI'm too sexy for the trap\nToo sexy for that cap\nToo sexy for that jack, yeah, yeah\n\nOkay, alright, that's fine, okay (Okay)\nI'm feelin' too sexy to accept requests (Way too sexy)\nAnd I'm way too sexy to go unprotected (Way too sexy)\nAnd she popped a Tesla, now she goin' electric\nOkay, alright, that's fine, okay\nThink we got too sexy for that metro housin' (Way too sexy)\nDiamond popped out, almost swallowed sixty thousand (Sixty piece)\nSection need more tings in here, I like it crowded, ayy (Woah, woah)\nYeah, I like it crowded\nOh, you like the boy? Well, tell me what you like about him\nYou a turnt up little…",
         "song": "Way 2 Sexy",
         "url": "https://genius.com/Drake-way-2-sexy-lyrics"
        },
        {
         "_deepnote_index_column": 6,
         "artist": "['Ed Sheeran']",
         "lyrics": "Shivers Lyrics\nI took an arrow to the heart\nI never kissed a mouth that tastes like yours\nStrawberries and a somethin' more\nOoh, yeah, I want it all\nLipstick on my guitar\nFill up the engine, we can drive real far\nGo dancin' underneath the stars\nOoh, yeah, I want it all\nMmm, you got me feelin' like\n\nI wanna be that guy, I wanna kiss your eyes\nI wanna drink that smile, I wanna feel like I'm\nLike my soul's on fire, I wanna stay up all day and all night\nYeah, you got me singin' like\n\nOoh, I love it when you do it like that\nAnd when you're close up, give me thе shivers\nOh, baby, you wanna dance 'til the sunlight cracks\nAnd whеn they say the party's over, then we'll bring it right back\nAnd we'll say, \"Ooh, I love it when you do it like that\"\nAnd when you're close up, give me the shivers\nOh, baby, you wanna dance 'til the sunlight cracks\nAnd when they say the party's over, then we'll bring it right back\nInto the car\nOn the backseat in the moonlit dark\nWrap me up between your legs and arms\nOo…",
         "song": "Shivers",
         "url": "https://genius.com/Ed-sheeran-shivers-lyrics"
        },
        {
         "_deepnote_index_column": 7,
         "artist": "['Olivia Rodrigo']",
         "lyrics": "​good 4 u Lyrics\n(Ah)\n\nWell, good for you, I guess you moved on really easily\nYou found a new girl and it only took a couple weeks\nRemember when you said that you wanted to give me the world?\n(World)\nAnd good for you, I guess that you've been workin' on yourself\nI guess that therapist I found for you, she really helped\nNow you can be a better man for your brand new girl (Girl)\n\nWell, good for you\nYou look happy and healthy, not me\nIf you ever cared to ask\nGood for you\nYou're doin' great out there without me, baby\nGod, I wish that I could do that\nI've lost my mind, I've spent the night\nCryin' on the floor of my bathroom\nBut you're so unaffected, I really don't get it\nBut I guess good for you\n\nWell, good for you, I guess you're gettin' everything you want (Ah)\nYou bought a new car and your career's really takin' off (Ah)\nIt's like we never even happened\nBaby, what the fuck is up with that? (Ah)\nAnd good for you, it's like you never even met me\nRemember when you swore to God I was the on…",
         "song": "Good 4 U",
         "url": "https://genius.com/Olivia-rodrigo-good-4-u-lyrics"
        },
        {
         "_deepnote_index_column": 8,
         "artist": "['Doja Cat']",
         "lyrics": "Need to Know Lyrics\nYeah\n\nWanna know what it's like (Like)\nBaby, show me what it's like (Like)\nI don't really got no type (Type)\nI just wanna fuck all night\nYeah-yeah, oh-woah-woah (Oh, ooh, mmm)\nBaby, I need to know, mmm (Yeah, need to know)\nI just been fantasizin' (Size)\nAnd we got a lotta time (Time)\nBaby, come throw the pipe (Pipe)\nGotta know what it's like (Like)\nYeah-yeah, oh-woah-woah\nBaby, I need to know, mmm\n\nWhat's your size? (Size)\nAdd, subtract, divide ('Vide)\nDaddy don't throw no curves (Curves)\nHold up, I'm goin' wide (Wide)\nWe could just start at ten (Ten)\nThen we can go to five (Five)\nI don't play with my pen (Pen)\nI mean what I writе\nYeah-yeah, woah-woah-woah\nI just can't help but bе sexual (Oh)\nTell me your schedule (Yeah)\nI got a lotta new tricks for you, baby\nJust sayin' I'm flexible (I will)\nI do what I can to get you off (I will)\nMight just fuck him with my makeup on (I will)\nEat it like I need an apron on (Yeah, oh)\nEat it 'til I need to change my thong (Yeah, a…",
         "song": "Need To Know",
         "url": "https://genius.com/Doja-cat-need-to-know-lyrics"
        },
        {
         "_deepnote_index_column": 9,
         "artist": "['Dua Lipa']",
         "lyrics": "Levitating Lyrics\nIf you wanna run away with me, I know a galaxy\nAnd I can take you for a ride\nI had a premonition that we fell into a rhythm\nWhere the music don't stop for life\nGlitter in the sky, glitter in my eyes\nShining just the way I like\nIf you're feeling like you need a little bit of company\nYou met me at the perfect time\n\nYou want me, I want you, baby\nMy sugarboo, I'm levitating\nThe Milky Way, we're renegading\nYeah, yeah, yeah, yeah, yeah\n\nI got you, moonlight, you're my starlight\nI need you all night, come on, dance with me\nI'm levitating\nYou, moonlight, you're my starlight (You're the moonlight)\nI need you all night, come on, dance with me\nI'm levitating\n\nI believe that you're for me, I feel it in our energy\nI see us written in the stars\nWe can go wherever, so let's do it now or never\nBaby, nothing's ever, ever too far\nGlitter in the sky, glitter in our eyes\nShining just the way we are\nI feel like we're forever every time we get together\nBut whatever, let's get lost on Mars…",
         "song": "Levitating",
         "url": "https://genius.com/Dua-lipa-levitating-lyrics"
        }
       ]
      },
      "text/html": [
       "<div>\n",
       "<style scoped>\n",
       "    .dataframe tbody tr th:only-of-type {\n",
       "        vertical-align: middle;\n",
       "    }\n",
       "\n",
       "    .dataframe tbody tr th {\n",
       "        vertical-align: top;\n",
       "    }\n",
       "\n",
       "    .dataframe thead th {\n",
       "        text-align: right;\n",
       "    }\n",
       "</style>\n",
       "<table border=\"1\" class=\"dataframe\">\n",
       "  <thead>\n",
       "    <tr style=\"text-align: right;\">\n",
       "      <th></th>\n",
       "      <th>song</th>\n",
       "      <th>artist</th>\n",
       "      <th>url</th>\n",
       "      <th>lyrics</th>\n",
       "    </tr>\n",
       "  </thead>\n",
       "  <tbody>\n",
       "    <tr>\n",
       "      <th>0</th>\n",
       "      <td>Easy On Me</td>\n",
       "      <td>['Adele']</td>\n",
       "      <td>https://genius.com/Adele-easy-on-me-lyrics</td>\n",
       "      <td>Easy On Me Lyrics\\nThere ain't no gold in this...</td>\n",
       "    </tr>\n",
       "    <tr>\n",
       "      <th>1</th>\n",
       "      <td>Stay</td>\n",
       "      <td>['The Kid LAROI', 'Justin Bieber']</td>\n",
       "      <td>https://genius.com/The-kid-laroi-and-justin-bi...</td>\n",
       "      <td>STAY Lyrics\\nI do the same thing I told you th...</td>\n",
       "    </tr>\n",
       "    <tr>\n",
       "      <th>2</th>\n",
       "      <td>Industry Baby</td>\n",
       "      <td>['Lil Nas X', 'Jack Harlow']</td>\n",
       "      <td>https://genius.com/Lil-nas-x-and-jack-harlow-i...</td>\n",
       "      <td>INDUSTRY BABY Lyrics\\n(D-D-Daytrip took it to ...</td>\n",
       "    </tr>\n",
       "    <tr>\n",
       "      <th>3</th>\n",
       "      <td>Fancy Like</td>\n",
       "      <td>['Walker Hayes']</td>\n",
       "      <td>https://genius.com/Walker-hayes-fancy-like-lyrics</td>\n",
       "      <td>Fancy Like Lyrics\\nAyy\\nMy girl is bangin', sh...</td>\n",
       "    </tr>\n",
       "    <tr>\n",
       "      <th>4</th>\n",
       "      <td>Bad Habits</td>\n",
       "      <td>['Ed Sheeran']</td>\n",
       "      <td>https://genius.com/Ed-sheeran-bad-habits-lyrics</td>\n",
       "      <td>Bad Habits Lyrics\\n(One, two, three, four)\\nOo...</td>\n",
       "    </tr>\n",
       "    <tr>\n",
       "      <th>...</th>\n",
       "      <td>...</td>\n",
       "      <td>...</td>\n",
       "      <td>...</td>\n",
       "      <td>...</td>\n",
       "    </tr>\n",
       "    <tr>\n",
       "      <th>9044</th>\n",
       "      <td>The Greatest Romance Ever Sold</td>\n",
       "      <td>['Prince']</td>\n",
       "      <td>https://genius.com/Prince-the-greatest-romance...</td>\n",
       "      <td>The Greatest Romance Ever Sold Lyrics\\nThe gre...</td>\n",
       "    </tr>\n",
       "    <tr>\n",
       "      <th>9045</th>\n",
       "      <td>The Christmas Song (Chestnuts Roasting On An O...</td>\n",
       "      <td>['Christina Aguilera']</td>\n",
       "      <td>https://genius.com/Christina-aguilera-christma...</td>\n",
       "      <td>Christmas Song (Chestnuts Roasting On An Open ...</td>\n",
       "    </tr>\n",
       "    <tr>\n",
       "      <th>9046</th>\n",
       "      <td>Deck The Halls</td>\n",
       "      <td>['SHeDAISY']</td>\n",
       "      <td>https://genius.com/Shedaisy-deck-the-halls-lyrics</td>\n",
       "      <td>Deck The Halls Lyrics(arranged by SHeDAISY and...</td>\n",
       "    </tr>\n",
       "    <tr>\n",
       "      <th>9047</th>\n",
       "      <td>I Love You</td>\n",
       "      <td>['Martina McBride']</td>\n",
       "      <td>https://genius.com/Martina-mcbride-i-love-you-...</td>\n",
       "      <td>I Love You Lyrics\\nYeah\\n\\nThe sun is shining ...</td>\n",
       "    </tr>\n",
       "    <tr>\n",
       "      <th>9048</th>\n",
       "      <td>Left &amp; Right</td>\n",
       "      <td>[\"D'Angelo\", 'Method Man And Redman']</td>\n",
       "      <td>https://genius.com/Dangelo-left-and-right-lyrics</td>\n",
       "      <td>Left &amp; Right Lyrics\\nYo, yo, yo (Yeah, yeah)\\n...</td>\n",
       "    </tr>\n",
       "  </tbody>\n",
       "</table>\n",
       "<p>9049 rows × 4 columns</p>\n",
       "</div>"
      ],
      "text/plain": [
       "                                                   song  \\\n",
       "0                                            Easy On Me   \n",
       "1                                                  Stay   \n",
       "2                                         Industry Baby   \n",
       "3                                            Fancy Like   \n",
       "4                                            Bad Habits   \n",
       "...                                                 ...   \n",
       "9044                     The Greatest Romance Ever Sold   \n",
       "9045  The Christmas Song (Chestnuts Roasting On An O...   \n",
       "9046                                     Deck The Halls   \n",
       "9047                                         I Love You   \n",
       "9048                                       Left & Right   \n",
       "\n",
       "                                     artist  \\\n",
       "0                                 ['Adele']   \n",
       "1        ['The Kid LAROI', 'Justin Bieber']   \n",
       "2              ['Lil Nas X', 'Jack Harlow']   \n",
       "3                          ['Walker Hayes']   \n",
       "4                            ['Ed Sheeran']   \n",
       "...                                     ...   \n",
       "9044                             ['Prince']   \n",
       "9045                 ['Christina Aguilera']   \n",
       "9046                           ['SHeDAISY']   \n",
       "9047                    ['Martina McBride']   \n",
       "9048  [\"D'Angelo\", 'Method Man And Redman']   \n",
       "\n",
       "                                                    url  \\\n",
       "0            https://genius.com/Adele-easy-on-me-lyrics   \n",
       "1     https://genius.com/The-kid-laroi-and-justin-bi...   \n",
       "2     https://genius.com/Lil-nas-x-and-jack-harlow-i...   \n",
       "3     https://genius.com/Walker-hayes-fancy-like-lyrics   \n",
       "4       https://genius.com/Ed-sheeran-bad-habits-lyrics   \n",
       "...                                                 ...   \n",
       "9044  https://genius.com/Prince-the-greatest-romance...   \n",
       "9045  https://genius.com/Christina-aguilera-christma...   \n",
       "9046  https://genius.com/Shedaisy-deck-the-halls-lyrics   \n",
       "9047  https://genius.com/Martina-mcbride-i-love-you-...   \n",
       "9048   https://genius.com/Dangelo-left-and-right-lyrics   \n",
       "\n",
       "                                                 lyrics  \n",
       "0     Easy On Me Lyrics\\nThere ain't no gold in this...  \n",
       "1     STAY Lyrics\\nI do the same thing I told you th...  \n",
       "2     INDUSTRY BABY Lyrics\\n(D-D-Daytrip took it to ...  \n",
       "3     Fancy Like Lyrics\\nAyy\\nMy girl is bangin', sh...  \n",
       "4     Bad Habits Lyrics\\n(One, two, three, four)\\nOo...  \n",
       "...                                                 ...  \n",
       "9044  The Greatest Romance Ever Sold Lyrics\\nThe gre...  \n",
       "9045  Christmas Song (Chestnuts Roasting On An Open ...  \n",
       "9046  Deck The Halls Lyrics(arranged by SHeDAISY and...  \n",
       "9047  I Love You Lyrics\\nYeah\\n\\nThe sun is shining ...  \n",
       "9048  Left & Right Lyrics\\nYo, yo, yo (Yeah, yeah)\\n...  \n",
       "\n",
       "[9049 rows x 4 columns]"
      ]
     },
     "execution_count": 2,
     "metadata": {},
     "output_type": "execute_result"
    }
   ],
   "source": [
    "# load the data\n",
    "songs = pd.read_csv(\"./data/songs_only_lyrics.csv\")\n",
    "songs"
   ]
  },
  {
   "cell_type": "code",
   "execution_count": null,
   "metadata": {
    "cell_id": "15a1d8b0-f0d1-48db-9ad1-882d2445cce6",
    "deepnote_cell_height": 118.1875,
    "deepnote_cell_type": "code",
    "deepnote_output_heights": [
     21.1875
    ],
    "deepnote_to_be_reexecuted": false,
    "execution_millis": 2,
    "execution_start": 1656410169658,
    "id": "uscAAKGuO5Gl",
    "outputId": "32e7f9fc-3f2c-4501-f646-32bb2cf112ca",
    "source_hash": "8d6182e2",
    "tags": []
   },
   "outputs": [
    {
     "data": {
      "text/plain": [
       "0"
      ]
     },
     "execution_count": 4,
     "metadata": {},
     "output_type": "execute_result"
    }
   ],
   "source": [
    "# check if there's songs left with no lyrics\n",
    "len(songs[songs[\"lyrics\"].isnull()]) # should be 0"
   ]
  },
  {
   "cell_type": "markdown",
   "metadata": {
    "cell_id": "50c17b27-2fbe-449e-bfb8-c57f54b4018e",
    "deepnote_cell_type": "text-cell-h2",
    "formattedRanges": [],
    "id": "LdJu_mVRO5Gm",
    "is_collapsed": false,
    "tags": []
   },
   "source": [
    "## Some processing and filtering"
   ]
  },
  {
   "cell_type": "code",
   "execution_count": null,
   "metadata": {
    "cell_id": "14bd482f-933e-4ad0-ac45-bee4deac2e5e",
    "deepnote_cell_height": 593,
    "deepnote_cell_type": "code",
    "deepnote_to_be_reexecuted": false,
    "execution_millis": 57532,
    "execution_start": 1656410174054,
    "id": "qABkLbD-O5Gm",
    "outputId": "7704fe77-861d-4714-c186-004b8e422558",
    "source_hash": "e50f5fe6",
    "tags": []
   },
   "outputs": [
    {
     "data": {
      "application/vnd.deepnote.dataframe.v3+json": {
       "column_count": 4,
       "columns": [
        {
         "dtype": "object",
         "name": "song",
         "stats": {
          "categories": [
           {
            "count": 1,
            "name": "The Greatest Romance Ever Sold"
           },
           {
            "count": 1,
            "name": "The Christmas Song (Chestnuts Roasting On An Open Fire)"
           },
           {
            "count": 3,
            "name": "3 others"
           }
          ],
          "nan_count": 0,
          "unique_count": 5
         }
        },
        {
         "dtype": "object",
         "name": "artist",
         "stats": {
          "categories": [
           {
            "count": 1,
            "name": "['Prince']"
           },
           {
            "count": 1,
            "name": "['Christina Aguilera']"
           },
           {
            "count": 3,
            "name": "3 others"
           }
          ],
          "nan_count": 0,
          "unique_count": 5
         }
        },
        {
         "dtype": "object",
         "name": "url",
         "stats": {
          "categories": [
           {
            "count": 1,
            "name": "https://genius.com/Prince-the-greatest-romance-ever-sold-lyrics"
           },
           {
            "count": 1,
            "name": "https://genius.com/Christina-aguilera-christmas-song-chestnuts-roasting-on-an-open-fire-lyrics"
           },
           {
            "count": 3,
            "name": "3 others"
           }
          ],
          "nan_count": 0,
          "unique_count": 5
         }
        },
        {
         "dtype": "object",
         "name": "lyrics",
         "stats": {
          "categories": [
           {
            "count": 1,
            "name": "\nThe greatest romance that's ever been sold\n\nSo what do you know, you and me\nFinally face to face\nChecking each other up and down\nIn all of the obvious places\nWas there ever a reason for us to be apart?\nThe air that fills up this room says not hardly\n\nSo this is where you end\nAnd you and I begin\n(This is where you and I, you and I begin)\n\nThe greatest romance that's ever been sold\nThe greatest romance that's ever been sold\n\nBaby baby, now your mind is open\nTo poetry seldom heard\nYour heart has never been broken\nUntil you have heard these words\nYour body was designed to respond to mine\nIn spite of your desire to mold me\nAnd in the middle of it all\nWe kiss and like rain (like rain) we fall into\n\nThe greatest romance that's ever been sold\nBaby, baby baby\nThe greatest romance that's ever been sold\n\nOh, I know you can feel me, I know that you can dance\nBut what do you know about the greatest romance?\nNot what you think, but what you believe\nWhat was the real reason that Adam never left Eve?\nAnd if the truth sounds like a memory\nThen you know it was meant to be (meant to be), meant to be\nLeave your inhibitions behind, come on, come on and see\n\nSo this is where you end (this is where you end)\nAnd you and I begin (you)\n\nThe greatest romance that's ever been sold\nThe greatest romance that's ever been sold\nI know you can feel me, I know you can dance\nBut what do you know about the greatest romance?\n(The greatest romance that's ever been sold)\nNot what you think, but what you believe\nCan you tell me the reason, the reason that Adam never left Eve\n(The greatest romance that's ever been sold)\nThe greatest, listen to me, uh\nYou brought me the grapes from the vine, oh yes you did\n(The greatest romance) Can I talk to you\n(That's ever been sold) Listen\nYou help me to remember the secrets of time\nAnd you, you, you, you offer me your love\nYour love, your love, so divine\nAnd in return, girl, in return I will surrender\nOh yeah, I will surrender, oh, yes I will\n\nThe greatest romance that's ever been sold2Embed"
           },
           {
            "count": 1,
            "name": "Chestnuts roasting on an open fire\nJack Frost nipping at your nose\nYuletide carols being sung by a choir\nAnd folks dressed up like Eskimos\nEverybody knows a turkey and some mistletoe\nHelp to make the season bright\nTiny tots with their eyes all aglow\nWill find it hard to sleep tonight\nThey know that Santa's on his way\nHe's loaded lots of toys and goodies on his sleigh\nAnd every mother's child is going to spy\nTo see if reindeer really know how to fly\nAnd so I'm offering this simple phrase\nTo kids from one to ninety-two\nAlthough its been said many times, many ways\nMerry Christmas to you\nThey know that Santa's on his way (he's on his way)\nHe's loaded lots of toys and goodies on his sleigh\nAnd every mother's child is going to spy\nTo see if reindeer really know how to fly\nAnd so I'm offering this simple phrase\nTo kids from one to ninety-two\nAlthough its been said many times, many ways\nMerry Christmas to youEmbed"
           },
           {
            "count": 3,
            "name": "3 others"
           }
          ],
          "nan_count": 0,
          "unique_count": 5
         }
        },
        {
         "dtype": "int64",
         "name": "_deepnote_index_column"
        }
       ],
       "row_count": 5,
       "rows": [
        {
         "_deepnote_index_column": 9044,
         "artist": "['Prince']",
         "lyrics": "\nThe greatest romance that's ever been sold\n\nSo what do you know, you and me\nFinally face to face\nChecking each other up and down\nIn all of the obvious places\nWas there ever a reason for us to be apart?\nThe air that fills up this room says not hardly\n\nSo this is where you end\nAnd you and I begin\n(This is where you and I, you and I begin)\n\nThe greatest romance that's ever been sold\nThe greatest romance that's ever been sold\n\nBaby baby, now your mind is open\nTo poetry seldom heard\nYour heart has never been broken\nUntil you have heard these words\nYour body was designed to respond to mine\nIn spite of your desire to mold me\nAnd in the middle of it all\nWe kiss and like rain (like rain) we fall into\n\nThe greatest romance that's ever been sold\nBaby, baby baby\nThe greatest romance that's ever been sold\n\nOh, I know you can feel me, I know that you can dance\nBut what do you know about the greatest romance?\nNot what you think, but what you believe\nWhat was the real reason that Adam never left Eve…",
         "song": "The Greatest Romance Ever Sold",
         "url": "https://genius.com/Prince-the-greatest-romance-ever-sold-lyrics"
        },
        {
         "_deepnote_index_column": 9045,
         "artist": "['Christina Aguilera']",
         "lyrics": "Chestnuts roasting on an open fire\nJack Frost nipping at your nose\nYuletide carols being sung by a choir\nAnd folks dressed up like Eskimos\nEverybody knows a turkey and some mistletoe\nHelp to make the season bright\nTiny tots with their eyes all aglow\nWill find it hard to sleep tonight\nThey know that Santa's on his way\nHe's loaded lots of toys and goodies on his sleigh\nAnd every mother's child is going to spy\nTo see if reindeer really know how to fly\nAnd so I'm offering this simple phrase\nTo kids from one to ninety-two\nAlthough its been said many times, many ways\nMerry Christmas to you\nThey know that Santa's on his way (he's on his way)\nHe's loaded lots of toys and goodies on his sleigh\nAnd every mother's child is going to spy\nTo see if reindeer really know how to fly\nAnd so I'm offering this simple phrase\nTo kids from one to ninety-two\nAlthough its been said many times, many ways\nMerry Christmas to youEmbed",
         "song": "The Christmas Song (Chestnuts Roasting On An Open Fire)",
         "url": "https://genius.com/Christina-aguilera-christmas-song-chestnuts-roasting-on-an-open-fire-lyrics"
        },
        {
         "_deepnote_index_column": 9046,
         "artist": "['SHeDAISY']",
         "lyrics": "(arranged by SHeDAISY and Phil Symonds)\nDeck the halls\n( Deck the halls )\nWith boughs of holly\n( With boughs of holly )\nFa la la la la\nTis the season\n( We wish you a merry Christmas)\nTis the season\n( We wish you a merry Christmas )\nDeck the halls with boughs of holly\nFa la la la la la la\nTis the season to be jolly\nFa la la la la la la\nDon we now our gay apparal\nFa la la la la la la\nTroll the ancient yuletide carol\nFa la la la la la la la\nEverybody sing the yuletide carol\nFa la la la la la la\nFa la la la la la la\nVery merry Christmas\nA very merry Christmas\nSee the blazing yule before us\nFa la la la la la la\nStrike the haro and join the chorus\nFa la la la la la la la\nFollow us in merry measure\nFa la la la la la la la\nWhile a tale of yuletide treasure\nFa la la la la la la la\nLa la la la la la la\nLa la la la la la la la\nDeck the halls\nWith boughs of holly\n( We wish you a merry Christmas )Embed",
         "song": "Deck The Halls",
         "url": "https://genius.com/Shedaisy-deck-the-halls-lyrics"
        },
        {
         "_deepnote_index_column": 9047,
         "artist": "['Martina McBride']",
         "lyrics": "\nYeah\n\nThe sun is shining everyday\nThe clouds never get in the way for you and me\nI've known you just a week or two\nBut baby I'm so into you\nCan hardly breathe\n\nAnd I'm in so totally wrapped up\nEmotionally attracted\nSo physically acting\nSo recklessly I need you\nSo desperately sure as the sky is blue\nBaby, I love you\nI love you\n\nI never knew that I could feel like this\nCan hardly wait till our next kiss\nYou're so cool\nIf I'm dreaming, please don't wake me up\nBecause baby I can't get enough\nOf what you do\nAnd I'm in so electrically charged up\nKinetically acting\nErratically need you\nFanatically you get to me\nMagically sure as the sky is blue\nBaby, I love you\n\nI, I can't believe that this is real\nThe way I feel\nBaby, I'm gone head over heels\n(Head over heels)\n\nAnd I'm in so totally wrapped up\nEmotionally attracted\nSo physically acting\nSo recklessly I need you\nSo desperately sure as the sky is blue\nYeah\n\nAnd I'm in so electrically charged up\nKinetically acting\nErratically need you\nFanatica…",
         "song": "I Love You",
         "url": "https://genius.com/Martina-mcbride-i-love-you-lyrics"
        },
        {
         "_deepnote_index_column": 9048,
         "artist": "['\"DAngelo\"', ' Method Man And Redman']",
         "lyrics": "\nYo, yo, yo (Yeah, yeah)\nYo, yo\n\nMy flow's remarkable\nDoc walk like Caine from Kung Fu 'round the globe\nThrow obstacles, I'll hurdle them\nHerb and whack MC's\nDrum racks to the rims, to the caps\nYo Methical, and D, I'm ASAP (Come on now)\nI'm crack of dawn chicken huntin' at KFC (Woo)\nIn '83 I was that scrub TLC talked about\nNow I rock the house, chalk 'em out\n\nYeah, no doubt\nWho got the biggest ass in the house? (Yeah)\nYoung miss, fillet-of-fish, saltwater trout\nPretty young thing, got a tongue ring and dirty mouth\nAnd she whisperin' them sweet nothings, I air it out (Air it out)\nBaby, you got me like Joanie had Chachi\nUntil she got high and went and fucked Potsie (Yeah)\nLady Godiva, from day one a dick rider\nLiar, liar, set your pussy on fire\nI see you dancin' right now\nI don't need to tell you that you know how\nBaby, you do, oh\nI say you belong\nAnd if you dream to be free\nI can take you there, just follow me\nBaby, I won't, huh\nI won't steer you wrong\n\nAnd it seems like to me\nYou want…",
         "song": "Left & Right",
         "url": "https://genius.com/Dangelo-left-and-right-lyrics"
        }
       ]
      },
      "text/html": [
       "<div>\n",
       "<style scoped>\n",
       "    .dataframe tbody tr th:only-of-type {\n",
       "        vertical-align: middle;\n",
       "    }\n",
       "\n",
       "    .dataframe tbody tr th {\n",
       "        vertical-align: top;\n",
       "    }\n",
       "\n",
       "    .dataframe thead th {\n",
       "        text-align: right;\n",
       "    }\n",
       "</style>\n",
       "<table border=\"1\" class=\"dataframe\">\n",
       "  <thead>\n",
       "    <tr style=\"text-align: right;\">\n",
       "      <th></th>\n",
       "      <th>song</th>\n",
       "      <th>artist</th>\n",
       "      <th>url</th>\n",
       "      <th>lyrics</th>\n",
       "    </tr>\n",
       "  </thead>\n",
       "  <tbody>\n",
       "    <tr>\n",
       "      <th>9044</th>\n",
       "      <td>The Greatest Romance Ever Sold</td>\n",
       "      <td>[Prince]</td>\n",
       "      <td>https://genius.com/Prince-the-greatest-romance...</td>\n",
       "      <td>\\nThe greatest romance that's ever been sold\\n...</td>\n",
       "    </tr>\n",
       "    <tr>\n",
       "      <th>9045</th>\n",
       "      <td>The Christmas Song (Chestnuts Roasting On An O...</td>\n",
       "      <td>[Christina Aguilera]</td>\n",
       "      <td>https://genius.com/Christina-aguilera-christma...</td>\n",
       "      <td>Chestnuts roasting on an open fire\\nJack Frost...</td>\n",
       "    </tr>\n",
       "    <tr>\n",
       "      <th>9046</th>\n",
       "      <td>Deck The Halls</td>\n",
       "      <td>[SHeDAISY]</td>\n",
       "      <td>https://genius.com/Shedaisy-deck-the-halls-lyrics</td>\n",
       "      <td>(arranged by SHeDAISY and Phil Symonds)\\nDeck ...</td>\n",
       "    </tr>\n",
       "    <tr>\n",
       "      <th>9047</th>\n",
       "      <td>I Love You</td>\n",
       "      <td>[Martina McBride]</td>\n",
       "      <td>https://genius.com/Martina-mcbride-i-love-you-...</td>\n",
       "      <td>\\nYeah\\n\\nThe sun is shining everyday\\nThe clo...</td>\n",
       "    </tr>\n",
       "    <tr>\n",
       "      <th>9048</th>\n",
       "      <td>Left &amp; Right</td>\n",
       "      <td>[\"DAngelo\",  Method Man And Redman]</td>\n",
       "      <td>https://genius.com/Dangelo-left-and-right-lyrics</td>\n",
       "      <td>\\nYo, yo, yo (Yeah, yeah)\\nYo, yo\\n\\nMy flow's...</td>\n",
       "    </tr>\n",
       "  </tbody>\n",
       "</table>\n",
       "</div>"
      ],
      "text/plain": [
       "                                                   song  \\\n",
       "9044                     The Greatest Romance Ever Sold   \n",
       "9045  The Christmas Song (Chestnuts Roasting On An O...   \n",
       "9046                                     Deck The Halls   \n",
       "9047                                         I Love You   \n",
       "9048                                       Left & Right   \n",
       "\n",
       "                                   artist  \\\n",
       "9044                             [Prince]   \n",
       "9045                 [Christina Aguilera]   \n",
       "9046                           [SHeDAISY]   \n",
       "9047                    [Martina McBride]   \n",
       "9048  [\"DAngelo\",  Method Man And Redman]   \n",
       "\n",
       "                                                    url  \\\n",
       "9044  https://genius.com/Prince-the-greatest-romance...   \n",
       "9045  https://genius.com/Christina-aguilera-christma...   \n",
       "9046  https://genius.com/Shedaisy-deck-the-halls-lyrics   \n",
       "9047  https://genius.com/Martina-mcbride-i-love-you-...   \n",
       "9048   https://genius.com/Dangelo-left-and-right-lyrics   \n",
       "\n",
       "                                                 lyrics  \n",
       "9044  \\nThe greatest romance that's ever been sold\\n...  \n",
       "9045  Chestnuts roasting on an open fire\\nJack Frost...  \n",
       "9046  (arranged by SHeDAISY and Phil Symonds)\\nDeck ...  \n",
       "9047  \\nYeah\\n\\nThe sun is shining everyday\\nThe clo...  \n",
       "9048  \\nYo, yo, yo (Yeah, yeah)\\nYo, yo\\n\\nMy flow's...  "
      ]
     },
     "execution_count": 5,
     "metadata": {},
     "output_type": "execute_result"
    }
   ],
   "source": [
    "# replace pattern \"song title\" + \"lyrics\" that occurs at the beginning of all lyrics\n",
    "songs[\"lyrics\"] = songs[\"lyrics\"].apply(lambda x: re.sub(r\".+?Lyrics\", \"\", x))\n",
    "\n",
    "# replace string pattern in column artist as it leads to problems when searching for the song - only needed if we use built in methodology\n",
    "#  of the lyricsgenius package (eg. searching for songs using the tag \"pop\")\n",
    "# eg. for artists Twenty One Pilots as its formatted as \"\\\\u200btwenty one pilots\"\n",
    "#songs[\"artist\"] = songs[\"artist\"].apply(lambda x: re.sub(r\"\\\\u200b\", \"\", x))\n",
    "\n",
    "# change column artist into list (needed for asessing the first artist in later functions)\n",
    "songs[\"artist\"] = songs[\"artist\"].apply(lambda x: re.sub(\"[\\[\\]\\'\\']\",  \"\", x).split(\",\"))\n",
    "\n",
    "songs.tail()"
   ]
  },
  {
   "cell_type": "markdown",
   "metadata": {
    "cell_id": "69e17e12-9acf-4a93-bb47-68f402f9837e",
    "deepnote_cell_height": 52.390625,
    "deepnote_cell_type": "markdown",
    "id": "zdFPWdC4O5Gn",
    "tags": []
   },
   "source": [
    "Determine language of lyrics to delete non-English lyrics. For this, the package <mark>pycld2</mark> will be used."
   ]
  },
  {
   "cell_type": "code",
   "execution_count": null,
   "metadata": {
    "cell_id": "4222413c-6b39-4110-8a28-70f4c75841d0",
    "deepnote_cell_height": 99,
    "deepnote_cell_type": "code",
    "deepnote_to_be_reexecuted": false,
    "execution_millis": 1399,
    "execution_start": 1656410237783,
    "id": "EXzYGh6VO5Gn",
    "source_hash": "8d6fde1e",
    "tags": []
   },
   "outputs": [],
   "source": [
    "# detect language and also keep accuracy of detection\n",
    "songs[\"lang\"], songs[\"lang_acc\"] = zip(*songs[\"lyrics\"].apply(lambda x: pycld2.detect(x)[2][0][1:3]))"
   ]
  },
  {
   "cell_type": "code",
   "execution_count": null,
   "metadata": {
    "cell_id": "0e0fe674-c63d-42b6-93e3-10c05899b34b",
    "deepnote_cell_height": 348.578125,
    "deepnote_cell_type": "code",
    "deepnote_output_heights": [
     251.59375
    ],
    "deepnote_to_be_reexecuted": false,
    "execution_millis": 7,
    "execution_start": 1656410241880,
    "id": "oKTrDplNO5Go",
    "outputId": "3360385d-a074-4d6a-8698-2e9bb44bde81",
    "source_hash": "3e9bd737",
    "tags": []
   },
   "outputs": [
    {
     "data": {
      "text/plain": [
       "en    8865\n",
       "es     142\n",
       "ko      20\n",
       "un       3\n",
       "de       3\n",
       "pt       3\n",
       "fr       2\n",
       "ro       1\n",
       "da       1\n",
       "pl       1\n",
       "ja       1\n",
       "sv       1\n",
       "Name: lang, dtype: int64"
      ]
     },
     "execution_count": 7,
     "metadata": {},
     "output_type": "execute_result"
    }
   ],
   "source": [
    "songs[\"lang\"].value_counts()"
   ]
  },
  {
   "cell_type": "code",
   "execution_count": null,
   "metadata": {
    "cell_id": "8a493461-aee8-4c50-a117-5f36101897ed",
    "deepnote_cell_height": 99,
    "deepnote_cell_type": "code",
    "deepnote_to_be_reexecuted": false,
    "execution_millis": 3,
    "execution_start": 1656410246627,
    "id": "ZluwVjAqO5Go",
    "source_hash": "bae81800",
    "tags": []
   },
   "outputs": [],
   "source": [
    "# only keep english songs\n",
    "songs = songs[songs[\"lang\"] == \"en\"]"
   ]
  },
  {
   "cell_type": "code",
   "execution_count": null,
   "metadata": {
    "cell_id": "f20d5b70-ec3e-48d9-aad3-97343a5cc8ac",
    "deepnote_cell_height": 726,
    "deepnote_cell_type": "code",
    "deepnote_output_heights": [
     611
    ],
    "deepnote_to_be_reexecuted": false,
    "execution_millis": 9,
    "execution_start": 1656410252920,
    "id": "iBPEWFLtO5Gp",
    "outputId": "b3a08b70-7977-45f6-b1e6-4dc3966cbbb5",
    "source_hash": "9ada0014",
    "tags": []
   },
   "outputs": [
    {
     "data": {
      "text/plain": [
       "99    8626\n",
       "96      28\n",
       "97      25\n",
       "94      21\n",
       "95      21\n",
       "93      15\n",
       "98      13\n",
       "91      13\n",
       "92      12\n",
       "89       9\n",
       "87       8\n",
       "88       7\n",
       "90       6\n",
       "83       5\n",
       "85       4\n",
       "86       4\n",
       "80       4\n",
       "71       3\n",
       "82       3\n",
       "66       3\n",
       "84       3\n",
       "76       3\n",
       "73       2\n",
       "77       2\n",
       "60       2\n",
       "63       2\n",
       "75       2\n",
       "67       2\n",
       "79       2\n",
       "74       2\n",
       "55       1\n",
       "70       1\n",
       "78       1\n",
       "41       1\n",
       "54       1\n",
       "61       1\n",
       "52       1\n",
       "44       1\n",
       "64       1\n",
       "59       1\n",
       "51       1\n",
       "81       1\n",
       "56       1\n",
       "Name: lang_acc, dtype: int64"
      ]
     },
     "execution_count": 9,
     "metadata": {},
     "output_type": "execute_result"
    }
   ],
   "source": [
    "# accuracy of language prediction, note that for some songs the accuracy is quite small, ie. they might be english + spanish\n",
    "songs[\"lang_acc\"].value_counts()"
   ]
  },
  {
   "cell_type": "code",
   "execution_count": null,
   "metadata": {
    "cell_id": "4f9ecbac-8bca-46ea-be62-60110b25427f",
    "deepnote_cell_height": 99,
    "deepnote_cell_type": "code",
    "deepnote_to_be_reexecuted": false,
    "execution_millis": 0,
    "execution_start": 1656410298119,
    "id": "19hswK5UO5Gp",
    "source_hash": "3b8aba0d",
    "tags": []
   },
   "outputs": [],
   "source": [
    "# only keep songs where the accuracy that it is english is >= 90%\n",
    "songs = songs[songs[\"lang_acc\"] >= 90]"
   ]
  },
  {
   "cell_type": "markdown",
   "metadata": {
    "cell_id": "6e2b2d68-e2ec-4e18-87e8-68ad553b39d0",
    "deepnote_cell_type": "text-cell-h2",
    "formattedRanges": [],
    "id": "WUZ4xto_O5Gp",
    "is_collapsed": false,
    "tags": []
   },
   "source": [
    "## 1. Search Spotify ID"
   ]
  },
  {
   "cell_type": "markdown",
   "metadata": {
    "cell_id": "1b1e99cb-7251-4cf7-b7da-3330f369f224",
    "deepnote_cell_height": 52.390625,
    "deepnote_cell_type": "markdown",
    "id": "XXA4bvrPO5Gp",
    "tags": []
   },
   "source": [
    "Search the corresponding Spotify ID (unique for every song) to the songs that we have lyrics for. For this, the function `search_sp_id` was created."
   ]
  },
  {
   "cell_type": "code",
   "execution_count": null,
   "metadata": {
    "cell_id": "b2d382e2-0156-4c96-9417-265636ec8b6f",
    "deepnote_cell_height": 1066.796875,
    "deepnote_cell_type": "code",
    "deepnote_to_be_reexecuted": false,
    "execution_millis": 1784705,
    "execution_start": 1656410971138,
    "id": "FpF53iLlO5Gq",
    "outputId": "05f04a03-973c-40a4-8cb1-64f40f28fbe7",
    "source_hash": "9d64b011",
    "tags": []
   },
   "outputs": [
    {
     "name": "stdout",
     "output_type": "stream",
     "text": [
      "number of songs processed: (in 500 steps)\n",
      "0\n",
      "500\n",
      "HTTP Error for GET to https://api.spotify.com/v1/search with Params: {'q': \"Perry Como And The Fontane Sisters With Mitchell Ayres And His Orchestra It's Beginning To Look A Lot Like Christmas\", 'limit': 10, 'offset': 0, 'type': 'track', 'market': None} returned 404 due to Not found.\n",
      "1000\n",
      "1500\n",
      "2500\n",
      "3000\n",
      "3500\n",
      "4000\n",
      "4500\n",
      "5000\n",
      "5500\n",
      "6000\n",
      "6500\n",
      "7000\n",
      "7500\n",
      "8000\n",
      "8500\n",
      "9000\n"
     ]
    },
    {
     "data": {
      "application/vnd.deepnote.dataframe.v3+json": {
       "column_count": 7,
       "columns": [
        {
         "dtype": "object",
         "name": "title",
         "stats": {
          "categories": [
           {
            "count": 9,
            "name": "Hallelujah"
           },
           {
            "count": 9,
            "name": "Home"
           },
           {
            "count": 8762,
            "name": "7828 others"
           }
          ],
          "nan_count": 0,
          "unique_count": 7830
         }
        },
        {
         "dtype": "object",
         "name": "artist",
         "stats": {
          "categories": [
           {
            "count": 178,
            "name": "['Glee Cast']"
           },
           {
            "count": 119,
            "name": "['Taylor Swift']"
           },
           {
            "count": 8483,
            "name": "3921 others"
           }
          ],
          "nan_count": 0,
          "unique_count": 8780
         }
        },
        {
         "dtype": "object",
         "name": "url",
         "stats": {
          "categories": [
           {
            "count": 1,
            "name": "https://genius.com/Adele-easy-on-me-lyrics"
           },
           {
            "count": 1,
            "name": "https://genius.com/The-kid-laroi-and-justin-bieber-stay-lyrics"
           },
           {
            "count": 8778,
            "name": "8778 others"
           }
          ],
          "nan_count": 0,
          "unique_count": 8780
         }
        },
        {
         "dtype": "object",
         "name": "lyrics",
         "stats": {
          "categories": [
           {
            "count": 1,
            "name": "\nThere ain't no gold in this river\nThat I've been washin' my hands in forever\nI know there is hope in these waters\nBut I can't bring myself to swim\nWhen I am drowning in this silence\nBaby, let me in\n\nGo easy on me, baby\nI was still a child\nDidn't get the chance to\nFeel the world around me\nI had no time to choose what I chose to do\nSo go easy on me\n\nThere ain't no room for things to change\nWhen we are both so deeply stuck in our ways\nYou can't deny how hard I have tried\nI changed who I was to put you both first\nBut now I give up\n\nGo easy on mе, baby\nI was still a child\nDidn't get the chance to\nFeel thе world around me\nHad no time to choose what I chose to do\nSo go easy on me\nI had good intentions\nAnd the highest hopes\nBut I know right now\nIt probably doesn't even show\n\nGo easy on me, baby\nI was still a child\nI didn't get the chance to\nFeel the world around me\nI had no time to choose what I chose to do\nSo go easy on me149Embed"
           },
           {
            "count": 1,
            "name": "\nI do the same thing I told you that I never would\nI told you I'd change, even when I knew I never could\nI know that I can’t find nobody else as good as you\nI need you to stay, need you to stay, hey (Oh)\n\nI get drunk, wake up, I'm wasted still\nI realize the time that I wasted here\nI feel like you can't feel the way I feel\nOh, I’ll be fucked up if you can't be right here\n\nOh, ooh-woah (Oh, ooh-woah, ooh-woah)\nOh, ooh-woah (Oh, ooh-woah, ooh-woah)\nOh, ooh-woah (Oh, ooh-woah, ooh-woah)\nOh, I'll be fucked up if you can't be right here\n\nI do the same thing I told you that I never would\nI told you I'd change, even when I knew I never could\nI know that I can't find nobody else as good as you\nI need you to stay, need you to stay, hey\nI do the same thing I told you that I never would\nI told you I'd change, even when I knew I never could\nI know that I can't find nobody else as good as you\nI need you to stay, need you to stay, hey\nWhen I’m away from you, I miss your touch (Ooh)\nYou’re the reason I believe in love\nIt's been difficult for me to trust (Ooh)\nAnd I’m afraid that I'ma fuck it up\nAin't no way that I can leave you stranded\n'Cause you ain’t ever left me empty-handed\nAnd you know that I know that I can't live without you\nSo, baby, stay\n\nOh, ooh-woah (Oh, ooh-woah, ooh-woah)\nOh, ooh-woah (Oh, ooh-woah, ooh-woah)\nOh, ooh-woah (Oh, ooh-woah, ooh-woah)\nI'll be fucked up if you can't be right here\n\nI do the same thing I told you that I never would\nI told you I'd change, even when I knew I never could\nI know that I can't find nobody else as good as you\nI need you to stay, need you to stay, hey\nI do the same thing I told you that I never would\nI told you I'd change, even when I knew I never could\nI know that I can't find nobody else as good as you\nI need you to stay, need you to stay, hey\nWoah-oh\nI need you to stay, need you to stay, hey104Embed"
           },
           {
            "count": 8778,
            "name": "8778 others"
           }
          ],
          "nan_count": 0,
          "unique_count": 8780
         }
        },
        {
         "dtype": "object",
         "name": "lang",
         "stats": {
          "categories": [
           {
            "count": 8780,
            "name": "en"
           }
          ],
          "nan_count": 0,
          "unique_count": 1
         }
        },
        {
         "dtype": "int64",
         "name": "lang_acc",
         "stats": {
          "histogram": [
           {
            "bin_end": 90.9,
            "bin_start": 90,
            "count": 6
           },
           {
            "bin_end": 91.8,
            "bin_start": 90.9,
            "count": 13
           },
           {
            "bin_end": 92.7,
            "bin_start": 91.8,
            "count": 12
           },
           {
            "bin_end": 93.6,
            "bin_start": 92.7,
            "count": 15
           },
           {
            "bin_end": 94.5,
            "bin_start": 93.6,
            "count": 21
           },
           {
            "bin_end": 95.4,
            "bin_start": 94.5,
            "count": 21
           },
           {
            "bin_end": 96.3,
            "bin_start": 95.4,
            "count": 28
           },
           {
            "bin_end": 97.2,
            "bin_start": 96.3,
            "count": 25
           },
           {
            "bin_end": 98.1,
            "bin_start": 97.2,
            "count": 13
           },
           {
            "bin_end": 99,
            "bin_start": 98.1,
            "count": 8626
           }
          ],
          "max": "99",
          "min": "90",
          "nan_count": 0,
          "unique_count": 10
         }
        },
        {
         "dtype": "object",
         "name": "sp_id",
         "stats": {
          "categories": [
           {
            "count": 123,
            "name": "none"
           },
           {
            "count": 3,
            "name": "22bPsP2jCgbLUvh82U0Z3M"
           },
           {
            "count": 8654,
            "name": "8628 others"
           }
          ],
          "nan_count": 0,
          "unique_count": 8630
         }
        },
        {
         "dtype": "int64",
         "name": "_deepnote_index_column"
        }
       ],
       "row_count": 8780,
       "rows": [
        {
         "_deepnote_index_column": 0,
         "artist": "['Adele']",
         "lang": "en",
         "lang_acc": 99,
         "lyrics": "\nThere ain't no gold in this river\nThat I've been washin' my hands in forever\nI know there is hope in these waters\nBut I can't bring myself to swim\nWhen I am drowning in this silence\nBaby, let me in\n\nGo easy on me, baby\nI was still a child\nDidn't get the chance to\nFeel the world around me\nI had no time to choose what I chose to do\nSo go easy on me\n\nThere ain't no room for things to change\nWhen we are both so deeply stuck in our ways\nYou can't deny how hard I have tried\nI changed who I was to put you both first\nBut now I give up\n\nGo easy on mе, baby\nI was still a child\nDidn't get the chance to\nFeel thе world around me\nHad no time to choose what I chose to do\nSo go easy on me\nI had good intentions\nAnd the highest hopes\nBut I know right now\nIt probably doesn't even show\n\nGo easy on me, baby\nI was still a child\nI didn't get the chance to\nFeel the world around me\nI had no time to choose what I chose to do\nSo go easy on me149Embed",
         "sp_id": "0gplL1WMoJ6iYaPgMCL0gX",
         "title": "Easy On Me",
         "url": "https://genius.com/Adele-easy-on-me-lyrics"
        },
        {
         "_deepnote_index_column": 1,
         "artist": "['The Kid LAROI', ' Justin Bieber']",
         "lang": "en",
         "lang_acc": 99,
         "lyrics": "\nI do the same thing I told you that I never would\nI told you I'd change, even when I knew I never could\nI know that I can’t find nobody else as good as you\nI need you to stay, need you to stay, hey (Oh)\n\nI get drunk, wake up, I'm wasted still\nI realize the time that I wasted here\nI feel like you can't feel the way I feel\nOh, I’ll be fucked up if you can't be right here\n\nOh, ooh-woah (Oh, ooh-woah, ooh-woah)\nOh, ooh-woah (Oh, ooh-woah, ooh-woah)\nOh, ooh-woah (Oh, ooh-woah, ooh-woah)\nOh, I'll be fucked up if you can't be right here\n\nI do the same thing I told you that I never would\nI told you I'd change, even when I knew I never could\nI know that I can't find nobody else as good as you\nI need you to stay, need you to stay, hey\nI do the same thing I told you that I never would\nI told you I'd change, even when I knew I never could\nI know that I can't find nobody else as good as you\nI need you to stay, need you to stay, hey\nWhen I’m away from you, I miss your touch (Ooh)\nYou’re the reason…",
         "sp_id": "5HCyWlXZPP0y6Gqq8TgA20",
         "title": "Stay",
         "url": "https://genius.com/The-kid-laroi-and-justin-bieber-stay-lyrics"
        },
        {
         "_deepnote_index_column": 2,
         "artist": "['Lil Nas X', ' Jack Harlow']",
         "lang": "en",
         "lang_acc": 99,
         "lyrics": "\n(D-D-Daytrip took it to ten, hey)\nBaby back, ayy, couple racks, ayy\nCouple Grammys on him, couple plaques, ayy\nThat's a fact, ayy, throw it back, ayy\nThrow it back, ayy\nAnd this one is for the champions\nI ain't lost since I began, yeah\nFunny how you said it was the end, yeah\nThen I went did it again, yeah\n\nI told you long ago on the road\nI got what they waiting for\nI don't run from nothing, dog\nGet your soldiers, tell 'em I ain't layin' low\nYou was never really rooting for me anyway\nWhen I'm back up at the top, I wanna hear you say\nHe don't run from nothin', dog\nGet your soldiers, tell 'em that the break is over\n\nUh, need to, uh\nNeed to get this album done\nNeed a couple number onеs\nNeed a plaque on every song\nNeed mе like one with Nicki now\nTell a rap nigga I don't see ya, hah\nI'm a pop nigga like Bieber, hah\nI don't fuck bitches, I'm queer, hah\nBut these niggas bitches like Madea, yeah, yeah, yeah, ayy (Yeah)\nOh, let's do it\nI ain't fall off, I just ain't release my new shit\nI blew …",
         "sp_id": "27NovPIUIRrOZoCHxABJwK",
         "title": "Industry Baby",
         "url": "https://genius.com/Lil-nas-x-and-jack-harlow-industry-baby-lyrics"
        },
        {
         "_deepnote_index_column": 3,
         "artist": "['Walker Hayes']",
         "lang": "en",
         "lang_acc": 99,
         "lyrics": "\nAyy\nMy girl is bangin', she's so low maintenance\nDon't need no champagne-poppin' entertainment\nTake her to Wendy's, can't keep her off me\nShe wanna dip me like them fries in her Frosty\n\nBut every now and then, when I get paid\nI gotta spoil my baby with an upgrade (Yeah)\nAyy, ayy, ayy\n\nYeah, we fancy like Applebee's on a date night\nGot some Bourbon Street steak with the Oreo shake\nGet some whipped cream on the top, too\nTwo straws, one check, girl, I got you\nBougie like Natty in the styrofoam\nSqueaky-squeakin' in the truck bed all the way home\nWith some Alabama-jamma, she my Dixieland delight (Hey)\nThat's how we do, how we do, fancy like\n\nOoh\nFancy like, ooh\nFancy like, ooh\nFancy like, ooh\nUh\nDon't need no Tesla to impress her (Don't need no Tesla to impress her)\nMy girl is happy rollin' on a Vespa (There she go)\nDon't need no mansion to get romancin' (Ooh, woo)\nShe's super fine, double wide, slow dancin' (Slow dancin')\n\nBut every now and then, when I get paid\nI gotta spoil my baby wit…",
         "sp_id": "58UKC45GPNTflCN6nwCUeF",
         "title": "Fancy Like",
         "url": "https://genius.com/Walker-hayes-fancy-like-lyrics"
        },
        {
         "_deepnote_index_column": 4,
         "artist": "['Ed Sheeran']",
         "lang": "en",
         "lang_acc": 99,
         "lyrics": "\n(One, two, three, four)\nOoh, ooh\n\nEvery time you come around, you know I can't say no\nEvery time the sun goes down, I let you take control\nI can feel the paradise before my world implodes\nAnd tonight had something wonderful\n\nMy bad habits lead to late nights endin' alone\nConversations with a stranger I barely know\nSwearin' this'll be the last, but it probably won't\nI got nothin' left to lose, or use, or do\nMy bad habits lead to wide eyes starin' at space\nAnd I know I lose control of the things that I say\nYeah, I was lookin' for a way out, now I can't escape\nNothin' happens after two, it's truе, it's true\nMy bad habits lead to you\n\nOoh-ooh, ooh-ooh\nMy bad habits lead to you\nOoh-ooh, ooh-ooh\nMy bad habits lеad to you\nEvery pure intention ends when the good times start\nFallin' over everything to reach the first time's spark\nIt started under neon lights and then it all got dark\nI only know how to go too far\n\nMy bad habits lead to late nights endin' alone\nConversations with a stranger I b…",
         "sp_id": "3rmo8F54jFF8OgYsqTxm5d",
         "title": "Bad Habits",
         "url": "https://genius.com/Ed-sheeran-bad-habits-lyrics"
        },
        {
         "_deepnote_index_column": 5,
         "artist": "['Drake', ' Future', ' Young Thug']",
         "lang": "en",
         "lang_acc": 99,
         "lyrics": "\nI'm too sexy for my shirt\nToo sexy for my shirt\nSo sexy, it hurts\nI'm too sexy for Milan\nToo sexy for Milan\nNew York or Japan\n\nYeah, woah, woah, woah\nI'm too sexy for this syrup\nToo sexy for your girl\nToo sexy for this world\nToo sexy for this ice\nToo sexy for that jack, yeah, yeah\nI'm too sexy for this chain\nToo sexy for your gang\nToo sexy for this fame, yeah, yeah\nI'm too sexy for the trap\nToo sexy for that cap\nToo sexy for that jack, yeah, yeah\n\nOkay, alright, that's fine, okay (Okay)\nI'm feelin' too sexy to accept requests (Way too sexy)\nAnd I'm way too sexy to go unprotected (Way too sexy)\nAnd she popped a Tesla, now she goin' electric\nOkay, alright, that's fine, okay\nThink we got too sexy for that metro housin' (Way too sexy)\nDiamond popped out, almost swallowed sixty thousand (Sixty piece)\nSection need more tings in here, I like it crowded, ayy (Woah, woah)\nYeah, I like it crowded\nOh, you like the boy? Well, tell me what you like about him\nYou a turnt up little thotty, ain't no…",
         "sp_id": "0k1WUmIRnG3xU6fvvDVfRG",
         "title": "Way 2 Sexy",
         "url": "https://genius.com/Drake-way-2-sexy-lyrics"
        },
        {
         "_deepnote_index_column": 6,
         "artist": "['Ed Sheeran']",
         "lang": "en",
         "lang_acc": 99,
         "lyrics": "\nI took an arrow to the heart\nI never kissed a mouth that tastes like yours\nStrawberries and a somethin' more\nOoh, yeah, I want it all\nLipstick on my guitar\nFill up the engine, we can drive real far\nGo dancin' underneath the stars\nOoh, yeah, I want it all\nMmm, you got me feelin' like\n\nI wanna be that guy, I wanna kiss your eyes\nI wanna drink that smile, I wanna feel like I'm\nLike my soul's on fire, I wanna stay up all day and all night\nYeah, you got me singin' like\n\nOoh, I love it when you do it like that\nAnd when you're close up, give me thе shivers\nOh, baby, you wanna dance 'til the sunlight cracks\nAnd whеn they say the party's over, then we'll bring it right back\nAnd we'll say, \"Ooh, I love it when you do it like that\"\nAnd when you're close up, give me the shivers\nOh, baby, you wanna dance 'til the sunlight cracks\nAnd when they say the party's over, then we'll bring it right back\nInto the car\nOn the backseat in the moonlit dark\nWrap me up between your legs and arms\nOoh, I can't get…",
         "sp_id": "50nfwKoDiSYg8zOCREWAm5",
         "title": "Shivers",
         "url": "https://genius.com/Ed-sheeran-shivers-lyrics"
        },
        {
         "_deepnote_index_column": 7,
         "artist": "['Olivia Rodrigo']",
         "lang": "en",
         "lang_acc": 99,
         "lyrics": "\n(Ah)\n\nWell, good for you, I guess you moved on really easily\nYou found a new girl and it only took a couple weeks\nRemember when you said that you wanted to give me the world?\n(World)\nAnd good for you, I guess that you've been workin' on yourself\nI guess that therapist I found for you, she really helped\nNow you can be a better man for your brand new girl (Girl)\n\nWell, good for you\nYou look happy and healthy, not me\nIf you ever cared to ask\nGood for you\nYou're doin' great out there without me, baby\nGod, I wish that I could do that\nI've lost my mind, I've spent the night\nCryin' on the floor of my bathroom\nBut you're so unaffected, I really don't get it\nBut I guess good for you\n\nWell, good for you, I guess you're gettin' everything you want (Ah)\nYou bought a new car and your career's really takin' off (Ah)\nIt's like we never even happened\nBaby, what the fuck is up with that? (Ah)\nAnd good for you, it's like you never even met me\nRemember when you swore to God I was the only\nPerson who ev…",
         "sp_id": "4ZtFanR9U6ndgddUvNcjcG",
         "title": "Good 4 U",
         "url": "https://genius.com/Olivia-rodrigo-good-4-u-lyrics"
        },
        {
         "_deepnote_index_column": 8,
         "artist": "['Doja Cat']",
         "lang": "en",
         "lang_acc": 99,
         "lyrics": "\nYeah\n\nWanna know what it's like (Like)\nBaby, show me what it's like (Like)\nI don't really got no type (Type)\nI just wanna fuck all night\nYeah-yeah, oh-woah-woah (Oh, ooh, mmm)\nBaby, I need to know, mmm (Yeah, need to know)\nI just been fantasizin' (Size)\nAnd we got a lotta time (Time)\nBaby, come throw the pipe (Pipe)\nGotta know what it's like (Like)\nYeah-yeah, oh-woah-woah\nBaby, I need to know, mmm\n\nWhat's your size? (Size)\nAdd, subtract, divide ('Vide)\nDaddy don't throw no curves (Curves)\nHold up, I'm goin' wide (Wide)\nWe could just start at ten (Ten)\nThen we can go to five (Five)\nI don't play with my pen (Pen)\nI mean what I writе\nYeah-yeah, woah-woah-woah\nI just can't help but bе sexual (Oh)\nTell me your schedule (Yeah)\nI got a lotta new tricks for you, baby\nJust sayin' I'm flexible (I will)\nI do what I can to get you off (I will)\nMight just fuck him with my makeup on (I will)\nEat it like I need an apron on (Yeah, oh)\nEat it 'til I need to change my thong (Yeah, ayy)\nWe could do it …",
         "sp_id": "3Vi5XqYrmQgOYBajMWSvCi",
         "title": "Need To Know",
         "url": "https://genius.com/Doja-cat-need-to-know-lyrics"
        },
        {
         "_deepnote_index_column": 9,
         "artist": "['Dua Lipa']",
         "lang": "en",
         "lang_acc": 99,
         "lyrics": "\nIf you wanna run away with me, I know a galaxy\nAnd I can take you for a ride\nI had a premonition that we fell into a rhythm\nWhere the music don't stop for life\nGlitter in the sky, glitter in my eyes\nShining just the way I like\nIf you're feeling like you need a little bit of company\nYou met me at the perfect time\n\nYou want me, I want you, baby\nMy sugarboo, I'm levitating\nThe Milky Way, we're renegading\nYeah, yeah, yeah, yeah, yeah\n\nI got you, moonlight, you're my starlight\nI need you all night, come on, dance with me\nI'm levitating\nYou, moonlight, you're my starlight (You're the moonlight)\nI need you all night, come on, dance with me\nI'm levitating\n\nI believe that you're for me, I feel it in our energy\nI see us written in the stars\nWe can go wherever, so let's do it now or never\nBaby, nothing's ever, ever too far\nGlitter in the sky, glitter in our eyes\nShining just the way we are\nI feel like we're forever every time we get together\nBut whatever, let's get lost on Mars\nYou want me, I w…",
         "sp_id": "5nujrmhLynf4yMoMtj8AQF",
         "title": "Levitating",
         "url": "https://genius.com/Dua-lipa-levitating-lyrics"
        }
       ]
      },
      "text/html": [
       "<div>\n",
       "<style scoped>\n",
       "    .dataframe tbody tr th:only-of-type {\n",
       "        vertical-align: middle;\n",
       "    }\n",
       "\n",
       "    .dataframe tbody tr th {\n",
       "        vertical-align: top;\n",
       "    }\n",
       "\n",
       "    .dataframe thead th {\n",
       "        text-align: right;\n",
       "    }\n",
       "</style>\n",
       "<table border=\"1\" class=\"dataframe\">\n",
       "  <thead>\n",
       "    <tr style=\"text-align: right;\">\n",
       "      <th></th>\n",
       "      <th>title</th>\n",
       "      <th>artist</th>\n",
       "      <th>url</th>\n",
       "      <th>lyrics</th>\n",
       "      <th>lang</th>\n",
       "      <th>lang_acc</th>\n",
       "      <th>sp_id</th>\n",
       "    </tr>\n",
       "  </thead>\n",
       "  <tbody>\n",
       "    <tr>\n",
       "      <th>0</th>\n",
       "      <td>Easy On Me</td>\n",
       "      <td>[Adele]</td>\n",
       "      <td>https://genius.com/Adele-easy-on-me-lyrics</td>\n",
       "      <td>\\nThere ain't no gold in this river\\nThat I've...</td>\n",
       "      <td>en</td>\n",
       "      <td>99</td>\n",
       "      <td>0gplL1WMoJ6iYaPgMCL0gX</td>\n",
       "    </tr>\n",
       "    <tr>\n",
       "      <th>1</th>\n",
       "      <td>Stay</td>\n",
       "      <td>[The Kid LAROI,  Justin Bieber]</td>\n",
       "      <td>https://genius.com/The-kid-laroi-and-justin-bi...</td>\n",
       "      <td>\\nI do the same thing I told you that I never ...</td>\n",
       "      <td>en</td>\n",
       "      <td>99</td>\n",
       "      <td>5HCyWlXZPP0y6Gqq8TgA20</td>\n",
       "    </tr>\n",
       "    <tr>\n",
       "      <th>2</th>\n",
       "      <td>Industry Baby</td>\n",
       "      <td>[Lil Nas X,  Jack Harlow]</td>\n",
       "      <td>https://genius.com/Lil-nas-x-and-jack-harlow-i...</td>\n",
       "      <td>\\n(D-D-Daytrip took it to ten, hey)\\nBaby back...</td>\n",
       "      <td>en</td>\n",
       "      <td>99</td>\n",
       "      <td>27NovPIUIRrOZoCHxABJwK</td>\n",
       "    </tr>\n",
       "    <tr>\n",
       "      <th>3</th>\n",
       "      <td>Fancy Like</td>\n",
       "      <td>[Walker Hayes]</td>\n",
       "      <td>https://genius.com/Walker-hayes-fancy-like-lyrics</td>\n",
       "      <td>\\nAyy\\nMy girl is bangin', she's so low mainte...</td>\n",
       "      <td>en</td>\n",
       "      <td>99</td>\n",
       "      <td>58UKC45GPNTflCN6nwCUeF</td>\n",
       "    </tr>\n",
       "    <tr>\n",
       "      <th>4</th>\n",
       "      <td>Bad Habits</td>\n",
       "      <td>[Ed Sheeran]</td>\n",
       "      <td>https://genius.com/Ed-sheeran-bad-habits-lyrics</td>\n",
       "      <td>\\n(One, two, three, four)\\nOoh, ooh\\n\\nEvery t...</td>\n",
       "      <td>en</td>\n",
       "      <td>99</td>\n",
       "      <td>3rmo8F54jFF8OgYsqTxm5d</td>\n",
       "    </tr>\n",
       "    <tr>\n",
       "      <th>...</th>\n",
       "      <td>...</td>\n",
       "      <td>...</td>\n",
       "      <td>...</td>\n",
       "      <td>...</td>\n",
       "      <td>...</td>\n",
       "      <td>...</td>\n",
       "      <td>...</td>\n",
       "    </tr>\n",
       "    <tr>\n",
       "      <th>9044</th>\n",
       "      <td>The Greatest Romance Ever Sold</td>\n",
       "      <td>[Prince]</td>\n",
       "      <td>https://genius.com/Prince-the-greatest-romance...</td>\n",
       "      <td>\\nThe greatest romance that's ever been sold\\n...</td>\n",
       "      <td>en</td>\n",
       "      <td>99</td>\n",
       "      <td>3A8pzjcWgAHry1Ix19z7ip</td>\n",
       "    </tr>\n",
       "    <tr>\n",
       "      <th>9045</th>\n",
       "      <td>The Christmas Song (Chestnuts Roasting On An O...</td>\n",
       "      <td>[Christina Aguilera]</td>\n",
       "      <td>https://genius.com/Christina-aguilera-christma...</td>\n",
       "      <td>Chestnuts roasting on an open fire\\nJack Frost...</td>\n",
       "      <td>en</td>\n",
       "      <td>99</td>\n",
       "      <td>none</td>\n",
       "    </tr>\n",
       "    <tr>\n",
       "      <th>9046</th>\n",
       "      <td>Deck The Halls</td>\n",
       "      <td>[SHeDAISY]</td>\n",
       "      <td>https://genius.com/Shedaisy-deck-the-halls-lyrics</td>\n",
       "      <td>(arranged by SHeDAISY and Phil Symonds)\\nDeck ...</td>\n",
       "      <td>en</td>\n",
       "      <td>99</td>\n",
       "      <td>3MAQlKrBxFN5QXR7SqxYQh</td>\n",
       "    </tr>\n",
       "    <tr>\n",
       "      <th>9047</th>\n",
       "      <td>I Love You</td>\n",
       "      <td>[Martina McBride]</td>\n",
       "      <td>https://genius.com/Martina-mcbride-i-love-you-...</td>\n",
       "      <td>\\nYeah\\n\\nThe sun is shining everyday\\nThe clo...</td>\n",
       "      <td>en</td>\n",
       "      <td>99</td>\n",
       "      <td>6hvREHiu0i7PJv7XUHeo5w</td>\n",
       "    </tr>\n",
       "    <tr>\n",
       "      <th>9048</th>\n",
       "      <td>Left &amp; Right</td>\n",
       "      <td>[\"DAngelo\",  Method Man And Redman]</td>\n",
       "      <td>https://genius.com/Dangelo-left-and-right-lyrics</td>\n",
       "      <td>\\nYo, yo, yo (Yeah, yeah)\\nYo, yo\\n\\nMy flow's...</td>\n",
       "      <td>en</td>\n",
       "      <td>99</td>\n",
       "      <td>4EQ0dK6Sg7v685NGrQvuki</td>\n",
       "    </tr>\n",
       "  </tbody>\n",
       "</table>\n",
       "<p>8780 rows × 7 columns</p>\n",
       "</div>"
      ],
      "text/plain": [
       "                                                  title  \\\n",
       "0                                            Easy On Me   \n",
       "1                                                  Stay   \n",
       "2                                         Industry Baby   \n",
       "3                                            Fancy Like   \n",
       "4                                            Bad Habits   \n",
       "...                                                 ...   \n",
       "9044                     The Greatest Romance Ever Sold   \n",
       "9045  The Christmas Song (Chestnuts Roasting On An O...   \n",
       "9046                                     Deck The Halls   \n",
       "9047                                         I Love You   \n",
       "9048                                       Left & Right   \n",
       "\n",
       "                                   artist  \\\n",
       "0                                 [Adele]   \n",
       "1         [The Kid LAROI,  Justin Bieber]   \n",
       "2               [Lil Nas X,  Jack Harlow]   \n",
       "3                          [Walker Hayes]   \n",
       "4                            [Ed Sheeran]   \n",
       "...                                   ...   \n",
       "9044                             [Prince]   \n",
       "9045                 [Christina Aguilera]   \n",
       "9046                           [SHeDAISY]   \n",
       "9047                    [Martina McBride]   \n",
       "9048  [\"DAngelo\",  Method Man And Redman]   \n",
       "\n",
       "                                                    url  \\\n",
       "0            https://genius.com/Adele-easy-on-me-lyrics   \n",
       "1     https://genius.com/The-kid-laroi-and-justin-bi...   \n",
       "2     https://genius.com/Lil-nas-x-and-jack-harlow-i...   \n",
       "3     https://genius.com/Walker-hayes-fancy-like-lyrics   \n",
       "4       https://genius.com/Ed-sheeran-bad-habits-lyrics   \n",
       "...                                                 ...   \n",
       "9044  https://genius.com/Prince-the-greatest-romance...   \n",
       "9045  https://genius.com/Christina-aguilera-christma...   \n",
       "9046  https://genius.com/Shedaisy-deck-the-halls-lyrics   \n",
       "9047  https://genius.com/Martina-mcbride-i-love-you-...   \n",
       "9048   https://genius.com/Dangelo-left-and-right-lyrics   \n",
       "\n",
       "                                                 lyrics lang  lang_acc  \\\n",
       "0     \\nThere ain't no gold in this river\\nThat I've...   en        99   \n",
       "1     \\nI do the same thing I told you that I never ...   en        99   \n",
       "2     \\n(D-D-Daytrip took it to ten, hey)\\nBaby back...   en        99   \n",
       "3     \\nAyy\\nMy girl is bangin', she's so low mainte...   en        99   \n",
       "4     \\n(One, two, three, four)\\nOoh, ooh\\n\\nEvery t...   en        99   \n",
       "...                                                 ...  ...       ...   \n",
       "9044  \\nThe greatest romance that's ever been sold\\n...   en        99   \n",
       "9045  Chestnuts roasting on an open fire\\nJack Frost...   en        99   \n",
       "9046  (arranged by SHeDAISY and Phil Symonds)\\nDeck ...   en        99   \n",
       "9047  \\nYeah\\n\\nThe sun is shining everyday\\nThe clo...   en        99   \n",
       "9048  \\nYo, yo, yo (Yeah, yeah)\\nYo, yo\\n\\nMy flow's...   en        99   \n",
       "\n",
       "                       sp_id  \n",
       "0     0gplL1WMoJ6iYaPgMCL0gX  \n",
       "1     5HCyWlXZPP0y6Gqq8TgA20  \n",
       "2     27NovPIUIRrOZoCHxABJwK  \n",
       "3     58UKC45GPNTflCN6nwCUeF  \n",
       "4     3rmo8F54jFF8OgYsqTxm5d  \n",
       "...                      ...  \n",
       "9044  3A8pzjcWgAHry1Ix19z7ip  \n",
       "9045                    none  \n",
       "9046  3MAQlKrBxFN5QXR7SqxYQh  \n",
       "9047  6hvREHiu0i7PJv7XUHeo5w  \n",
       "9048  4EQ0dK6Sg7v685NGrQvuki  \n",
       "\n",
       "[8780 rows x 7 columns]"
      ]
     },
     "execution_count": 21,
     "metadata": {},
     "output_type": "execute_result"
    }
   ],
   "source": [
    "songs = songs.rename(columns = {\"song\": \"title\"})\n",
    "songs = lg.search_sp_id(songs)\n",
    "songs"
   ]
  },
  {
   "cell_type": "code",
   "execution_count": null,
   "metadata": {
    "cell_id": "e8f7212d-0335-4956-820d-fae5e5102bee",
    "deepnote_cell_height": 136.1875,
    "deepnote_cell_type": "code",
    "deepnote_output_heights": [
     21.1875
    ],
    "deepnote_to_be_reexecuted": false,
    "execution_millis": 4,
    "execution_start": 1656412755847,
    "id": "FLDqVfWtO5Gq",
    "outputId": "a341f10c-3fcc-4ff5-f666-7a844ed6b4ce",
    "source_hash": "c53db3de",
    "tags": []
   },
   "outputs": [
    {
     "data": {
      "text/plain": [
       "123"
      ]
     },
     "execution_count": 22,
     "metadata": {},
     "output_type": "execute_result"
    }
   ],
   "source": [
    "# songs for which no id was found\n",
    "sum(songs[\"sp_id\"] == \"none\")"
   ]
  },
  {
   "cell_type": "markdown",
   "metadata": {
    "cell_id": "7887dc2f-f49e-4f4a-8830-cb4eaf2da7f1",
    "deepnote_cell_type": "text-cell-h2",
    "formattedRanges": [],
    "id": "kwCSTScZO5Gq",
    "is_collapsed": false,
    "tags": []
   },
   "source": [
    "## 2. Create Audio Features"
   ]
  },
  {
   "cell_type": "markdown",
   "metadata": {
    "cell_id": "783d5458-5e84-41ca-a78b-eb852e268459",
    "deepnote_cell_height": 119.59375,
    "deepnote_cell_type": "markdown",
    "id": "S1Y7ZVvZO5Gq",
    "tags": []
   },
   "source": [
    "As a next step, the Spotify ID is used to find the audio features to the songs. They will be stored in a seperate dataframe and later merged back. A function `create_audio_features` was created. This function searches for the audio features like danceability etc."
   ]
  },
  {
   "cell_type": "code",
   "execution_count": null,
   "metadata": {
    "cell_id": "78784c14-721c-49c8-bdfe-e73f1ebb6436",
    "deepnote_cell_height": 427.390625,
    "deepnote_cell_type": "code",
    "deepnote_to_be_reexecuted": false,
    "execution_millis": 739205,
    "execution_start": 1656412772957,
    "id": "GyWNw56PO5Gr",
    "outputId": "e2aed5a5-5771-4183-cb95-b61e079cc8d5",
    "source_hash": "716a9cd1",
    "tags": []
   },
   "outputs": [
    {
     "data": {
      "application/vnd.deepnote.dataframe.v3+json": {
       "column_count": 12,
       "columns": [
        {
         "dtype": "float64",
         "name": "danceability",
         "stats": {
          "histogram": [
           {
            "bin_end": 0.5962,
            "bin_start": 0.568,
            "count": 1
           },
           {
            "bin_end": 0.6244,
            "bin_start": 0.5962,
            "count": 0
           },
           {
            "bin_end": 0.6526,
            "bin_start": 0.6244,
            "count": 0
           },
           {
            "bin_end": 0.6808,
            "bin_start": 0.6526,
            "count": 0
           },
           {
            "bin_end": 0.709,
            "bin_start": 0.6808,
            "count": 1
           },
           {
            "bin_end": 0.7372,
            "bin_start": 0.709,
            "count": 0
           },
           {
            "bin_end": 0.7654,
            "bin_start": 0.7372,
            "count": 0
           },
           {
            "bin_end": 0.7936,
            "bin_start": 0.7654,
            "count": 0
           },
           {
            "bin_end": 0.8218,
            "bin_start": 0.7936,
            "count": 0
           },
           {
            "bin_end": 0.85,
            "bin_start": 0.8218,
            "count": 3
           }
          ],
          "max": "0.85",
          "min": "0.568",
          "nan_count": 0,
          "unique_count": 5
         }
        },
        {
         "dtype": "float64",
         "name": "energy",
         "stats": {
          "histogram": [
           {
            "bin_end": 0.4464,
            "bin_start": 0.404,
            "count": 1
           },
           {
            "bin_end": 0.4888,
            "bin_start": 0.4464,
            "count": 1
           },
           {
            "bin_end": 0.5312,
            "bin_start": 0.4888,
            "count": 0
           },
           {
            "bin_end": 0.5736,
            "bin_start": 0.5312,
            "count": 0
           },
           {
            "bin_end": 0.616,
            "bin_start": 0.5736,
            "count": 1
           },
           {
            "bin_end": 0.6584,
            "bin_start": 0.616,
            "count": 0
           },
           {
            "bin_end": 0.7008,
            "bin_start": 0.6584,
            "count": 1
           },
           {
            "bin_end": 0.7432,
            "bin_start": 0.7008,
            "count": 0
           },
           {
            "bin_end": 0.7856,
            "bin_start": 0.7432,
            "count": 0
           },
           {
            "bin_end": 0.828,
            "bin_start": 0.7856,
            "count": 1
           }
          ],
          "max": "0.828",
          "min": "0.404",
          "nan_count": 0,
          "unique_count": 5
         }
        },
        {
         "dtype": "int64",
         "name": "key",
         "stats": {
          "histogram": [
           {
            "bin_end": 1,
            "bin_start": 0,
            "count": 1
           },
           {
            "bin_end": 2,
            "bin_start": 1,
            "count": 2
           },
           {
            "bin_end": 3,
            "bin_start": 2,
            "count": 0
           },
           {
            "bin_end": 4,
            "bin_start": 3,
            "count": 0
           },
           {
            "bin_end": 5,
            "bin_start": 4,
            "count": 0
           },
           {
            "bin_end": 6,
            "bin_start": 5,
            "count": 0
           },
           {
            "bin_end": 7,
            "bin_start": 6,
            "count": 0
           },
           {
            "bin_end": 8,
            "bin_start": 7,
            "count": 0
           },
           {
            "bin_end": 9,
            "bin_start": 8,
            "count": 1
           },
           {
            "bin_end": 10,
            "bin_start": 9,
            "count": 1
           }
          ],
          "max": "10",
          "min": "0",
          "nan_count": 0,
          "unique_count": 4
         }
        },
        {
         "dtype": "float64",
         "name": "loudness",
         "stats": {
          "histogram": [
           {
            "bin_end": -9.0947,
            "bin_start": -9.504,
            "count": 1
           },
           {
            "bin_end": -8.6854,
            "bin_start": -9.0947,
            "count": 0
           },
           {
            "bin_end": -8.2761,
            "bin_start": -8.6854,
            "count": 0
           },
           {
            "bin_end": -7.8668,
            "bin_start": -8.2761,
            "count": 1
           },
           {
            "bin_end": -7.4575,
            "bin_start": -7.8668,
            "count": 0
           },
           {
            "bin_end": -7.0482,
            "bin_start": -7.4575,
            "count": 1
           },
           {
            "bin_end": -6.6389,
            "bin_start": -7.0482,
            "count": 1
           },
           {
            "bin_end": -6.2296,
            "bin_start": -6.6389,
            "count": 0
           },
           {
            "bin_end": -5.8203,
            "bin_start": -6.2296,
            "count": 0
           },
           {
            "bin_end": -5.411,
            "bin_start": -5.8203,
            "count": 1
           }
          ],
          "max": "-5.411",
          "min": "-9.504",
          "nan_count": 0,
          "unique_count": 5
         }
        },
        {
         "dtype": "int64",
         "name": "mode",
         "stats": {
          "histogram": [
           {
            "bin_end": 0.1,
            "bin_start": 0,
            "count": 2
           },
           {
            "bin_end": 0.2,
            "bin_start": 0.1,
            "count": 0
           },
           {
            "bin_end": 0.30000000000000004,
            "bin_start": 0.2,
            "count": 0
           },
           {
            "bin_end": 0.4,
            "bin_start": 0.30000000000000004,
            "count": 0
           },
           {
            "bin_end": 0.5,
            "bin_start": 0.4,
            "count": 0
           },
           {
            "bin_end": 0.6000000000000001,
            "bin_start": 0.5,
            "count": 0
           },
           {
            "bin_end": 0.7000000000000001,
            "bin_start": 0.6000000000000001,
            "count": 0
           },
           {
            "bin_end": 0.8,
            "bin_start": 0.7000000000000001,
            "count": 0
           },
           {
            "bin_end": 0.9,
            "bin_start": 0.8,
            "count": 0
           },
           {
            "bin_end": 1,
            "bin_start": 0.9,
            "count": 3
           }
          ],
          "max": "1",
          "min": "0",
          "nan_count": 0,
          "unique_count": 2
         }
        },
        {
         "dtype": "float64",
         "name": "speechiness",
         "stats": {
          "histogram": [
           {
            "bin_end": 0.0853,
            "bin_start": 0.025,
            "count": 4
           },
           {
            "bin_end": 0.1456,
            "bin_start": 0.0853,
            "count": 0
           },
           {
            "bin_end": 0.2059,
            "bin_start": 0.1456,
            "count": 0
           },
           {
            "bin_end": 0.2662,
            "bin_start": 0.2059,
            "count": 0
           },
           {
            "bin_end": 0.3265,
            "bin_start": 0.2662,
            "count": 0
           },
           {
            "bin_end": 0.38680000000000003,
            "bin_start": 0.3265,
            "count": 0
           },
           {
            "bin_end": 0.4471,
            "bin_start": 0.38680000000000003,
            "count": 0
           },
           {
            "bin_end": 0.5074,
            "bin_start": 0.4471,
            "count": 0
           },
           {
            "bin_end": 0.5677,
            "bin_start": 0.5074,
            "count": 0
           },
           {
            "bin_end": 0.628,
            "bin_start": 0.5677,
            "count": 1
           }
          ],
          "max": "0.628",
          "min": "0.025",
          "nan_count": 0,
          "unique_count": 5
         }
        },
        {
         "dtype": "float64",
         "name": "acousticness",
         "stats": {
          "histogram": [
           {
            "bin_end": 0.046630000000000005,
            "bin_start": 0.0107,
            "count": 3
           },
           {
            "bin_end": 0.08256000000000001,
            "bin_start": 0.046630000000000005,
            "count": 0
           },
           {
            "bin_end": 0.11849000000000001,
            "bin_start": 0.08256000000000001,
            "count": 0
           },
           {
            "bin_end": 0.15442,
            "bin_start": 0.11849000000000001,
            "count": 0
           },
           {
            "bin_end": 0.19035000000000002,
            "bin_start": 0.15442,
            "count": 0
           },
           {
            "bin_end": 0.22628,
            "bin_start": 0.19035000000000002,
            "count": 1
           },
           {
            "bin_end": 0.26221,
            "bin_start": 0.22628,
            "count": 0
           },
           {
            "bin_end": 0.29814,
            "bin_start": 0.26221,
            "count": 0
           },
           {
            "bin_end": 0.33407000000000003,
            "bin_start": 0.29814,
            "count": 0
           },
           {
            "bin_end": 0.37,
            "bin_start": 0.33407000000000003,
            "count": 1
           }
          ],
          "max": "0.37",
          "min": "0.0107",
          "nan_count": 0,
          "unique_count": 5
         }
        },
        {
         "dtype": "float64",
         "name": "instrumentalness",
         "stats": {
          "histogram": [
           {
            "bin_end": 2.05e-06,
            "bin_start": 0,
            "count": 3
           },
           {
            "bin_end": 4.1e-06,
            "bin_start": 2.05e-06,
            "count": 0
           },
           {
            "bin_end": 6.1499999999999996e-06,
            "bin_start": 4.1e-06,
            "count": 1
           },
           {
            "bin_end": 8.2e-06,
            "bin_start": 6.1499999999999996e-06,
            "count": 0
           },
           {
            "bin_end": 1.0249999999999998e-05,
            "bin_start": 8.2e-06,
            "count": 0
           },
           {
            "bin_end": 1.2299999999999999e-05,
            "bin_start": 1.0249999999999998e-05,
            "count": 0
           },
           {
            "bin_end": 1.435e-05,
            "bin_start": 1.2299999999999999e-05,
            "count": 0
           },
           {
            "bin_end": 1.64e-05,
            "bin_start": 1.435e-05,
            "count": 0
           },
           {
            "bin_end": 1.8449999999999998e-05,
            "bin_start": 1.64e-05,
            "count": 0
           },
           {
            "bin_end": 2.05e-05,
            "bin_start": 1.8449999999999998e-05,
            "count": 1
           }
          ],
          "max": "2.05e-05",
          "min": "0.0",
          "nan_count": 0,
          "unique_count": 3
         }
        },
        {
         "dtype": "float64",
         "name": "liveness",
         "stats": {
          "histogram": [
           {
            "bin_end": 0.10602,
            "bin_start": 0.0768,
            "count": 2
           },
           {
            "bin_end": 0.13524,
            "bin_start": 0.10602,
            "count": 0
           },
           {
            "bin_end": 0.16446,
            "bin_start": 0.13524,
            "count": 0
           },
           {
            "bin_end": 0.19368000000000002,
            "bin_start": 0.16446,
            "count": 2
           },
           {
            "bin_end": 0.2229,
            "bin_start": 0.19368000000000002,
            "count": 0
           },
           {
            "bin_end": 0.25212,
            "bin_start": 0.2229,
            "count": 0
           },
           {
            "bin_end": 0.28134000000000003,
            "bin_start": 0.25212,
            "count": 0
           },
           {
            "bin_end": 0.31056,
            "bin_start": 0.28134000000000003,
            "count": 0
           },
           {
            "bin_end": 0.33978,
            "bin_start": 0.31056,
            "count": 0
           },
           {
            "bin_end": 0.369,
            "bin_start": 0.33978,
            "count": 1
           }
          ],
          "max": "0.369",
          "min": "0.0768",
          "nan_count": 0,
          "unique_count": 5
         }
        },
        {
         "dtype": "float64",
         "name": "valence",
         "stats": {
          "histogram": [
           {
            "bin_end": 0.44889999999999997,
            "bin_start": 0.407,
            "count": 1
           },
           {
            "bin_end": 0.49079999999999996,
            "bin_start": 0.44889999999999997,
            "count": 0
           },
           {
            "bin_end": 0.5327,
            "bin_start": 0.49079999999999996,
            "count": 0
           },
           {
            "bin_end": 0.5746,
            "bin_start": 0.5327,
            "count": 0
           },
           {
            "bin_end": 0.6164999999999999,
            "bin_start": 0.5746,
            "count": 1
           },
           {
            "bin_end": 0.6584,
            "bin_start": 0.6164999999999999,
            "count": 1
           },
           {
            "bin_end": 0.7002999999999999,
            "bin_start": 0.6584,
            "count": 0
           },
           {
            "bin_end": 0.7422,
            "bin_start": 0.7002999999999999,
            "count": 0
           },
           {
            "bin_end": 0.7841,
            "bin_start": 0.7422,
            "count": 0
           },
           {
            "bin_end": 0.826,
            "bin_start": 0.7841,
            "count": 2
           }
          ],
          "max": "0.826",
          "min": "0.407",
          "nan_count": 0,
          "unique_count": 5
         }
        },
        {
         "dtype": "float64",
         "name": "tempo",
         "stats": {
          "histogram": [
           {
            "bin_end": 94.21940000000001,
            "bin_start": 90.022,
            "count": 2
           },
           {
            "bin_end": 98.41680000000001,
            "bin_start": 94.21940000000001,
            "count": 0
           },
           {
            "bin_end": 102.61420000000001,
            "bin_start": 98.41680000000001,
            "count": 0
           },
           {
            "bin_end": 106.8116,
            "bin_start": 102.61420000000001,
            "count": 1
           },
           {
            "bin_end": 111.00900000000001,
            "bin_start": 106.8116,
            "count": 0
           },
           {
            "bin_end": 115.2064,
            "bin_start": 111.00900000000001,
            "count": 0
           },
           {
            "bin_end": 119.4038,
            "bin_start": 115.2064,
            "count": 1
           },
           {
            "bin_end": 123.6012,
            "bin_start": 119.4038,
            "count": 0
           },
           {
            "bin_end": 127.79860000000001,
            "bin_start": 123.6012,
            "count": 0
           },
           {
            "bin_end": 131.996,
            "bin_start": 127.79860000000001,
            "count": 1
           }
          ],
          "max": "131.996",
          "min": "90.022",
          "nan_count": 0,
          "unique_count": 5
         }
        },
        {
         "dtype": "object",
         "name": "id",
         "stats": {
          "categories": [
           {
            "count": 1,
            "name": "2ZDxfuXmTIRCdXChbtHpW9"
           },
           {
            "count": 1,
            "name": "3A8pzjcWgAHry1Ix19z7ip"
           },
           {
            "count": 3,
            "name": "3 others"
           }
          ],
          "nan_count": 0,
          "unique_count": 5
         }
        },
        {
         "dtype": "int64",
         "name": "_deepnote_index_column"
        }
       ],
       "row_count": 5,
       "rows": [
        {
         "_deepnote_index_column": 8651,
         "acousticness": 0.0107,
         "danceability": 0.85,
         "energy": 0.675,
         "id": "2ZDxfuXmTIRCdXChbtHpW9",
         "instrumentalness": 0,
         "key": 10,
         "liveness": 0.0914,
         "loudness": -7.915,
         "mode": 0,
         "speechiness": 0.0442,
         "tempo": 131.996,
         "valence": 0.816
        },
        {
         "_deepnote_index_column": 8652,
         "acousticness": 0.37,
         "danceability": 0.844,
         "energy": 0.457,
         "id": "3A8pzjcWgAHry1Ix19z7ip",
         "instrumentalness": 4.88e-06,
         "key": 8,
         "liveness": 0.0768,
         "loudness": -6.859,
         "mode": 1,
         "speechiness": 0.0422,
         "tempo": 90.022,
         "valence": 0.594
        },
        {
         "_deepnote_index_column": 8653,
         "acousticness": 0.0151,
         "danceability": 0.568,
         "energy": 0.828,
         "id": "3MAQlKrBxFN5QXR7SqxYQh",
         "instrumentalness": 2.05e-05,
         "key": 1,
         "liveness": 0.167,
         "loudness": -7.123,
         "mode": 0,
         "speechiness": 0.0403,
         "tempo": 118.836,
         "valence": 0.407
        },
        {
         "_deepnote_index_column": 8654,
         "acousticness": 0.019,
         "danceability": 0.708,
         "energy": 0.597,
         "id": "6hvREHiu0i7PJv7XUHeo5w",
         "instrumentalness": 0,
         "key": 0,
         "liveness": 0.177,
         "loudness": -5.411,
         "mode": 1,
         "speechiness": 0.025,
         "tempo": 106.706,
         "valence": 0.629
        },
        {
         "_deepnote_index_column": 8655,
         "acousticness": 0.219,
         "danceability": 0.842,
         "energy": 0.404,
         "id": "4EQ0dK6Sg7v685NGrQvuki",
         "instrumentalness": 0,
         "key": 1,
         "liveness": 0.369,
         "loudness": -9.504,
         "mode": 1,
         "speechiness": 0.628,
         "tempo": 91.963,
         "valence": 0.826
        }
       ]
      },
      "text/html": [
       "<div>\n",
       "<style scoped>\n",
       "    .dataframe tbody tr th:only-of-type {\n",
       "        vertical-align: middle;\n",
       "    }\n",
       "\n",
       "    .dataframe tbody tr th {\n",
       "        vertical-align: top;\n",
       "    }\n",
       "\n",
       "    .dataframe thead th {\n",
       "        text-align: right;\n",
       "    }\n",
       "</style>\n",
       "<table border=\"1\" class=\"dataframe\">\n",
       "  <thead>\n",
       "    <tr style=\"text-align: right;\">\n",
       "      <th></th>\n",
       "      <th>danceability</th>\n",
       "      <th>energy</th>\n",
       "      <th>key</th>\n",
       "      <th>loudness</th>\n",
       "      <th>mode</th>\n",
       "      <th>speechiness</th>\n",
       "      <th>acousticness</th>\n",
       "      <th>instrumentalness</th>\n",
       "      <th>liveness</th>\n",
       "      <th>valence</th>\n",
       "      <th>tempo</th>\n",
       "      <th>id</th>\n",
       "    </tr>\n",
       "  </thead>\n",
       "  <tbody>\n",
       "    <tr>\n",
       "      <th>8651</th>\n",
       "      <td>0.850</td>\n",
       "      <td>0.675</td>\n",
       "      <td>10</td>\n",
       "      <td>-7.915</td>\n",
       "      <td>0</td>\n",
       "      <td>0.0442</td>\n",
       "      <td>0.0107</td>\n",
       "      <td>0.000000</td>\n",
       "      <td>0.0914</td>\n",
       "      <td>0.816</td>\n",
       "      <td>131.996</td>\n",
       "      <td>2ZDxfuXmTIRCdXChbtHpW9</td>\n",
       "    </tr>\n",
       "    <tr>\n",
       "      <th>8652</th>\n",
       "      <td>0.844</td>\n",
       "      <td>0.457</td>\n",
       "      <td>8</td>\n",
       "      <td>-6.859</td>\n",
       "      <td>1</td>\n",
       "      <td>0.0422</td>\n",
       "      <td>0.3700</td>\n",
       "      <td>0.000005</td>\n",
       "      <td>0.0768</td>\n",
       "      <td>0.594</td>\n",
       "      <td>90.022</td>\n",
       "      <td>3A8pzjcWgAHry1Ix19z7ip</td>\n",
       "    </tr>\n",
       "    <tr>\n",
       "      <th>8653</th>\n",
       "      <td>0.568</td>\n",
       "      <td>0.828</td>\n",
       "      <td>1</td>\n",
       "      <td>-7.123</td>\n",
       "      <td>0</td>\n",
       "      <td>0.0403</td>\n",
       "      <td>0.0151</td>\n",
       "      <td>0.000021</td>\n",
       "      <td>0.1670</td>\n",
       "      <td>0.407</td>\n",
       "      <td>118.836</td>\n",
       "      <td>3MAQlKrBxFN5QXR7SqxYQh</td>\n",
       "    </tr>\n",
       "    <tr>\n",
       "      <th>8654</th>\n",
       "      <td>0.708</td>\n",
       "      <td>0.597</td>\n",
       "      <td>0</td>\n",
       "      <td>-5.411</td>\n",
       "      <td>1</td>\n",
       "      <td>0.0250</td>\n",
       "      <td>0.0190</td>\n",
       "      <td>0.000000</td>\n",
       "      <td>0.1770</td>\n",
       "      <td>0.629</td>\n",
       "      <td>106.706</td>\n",
       "      <td>6hvREHiu0i7PJv7XUHeo5w</td>\n",
       "    </tr>\n",
       "    <tr>\n",
       "      <th>8655</th>\n",
       "      <td>0.842</td>\n",
       "      <td>0.404</td>\n",
       "      <td>1</td>\n",
       "      <td>-9.504</td>\n",
       "      <td>1</td>\n",
       "      <td>0.6280</td>\n",
       "      <td>0.2190</td>\n",
       "      <td>0.000000</td>\n",
       "      <td>0.3690</td>\n",
       "      <td>0.826</td>\n",
       "      <td>91.963</td>\n",
       "      <td>4EQ0dK6Sg7v685NGrQvuki</td>\n",
       "    </tr>\n",
       "  </tbody>\n",
       "</table>\n",
       "</div>"
      ],
      "text/plain": [
       "      danceability  energy  key  loudness  mode  speechiness  acousticness  \\\n",
       "8651         0.850   0.675   10    -7.915     0       0.0442        0.0107   \n",
       "8652         0.844   0.457    8    -6.859     1       0.0422        0.3700   \n",
       "8653         0.568   0.828    1    -7.123     0       0.0403        0.0151   \n",
       "8654         0.708   0.597    0    -5.411     1       0.0250        0.0190   \n",
       "8655         0.842   0.404    1    -9.504     1       0.6280        0.2190   \n",
       "\n",
       "      instrumentalness  liveness  valence    tempo                      id  \n",
       "8651          0.000000    0.0914    0.816  131.996  2ZDxfuXmTIRCdXChbtHpW9  \n",
       "8652          0.000005    0.0768    0.594   90.022  3A8pzjcWgAHry1Ix19z7ip  \n",
       "8653          0.000021    0.1670    0.407  118.836  3MAQlKrBxFN5QXR7SqxYQh  \n",
       "8654          0.000000    0.1770    0.629  106.706  6hvREHiu0i7PJv7XUHeo5w  \n",
       "8655          0.000000    0.3690    0.826   91.963  4EQ0dK6Sg7v685NGrQvuki  "
      ]
     },
     "execution_count": 23,
     "metadata": {},
     "output_type": "execute_result"
    }
   ],
   "source": [
    "audio = lg.create_audio_features(songs)\n",
    "audio.tail()"
   ]
  },
  {
   "cell_type": "markdown",
   "metadata": {
    "cell_id": "05466ff5-6fee-459a-b6f2-0b6d64dcbc03",
    "deepnote_cell_type": "text-cell-h2",
    "formattedRanges": [],
    "id": "jHDikf-1O5Gr",
    "is_collapsed": false,
    "tags": []
   },
   "source": [
    "## Merge"
   ]
  },
  {
   "cell_type": "code",
   "execution_count": null,
   "metadata": {
    "cell_id": "c93bb799-059b-46e0-b551-78982cd636fa",
    "deepnote_cell_height": 722.390625,
    "deepnote_cell_type": "code",
    "deepnote_to_be_reexecuted": false,
    "execution_millis": 133,
    "execution_start": 1656413532202,
    "id": "CBAYGGNSO5Gr",
    "outputId": "6ef9522f-e8c9-4389-f64f-865008759aa7",
    "source_hash": "1101e9a9",
    "tags": []
   },
   "outputs": [
    {
     "data": {
      "application/vnd.deepnote.dataframe.v3+json": {
       "column_count": 18,
       "columns": [
        {
         "dtype": "object",
         "name": "title",
         "stats": {
          "categories": [
           {
            "count": 1,
            "name": "Get Gone"
           },
           {
            "count": 1,
            "name": "Heartbreaker"
           },
           {
            "count": 8,
            "name": "8 others"
           }
          ],
          "nan_count": 0,
          "unique_count": 10
         }
        },
        {
         "dtype": "object",
         "name": "artist",
         "stats": {
          "categories": [
           {
            "count": 1,
            "name": "['Ideal']"
           },
           {
            "count": 1,
            "name": "['Mariah Carey', ' Jay-Z']"
           },
           {
            "count": 8,
            "name": "8 others"
           }
          ],
          "nan_count": 0,
          "unique_count": 10
         }
        },
        {
         "dtype": "object",
         "name": "url",
         "stats": {
          "categories": [
           {
            "count": 1,
            "name": "https://genius.com/Ideal-usa-get-gone-lyrics"
           },
           {
            "count": 1,
            "name": "https://genius.com/Mariah-carey-heartbreaker-lyrics"
           },
           {
            "count": 8,
            "name": "8 others"
           }
          ],
          "nan_count": 0,
          "unique_count": 10
         }
        },
        {
         "dtype": "object",
         "name": "lyrics",
         "stats": {
          "categories": [
           {
            "count": 1,
            "name": "\nHey, come in here for a minute\nSit down\nCome here, cause we gotta talk, Okay\nWell, you just stay here for a little bit tonight\nMan, I don't even know where to start\nYo, I want you try to understand somethin', okay?\nNow, just listen\n\nIn the beginning, you know I tried\nTo make it work for you and I\nSeems like I was always by myself\nLike you didn't ever, ever wanna help\nThe strain you put on me, you let me down\nCan you tell me why, after all I've done?\nFor you and us\nYou know I really hate to say it, but I gotta tell you som'\n\nI think I better leave (leave) you alone (alone)\nSo get your bags (yeah) and get the hell on (on)\nSee, because I don't want you no more\n(I don't want you no more)\nI think you better leave (leave) me alone (alone)\nSo get your bags (yeah), get the hell on (get gone)\nBecause love ain't here no more\nI don't know if it hurts\nTo hear me say all of these words\nBut then again, I guess by now\nI really don't care\n(See I've waited much too long)\nAlways thought that it could work\nThought it could be, forever you and me\nTell me, what happened to us?\nWait a minute, don't speak\nRight now all I wanna do is see you leavin'\n\n(Leave) me alone (alone)\nGet your bags (yeah), get the hell on (on on)\nCause I don't want you no more\nSaid I think I better leave (leave) you alone (alone)\nGet your bags (yeah), get the hell on (get gone)\nCause love ain't here no more\n\nSee, I tried to do it right\nTried to make you see the light\nAll that I wanted, all that I needed, was you in my life\nHavin' broke down and for what?\nChanged so many times, forgot who the real me was\nBut it's alright, I said it's cool\nCause I'm getting rid of you\nI think it's time to leave (leave) me alone (alone)\nGet your bags (yeah), get the fuck on (on on)\nBecause love don't want you no more\nSaid I think it's time to leave (leave) me alone (alone)\nGet to steppin' (yeah), get the hell on (get gone)\nLove (love) ain't (ain't) here (here) no more (no more)\nOh leave (leave) me alone (alone)\nGet your bags (yeah), leave the keys on the table (on on)\nCause I don't want you no more\n(See I've waited much too long)\nSaid I think you better leave (leave) me alone (alone)\nGet to steppin' (yeah), get gone (get gone)\nCause love ain't here no more\n(Fades)\nYou better get on (get on), get on (get on)\nGet on (get on), you ain't takin' a thing (get on)\nJust get on (get on), get on\nGet on (get on), leave the credit cards with meEmbed"
           },
           {
            "count": 1,
            "name": "\nYeah\nWe're gonna do it like this\nAight\nLet's go\nJigga\n\nGimme your love\nUh\nGimme your love\nWhat?\nGimme your love\nMC\nGimme your love\nUh, jigga\nGimme your love\nGimme your love\nGimme your love\nGimme your love\nHey\nGimme your love\nGimme your love\nYou gotta bounce to this like this\nGimme your love\nGimme your love\nYou almost gotta watch and listen\nGimme your love\nUh-huh\nGimme your love\nWoo\nGimme your love\nX-Scape\nGimme your love\nBoy, your love's so good\nI don't wanna let go\nAnd although I should\nI can't leave you alone\n'Cause you're so disarming\nI'm caught up in the midst of you\nAnd I cannot resist at all\n\nBoy, if I do\nThe things you want me to\nUh-huh\nThe way I used to do\nWould you love me, baby\nUh-huh\nOr leave me feeling used?\nWould you go and break my heart?\n\nHeartbreaker, you got the best of me\nBut I just keep on coming back incessantly\nOh, why did you have to run your game on me?\nI should have known right from the start\nYou'd go and break my heart\nGimme your love\nGimme your love\nGimme your love\nGimme your love\nUh-huh\nGimme your love\nGimme your love\nGimme your love\nGimme your love\nGimme your love\nWhat?\nGimme your love\nGimme your love\nGimme your love\nShe said\nGimme your love\nWhat?\nGimme your love\nShe said\nGimme your love\nUh-huh\nGimme your love\nGimme your love\n\nIt's a shame to be\nSo euphoric and weak\nWhen you smile at me\nAnd you tell me the things\nThat you know\nPersuade me to relinquish my love\nTo you\nBut I cannot resist at all\nBoy, if I do\nThe things you wanna do\nThe way I used to do\nWould you love me, baby (Love me, oh)\nOr leaving me feeling used?\nWould you go and break my heart?\n\n(Heartbreaker, you got the best of me)\nHeartbreaker, you got the best of me (You got the best)\nBut I just keep on coming back incessantly (I keep on, keep on)\nOh, why did you have to run your game on me?\n(Why, why did you have to run your game?)\nI should have known right from the start\n(The start that you'd go and break my heart)\nYou'd go and break my heart\n\nI'm all over ready\nOkay, cool, alright\nShe wanna shop with Jay\nPlay box with Jay\nShe wanna pillow fight in the middle of the night\nShe wanna drive my Benz with five of her friends\nShe wanna creep past the block, spying again\nShe wanna roll with Jay, chase skeeos away\nShe wanna fight with lame chicks, blow my date\nShe wanna inspect the rest, kick me to the curb\nIf she find one strand of hair longer than hers\nShe want love in the jacuzzi, rub up in the movies\nAccess to the old crib, keys to the newbie\nShe wanna answer the phone, tattoo her arm\nThat's when I gotta send her back to her moms\nShe calls me heartbreaker\nWhen we apart, it makes her want a piece of paper\nScribble down \"I hate ya\", but she knows she loves Jay because\nShe loves everything Jay say, Jay does, and all\n\n(Oh boy, you got the best of me)\nHeartbreaker, you got the best of me\nBut I just keep on coming back incessantly (I keep on coming back)\nOh, why did you have to run your game on me\n(Why did you have to run your game?)\nI should have known right from the start\n(Right from the start that you'd)\nYou'd go and break my heart (Go and break my heart)\nHeartbreaker, you got the best of me\nBut I just keep on coming back incessantly\nOh why, did you have to run your game on me?\n(I should have known) I should have known right from the start\n(That you would go and break my heart)\nYou'd go and break my heart\nHeartbreaker, you got the best of me\nBut I just keep on coming back incessantly\nOh, why did you have to run your game on me?\nI should have known right from the start\nYou'd go and break my heart\n\n(Boy, if I do) Heartbreaker, you got the best of me\nBut I just keep on coming back incessantly\n(The things you want me to)\n(The way I used to do)\nOh, why did you have to (Would you love me, baby?)\nRun your game on me\nI should have known right from the start\n(Or leave me feeling used) Right from the start\n(Would you go and break?) (My heart)\nYou'd go and break my heart\n\nGimme your love\nGimme your love\nGimme your love\nDamn straight\nGimme your love\nThat's a wrap15Embed"
           },
           {
            "count": 8,
            "name": "8 others"
           }
          ],
          "nan_count": 0,
          "unique_count": 10
         }
        },
        {
         "dtype": "object",
         "name": "lang",
         "stats": {
          "categories": [
           {
            "count": 10,
            "name": "en"
           }
          ],
          "nan_count": 0,
          "unique_count": 1
         }
        },
        {
         "dtype": "int64",
         "name": "lang_acc",
         "stats": {
          "histogram": [
           {
            "bin_end": 98.6,
            "bin_start": 98.5,
            "count": 0
           },
           {
            "bin_end": 98.7,
            "bin_start": 98.6,
            "count": 0
           },
           {
            "bin_end": 98.8,
            "bin_start": 98.7,
            "count": 0
           },
           {
            "bin_end": 98.9,
            "bin_start": 98.8,
            "count": 0
           },
           {
            "bin_end": 99,
            "bin_start": 98.9,
            "count": 0
           },
           {
            "bin_end": 99.1,
            "bin_start": 99,
            "count": 10
           },
           {
            "bin_end": 99.2,
            "bin_start": 99.1,
            "count": 0
           },
           {
            "bin_end": 99.3,
            "bin_start": 99.2,
            "count": 0
           },
           {
            "bin_end": 99.4,
            "bin_start": 99.3,
            "count": 0
           },
           {
            "bin_end": 99.5,
            "bin_start": 99.4,
            "count": 0
           }
          ],
          "max": "99",
          "min": "99",
          "nan_count": 0,
          "unique_count": 1
         }
        },
        {
         "dtype": "object",
         "name": "sp_id",
         "stats": {
          "categories": [
           {
            "count": 2,
            "name": "none"
           },
           {
            "count": 1,
            "name": "0CofintZCm8MhxiOMrauiT"
           },
           {
            "count": 7,
            "name": "7 others"
           }
          ],
          "nan_count": 0,
          "unique_count": 9
         }
        },
        {
         "dtype": "float64",
         "name": "danceability",
         "stats": {
          "histogram": [
           {
            "bin_end": 0.5566,
            "bin_start": 0.524,
            "count": 1
           },
           {
            "bin_end": 0.5892000000000001,
            "bin_start": 0.5566,
            "count": 1
           },
           {
            "bin_end": 0.6218,
            "bin_start": 0.5892000000000001,
            "count": 0
           },
           {
            "bin_end": 0.6544,
            "bin_start": 0.6218,
            "count": 1
           },
           {
            "bin_end": 0.687,
            "bin_start": 0.6544,
            "count": 0
           },
           {
            "bin_end": 0.7196,
            "bin_start": 0.687,
            "count": 2
           },
           {
            "bin_end": 0.7522,
            "bin_start": 0.7196,
            "count": 0
           },
           {
            "bin_end": 0.7847999999999999,
            "bin_start": 0.7522,
            "count": 0
           },
           {
            "bin_end": 0.8174,
            "bin_start": 0.7847999999999999,
            "count": 0
           },
           {
            "bin_end": 0.85,
            "bin_start": 0.8174,
            "count": 3
           }
          ],
          "max": "0.85",
          "min": "0.524",
          "nan_count": 2,
          "unique_count": 8
         }
        },
        {
         "dtype": "float64",
         "name": "energy",
         "stats": {
          "histogram": [
           {
            "bin_end": 0.4464,
            "bin_start": 0.404,
            "count": 1
           },
           {
            "bin_end": 0.4888,
            "bin_start": 0.4464,
            "count": 1
           },
           {
            "bin_end": 0.5312,
            "bin_start": 0.4888,
            "count": 1
           },
           {
            "bin_end": 0.5736,
            "bin_start": 0.5312,
            "count": 1
           },
           {
            "bin_end": 0.616,
            "bin_start": 0.5736,
            "count": 1
           },
           {
            "bin_end": 0.6584,
            "bin_start": 0.616,
            "count": 0
           },
           {
            "bin_end": 0.7008,
            "bin_start": 0.6584,
            "count": 1
           },
           {
            "bin_end": 0.7432,
            "bin_start": 0.7008,
            "count": 0
           },
           {
            "bin_end": 0.7856,
            "bin_start": 0.7432,
            "count": 0
           },
           {
            "bin_end": 0.828,
            "bin_start": 0.7856,
            "count": 2
           }
          ],
          "max": "0.828",
          "min": "0.404",
          "nan_count": 2,
          "unique_count": 8
         }
        },
        {
         "dtype": "float64",
         "name": "key",
         "stats": {
          "histogram": [
           {
            "bin_end": 1,
            "bin_start": 0,
            "count": 2
           },
           {
            "bin_end": 2,
            "bin_start": 1,
            "count": 3
           },
           {
            "bin_end": 3,
            "bin_start": 2,
            "count": 0
           },
           {
            "bin_end": 4,
            "bin_start": 3,
            "count": 0
           },
           {
            "bin_end": 5,
            "bin_start": 4,
            "count": 0
           },
           {
            "bin_end": 6,
            "bin_start": 5,
            "count": 0
           },
           {
            "bin_end": 7,
            "bin_start": 6,
            "count": 0
           },
           {
            "bin_end": 8,
            "bin_start": 7,
            "count": 0
           },
           {
            "bin_end": 9,
            "bin_start": 8,
            "count": 1
           },
           {
            "bin_end": 10,
            "bin_start": 9,
            "count": 2
           }
          ],
          "max": "10.0",
          "min": "0.0",
          "nan_count": 2,
          "unique_count": 4
         }
        },
        {
         "dtype": "float64",
         "name": "loudness",
         "stats": {
          "histogram": [
           {
            "bin_end": -9.0947,
            "bin_start": -9.504,
            "count": 1
           },
           {
            "bin_end": -8.6854,
            "bin_start": -9.0947,
            "count": 0
           },
           {
            "bin_end": -8.2761,
            "bin_start": -8.6854,
            "count": 2
           },
           {
            "bin_end": -7.8668,
            "bin_start": -8.2761,
            "count": 1
           },
           {
            "bin_end": -7.4575,
            "bin_start": -7.8668,
            "count": 0
           },
           {
            "bin_end": -7.0482,
            "bin_start": -7.4575,
            "count": 1
           },
           {
            "bin_end": -6.6389,
            "bin_start": -7.0482,
            "count": 1
           },
           {
            "bin_end": -6.2296,
            "bin_start": -6.6389,
            "count": 0
           },
           {
            "bin_end": -5.8203,
            "bin_start": -6.2296,
            "count": 1
           },
           {
            "bin_end": -5.411,
            "bin_start": -5.8203,
            "count": 1
           }
          ],
          "max": "-5.411",
          "min": "-9.504",
          "nan_count": 2,
          "unique_count": 8
         }
        },
        {
         "dtype": "float64",
         "name": "mode",
         "stats": {
          "histogram": [
           {
            "bin_end": 0.1,
            "bin_start": 0,
            "count": 2
           },
           {
            "bin_end": 0.2,
            "bin_start": 0.1,
            "count": 0
           },
           {
            "bin_end": 0.30000000000000004,
            "bin_start": 0.2,
            "count": 0
           },
           {
            "bin_end": 0.4,
            "bin_start": 0.30000000000000004,
            "count": 0
           },
           {
            "bin_end": 0.5,
            "bin_start": 0.4,
            "count": 0
           },
           {
            "bin_end": 0.6000000000000001,
            "bin_start": 0.5,
            "count": 0
           },
           {
            "bin_end": 0.7000000000000001,
            "bin_start": 0.6000000000000001,
            "count": 0
           },
           {
            "bin_end": 0.8,
            "bin_start": 0.7000000000000001,
            "count": 0
           },
           {
            "bin_end": 0.9,
            "bin_start": 0.8,
            "count": 0
           },
           {
            "bin_end": 1,
            "bin_start": 0.9,
            "count": 6
           }
          ],
          "max": "1.0",
          "min": "0.0",
          "nan_count": 2,
          "unique_count": 2
         }
        },
        {
         "dtype": "float64",
         "name": "speechiness",
         "stats": {
          "histogram": [
           {
            "bin_end": 0.0853,
            "bin_start": 0.025,
            "count": 6
           },
           {
            "bin_end": 0.1456,
            "bin_start": 0.0853,
            "count": 0
           },
           {
            "bin_end": 0.2059,
            "bin_start": 0.1456,
            "count": 0
           },
           {
            "bin_end": 0.2662,
            "bin_start": 0.2059,
            "count": 0
           },
           {
            "bin_end": 0.3265,
            "bin_start": 0.2662,
            "count": 0
           },
           {
            "bin_end": 0.38680000000000003,
            "bin_start": 0.3265,
            "count": 1
           },
           {
            "bin_end": 0.4471,
            "bin_start": 0.38680000000000003,
            "count": 0
           },
           {
            "bin_end": 0.5074,
            "bin_start": 0.4471,
            "count": 0
           },
           {
            "bin_end": 0.5677,
            "bin_start": 0.5074,
            "count": 0
           },
           {
            "bin_end": 0.628,
            "bin_start": 0.5677,
            "count": 1
           }
          ],
          "max": "0.628",
          "min": "0.025",
          "nan_count": 2,
          "unique_count": 8
         }
        },
        {
         "dtype": "float64",
         "name": "acousticness",
         "stats": {
          "histogram": [
           {
            "bin_end": 0.05723,
            "bin_start": 0.0107,
            "count": 3
           },
           {
            "bin_end": 0.10376,
            "bin_start": 0.05723,
            "count": 0
           },
           {
            "bin_end": 0.15028999999999998,
            "bin_start": 0.10376,
            "count": 0
           },
           {
            "bin_end": 0.19682,
            "bin_start": 0.15028999999999998,
            "count": 0
           },
           {
            "bin_end": 0.24335,
            "bin_start": 0.19682,
            "count": 1
           },
           {
            "bin_end": 0.28987999999999997,
            "bin_start": 0.24335,
            "count": 0
           },
           {
            "bin_end": 0.33641,
            "bin_start": 0.28987999999999997,
            "count": 0
           },
           {
            "bin_end": 0.38294,
            "bin_start": 0.33641,
            "count": 1
           },
           {
            "bin_end": 0.42947,
            "bin_start": 0.38294,
            "count": 1
           },
           {
            "bin_end": 0.476,
            "bin_start": 0.42947,
            "count": 2
           }
          ],
          "max": "0.476",
          "min": "0.0107",
          "nan_count": 2,
          "unique_count": 8
         }
        },
        {
         "dtype": "float64",
         "name": "instrumentalness",
         "stats": {
          "histogram": [
           {
            "bin_end": 2.05e-06,
            "bin_start": 0,
            "count": 6
           },
           {
            "bin_end": 4.1e-06,
            "bin_start": 2.05e-06,
            "count": 0
           },
           {
            "bin_end": 6.1499999999999996e-06,
            "bin_start": 4.1e-06,
            "count": 1
           },
           {
            "bin_end": 8.2e-06,
            "bin_start": 6.1499999999999996e-06,
            "count": 0
           },
           {
            "bin_end": 1.0249999999999998e-05,
            "bin_start": 8.2e-06,
            "count": 0
           },
           {
            "bin_end": 1.2299999999999999e-05,
            "bin_start": 1.0249999999999998e-05,
            "count": 0
           },
           {
            "bin_end": 1.435e-05,
            "bin_start": 1.2299999999999999e-05,
            "count": 0
           },
           {
            "bin_end": 1.64e-05,
            "bin_start": 1.435e-05,
            "count": 0
           },
           {
            "bin_end": 1.8449999999999998e-05,
            "bin_start": 1.64e-05,
            "count": 0
           },
           {
            "bin_end": 2.05e-05,
            "bin_start": 1.8449999999999998e-05,
            "count": 1
           }
          ],
          "max": "2.05e-05",
          "min": "0.0",
          "nan_count": 2,
          "unique_count": 3
         }
        },
        {
         "dtype": "float64",
         "name": "liveness",
         "stats": {
          "histogram": [
           {
            "bin_end": 0.10602,
            "bin_start": 0.0768,
            "count": 3
           },
           {
            "bin_end": 0.13524,
            "bin_start": 0.10602,
            "count": 0
           },
           {
            "bin_end": 0.16446,
            "bin_start": 0.13524,
            "count": 0
           },
           {
            "bin_end": 0.19368000000000002,
            "bin_start": 0.16446,
            "count": 2
           },
           {
            "bin_end": 0.2229,
            "bin_start": 0.19368000000000002,
            "count": 0
           },
           {
            "bin_end": 0.25212,
            "bin_start": 0.2229,
            "count": 0
           },
           {
            "bin_end": 0.28134000000000003,
            "bin_start": 0.25212,
            "count": 0
           },
           {
            "bin_end": 0.31056,
            "bin_start": 0.28134000000000003,
            "count": 1
           },
           {
            "bin_end": 0.33978,
            "bin_start": 0.31056,
            "count": 0
           },
           {
            "bin_end": 0.369,
            "bin_start": 0.33978,
            "count": 2
           }
          ],
          "max": "0.369",
          "min": "0.0768",
          "nan_count": 2,
          "unique_count": 8
         }
        },
        {
         "dtype": "float64",
         "name": "valence",
         "stats": {
          "histogram": [
           {
            "bin_end": 0.4435,
            "bin_start": 0.401,
            "count": 2
           },
           {
            "bin_end": 0.486,
            "bin_start": 0.4435,
            "count": 1
           },
           {
            "bin_end": 0.5285,
            "bin_start": 0.486,
            "count": 0
           },
           {
            "bin_end": 0.571,
            "bin_start": 0.5285,
            "count": 0
           },
           {
            "bin_end": 0.6134999999999999,
            "bin_start": 0.571,
            "count": 1
           },
           {
            "bin_end": 0.656,
            "bin_start": 0.6134999999999999,
            "count": 1
           },
           {
            "bin_end": 0.6985,
            "bin_start": 0.656,
            "count": 0
           },
           {
            "bin_end": 0.741,
            "bin_start": 0.6985,
            "count": 0
           },
           {
            "bin_end": 0.7835,
            "bin_start": 0.741,
            "count": 0
           },
           {
            "bin_end": 0.826,
            "bin_start": 0.7835,
            "count": 3
           }
          ],
          "max": "0.826",
          "min": "0.401",
          "nan_count": 2,
          "unique_count": 8
         }
        },
        {
         "dtype": "float64",
         "name": "tempo",
         "stats": {
          "histogram": [
           {
            "bin_end": 98.26979999999999,
            "bin_start": 86.963,
            "count": 3
           },
           {
            "bin_end": 109.5766,
            "bin_start": 98.26979999999999,
            "count": 1
           },
           {
            "bin_end": 120.8834,
            "bin_start": 109.5766,
            "count": 2
           },
           {
            "bin_end": 132.1902,
            "bin_start": 120.8834,
            "count": 1
           },
           {
            "bin_end": 143.497,
            "bin_start": 132.1902,
            "count": 0
           },
           {
            "bin_end": 154.8038,
            "bin_start": 143.497,
            "count": 0
           },
           {
            "bin_end": 166.1106,
            "bin_start": 154.8038,
            "count": 0
           },
           {
            "bin_end": 177.4174,
            "bin_start": 166.1106,
            "count": 0
           },
           {
            "bin_end": 188.7242,
            "bin_start": 177.4174,
            "count": 0
           },
           {
            "bin_end": 200.031,
            "bin_start": 188.7242,
            "count": 1
           }
          ],
          "max": "200.031",
          "min": "86.963",
          "nan_count": 2,
          "unique_count": 8
         }
        },
        {
         "dtype": "int64",
         "name": "_deepnote_index_column"
        }
       ],
       "row_count": 10,
       "rows": [
        {
         "_deepnote_index_column": 8828,
         "acousticness": 0.435,
         "artist": "['Ideal']",
         "danceability": 0.702,
         "energy": 0.52,
         "instrumentalness": 0,
         "key": 10,
         "lang": "en",
         "lang_acc": 99,
         "liveness": 0.299,
         "loudness": -8.581,
         "lyrics": "\nHey, come in here for a minute\nSit down\nCome here, cause we gotta talk, Okay\nWell, you just stay here for a little bit tonight\nMan, I don't even know where to start\nYo, I want you try to understand somethin', okay?\nNow, just listen\n\nIn the beginning, you know I tried\nTo make it work for you and I\nSeems like I was always by myself\nLike you didn't ever, ever wanna help\nThe strain you put on me, you let me down\nCan you tell me why, after all I've done?\nFor you and us\nYou know I really hate to say it, but I gotta tell you som'\n\nI think I better leave (leave) you alone (alone)\nSo get your bags (yeah) and get the hell on (on)\nSee, because I don't want you no more\n(I don't want you no more)\nI think you better leave (leave) me alone (alone)\nSo get your bags (yeah), get the hell on (get gone)\nBecause love ain't here no more\nI don't know if it hurts\nTo hear me say all of these words\nBut then again, I guess by now\nI really don't care\n(See I've waited much too long)\nAlways thought that it could …",
         "mode": 1,
         "sp_id": "0CofintZCm8MhxiOMrauiT",
         "speechiness": 0.0725,
         "tempo": 120.005,
         "title": "Get Gone",
         "url": "https://genius.com/Ideal-usa-get-gone-lyrics",
         "valence": 0.467
        },
        {
         "_deepnote_index_column": 8829,
         "acousticness": 0.383,
         "artist": "['Mariah Carey', ' Jay-Z']",
         "danceability": 0.524,
         "energy": 0.816,
         "instrumentalness": 0,
         "key": 1,
         "lang": "en",
         "lang_acc": 99,
         "liveness": 0.349,
         "loudness": -5.872,
         "lyrics": "\nYeah\nWe're gonna do it like this\nAight\nLet's go\nJigga\n\nGimme your love\nUh\nGimme your love\nWhat?\nGimme your love\nMC\nGimme your love\nUh, jigga\nGimme your love\nGimme your love\nGimme your love\nGimme your love\nHey\nGimme your love\nGimme your love\nYou gotta bounce to this like this\nGimme your love\nGimme your love\nYou almost gotta watch and listen\nGimme your love\nUh-huh\nGimme your love\nWoo\nGimme your love\nX-Scape\nGimme your love\nBoy, your love's so good\nI don't wanna let go\nAnd although I should\nI can't leave you alone\n'Cause you're so disarming\nI'm caught up in the midst of you\nAnd I cannot resist at all\n\nBoy, if I do\nThe things you want me to\nUh-huh\nThe way I used to do\nWould you love me, baby\nUh-huh\nOr leave me feeling used?\nWould you go and break my heart?\n\nHeartbreaker, you got the best of me\nBut I just keep on coming back incessantly\nOh, why did you have to run your game on me?\nI should have known right from the start\nYou'd go and break my heart\nGimme your love\nGimme your love\nGimme yo…",
         "mode": 1,
         "sp_id": "0jsANwwkkHyyeNyuTFq2XO",
         "speechiness": 0.37,
         "tempo": 200.031,
         "title": "Heartbreaker",
         "url": "https://genius.com/Mariah-carey-heartbreaker-lyrics",
         "valence": 0.789
        },
        {
         "_deepnote_index_column": 8830,
         "acousticness": "nan",
         "artist": "['Marc Nelson']",
         "danceability": "nan",
         "energy": "nan",
         "instrumentalness": "nan",
         "key": "nan",
         "lang": "en",
         "lang_acc": 99,
         "liveness": "nan",
         "loudness": "nan",
         "lyrics": "Damn, what time is it\nAll snap, I gotta go to work\nHold up a minute\n\nAll I got is 15 minutes, and I wanna get up in it\nAin't got no time to talk, just come and break me off\nAin't got no time for love, just come and give me some\nAin't got no time to talk, just come and break me off\n\n7:45 on the dot, guess I'm late for work but I'm feeling kind of hot\nI see you downstairs pouring juice\nFlippin my eggs but I wanna flip you\n\nBecause your, standing right there in your negligée\nThinking should I hit it but damn I'm late (damn I'm late)\nMaybe a quickie would make my day (oh)\nIt'll make my day, it'll make my day oh oh\n\nAll I got is 15 minutes, and I wanna get up in it\nAin't got no time to talk, just come and break me off\nAin't got no time for love, just come and give me some\nAin't got no time to talk, just come and break me off\nAll I got is 15 minutes, and I wanna get up in it\nAin't got no time to talk, just come and break me off\nAin't got no time for love, just come and give me some\nAin't go…",
         "mode": "nan",
         "sp_id": "none",
         "speechiness": "nan",
         "tempo": "nan",
         "title": "15 Minutes",
         "url": "https://genius.com/Marc-nelson-15-minutes-lyrics",
         "valence": "nan"
        },
        {
         "_deepnote_index_column": 8831,
         "acousticness": 0.476,
         "artist": "['98 Degrees']",
         "danceability": 0.622,
         "energy": 0.541,
         "instrumentalness": 0,
         "key": 0,
         "lang": "en",
         "lang_acc": 99,
         "liveness": 0.0819,
         "loudness": -8.643,
         "lyrics": "The snow is falling the city is white\nYour eyes are shining like diamonds tonight\nAnd we're all alone there's no one home\nYour finally in my arms again\nThe night is silent, the moment is here\nI couldn't ask for more than having you near\nCause I love you girl, I always will\nAnd now I know the moment is right\nCause I've been waiting to give this gift tonight\nI'm down on my knees there's no better time\nIts something to last for as long as you live\nTonight I'm gonna give you, all my heart can give\nI thought I'd give you something shiny and new\nI tried to find something worthy of you\nBut I realized when I looked inside\nThere's somethings that money can't buy\nI feel the magic whenever your near\nI feel it even more this time of the year\n'Cause I love you girl, I always will\nAnd now I know the moment is right, the moment is right\nCause I've been waiting to give this gift tonight\nI'm down on my knees there's no better time\nIts something to last for as long as you live\nTonight I'm gonna give yo…",
         "mode": 1,
         "sp_id": "3ggPv9plkk3a5EfI4D9g2L",
         "speechiness": 0.0331,
         "tempo": 86.963,
         "title": "This Gift",
         "url": "https://genius.com/98-this-gift-lyrics",
         "valence": 0.401
        },
        {
         "_deepnote_index_column": 8832,
         "acousticness": 0.0107,
         "artist": "['Chico DeBarge']",
         "danceability": 0.85,
         "energy": 0.675,
         "instrumentalness": 0,
         "key": 10,
         "lang": "en",
         "lang_acc": 99,
         "liveness": 0.0914,
         "loudness": -7.915,
         "lyrics": "Gonna get it, get it, get it, get it\nBaby, baby\nBaby, baby, let's take our time\n'Cause if we gonna do it, might as well do it right\nLock the doors, turn off the phone\nShut the windows 'cause, girl, it's on\nAll alone but just me and you\nFour walls and a empty room\nSqueeze you tight and hold you close\nKiss you where you know you need it most\nI'm a really give you what you want\nWe can do whatever turns you on\nI'm a make your fantasies\nBecome reality for sure\nI'm a really give you what you want\nShow you how I flip it back to front\nTell me what you need from me\nAnd I will guarantee for sure\nAll we need is a place and time\nSet the pace and free our minds\nLet it go and let's explore\nEvery single thing that you wish for\nI only need a chance to make you feel\nThe closeness that we share is very real\nI'm a layback, let you choose\n'Cause what I'm giving you is just for you\nI'm a really give you what you want\nWe can do whatever turns you on\nI'm a make your fantasies\nBecome reality for sure\nI'm a r…",
         "mode": 0,
         "sp_id": "2ZDxfuXmTIRCdXChbtHpW9",
         "speechiness": 0.0442,
         "tempo": 131.996,
         "title": "Give You What You Want (Fa Sure)",
         "url": "https://genius.com/Chico-debarge-give-you-what-you-want-fa-sure-lyrics",
         "valence": 0.816
        },
        {
         "_deepnote_index_column": 8833,
         "acousticness": 0.37,
         "artist": "['Prince']",
         "danceability": 0.844,
         "energy": 0.457,
         "instrumentalness": 4.88e-06,
         "key": 8,
         "lang": "en",
         "lang_acc": 99,
         "liveness": 0.0768,
         "loudness": -6.859,
         "lyrics": "\nThe greatest romance that's ever been sold\n\nSo what do you know, you and me\nFinally face to face\nChecking each other up and down\nIn all of the obvious places\nWas there ever a reason for us to be apart?\nThe air that fills up this room says not hardly\n\nSo this is where you end\nAnd you and I begin\n(This is where you and I, you and I begin)\n\nThe greatest romance that's ever been sold\nThe greatest romance that's ever been sold\n\nBaby baby, now your mind is open\nTo poetry seldom heard\nYour heart has never been broken\nUntil you have heard these words\nYour body was designed to respond to mine\nIn spite of your desire to mold me\nAnd in the middle of it all\nWe kiss and like rain (like rain) we fall into\n\nThe greatest romance that's ever been sold\nBaby, baby baby\nThe greatest romance that's ever been sold\n\nOh, I know you can feel me, I know that you can dance\nBut what do you know about the greatest romance?\nNot what you think, but what you believe\nWhat was the real reason that Adam never left Eve…",
         "mode": 1,
         "sp_id": "3A8pzjcWgAHry1Ix19z7ip",
         "speechiness": 0.0422,
         "tempo": 90.022,
         "title": "The Greatest Romance Ever Sold",
         "url": "https://genius.com/Prince-the-greatest-romance-ever-sold-lyrics",
         "valence": 0.594
        },
        {
         "_deepnote_index_column": 8834,
         "acousticness": "nan",
         "artist": "['Christina Aguilera']",
         "danceability": "nan",
         "energy": "nan",
         "instrumentalness": "nan",
         "key": "nan",
         "lang": "en",
         "lang_acc": 99,
         "liveness": "nan",
         "loudness": "nan",
         "lyrics": "Chestnuts roasting on an open fire\nJack Frost nipping at your nose\nYuletide carols being sung by a choir\nAnd folks dressed up like Eskimos\nEverybody knows a turkey and some mistletoe\nHelp to make the season bright\nTiny tots with their eyes all aglow\nWill find it hard to sleep tonight\nThey know that Santa's on his way\nHe's loaded lots of toys and goodies on his sleigh\nAnd every mother's child is going to spy\nTo see if reindeer really know how to fly\nAnd so I'm offering this simple phrase\nTo kids from one to ninety-two\nAlthough its been said many times, many ways\nMerry Christmas to you\nThey know that Santa's on his way (he's on his way)\nHe's loaded lots of toys and goodies on his sleigh\nAnd every mother's child is going to spy\nTo see if reindeer really know how to fly\nAnd so I'm offering this simple phrase\nTo kids from one to ninety-two\nAlthough its been said many times, many ways\nMerry Christmas to youEmbed",
         "mode": "nan",
         "sp_id": "none",
         "speechiness": "nan",
         "tempo": "nan",
         "title": "The Christmas Song (Chestnuts Roasting On An Open Fire)",
         "url": "https://genius.com/Christina-aguilera-christmas-song-chestnuts-roasting-on-an-open-fire-lyrics",
         "valence": "nan"
        },
        {
         "_deepnote_index_column": 8835,
         "acousticness": 0.0151,
         "artist": "['SHeDAISY']",
         "danceability": 0.568,
         "energy": 0.828,
         "instrumentalness": 2.05e-05,
         "key": 1,
         "lang": "en",
         "lang_acc": 99,
         "liveness": 0.167,
         "loudness": -7.123,
         "lyrics": "(arranged by SHeDAISY and Phil Symonds)\nDeck the halls\n( Deck the halls )\nWith boughs of holly\n( With boughs of holly )\nFa la la la la\nTis the season\n( We wish you a merry Christmas)\nTis the season\n( We wish you a merry Christmas )\nDeck the halls with boughs of holly\nFa la la la la la la\nTis the season to be jolly\nFa la la la la la la\nDon we now our gay apparal\nFa la la la la la la\nTroll the ancient yuletide carol\nFa la la la la la la la\nEverybody sing the yuletide carol\nFa la la la la la la\nFa la la la la la la\nVery merry Christmas\nA very merry Christmas\nSee the blazing yule before us\nFa la la la la la la\nStrike the haro and join the chorus\nFa la la la la la la la\nFollow us in merry measure\nFa la la la la la la la\nWhile a tale of yuletide treasure\nFa la la la la la la la\nLa la la la la la la\nLa la la la la la la la\nDeck the halls\nWith boughs of holly\n( We wish you a merry Christmas )Embed",
         "mode": 0,
         "sp_id": "3MAQlKrBxFN5QXR7SqxYQh",
         "speechiness": 0.0403,
         "tempo": 118.836,
         "title": "Deck The Halls",
         "url": "https://genius.com/Shedaisy-deck-the-halls-lyrics",
         "valence": 0.407
        },
        {
         "_deepnote_index_column": 8836,
         "acousticness": 0.019,
         "artist": "['Martina McBride']",
         "danceability": 0.708,
         "energy": 0.597,
         "instrumentalness": 0,
         "key": 0,
         "lang": "en",
         "lang_acc": 99,
         "liveness": 0.177,
         "loudness": -5.411,
         "lyrics": "\nYeah\n\nThe sun is shining everyday\nThe clouds never get in the way for you and me\nI've known you just a week or two\nBut baby I'm so into you\nCan hardly breathe\n\nAnd I'm in so totally wrapped up\nEmotionally attracted\nSo physically acting\nSo recklessly I need you\nSo desperately sure as the sky is blue\nBaby, I love you\nI love you\n\nI never knew that I could feel like this\nCan hardly wait till our next kiss\nYou're so cool\nIf I'm dreaming, please don't wake me up\nBecause baby I can't get enough\nOf what you do\nAnd I'm in so electrically charged up\nKinetically acting\nErratically need you\nFanatically you get to me\nMagically sure as the sky is blue\nBaby, I love you\n\nI, I can't believe that this is real\nThe way I feel\nBaby, I'm gone head over heels\n(Head over heels)\n\nAnd I'm in so totally wrapped up\nEmotionally attracted\nSo physically acting\nSo recklessly I need you\nSo desperately sure as the sky is blue\nYeah\n\nAnd I'm in so electrically charged up\nKinetically acting\nErratically need you\nFanatica…",
         "mode": 1,
         "sp_id": "6hvREHiu0i7PJv7XUHeo5w",
         "speechiness": 0.025,
         "tempo": 106.706,
         "title": "I Love You",
         "url": "https://genius.com/Martina-mcbride-i-love-you-lyrics",
         "valence": 0.629
        },
        {
         "_deepnote_index_column": 8837,
         "acousticness": 0.219,
         "artist": "['\"DAngelo\"', ' Method Man And Redman']",
         "danceability": 0.842,
         "energy": 0.404,
         "instrumentalness": 0,
         "key": 1,
         "lang": "en",
         "lang_acc": 99,
         "liveness": 0.369,
         "loudness": -9.504,
         "lyrics": "\nYo, yo, yo (Yeah, yeah)\nYo, yo\n\nMy flow's remarkable\nDoc walk like Caine from Kung Fu 'round the globe\nThrow obstacles, I'll hurdle them\nHerb and whack MC's\nDrum racks to the rims, to the caps\nYo Methical, and D, I'm ASAP (Come on now)\nI'm crack of dawn chicken huntin' at KFC (Woo)\nIn '83 I was that scrub TLC talked about\nNow I rock the house, chalk 'em out\n\nYeah, no doubt\nWho got the biggest ass in the house? (Yeah)\nYoung miss, fillet-of-fish, saltwater trout\nPretty young thing, got a tongue ring and dirty mouth\nAnd she whisperin' them sweet nothings, I air it out (Air it out)\nBaby, you got me like Joanie had Chachi\nUntil she got high and went and fucked Potsie (Yeah)\nLady Godiva, from day one a dick rider\nLiar, liar, set your pussy on fire\nI see you dancin' right now\nI don't need to tell you that you know how\nBaby, you do, oh\nI say you belong\nAnd if you dream to be free\nI can take you there, just follow me\nBaby, I won't, huh\nI won't steer you wrong\n\nAnd it seems like to me\nYou want…",
         "mode": 1,
         "sp_id": "4EQ0dK6Sg7v685NGrQvuki",
         "speechiness": 0.628,
         "tempo": 91.963,
         "title": "Left & Right",
         "url": "https://genius.com/Dangelo-left-and-right-lyrics",
         "valence": 0.826
        }
       ]
      },
      "text/html": [
       "<div>\n",
       "<style scoped>\n",
       "    .dataframe tbody tr th:only-of-type {\n",
       "        vertical-align: middle;\n",
       "    }\n",
       "\n",
       "    .dataframe tbody tr th {\n",
       "        vertical-align: top;\n",
       "    }\n",
       "\n",
       "    .dataframe thead th {\n",
       "        text-align: right;\n",
       "    }\n",
       "</style>\n",
       "<table border=\"1\" class=\"dataframe\">\n",
       "  <thead>\n",
       "    <tr style=\"text-align: right;\">\n",
       "      <th></th>\n",
       "      <th>title</th>\n",
       "      <th>artist</th>\n",
       "      <th>url</th>\n",
       "      <th>lyrics</th>\n",
       "      <th>lang</th>\n",
       "      <th>lang_acc</th>\n",
       "      <th>sp_id</th>\n",
       "      <th>danceability</th>\n",
       "      <th>energy</th>\n",
       "      <th>key</th>\n",
       "      <th>loudness</th>\n",
       "      <th>mode</th>\n",
       "      <th>speechiness</th>\n",
       "      <th>acousticness</th>\n",
       "      <th>instrumentalness</th>\n",
       "      <th>liveness</th>\n",
       "      <th>valence</th>\n",
       "      <th>tempo</th>\n",
       "    </tr>\n",
       "  </thead>\n",
       "  <tbody>\n",
       "    <tr>\n",
       "      <th>8828</th>\n",
       "      <td>Get Gone</td>\n",
       "      <td>[Ideal]</td>\n",
       "      <td>https://genius.com/Ideal-usa-get-gone-lyrics</td>\n",
       "      <td>\\nHey, come in here for a minute\\nSit down\\nCo...</td>\n",
       "      <td>en</td>\n",
       "      <td>99</td>\n",
       "      <td>0CofintZCm8MhxiOMrauiT</td>\n",
       "      <td>0.702</td>\n",
       "      <td>0.520</td>\n",
       "      <td>10.0</td>\n",
       "      <td>-8.581</td>\n",
       "      <td>1.0</td>\n",
       "      <td>0.0725</td>\n",
       "      <td>0.4350</td>\n",
       "      <td>0.000000</td>\n",
       "      <td>0.2990</td>\n",
       "      <td>0.467</td>\n",
       "      <td>120.005</td>\n",
       "    </tr>\n",
       "    <tr>\n",
       "      <th>8829</th>\n",
       "      <td>Heartbreaker</td>\n",
       "      <td>[Mariah Carey,  Jay-Z]</td>\n",
       "      <td>https://genius.com/Mariah-carey-heartbreaker-l...</td>\n",
       "      <td>\\nYeah\\nWe're gonna do it like this\\nAight\\nLe...</td>\n",
       "      <td>en</td>\n",
       "      <td>99</td>\n",
       "      <td>0jsANwwkkHyyeNyuTFq2XO</td>\n",
       "      <td>0.524</td>\n",
       "      <td>0.816</td>\n",
       "      <td>1.0</td>\n",
       "      <td>-5.872</td>\n",
       "      <td>1.0</td>\n",
       "      <td>0.3700</td>\n",
       "      <td>0.3830</td>\n",
       "      <td>0.000000</td>\n",
       "      <td>0.3490</td>\n",
       "      <td>0.789</td>\n",
       "      <td>200.031</td>\n",
       "    </tr>\n",
       "    <tr>\n",
       "      <th>8830</th>\n",
       "      <td>15 Minutes</td>\n",
       "      <td>[Marc Nelson]</td>\n",
       "      <td>https://genius.com/Marc-nelson-15-minutes-lyrics</td>\n",
       "      <td>Damn, what time is it\\nAll snap, I gotta go to...</td>\n",
       "      <td>en</td>\n",
       "      <td>99</td>\n",
       "      <td>none</td>\n",
       "      <td>NaN</td>\n",
       "      <td>NaN</td>\n",
       "      <td>NaN</td>\n",
       "      <td>NaN</td>\n",
       "      <td>NaN</td>\n",
       "      <td>NaN</td>\n",
       "      <td>NaN</td>\n",
       "      <td>NaN</td>\n",
       "      <td>NaN</td>\n",
       "      <td>NaN</td>\n",
       "      <td>NaN</td>\n",
       "    </tr>\n",
       "    <tr>\n",
       "      <th>8831</th>\n",
       "      <td>This Gift</td>\n",
       "      <td>[98 Degrees]</td>\n",
       "      <td>https://genius.com/98-this-gift-lyrics</td>\n",
       "      <td>The snow is falling the city is white\\nYour ey...</td>\n",
       "      <td>en</td>\n",
       "      <td>99</td>\n",
       "      <td>3ggPv9plkk3a5EfI4D9g2L</td>\n",
       "      <td>0.622</td>\n",
       "      <td>0.541</td>\n",
       "      <td>0.0</td>\n",
       "      <td>-8.643</td>\n",
       "      <td>1.0</td>\n",
       "      <td>0.0331</td>\n",
       "      <td>0.4760</td>\n",
       "      <td>0.000000</td>\n",
       "      <td>0.0819</td>\n",
       "      <td>0.401</td>\n",
       "      <td>86.963</td>\n",
       "    </tr>\n",
       "    <tr>\n",
       "      <th>8832</th>\n",
       "      <td>Give You What You Want (Fa Sure)</td>\n",
       "      <td>[Chico DeBarge]</td>\n",
       "      <td>https://genius.com/Chico-debarge-give-you-what...</td>\n",
       "      <td>Gonna get it, get it, get it, get it\\nBaby, ba...</td>\n",
       "      <td>en</td>\n",
       "      <td>99</td>\n",
       "      <td>2ZDxfuXmTIRCdXChbtHpW9</td>\n",
       "      <td>0.850</td>\n",
       "      <td>0.675</td>\n",
       "      <td>10.0</td>\n",
       "      <td>-7.915</td>\n",
       "      <td>0.0</td>\n",
       "      <td>0.0442</td>\n",
       "      <td>0.0107</td>\n",
       "      <td>0.000000</td>\n",
       "      <td>0.0914</td>\n",
       "      <td>0.816</td>\n",
       "      <td>131.996</td>\n",
       "    </tr>\n",
       "    <tr>\n",
       "      <th>8833</th>\n",
       "      <td>The Greatest Romance Ever Sold</td>\n",
       "      <td>[Prince]</td>\n",
       "      <td>https://genius.com/Prince-the-greatest-romance...</td>\n",
       "      <td>\\nThe greatest romance that's ever been sold\\n...</td>\n",
       "      <td>en</td>\n",
       "      <td>99</td>\n",
       "      <td>3A8pzjcWgAHry1Ix19z7ip</td>\n",
       "      <td>0.844</td>\n",
       "      <td>0.457</td>\n",
       "      <td>8.0</td>\n",
       "      <td>-6.859</td>\n",
       "      <td>1.0</td>\n",
       "      <td>0.0422</td>\n",
       "      <td>0.3700</td>\n",
       "      <td>0.000005</td>\n",
       "      <td>0.0768</td>\n",
       "      <td>0.594</td>\n",
       "      <td>90.022</td>\n",
       "    </tr>\n",
       "    <tr>\n",
       "      <th>8834</th>\n",
       "      <td>The Christmas Song (Chestnuts Roasting On An O...</td>\n",
       "      <td>[Christina Aguilera]</td>\n",
       "      <td>https://genius.com/Christina-aguilera-christma...</td>\n",
       "      <td>Chestnuts roasting on an open fire\\nJack Frost...</td>\n",
       "      <td>en</td>\n",
       "      <td>99</td>\n",
       "      <td>none</td>\n",
       "      <td>NaN</td>\n",
       "      <td>NaN</td>\n",
       "      <td>NaN</td>\n",
       "      <td>NaN</td>\n",
       "      <td>NaN</td>\n",
       "      <td>NaN</td>\n",
       "      <td>NaN</td>\n",
       "      <td>NaN</td>\n",
       "      <td>NaN</td>\n",
       "      <td>NaN</td>\n",
       "      <td>NaN</td>\n",
       "    </tr>\n",
       "    <tr>\n",
       "      <th>8835</th>\n",
       "      <td>Deck The Halls</td>\n",
       "      <td>[SHeDAISY]</td>\n",
       "      <td>https://genius.com/Shedaisy-deck-the-halls-lyrics</td>\n",
       "      <td>(arranged by SHeDAISY and Phil Symonds)\\nDeck ...</td>\n",
       "      <td>en</td>\n",
       "      <td>99</td>\n",
       "      <td>3MAQlKrBxFN5QXR7SqxYQh</td>\n",
       "      <td>0.568</td>\n",
       "      <td>0.828</td>\n",
       "      <td>1.0</td>\n",
       "      <td>-7.123</td>\n",
       "      <td>0.0</td>\n",
       "      <td>0.0403</td>\n",
       "      <td>0.0151</td>\n",
       "      <td>0.000021</td>\n",
       "      <td>0.1670</td>\n",
       "      <td>0.407</td>\n",
       "      <td>118.836</td>\n",
       "    </tr>\n",
       "    <tr>\n",
       "      <th>8836</th>\n",
       "      <td>I Love You</td>\n",
       "      <td>[Martina McBride]</td>\n",
       "      <td>https://genius.com/Martina-mcbride-i-love-you-...</td>\n",
       "      <td>\\nYeah\\n\\nThe sun is shining everyday\\nThe clo...</td>\n",
       "      <td>en</td>\n",
       "      <td>99</td>\n",
       "      <td>6hvREHiu0i7PJv7XUHeo5w</td>\n",
       "      <td>0.708</td>\n",
       "      <td>0.597</td>\n",
       "      <td>0.0</td>\n",
       "      <td>-5.411</td>\n",
       "      <td>1.0</td>\n",
       "      <td>0.0250</td>\n",
       "      <td>0.0190</td>\n",
       "      <td>0.000000</td>\n",
       "      <td>0.1770</td>\n",
       "      <td>0.629</td>\n",
       "      <td>106.706</td>\n",
       "    </tr>\n",
       "    <tr>\n",
       "      <th>8837</th>\n",
       "      <td>Left &amp; Right</td>\n",
       "      <td>[\"DAngelo\",  Method Man And Redman]</td>\n",
       "      <td>https://genius.com/Dangelo-left-and-right-lyrics</td>\n",
       "      <td>\\nYo, yo, yo (Yeah, yeah)\\nYo, yo\\n\\nMy flow's...</td>\n",
       "      <td>en</td>\n",
       "      <td>99</td>\n",
       "      <td>4EQ0dK6Sg7v685NGrQvuki</td>\n",
       "      <td>0.842</td>\n",
       "      <td>0.404</td>\n",
       "      <td>1.0</td>\n",
       "      <td>-9.504</td>\n",
       "      <td>1.0</td>\n",
       "      <td>0.6280</td>\n",
       "      <td>0.2190</td>\n",
       "      <td>0.000000</td>\n",
       "      <td>0.3690</td>\n",
       "      <td>0.826</td>\n",
       "      <td>91.963</td>\n",
       "    </tr>\n",
       "  </tbody>\n",
       "</table>\n",
       "</div>"
      ],
      "text/plain": [
       "                                                  title  \\\n",
       "8828                                           Get Gone   \n",
       "8829                                       Heartbreaker   \n",
       "8830                                         15 Minutes   \n",
       "8831                                          This Gift   \n",
       "8832                   Give You What You Want (Fa Sure)   \n",
       "8833                     The Greatest Romance Ever Sold   \n",
       "8834  The Christmas Song (Chestnuts Roasting On An O...   \n",
       "8835                                     Deck The Halls   \n",
       "8836                                         I Love You   \n",
       "8837                                       Left & Right   \n",
       "\n",
       "                                   artist  \\\n",
       "8828                              [Ideal]   \n",
       "8829               [Mariah Carey,  Jay-Z]   \n",
       "8830                        [Marc Nelson]   \n",
       "8831                         [98 Degrees]   \n",
       "8832                      [Chico DeBarge]   \n",
       "8833                             [Prince]   \n",
       "8834                 [Christina Aguilera]   \n",
       "8835                           [SHeDAISY]   \n",
       "8836                    [Martina McBride]   \n",
       "8837  [\"DAngelo\",  Method Man And Redman]   \n",
       "\n",
       "                                                    url  \\\n",
       "8828       https://genius.com/Ideal-usa-get-gone-lyrics   \n",
       "8829  https://genius.com/Mariah-carey-heartbreaker-l...   \n",
       "8830   https://genius.com/Marc-nelson-15-minutes-lyrics   \n",
       "8831             https://genius.com/98-this-gift-lyrics   \n",
       "8832  https://genius.com/Chico-debarge-give-you-what...   \n",
       "8833  https://genius.com/Prince-the-greatest-romance...   \n",
       "8834  https://genius.com/Christina-aguilera-christma...   \n",
       "8835  https://genius.com/Shedaisy-deck-the-halls-lyrics   \n",
       "8836  https://genius.com/Martina-mcbride-i-love-you-...   \n",
       "8837   https://genius.com/Dangelo-left-and-right-lyrics   \n",
       "\n",
       "                                                 lyrics lang  lang_acc  \\\n",
       "8828  \\nHey, come in here for a minute\\nSit down\\nCo...   en        99   \n",
       "8829  \\nYeah\\nWe're gonna do it like this\\nAight\\nLe...   en        99   \n",
       "8830  Damn, what time is it\\nAll snap, I gotta go to...   en        99   \n",
       "8831  The snow is falling the city is white\\nYour ey...   en        99   \n",
       "8832  Gonna get it, get it, get it, get it\\nBaby, ba...   en        99   \n",
       "8833  \\nThe greatest romance that's ever been sold\\n...   en        99   \n",
       "8834  Chestnuts roasting on an open fire\\nJack Frost...   en        99   \n",
       "8835  (arranged by SHeDAISY and Phil Symonds)\\nDeck ...   en        99   \n",
       "8836  \\nYeah\\n\\nThe sun is shining everyday\\nThe clo...   en        99   \n",
       "8837  \\nYo, yo, yo (Yeah, yeah)\\nYo, yo\\n\\nMy flow's...   en        99   \n",
       "\n",
       "                       sp_id  danceability  energy   key  loudness  mode  \\\n",
       "8828  0CofintZCm8MhxiOMrauiT         0.702   0.520  10.0    -8.581   1.0   \n",
       "8829  0jsANwwkkHyyeNyuTFq2XO         0.524   0.816   1.0    -5.872   1.0   \n",
       "8830                    none           NaN     NaN   NaN       NaN   NaN   \n",
       "8831  3ggPv9plkk3a5EfI4D9g2L         0.622   0.541   0.0    -8.643   1.0   \n",
       "8832  2ZDxfuXmTIRCdXChbtHpW9         0.850   0.675  10.0    -7.915   0.0   \n",
       "8833  3A8pzjcWgAHry1Ix19z7ip         0.844   0.457   8.0    -6.859   1.0   \n",
       "8834                    none           NaN     NaN   NaN       NaN   NaN   \n",
       "8835  3MAQlKrBxFN5QXR7SqxYQh         0.568   0.828   1.0    -7.123   0.0   \n",
       "8836  6hvREHiu0i7PJv7XUHeo5w         0.708   0.597   0.0    -5.411   1.0   \n",
       "8837  4EQ0dK6Sg7v685NGrQvuki         0.842   0.404   1.0    -9.504   1.0   \n",
       "\n",
       "      speechiness  acousticness  instrumentalness  liveness  valence    tempo  \n",
       "8828       0.0725        0.4350          0.000000    0.2990    0.467  120.005  \n",
       "8829       0.3700        0.3830          0.000000    0.3490    0.789  200.031  \n",
       "8830          NaN           NaN               NaN       NaN      NaN      NaN  \n",
       "8831       0.0331        0.4760          0.000000    0.0819    0.401   86.963  \n",
       "8832       0.0442        0.0107          0.000000    0.0914    0.816  131.996  \n",
       "8833       0.0422        0.3700          0.000005    0.0768    0.594   90.022  \n",
       "8834          NaN           NaN               NaN       NaN      NaN      NaN  \n",
       "8835       0.0403        0.0151          0.000021    0.1670    0.407  118.836  \n",
       "8836       0.0250        0.0190          0.000000    0.1770    0.629  106.706  \n",
       "8837       0.6280        0.2190          0.000000    0.3690    0.826   91.963  "
      ]
     },
     "execution_count": 24,
     "metadata": {},
     "output_type": "execute_result"
    }
   ],
   "source": [
    "# merge with songs by id\n",
    "merged = pd.merge(songs, audio, left_on = \"sp_id\", right_on = \"id\", how = \"left\")\n",
    "\n",
    "# drop second column id\n",
    "merged = merged.drop([\"id\"], axis = 1)\n",
    "\n",
    "merged.tail(10)"
   ]
  },
  {
   "cell_type": "code",
   "execution_count": null,
   "metadata": {
    "cell_id": "2713dd17-eb1a-4446-b3a1-3bd859b94f1c",
    "deepnote_cell_height": 118.1875,
    "deepnote_cell_type": "code",
    "deepnote_output_heights": [
     21.1875
    ],
    "deepnote_to_be_reexecuted": false,
    "execution_millis": 26,
    "execution_start": 1656413537801,
    "id": "PVd_lJjIO5Gs",
    "outputId": "1443bcea-1300-4492-cd13-651b7f57597f",
    "source_hash": "e4391f14",
    "tags": []
   },
   "outputs": [
    {
     "data": {
      "text/plain": [
       "8838"
      ]
     },
     "execution_count": 25,
     "metadata": {},
     "output_type": "execute_result"
    }
   ],
   "source": [
    "len(merged)"
   ]
  },
  {
   "cell_type": "code",
   "execution_count": null,
   "metadata": {
    "cell_id": "fb16f227-da54-42b2-8b93-27709559b3a4",
    "deepnote_cell_height": 154.1875,
    "deepnote_cell_type": "code",
    "deepnote_output_heights": [
     21.1875
    ],
    "deepnote_to_be_reexecuted": false,
    "execution_millis": 16,
    "execution_start": 1656413555493,
    "id": "vqwbvWOcO5Gs",
    "outputId": "38227db6-e132-4676-a02b-3d6ec96f0ff0",
    "source_hash": "e75b7879",
    "tags": []
   },
   "outputs": [
    {
     "data": {
      "text/plain": [
       "8752"
      ]
     },
     "execution_count": 27,
     "metadata": {},
     "output_type": "execute_result"
    }
   ],
   "source": [
    "# drop duplicates but keep entries with \"none\" -> they don't have audio features but lyrics can still be used\n",
    "merged = merged[(~merged[\"sp_id\"].duplicated()) | (merged[\"sp_id\"] == \"none\")]\n",
    "len(merged)"
   ]
  },
  {
   "cell_type": "code",
   "execution_count": null,
   "metadata": {},
   "outputs": [],
   "source": [
    "# safe as csv\n",
    "merged.to_csv(\"./data/songs_features.csv\", index = False)"
   ]
  },
  {
   "cell_type": "markdown",
   "metadata": {
    "cell_id": "0265e6e6-ea83-439b-8f9d-c9e505c374c2",
    "deepnote_cell_type": "text-cell-h2",
    "formattedRanges": [],
    "id": "AEU5ZKH-O5Gt",
    "is_collapsed": false,
    "tags": []
   },
   "source": [
    "## 3. Add genre"
   ]
  },
  {
   "cell_type": "markdown",
   "metadata": {
    "cell_id": "4d28d25b-0510-414e-a818-63de49c9e15a",
    "deepnote_cell_height": 111.1875,
    "deepnote_cell_type": "markdown",
    "id": "hCGuXMZGO5Gt",
    "tags": []
   },
   "source": [
    "Add the Spotify ID of the primary artist of the song, which is used to determine the genre of the song.\n",
    "\n",
    "**Note:** The genre of the ***song*** *cannot* be determined with the Spotify API as the genre is only available on artist level. Therefore the genres (list of genres) that the primary artist of the song is related to are taken instead."
   ]
  },
  {
   "cell_type": "code",
   "execution_count": null,
   "metadata": {
    "cell_id": "fbf7e724-a1a1-46a1-804f-4fb6837fbfdb",
    "deepnote_cell_height": 327.1875,
    "deepnote_cell_type": "code",
    "deepnote_table_loading": false,
    "deepnote_table_state": {
     "filters": [],
     "pageIndex": 10,
     "pageSize": 10,
     "sortBy": []
    },
    "deepnote_to_be_reexecuted": false,
    "execution_millis": 2212948,
    "execution_start": 1656423411143,
    "id": "2Q3wt_fEO5Gt",
    "outputId": "8b4eee21-c66e-4830-a67a-e6c58ca0b1db",
    "owner_user_id": "0521d975-2628-4a52-9df2-cf8d9db8da1f",
    "source_hash": "4ea205b8",
    "tags": []
   },
   "outputs": [
    {
     "name": "stdout",
     "output_type": "stream",
     "text": [
      "number of songs processed: (in 500 steps)\n",
      "0\n"
     ]
    },
    {
     "ename": "KernelInterrupted",
     "evalue": "Execution interrupted by the Jupyter kernel.",
     "output_type": "error",
     "traceback": [
      "\u001b[0;31m---------------------------------------------------------------------------\u001b[0m",
      "\u001b[0;31mKernelInterrupted\u001b[0m: Execution interrupted by the Jupyter kernel."
     ]
    }
   ],
   "source": [
    "genres = lg.create_artists_genres(merged)\n",
    "\n",
    "genres.tail(10)"
   ]
  },
  {
   "cell_type": "code",
   "execution_count": null,
   "metadata": {
    "cell_id": "abd2ef81-33c2-4cb1-9916-a4138cf3ab23",
    "deepnote_cell_height": 99,
    "deepnote_cell_type": "code",
    "deepnote_to_be_reexecuted": true,
    "execution_millis": 6,
    "execution_start": 1647431866843,
    "id": "gmoSzy3MO5Gt",
    "source_hash": "fe9e4291",
    "tags": []
   },
   "outputs": [],
   "source": [
    "# drop duplicates but keep entries with \"none\" -> they don't have audio features but lyrics can still be used\n",
    "genres = genres[(~genres[\"sp_id\"].duplicated()) | (genres[\"sp_id\"] == \"none\")]"
   ]
  },
  {
   "cell_type": "code",
   "execution_count": null,
   "metadata": {
    "cell_id": "4ed82463-a2a7-4582-841e-5fcab299d194",
    "deepnote_cell_height": 118.1875,
    "deepnote_cell_type": "code",
    "deepnote_output_heights": [
     21.1875
    ],
    "deepnote_to_be_reexecuted": true,
    "execution_millis": 4,
    "execution_start": 1647431873091,
    "id": "AmXtGrVkO5Gu",
    "outputId": "e422122f-0eeb-4c5b-fed4-7c3817a8f25d",
    "source_hash": "39c354db",
    "tags": []
   },
   "outputs": [
    {
     "data": {
      "text/plain": [
       "8708"
      ]
     },
     "execution_count": 21,
     "metadata": {},
     "output_type": "execute_result"
    }
   ],
   "source": [
    "len(genres)"
   ]
  },
  {
   "cell_type": "code",
   "execution_count": null,
   "metadata": {
    "cell_id": "9f7fb4a5-0a46-4fee-ab09-162fc5755f39",
    "deepnote_cell_height": 99,
    "deepnote_cell_type": "code",
    "deepnote_to_be_reexecuted": true,
    "execution_millis": 784,
    "execution_start": 1647431892198,
    "id": "_-mmqkgMO5Gu",
    "source_hash": "5758fd51",
    "tags": []
   },
   "outputs": [],
   "source": [
    "# safe as csv\n",
    "genres.to_csv(\"./data/songs_features_genres.csv\", index = False)"
   ]
  },
  {
   "cell_type": "code",
   "execution_count": null,
   "metadata": {
    "cell_id": "1935b803-2d7b-4e19-a033-5eff0b0d7bfc",
    "deepnote_cell_height": 614.390625,
    "deepnote_cell_type": "code",
    "deepnote_to_be_reexecuted": true,
    "execution_millis": 102,
    "execution_start": 1647431915978,
    "id": "hw9MRkXVO5Gu",
    "outputId": "1fcd7948-d98d-4e33-e85e-237c0eb5a189",
    "source_hash": "b20ca671",
    "tags": []
   },
   "outputs": [
    {
     "data": {
      "application/vnd.deepnote.dataframe.v3+json": {
       "column_count": 19,
       "columns": [
        {
         "dtype": "object",
         "name": "title",
         "stats": {
          "categories": [
           {
            "count": 1,
            "name": "Music Of My Heart"
           },
           {
            "count": 1,
            "name": "Will 2K"
           },
           {
            "count": 8,
            "name": "8 others"
           }
          ],
          "nan_count": 0,
          "unique_count": 10
         }
        },
        {
         "dtype": "object",
         "name": "artist",
         "stats": {
          "categories": [
           {
            "count": 1,
            "name": "['\"N Sync\"', ' Gloria Estefan']"
           },
           {
            "count": 1,
            "name": "['Will Smith', ' K-Ci']"
           },
           {
            "count": 8,
            "name": "8 others"
           }
          ],
          "nan_count": 0,
          "unique_count": 10
         }
        },
        {
         "dtype": "object",
         "name": "url",
         "stats": {
          "categories": [
           {
            "count": 1,
            "name": "https://genius.com/Gloria-estefan-and-nsync-music-of-my-heart-lyrics"
           },
           {
            "count": 1,
            "name": "https://genius.com/Will-smith-will-2k-lyrics"
           },
           {
            "count": 8,
            "name": "8 others"
           }
          ],
          "nan_count": 0,
          "unique_count": 10
         }
        },
        {
         "dtype": "object",
         "name": "lyrics",
         "stats": {
          "categories": [
           {
            "count": 1,
            "name": "\nYou'll never know what you've done for me\nWhat your faith in me has done for my soul\nYou'll never know the gift you've given me\nI'll carry it with me yeah, yeah\nThrough the days ahead\nI think of days before\nYou made me hope for something better\n(Yes, you did)\nAnd made me reach for something more\n\nYou taught me to run\nYou taught me to fly\nHelped me to free the me inside\nHelp me hear the music of my heart\nHelp me hear the music of my heart\nYou've opened my eyes\nYou've opened the door\nTo something I've never known before\nAnd your love (love)\nIs the music of my heart\n(Music of my heart)\n\nYou were the one always on my side\n(Always on my side)\nAlways standing by (always standing by)\nSeeing me through\nYou were the song that always made me sing\n(Made me sing, made me sing)\nI'm singing this for you\n(Singing this for you, baby)\nEverywhere I go, I think of where I've been\n(Think of where I've been)\nAnd of the one who knew me better\nThan anyone ever will again\nYou taught me to run\nYou taught me to fly\nHelped me to free the me inside\nHelp me hear the music of my heart\nHelp me hear the music of my heart\nHe-he-heart\nYou've opened my eyes\nYou've opened the door\n(You opened the door)\nTo something I've never known before\nAnd your love (your love)\nIs the music of my heart\n\nWhat you taught me\nOnly your love could ever teach me\nYou got through when no one could reach me\n(Ohh, ohh, ohh)\nCause you always saw in me\nAll the best that I could be\nIt was you who set me free\n\nYou taught me to run\nYou taught me to fly\nHelped me to free the me inside (me inside)\nHelp me hear the music of my heart\nHelp me hear the music of my heart\nYou taught me to run\nYou taught me to fly\nHelped me to free the me inside (me inside)\nHelp me hear the music of my heart\n(Music of my heart)\nHelp me hear the music of my heart\nYou've opened my eyes\nYou've opened the door\n(Opened the door)\nTo something I've never known before\n(Never, never, felt before)\nAnd your love\nIs the music of my heart\nMusic of my heart\nMusic of my heart\nIs the music of my heartEmbed"
           },
           {
            "count": 1,
            "name": "\nIts here and I like it\n(Whoo! Ha-ha! Ha-ha!)\n(Big Will, uh K-Ci y'all bringing it in)\n(What?)\nIts here and I like it\n(Say what? What?)\n(Say what? What?)\nGonna pack the dance floor\n(And do what with it?)\nRock the dance floor\n\nHere it comes the party of a lifetime\n31st of December\nMan I remember when the ball dropped for 90\nNow it's 9-9, ten years behind me\nWhat's gonna happen?\nDon't nobody know\nWe'll see when the clock gets to 12-0-0\nChaos, the cops gonna block the street\nMan who the hell cares?\nJust don't stop the beat\nNo time to sleep, yo it's on tonight\nK-Ci you feeling me right? (Yeah)\n2-0-0-0, the Will 2 K\nThe new millennium, yo excuse me Willennium (yeah)\nIt can't get thicker than this (Big Will)\nSlick like Rick I can't miss\n(And we gonna party like it's 19)\nHold up it is\nHere it comes another year\nCome on everyone, new millennium\nHere it comes another year\nEveryone, new millennium\n\nThere's a party tonight\nEverybody was drinking\nThe house was screaming\nAnd the bass was shaking\nAnd it won't be long\nTill everybody knowing\nThat twelve o'clock the roof will be blowing\nDrinks on me, up the cups, and\nMidnight coming full thrust, and\nDick Clark holding it down, and\nThe second hand rolling around (Na, na, na, na)\nHundred thousands deep, world wide press\nHate to be the man that gotta clean this mess\nSame resolution, get the money\nAin't where we've been, it's where we gonna be\nGet ready to hum Auld Lang Syne\nCause a person that know the words is hard to find\nFirst soul train line of the year\nFour, three, two, one\nIts here and I like it\n(Whoo! K-Ci y'all, K-Ci y'all)\nGonna pack the dance floor\n(And do what with it?)\nRock the dance floor\n(Uh, uh, uh)\n\nHere it comes another year\nCome on everyone, new millennium\nHere it comes another year\nEveryone, new millennium\n\nSay yeah, yeah\n(Come on)\nSay yeah, yeah\n(I can't hear y'all)\nSay yeah, yeah\n(What? What? What?)\nSay yeah, yeah\n(Come on, come on)\nSay yeah, yeah\n(I can't hear y'all)\nSay yeah, yeah\n(I can't hear y'all)\nSay yeah, yeah\n(Ha-ha-ha)\nYeah, yeah\nI remember trying to count how old I'd be\nWhen the clock struck twelve in the year 2G\nMedianoche finally near\nThis will be that anthem amongst the cheers\nJust the man to usher it in\nBig Will bringing the heat\nK-Ci bringing the plan\nRinging it in, waiting for the ball to drop\nThat 2000 vault we breaking the lock\nLet hip-hop keep blazing the charts\nMay the past keep a warm spot in your heart\nMay the future hold more joy then pain\nHands in the air waiting for confetti to rain\n\nIts here and I like it\nGonna pack the dance floor\nRock the dance floor\nHere it comes another year\nCome on everyone, new millennium\nHere it comes another year\nEveryone, new millennium\n\nThere's a party tonight\nEverybody was drinking\nThe house was screaming\nAnd the bass was shaking\nAnd it won't be long\nTill everybody knowing at twelve o'clock\nAt 12 o'clock\nSay what? Say what? Say what? What?\n\nHere it comes another year\nCome on everyone, new millennium\nHere it comes another year\nEveryone, new millennium\n\nTrue dat, true dat, true dat\nYo London, uh come on\nYo Bangkok, come on, come on\nLA, ha, ha\nThe NYC\nCome on, say what? Say what?\nYo Philly, come on, hey\nHey Tokyo, come on\nEverybody say what now\nSay what now, say what now\nCome on, come on, come on3Embed"
           },
           {
            "count": 8,
            "name": "8 others"
           }
          ],
          "nan_count": 0,
          "unique_count": 10
         }
        },
        {
         "dtype": "object",
         "name": "lang",
         "stats": {
          "categories": [
           {
            "count": 10,
            "name": "en"
           }
          ],
          "nan_count": 0,
          "unique_count": 1
         }
        },
        {
         "dtype": "object",
         "name": "sp_id",
         "stats": {
          "categories": [
           {
            "count": 1,
            "name": "0M3ZIWNcizkhYFvn6RuCEz"
           },
           {
            "count": 1,
            "name": "59xpdlaIK1l5hiYP1KsBxK"
           },
           {
            "count": 8,
            "name": "8 others"
           }
          ],
          "nan_count": 0,
          "unique_count": 10
         }
        },
        {
         "dtype": "float64",
         "name": "danceability",
         "stats": {
          "histogram": [
           {
            "bin_end": 0.4225,
            "bin_start": 0.375,
            "count": 1
           },
           {
            "bin_end": 0.47,
            "bin_start": 0.4225,
            "count": 0
           },
           {
            "bin_end": 0.5175000000000001,
            "bin_start": 0.47,
            "count": 0
           },
           {
            "bin_end": 0.565,
            "bin_start": 0.5175000000000001,
            "count": 1
           },
           {
            "bin_end": 0.6125,
            "bin_start": 0.565,
            "count": 2
           },
           {
            "bin_end": 0.66,
            "bin_start": 0.6125,
            "count": 1
           },
           {
            "bin_end": 0.7075,
            "bin_start": 0.66,
            "count": 1
           },
           {
            "bin_end": 0.755,
            "bin_start": 0.7075,
            "count": 1
           },
           {
            "bin_end": 0.8025,
            "bin_start": 0.755,
            "count": 0
           },
           {
            "bin_end": 0.85,
            "bin_start": 0.8025,
            "count": 3
           }
          ],
          "max": "0.85",
          "min": "0.375",
          "nan_count": 0,
          "unique_count": 10
         }
        },
        {
         "dtype": "float64",
         "name": "energy",
         "stats": {
          "histogram": [
           {
            "bin_end": 0.5069,
            "bin_start": 0.457,
            "count": 1
           },
           {
            "bin_end": 0.5568,
            "bin_start": 0.5069,
            "count": 3
           },
           {
            "bin_end": 0.6067,
            "bin_start": 0.5568,
            "count": 1
           },
           {
            "bin_end": 0.6566,
            "bin_start": 0.6067,
            "count": 0
           },
           {
            "bin_end": 0.7065,
            "bin_start": 0.6566,
            "count": 1
           },
           {
            "bin_end": 0.7564,
            "bin_start": 0.7065,
            "count": 0
           },
           {
            "bin_end": 0.8063,
            "bin_start": 0.7564,
            "count": 1
           },
           {
            "bin_end": 0.8562,
            "bin_start": 0.8063,
            "count": 2
           },
           {
            "bin_end": 0.9060999999999999,
            "bin_start": 0.8562,
            "count": 0
           },
           {
            "bin_end": 0.956,
            "bin_start": 0.9060999999999999,
            "count": 1
           }
          ],
          "max": "0.956",
          "min": "0.457",
          "nan_count": 0,
          "unique_count": 10
         }
        },
        {
         "dtype": "float64",
         "name": "key",
         "stats": {
          "histogram": [
           {
            "bin_end": 1.1,
            "bin_start": 0,
            "count": 4
           },
           {
            "bin_end": 2.2,
            "bin_start": 1.1,
            "count": 0
           },
           {
            "bin_end": 3.3000000000000003,
            "bin_start": 2.2,
            "count": 0
           },
           {
            "bin_end": 4.4,
            "bin_start": 3.3000000000000003,
            "count": 0
           },
           {
            "bin_end": 5.5,
            "bin_start": 4.4,
            "count": 0
           },
           {
            "bin_end": 6.6000000000000005,
            "bin_start": 5.5,
            "count": 1
           },
           {
            "bin_end": 7.700000000000001,
            "bin_start": 6.6000000000000005,
            "count": 0
           },
           {
            "bin_end": 8.8,
            "bin_start": 7.700000000000001,
            "count": 1
           },
           {
            "bin_end": 9.9,
            "bin_start": 8.8,
            "count": 1
           },
           {
            "bin_end": 11,
            "bin_start": 9.9,
            "count": 3
           }
          ],
          "max": "11.0",
          "min": "0.0",
          "nan_count": 0,
          "unique_count": 7
         }
        },
        {
         "dtype": "float64",
         "name": "loudness",
         "stats": {
          "histogram": [
           {
            "bin_end": -8.1705,
            "bin_start": -8.643,
            "count": 2
           },
           {
            "bin_end": -7.698,
            "bin_start": -8.1705,
            "count": 1
           },
           {
            "bin_end": -7.2255,
            "bin_start": -7.698,
            "count": 0
           },
           {
            "bin_end": -6.753,
            "bin_start": -7.2255,
            "count": 3
           },
           {
            "bin_end": -6.2805,
            "bin_start": -6.753,
            "count": 0
           },
           {
            "bin_end": -5.808000000000001,
            "bin_start": -6.2805,
            "count": 1
           },
           {
            "bin_end": -5.335500000000001,
            "bin_start": -5.808000000000001,
            "count": 1
           },
           {
            "bin_end": -4.863,
            "bin_start": -5.335500000000001,
            "count": 1
           },
           {
            "bin_end": -4.3905,
            "bin_start": -4.863,
            "count": 0
           },
           {
            "bin_end": -3.918,
            "bin_start": -4.3905,
            "count": 1
           }
          ],
          "max": "-3.918",
          "min": "-8.643",
          "nan_count": 0,
          "unique_count": 10
         }
        },
        {
         "dtype": "float64",
         "name": "mode",
         "stats": {
          "histogram": [
           {
            "bin_end": 0.1,
            "bin_start": 0,
            "count": 3
           },
           {
            "bin_end": 0.2,
            "bin_start": 0.1,
            "count": 0
           },
           {
            "bin_end": 0.30000000000000004,
            "bin_start": 0.2,
            "count": 0
           },
           {
            "bin_end": 0.4,
            "bin_start": 0.30000000000000004,
            "count": 0
           },
           {
            "bin_end": 0.5,
            "bin_start": 0.4,
            "count": 0
           },
           {
            "bin_end": 0.6000000000000001,
            "bin_start": 0.5,
            "count": 0
           },
           {
            "bin_end": 0.7000000000000001,
            "bin_start": 0.6000000000000001,
            "count": 0
           },
           {
            "bin_end": 0.8,
            "bin_start": 0.7000000000000001,
            "count": 0
           },
           {
            "bin_end": 0.9,
            "bin_start": 0.8,
            "count": 0
           },
           {
            "bin_end": 1,
            "bin_start": 0.9,
            "count": 7
           }
          ],
          "max": "1.0",
          "min": "0.0",
          "nan_count": 0,
          "unique_count": 2
         }
        },
        {
         "dtype": "float64",
         "name": "speechiness",
         "stats": {
          "histogram": [
           {
            "bin_end": 0.0595,
            "bin_start": 0.025,
            "count": 7
           },
           {
            "bin_end": 0.094,
            "bin_start": 0.0595,
            "count": 2
           },
           {
            "bin_end": 0.12849999999999998,
            "bin_start": 0.094,
            "count": 0
           },
           {
            "bin_end": 0.16299999999999998,
            "bin_start": 0.12849999999999998,
            "count": 0
           },
           {
            "bin_end": 0.19749999999999998,
            "bin_start": 0.16299999999999998,
            "count": 0
           },
           {
            "bin_end": 0.23199999999999996,
            "bin_start": 0.19749999999999998,
            "count": 0
           },
           {
            "bin_end": 0.26649999999999996,
            "bin_start": 0.23199999999999996,
            "count": 0
           },
           {
            "bin_end": 0.301,
            "bin_start": 0.26649999999999996,
            "count": 0
           },
           {
            "bin_end": 0.33549999999999996,
            "bin_start": 0.301,
            "count": 0
           },
           {
            "bin_end": 0.37,
            "bin_start": 0.33549999999999996,
            "count": 1
           }
          ],
          "max": "0.37",
          "min": "0.025",
          "nan_count": 0,
          "unique_count": 10
         }
        },
        {
         "dtype": "float64",
         "name": "acousticness",
         "stats": {
          "histogram": [
           {
            "bin_end": 0.05723,
            "bin_start": 0.0107,
            "count": 3
           },
           {
            "bin_end": 0.10376,
            "bin_start": 0.05723,
            "count": 1
           },
           {
            "bin_end": 0.15028999999999998,
            "bin_start": 0.10376,
            "count": 1
           },
           {
            "bin_end": 0.19682,
            "bin_start": 0.15028999999999998,
            "count": 0
           },
           {
            "bin_end": 0.24335,
            "bin_start": 0.19682,
            "count": 0
           },
           {
            "bin_end": 0.28987999999999997,
            "bin_start": 0.24335,
            "count": 0
           },
           {
            "bin_end": 0.33641,
            "bin_start": 0.28987999999999997,
            "count": 0
           },
           {
            "bin_end": 0.38294,
            "bin_start": 0.33641,
            "count": 1
           },
           {
            "bin_end": 0.42947,
            "bin_start": 0.38294,
            "count": 2
           },
           {
            "bin_end": 0.476,
            "bin_start": 0.42947,
            "count": 2
           }
          ],
          "max": "0.476",
          "min": "0.0107",
          "nan_count": 0,
          "unique_count": 10
         }
        },
        {
         "dtype": "float64",
         "name": "instrumentalness",
         "stats": {
          "histogram": [
           {
            "bin_end": 0.00283,
            "bin_start": 0,
            "count": 9
           },
           {
            "bin_end": 0.00566,
            "bin_start": 0.00283,
            "count": 0
           },
           {
            "bin_end": 0.008490000000000001,
            "bin_start": 0.00566,
            "count": 0
           },
           {
            "bin_end": 0.01132,
            "bin_start": 0.008490000000000001,
            "count": 0
           },
           {
            "bin_end": 0.01415,
            "bin_start": 0.01132,
            "count": 0
           },
           {
            "bin_end": 0.016980000000000002,
            "bin_start": 0.01415,
            "count": 0
           },
           {
            "bin_end": 0.01981,
            "bin_start": 0.016980000000000002,
            "count": 0
           },
           {
            "bin_end": 0.02264,
            "bin_start": 0.01981,
            "count": 0
           },
           {
            "bin_end": 0.02547,
            "bin_start": 0.02264,
            "count": 0
           },
           {
            "bin_end": 0.0283,
            "bin_start": 0.02547,
            "count": 1
           }
          ],
          "max": "0.0283",
          "min": "0.0",
          "nan_count": 0,
          "unique_count": 4
         }
        },
        {
         "dtype": "float64",
         "name": "liveness",
         "stats": {
          "histogram": [
           {
            "bin_end": 0.10608999999999999,
            "bin_start": 0.0481,
            "count": 5
           },
           {
            "bin_end": 0.16408,
            "bin_start": 0.10608999999999999,
            "count": 0
           },
           {
            "bin_end": 0.22207000000000002,
            "bin_start": 0.16408,
            "count": 2
           },
           {
            "bin_end": 0.28006,
            "bin_start": 0.22207000000000002,
            "count": 0
           },
           {
            "bin_end": 0.33804999999999996,
            "bin_start": 0.28006,
            "count": 1
           },
           {
            "bin_end": 0.39604,
            "bin_start": 0.33804999999999996,
            "count": 1
           },
           {
            "bin_end": 0.45403,
            "bin_start": 0.39604,
            "count": 0
           },
           {
            "bin_end": 0.51202,
            "bin_start": 0.45403,
            "count": 0
           },
           {
            "bin_end": 0.57001,
            "bin_start": 0.51202,
            "count": 0
           },
           {
            "bin_end": 0.628,
            "bin_start": 0.57001,
            "count": 1
           }
          ],
          "max": "0.628",
          "min": "0.0481",
          "nan_count": 0,
          "unique_count": 10
         }
        },
        {
         "dtype": "float64",
         "name": "valence",
         "stats": {
          "histogram": [
           {
            "bin_end": 0.4418,
            "bin_start": 0.397,
            "count": 3
           },
           {
            "bin_end": 0.48660000000000003,
            "bin_start": 0.4418,
            "count": 1
           },
           {
            "bin_end": 0.5314,
            "bin_start": 0.48660000000000003,
            "count": 0
           },
           {
            "bin_end": 0.5762,
            "bin_start": 0.5314,
            "count": 0
           },
           {
            "bin_end": 0.621,
            "bin_start": 0.5762,
            "count": 1
           },
           {
            "bin_end": 0.6658,
            "bin_start": 0.621,
            "count": 1
           },
           {
            "bin_end": 0.7105999999999999,
            "bin_start": 0.6658,
            "count": 0
           },
           {
            "bin_end": 0.7554,
            "bin_start": 0.7105999999999999,
            "count": 0
           },
           {
            "bin_end": 0.8002,
            "bin_start": 0.7554,
            "count": 1
           },
           {
            "bin_end": 0.845,
            "bin_start": 0.8002,
            "count": 3
           }
          ],
          "max": "0.845",
          "min": "0.397",
          "nan_count": 0,
          "unique_count": 10
         }
        },
        {
         "dtype": "float64",
         "name": "tempo",
         "stats": {
          "histogram": [
           {
            "bin_end": 98.26979999999999,
            "bin_start": 86.963,
            "count": 2
           },
           {
            "bin_end": 109.5766,
            "bin_start": 98.26979999999999,
            "count": 1
           },
           {
            "bin_end": 120.8834,
            "bin_start": 109.5766,
            "count": 4
           },
           {
            "bin_end": 132.1902,
            "bin_start": 120.8834,
            "count": 1
           },
           {
            "bin_end": 143.497,
            "bin_start": 132.1902,
            "count": 1
           },
           {
            "bin_end": 154.8038,
            "bin_start": 143.497,
            "count": 0
           },
           {
            "bin_end": 166.1106,
            "bin_start": 154.8038,
            "count": 0
           },
           {
            "bin_end": 177.4174,
            "bin_start": 166.1106,
            "count": 0
           },
           {
            "bin_end": 188.7242,
            "bin_start": 177.4174,
            "count": 0
           },
           {
            "bin_end": 200.031,
            "bin_start": 188.7242,
            "count": 1
           }
          ],
          "max": "200.031",
          "min": "86.963",
          "nan_count": 0,
          "unique_count": 10
         }
        },
        {
         "dtype": "object",
         "name": "art_id",
         "stats": {
          "categories": [
           {
            "count": 1,
            "name": "6Ff53KvcvAj5U7Z1vojB5o"
           },
           {
            "count": 1,
            "name": "41qil2VaGbD194gaEcmmyx"
           },
           {
            "count": 8,
            "name": "8 others"
           }
          ],
          "nan_count": 0,
          "unique_count": 10
         }
        },
        {
         "dtype": "object",
         "name": "genres",
         "stats": {
          "categories": [
           {
            "count": 2,
            "name": "contemporary country, country, country dawn, country road"
           },
           {
            "count": 1,
            "name": "boy band, dance pop, post-teen pop"
           },
           {
            "count": 7,
            "name": "7 others"
           }
          ],
          "nan_count": 0,
          "unique_count": 9
         }
        },
        {
         "dtype": "int64",
         "name": "_deepnote_index_column"
        }
       ],
       "row_count": 10,
       "rows": [
        {
         "_deepnote_index_column": 24826,
         "acousticness": 0.4,
         "art_id": "6Ff53KvcvAj5U7Z1vojB5o",
         "artist": "['\"N Sync\"', ' Gloria Estefan']",
         "danceability": 0.375,
         "energy": 0.556,
         "genres": "boy band, dance pop, post-teen pop",
         "instrumentalness": 0,
         "key": 11,
         "lang": "en",
         "liveness": 0.0956,
         "loudness": -7.196,
         "lyrics": "\nYou'll never know what you've done for me\nWhat your faith in me has done for my soul\nYou'll never …",
         "mode": 1,
         "sp_id": "0M3ZIWNcizkhYFvn6RuCEz",
         "speechiness": 0.041,
         "tempo": 111.827,
         "title": "Music Of My Heart",
         "url": "https://genius.com/Gloria-estefan-and-nsync-music-of-my-heart-lyrics",
         "valence": 0.397
        },
        {
         "_deepnote_index_column": 24827,
         "acousticness": 0.0692,
         "art_id": "41qil2VaGbD194gaEcmmyx",
         "artist": "['Will Smith', ' K-Ci']",
         "danceability": 0.827,
         "energy": 0.783,
         "genres": "hip hop, pop rap",
         "instrumentalness": 0,
         "key": 9,
         "lang": "en",
         "liveness": 0.628,
         "loudness": -3.918,
         "lyrics": "\nIts here and I like it\n(Whoo! Ha-ha! Ha-ha!)\n(Big Will, uh K-Ci y'all bringing it in)\n(What?)\nIts …",
         "mode": 0,
         "sp_id": "59xpdlaIK1l5hiYP1KsBxK",
         "speechiness": 0.0869,
         "tempo": 117.933,
         "title": "Will 2K",
         "url": "https://genius.com/Will-smith-will-2k-lyrics",
         "valence": 0.832
        },
        {
         "_deepnote_index_column": 24828,
         "acousticness": 0.435,
         "art_id": "2bK1rpFhmGkImiZNuUyHVT",
         "artist": "['Ideal']",
         "danceability": 0.702,
         "energy": 0.52,
         "genres": "contemporary r&b",
         "instrumentalness": 0,
         "key": 10,
         "lang": "en",
         "liveness": 0.299,
         "loudness": -8.581,
         "lyrics": "\nHey, come in here for a minute\nSit down\nCome here, cause we gotta talk, Okay\nWell, you just stay h…",
         "mode": 1,
         "sp_id": "0CofintZCm8MhxiOMrauiT",
         "speechiness": 0.0725,
         "tempo": 120.005,
         "title": "Get Gone",
         "url": "https://genius.com/Ideal-usa-get-gone-lyrics",
         "valence": 0.467
        },
        {
         "_deepnote_index_column": 24829,
         "acousticness": 0.383,
         "art_id": "4iHNK0tOyZPYnBU7nGAgpQ",
         "artist": "['Mariah Carey', ' Jay-Z']",
         "danceability": 0.524,
         "energy": 0.816,
         "genres": "dance pop, pop, urban contemporary",
         "instrumentalness": 0,
         "key": 1,
         "lang": "en",
         "liveness": 0.349,
         "loudness": -5.872,
         "lyrics": "\nYeah\nWe're gonna do it like this\nAight\nLet's go\nJigga\n\nGimme your love\nUh\nGimme your love\nWhat?\nGi…",
         "mode": 1,
         "sp_id": "0jsANwwkkHyyeNyuTFq2XO",
         "speechiness": 0.37,
         "tempo": 200.031,
         "title": "Heartbreaker",
         "url": "https://genius.com/Mariah-carey-heartbreaker-lyrics",
         "valence": 0.789
        },
        {
         "_deepnote_index_column": 24830,
         "acousticness": 0.476,
         "art_id": "6V03b3Y36lolYP2orXn8mV",
         "artist": "['98 Degrees']",
         "danceability": 0.622,
         "energy": 0.541,
         "genres": "boy band, dance pop",
         "instrumentalness": 0,
         "key": 0,
         "lang": "en",
         "liveness": 0.0819,
         "loudness": -8.643,
         "lyrics": "The snow is falling the city is white\nYour eyes are shining like diamonds tonight\nAnd we're all alo…",
         "mode": 1,
         "sp_id": "3ggPv9plkk3a5EfI4D9g2L",
         "speechiness": 0.0331,
         "tempo": 86.963,
         "title": "This Gift",
         "url": "https://genius.com/98-this-gift-lyrics",
         "valence": 0.401
        },
        {
         "_deepnote_index_column": 24831,
         "acousticness": 0.0107,
         "art_id": "67ISVBZzcCTTKM17Ps00sx",
         "artist": "['Chico DeBarge']",
         "danceability": 0.85,
         "energy": 0.675,
         "genres": "contemporary r&b, neo soul, r&b, urban contemporary",
         "instrumentalness": 0,
         "key": 10,
         "lang": "en",
         "liveness": 0.0914,
         "loudness": -7.915,
         "lyrics": "Gonna get it, get it, get it, get it\nBaby, baby\nBaby, baby, let's take our time\n'Cause if we gonna …",
         "mode": 0,
         "sp_id": "2ZDxfuXmTIRCdXChbtHpW9",
         "speechiness": 0.0442,
         "tempo": 131.996,
         "title": "Give You What You Want (Fa Sure)",
         "url": "https://genius.com/Chico-debarge-give-you-what-you-want-fa-sure-lyrics",
         "valence": 0.816
        },
        {
         "_deepnote_index_column": 24832,
         "acousticness": 0.37,
         "art_id": "5a2EaR3hamoenG9rDuVn8j",
         "artist": "['Prince']",
         "danceability": 0.844,
         "energy": 0.457,
         "genres": "funk, funk rock, minneapolis sound, synth funk",
         "instrumentalness": 4.88e-06,
         "key": 8,
         "lang": "en",
         "liveness": 0.0768,
         "loudness": -6.859,
         "lyrics": "\nThe greatest romance that's ever been sold\n\nSo what do you know, you and me\nFinally face to face\nC…",
         "mode": 1,
         "sp_id": "3A8pzjcWgAHry1Ix19z7ip",
         "speechiness": 0.0422,
         "tempo": 90.022,
         "title": "The Greatest Romance Ever Sold",
         "url": "https://genius.com/Prince-the-greatest-romance-ever-sold-lyrics",
         "valence": 0.594
        },
        {
         "_deepnote_index_column": 24833,
         "acousticness": 0.0151,
         "art_id": "2qFe0FyUMK8XXoyOsfYJr2",
         "artist": "['SHeDAISY']",
         "danceability": 0.568,
         "energy": 0.828,
         "genres": "contemporary country, country, country dawn, country road",
         "instrumentalness": 2.05e-05,
         "key": 1,
         "lang": "en",
         "liveness": 0.167,
         "loudness": -7.123,
         "lyrics": "(arranged by SHeDAISY and Phil Symonds)\nDeck the halls\n( Deck the halls )\nWith boughs of holly\n( Wi…",
         "mode": 0,
         "sp_id": "3MAQlKrBxFN5QXR7SqxYQh",
         "speechiness": 0.0403,
         "tempo": 118.836,
         "title": "Deck The Halls",
         "url": "https://genius.com/Shedaisy-deck-the-halls-lyrics",
         "valence": 0.407
        },
        {
         "_deepnote_index_column": 24834,
         "acousticness": 0.019,
         "art_id": "3P33qFNGBVXl86yQYWspFj",
         "artist": "['Martina McBride']",
         "danceability": 0.708,
         "energy": 0.597,
         "genres": "contemporary country, country, country dawn, country road",
         "instrumentalness": 0,
         "key": 0,
         "lang": "en",
         "liveness": 0.177,
         "loudness": -5.411,
         "lyrics": "\nYeah\n\nThe sun is shining everyday\nThe clouds never get in the way for you and me\nI've known you ju…",
         "mode": 1,
         "sp_id": "6hvREHiu0i7PJv7XUHeo5w",
         "speechiness": 0.025,
         "tempo": 106.706,
         "title": "I Love You",
         "url": "https://genius.com/Martina-mcbride-i-love-you-lyrics",
         "valence": 0.629
        },
        {
         "_deepnote_index_column": 24835,
         "acousticness": 0.139,
         "art_id": "45yx1rBykdTiIHG65hOgdx",
         "artist": "['\"DAngelo\"', ' Method Man And Redman']",
         "danceability": 0.6,
         "energy": 0.956,
         "genres": "",
         "instrumentalness": 0.0283,
         "key": 6,
         "lang": "en",
         "liveness": 0.0481,
         "loudness": -5.286,
         "lyrics": "\nYo, yo, yo (Yeah, yeah)\nYo, yo\n\nMy flow's remarkable\nDoc walk like Caine from Kung Fu 'round the g…",
         "mode": 1,
         "sp_id": "2Wmee1fuuP9Ppj13r4BDPp",
         "speechiness": 0.0465,
         "tempo": 136.008,
         "title": "Left & Right",
         "url": "https://genius.com/Dangelo-left-and-right-lyrics",
         "valence": 0.845
        }
       ]
      },
      "text/html": [
       "<div>\n",
       "<style scoped>\n",
       "    .dataframe tbody tr th:only-of-type {\n",
       "        vertical-align: middle;\n",
       "    }\n",
       "\n",
       "    .dataframe tbody tr th {\n",
       "        vertical-align: top;\n",
       "    }\n",
       "\n",
       "    .dataframe thead th {\n",
       "        text-align: right;\n",
       "    }\n",
       "</style>\n",
       "<table border=\"1\" class=\"dataframe\">\n",
       "  <thead>\n",
       "    <tr style=\"text-align: right;\">\n",
       "      <th></th>\n",
       "      <th>title</th>\n",
       "      <th>artist</th>\n",
       "      <th>url</th>\n",
       "      <th>lyrics</th>\n",
       "      <th>lang</th>\n",
       "      <th>sp_id</th>\n",
       "      <th>danceability</th>\n",
       "      <th>energy</th>\n",
       "      <th>key</th>\n",
       "      <th>loudness</th>\n",
       "      <th>mode</th>\n",
       "      <th>speechiness</th>\n",
       "      <th>acousticness</th>\n",
       "      <th>instrumentalness</th>\n",
       "      <th>liveness</th>\n",
       "      <th>valence</th>\n",
       "      <th>tempo</th>\n",
       "      <th>art_id</th>\n",
       "      <th>genres</th>\n",
       "    </tr>\n",
       "  </thead>\n",
       "  <tbody>\n",
       "    <tr>\n",
       "      <th>24826</th>\n",
       "      <td>Music Of My Heart</td>\n",
       "      <td>['\"N Sync\"', ' Gloria Estefan']</td>\n",
       "      <td>https://genius.com/Gloria-estefan-and-nsync-mu...</td>\n",
       "      <td>\\nYou'll never know what you've done for me\\nW...</td>\n",
       "      <td>en</td>\n",
       "      <td>0M3ZIWNcizkhYFvn6RuCEz</td>\n",
       "      <td>0.375</td>\n",
       "      <td>0.556</td>\n",
       "      <td>11.0</td>\n",
       "      <td>-7.196</td>\n",
       "      <td>1.0</td>\n",
       "      <td>0.0410</td>\n",
       "      <td>0.4000</td>\n",
       "      <td>0.000000</td>\n",
       "      <td>0.0956</td>\n",
       "      <td>0.397</td>\n",
       "      <td>111.827</td>\n",
       "      <td>6Ff53KvcvAj5U7Z1vojB5o</td>\n",
       "      <td>boy band, dance pop, post-teen pop</td>\n",
       "    </tr>\n",
       "    <tr>\n",
       "      <th>24827</th>\n",
       "      <td>Will 2K</td>\n",
       "      <td>['Will Smith', ' K-Ci']</td>\n",
       "      <td>https://genius.com/Will-smith-will-2k-lyrics</td>\n",
       "      <td>\\nIts here and I like it\\n(Whoo! Ha-ha! Ha-ha!...</td>\n",
       "      <td>en</td>\n",
       "      <td>59xpdlaIK1l5hiYP1KsBxK</td>\n",
       "      <td>0.827</td>\n",
       "      <td>0.783</td>\n",
       "      <td>9.0</td>\n",
       "      <td>-3.918</td>\n",
       "      <td>0.0</td>\n",
       "      <td>0.0869</td>\n",
       "      <td>0.0692</td>\n",
       "      <td>0.000000</td>\n",
       "      <td>0.6280</td>\n",
       "      <td>0.832</td>\n",
       "      <td>117.933</td>\n",
       "      <td>41qil2VaGbD194gaEcmmyx</td>\n",
       "      <td>hip hop, pop rap</td>\n",
       "    </tr>\n",
       "    <tr>\n",
       "      <th>24828</th>\n",
       "      <td>Get Gone</td>\n",
       "      <td>['Ideal']</td>\n",
       "      <td>https://genius.com/Ideal-usa-get-gone-lyrics</td>\n",
       "      <td>\\nHey, come in here for a minute\\nSit down\\nCo...</td>\n",
       "      <td>en</td>\n",
       "      <td>0CofintZCm8MhxiOMrauiT</td>\n",
       "      <td>0.702</td>\n",
       "      <td>0.520</td>\n",
       "      <td>10.0</td>\n",
       "      <td>-8.581</td>\n",
       "      <td>1.0</td>\n",
       "      <td>0.0725</td>\n",
       "      <td>0.4350</td>\n",
       "      <td>0.000000</td>\n",
       "      <td>0.2990</td>\n",
       "      <td>0.467</td>\n",
       "      <td>120.005</td>\n",
       "      <td>2bK1rpFhmGkImiZNuUyHVT</td>\n",
       "      <td>contemporary r&amp;b</td>\n",
       "    </tr>\n",
       "    <tr>\n",
       "      <th>24829</th>\n",
       "      <td>Heartbreaker</td>\n",
       "      <td>['Mariah Carey', ' Jay-Z']</td>\n",
       "      <td>https://genius.com/Mariah-carey-heartbreaker-l...</td>\n",
       "      <td>\\nYeah\\nWe're gonna do it like this\\nAight\\nLe...</td>\n",
       "      <td>en</td>\n",
       "      <td>0jsANwwkkHyyeNyuTFq2XO</td>\n",
       "      <td>0.524</td>\n",
       "      <td>0.816</td>\n",
       "      <td>1.0</td>\n",
       "      <td>-5.872</td>\n",
       "      <td>1.0</td>\n",
       "      <td>0.3700</td>\n",
       "      <td>0.3830</td>\n",
       "      <td>0.000000</td>\n",
       "      <td>0.3490</td>\n",
       "      <td>0.789</td>\n",
       "      <td>200.031</td>\n",
       "      <td>4iHNK0tOyZPYnBU7nGAgpQ</td>\n",
       "      <td>dance pop, pop, urban contemporary</td>\n",
       "    </tr>\n",
       "    <tr>\n",
       "      <th>24830</th>\n",
       "      <td>This Gift</td>\n",
       "      <td>['98 Degrees']</td>\n",
       "      <td>https://genius.com/98-this-gift-lyrics</td>\n",
       "      <td>The snow is falling the city is white\\nYour ey...</td>\n",
       "      <td>en</td>\n",
       "      <td>3ggPv9plkk3a5EfI4D9g2L</td>\n",
       "      <td>0.622</td>\n",
       "      <td>0.541</td>\n",
       "      <td>0.0</td>\n",
       "      <td>-8.643</td>\n",
       "      <td>1.0</td>\n",
       "      <td>0.0331</td>\n",
       "      <td>0.4760</td>\n",
       "      <td>0.000000</td>\n",
       "      <td>0.0819</td>\n",
       "      <td>0.401</td>\n",
       "      <td>86.963</td>\n",
       "      <td>6V03b3Y36lolYP2orXn8mV</td>\n",
       "      <td>boy band, dance pop</td>\n",
       "    </tr>\n",
       "    <tr>\n",
       "      <th>24831</th>\n",
       "      <td>Give You What You Want (Fa Sure)</td>\n",
       "      <td>['Chico DeBarge']</td>\n",
       "      <td>https://genius.com/Chico-debarge-give-you-what...</td>\n",
       "      <td>Gonna get it, get it, get it, get it\\nBaby, ba...</td>\n",
       "      <td>en</td>\n",
       "      <td>2ZDxfuXmTIRCdXChbtHpW9</td>\n",
       "      <td>0.850</td>\n",
       "      <td>0.675</td>\n",
       "      <td>10.0</td>\n",
       "      <td>-7.915</td>\n",
       "      <td>0.0</td>\n",
       "      <td>0.0442</td>\n",
       "      <td>0.0107</td>\n",
       "      <td>0.000000</td>\n",
       "      <td>0.0914</td>\n",
       "      <td>0.816</td>\n",
       "      <td>131.996</td>\n",
       "      <td>67ISVBZzcCTTKM17Ps00sx</td>\n",
       "      <td>contemporary r&amp;b, neo soul, r&amp;b, urban contemp...</td>\n",
       "    </tr>\n",
       "    <tr>\n",
       "      <th>24832</th>\n",
       "      <td>The Greatest Romance Ever Sold</td>\n",
       "      <td>['Prince']</td>\n",
       "      <td>https://genius.com/Prince-the-greatest-romance...</td>\n",
       "      <td>\\nThe greatest romance that's ever been sold\\n...</td>\n",
       "      <td>en</td>\n",
       "      <td>3A8pzjcWgAHry1Ix19z7ip</td>\n",
       "      <td>0.844</td>\n",
       "      <td>0.457</td>\n",
       "      <td>8.0</td>\n",
       "      <td>-6.859</td>\n",
       "      <td>1.0</td>\n",
       "      <td>0.0422</td>\n",
       "      <td>0.3700</td>\n",
       "      <td>0.000005</td>\n",
       "      <td>0.0768</td>\n",
       "      <td>0.594</td>\n",
       "      <td>90.022</td>\n",
       "      <td>5a2EaR3hamoenG9rDuVn8j</td>\n",
       "      <td>funk, funk rock, minneapolis sound, synth funk</td>\n",
       "    </tr>\n",
       "    <tr>\n",
       "      <th>24833</th>\n",
       "      <td>Deck The Halls</td>\n",
       "      <td>['SHeDAISY']</td>\n",
       "      <td>https://genius.com/Shedaisy-deck-the-halls-lyrics</td>\n",
       "      <td>(arranged by SHeDAISY and Phil Symonds)\\nDeck ...</td>\n",
       "      <td>en</td>\n",
       "      <td>3MAQlKrBxFN5QXR7SqxYQh</td>\n",
       "      <td>0.568</td>\n",
       "      <td>0.828</td>\n",
       "      <td>1.0</td>\n",
       "      <td>-7.123</td>\n",
       "      <td>0.0</td>\n",
       "      <td>0.0403</td>\n",
       "      <td>0.0151</td>\n",
       "      <td>0.000021</td>\n",
       "      <td>0.1670</td>\n",
       "      <td>0.407</td>\n",
       "      <td>118.836</td>\n",
       "      <td>2qFe0FyUMK8XXoyOsfYJr2</td>\n",
       "      <td>contemporary country, country, country dawn, c...</td>\n",
       "    </tr>\n",
       "    <tr>\n",
       "      <th>24834</th>\n",
       "      <td>I Love You</td>\n",
       "      <td>['Martina McBride']</td>\n",
       "      <td>https://genius.com/Martina-mcbride-i-love-you-...</td>\n",
       "      <td>\\nYeah\\n\\nThe sun is shining everyday\\nThe clo...</td>\n",
       "      <td>en</td>\n",
       "      <td>6hvREHiu0i7PJv7XUHeo5w</td>\n",
       "      <td>0.708</td>\n",
       "      <td>0.597</td>\n",
       "      <td>0.0</td>\n",
       "      <td>-5.411</td>\n",
       "      <td>1.0</td>\n",
       "      <td>0.0250</td>\n",
       "      <td>0.0190</td>\n",
       "      <td>0.000000</td>\n",
       "      <td>0.1770</td>\n",
       "      <td>0.629</td>\n",
       "      <td>106.706</td>\n",
       "      <td>3P33qFNGBVXl86yQYWspFj</td>\n",
       "      <td>contemporary country, country, country dawn, c...</td>\n",
       "    </tr>\n",
       "    <tr>\n",
       "      <th>24835</th>\n",
       "      <td>Left &amp; Right</td>\n",
       "      <td>['\"DAngelo\"', ' Method Man And Redman']</td>\n",
       "      <td>https://genius.com/Dangelo-left-and-right-lyrics</td>\n",
       "      <td>\\nYo, yo, yo (Yeah, yeah)\\nYo, yo\\n\\nMy flow's...</td>\n",
       "      <td>en</td>\n",
       "      <td>2Wmee1fuuP9Ppj13r4BDPp</td>\n",
       "      <td>0.600</td>\n",
       "      <td>0.956</td>\n",
       "      <td>6.0</td>\n",
       "      <td>-5.286</td>\n",
       "      <td>1.0</td>\n",
       "      <td>0.0465</td>\n",
       "      <td>0.1390</td>\n",
       "      <td>0.028300</td>\n",
       "      <td>0.0481</td>\n",
       "      <td>0.845</td>\n",
       "      <td>136.008</td>\n",
       "      <td>45yx1rBykdTiIHG65hOgdx</td>\n",
       "      <td></td>\n",
       "    </tr>\n",
       "  </tbody>\n",
       "</table>\n",
       "</div>"
      ],
      "text/plain": [
       "                                  title  \\\n",
       "24826                 Music Of My Heart   \n",
       "24827                           Will 2K   \n",
       "24828                          Get Gone   \n",
       "24829                      Heartbreaker   \n",
       "24830                         This Gift   \n",
       "24831  Give You What You Want (Fa Sure)   \n",
       "24832    The Greatest Romance Ever Sold   \n",
       "24833                    Deck The Halls   \n",
       "24834                        I Love You   \n",
       "24835                      Left & Right   \n",
       "\n",
       "                                        artist  \\\n",
       "24826          ['\"N Sync\"', ' Gloria Estefan']   \n",
       "24827                  ['Will Smith', ' K-Ci']   \n",
       "24828                                ['Ideal']   \n",
       "24829               ['Mariah Carey', ' Jay-Z']   \n",
       "24830                           ['98 Degrees']   \n",
       "24831                        ['Chico DeBarge']   \n",
       "24832                               ['Prince']   \n",
       "24833                             ['SHeDAISY']   \n",
       "24834                      ['Martina McBride']   \n",
       "24835  ['\"DAngelo\"', ' Method Man And Redman']   \n",
       "\n",
       "                                                     url  \\\n",
       "24826  https://genius.com/Gloria-estefan-and-nsync-mu...   \n",
       "24827       https://genius.com/Will-smith-will-2k-lyrics   \n",
       "24828       https://genius.com/Ideal-usa-get-gone-lyrics   \n",
       "24829  https://genius.com/Mariah-carey-heartbreaker-l...   \n",
       "24830             https://genius.com/98-this-gift-lyrics   \n",
       "24831  https://genius.com/Chico-debarge-give-you-what...   \n",
       "24832  https://genius.com/Prince-the-greatest-romance...   \n",
       "24833  https://genius.com/Shedaisy-deck-the-halls-lyrics   \n",
       "24834  https://genius.com/Martina-mcbride-i-love-you-...   \n",
       "24835   https://genius.com/Dangelo-left-and-right-lyrics   \n",
       "\n",
       "                                                  lyrics lang  \\\n",
       "24826  \\nYou'll never know what you've done for me\\nW...   en   \n",
       "24827  \\nIts here and I like it\\n(Whoo! Ha-ha! Ha-ha!...   en   \n",
       "24828  \\nHey, come in here for a minute\\nSit down\\nCo...   en   \n",
       "24829  \\nYeah\\nWe're gonna do it like this\\nAight\\nLe...   en   \n",
       "24830  The snow is falling the city is white\\nYour ey...   en   \n",
       "24831  Gonna get it, get it, get it, get it\\nBaby, ba...   en   \n",
       "24832  \\nThe greatest romance that's ever been sold\\n...   en   \n",
       "24833  (arranged by SHeDAISY and Phil Symonds)\\nDeck ...   en   \n",
       "24834  \\nYeah\\n\\nThe sun is shining everyday\\nThe clo...   en   \n",
       "24835  \\nYo, yo, yo (Yeah, yeah)\\nYo, yo\\n\\nMy flow's...   en   \n",
       "\n",
       "                        sp_id  danceability  energy   key  loudness  mode  \\\n",
       "24826  0M3ZIWNcizkhYFvn6RuCEz         0.375   0.556  11.0    -7.196   1.0   \n",
       "24827  59xpdlaIK1l5hiYP1KsBxK         0.827   0.783   9.0    -3.918   0.0   \n",
       "24828  0CofintZCm8MhxiOMrauiT         0.702   0.520  10.0    -8.581   1.0   \n",
       "24829  0jsANwwkkHyyeNyuTFq2XO         0.524   0.816   1.0    -5.872   1.0   \n",
       "24830  3ggPv9plkk3a5EfI4D9g2L         0.622   0.541   0.0    -8.643   1.0   \n",
       "24831  2ZDxfuXmTIRCdXChbtHpW9         0.850   0.675  10.0    -7.915   0.0   \n",
       "24832  3A8pzjcWgAHry1Ix19z7ip         0.844   0.457   8.0    -6.859   1.0   \n",
       "24833  3MAQlKrBxFN5QXR7SqxYQh         0.568   0.828   1.0    -7.123   0.0   \n",
       "24834  6hvREHiu0i7PJv7XUHeo5w         0.708   0.597   0.0    -5.411   1.0   \n",
       "24835  2Wmee1fuuP9Ppj13r4BDPp         0.600   0.956   6.0    -5.286   1.0   \n",
       "\n",
       "       speechiness  acousticness  instrumentalness  liveness  valence  \\\n",
       "24826       0.0410        0.4000          0.000000    0.0956    0.397   \n",
       "24827       0.0869        0.0692          0.000000    0.6280    0.832   \n",
       "24828       0.0725        0.4350          0.000000    0.2990    0.467   \n",
       "24829       0.3700        0.3830          0.000000    0.3490    0.789   \n",
       "24830       0.0331        0.4760          0.000000    0.0819    0.401   \n",
       "24831       0.0442        0.0107          0.000000    0.0914    0.816   \n",
       "24832       0.0422        0.3700          0.000005    0.0768    0.594   \n",
       "24833       0.0403        0.0151          0.000021    0.1670    0.407   \n",
       "24834       0.0250        0.0190          0.000000    0.1770    0.629   \n",
       "24835       0.0465        0.1390          0.028300    0.0481    0.845   \n",
       "\n",
       "         tempo                  art_id  \\\n",
       "24826  111.827  6Ff53KvcvAj5U7Z1vojB5o   \n",
       "24827  117.933  41qil2VaGbD194gaEcmmyx   \n",
       "24828  120.005  2bK1rpFhmGkImiZNuUyHVT   \n",
       "24829  200.031  4iHNK0tOyZPYnBU7nGAgpQ   \n",
       "24830   86.963  6V03b3Y36lolYP2orXn8mV   \n",
       "24831  131.996  67ISVBZzcCTTKM17Ps00sx   \n",
       "24832   90.022  5a2EaR3hamoenG9rDuVn8j   \n",
       "24833  118.836  2qFe0FyUMK8XXoyOsfYJr2   \n",
       "24834  106.706  3P33qFNGBVXl86yQYWspFj   \n",
       "24835  136.008  45yx1rBykdTiIHG65hOgdx   \n",
       "\n",
       "                                                  genres  \n",
       "24826                 boy band, dance pop, post-teen pop  \n",
       "24827                                   hip hop, pop rap  \n",
       "24828                                   contemporary r&b  \n",
       "24829                 dance pop, pop, urban contemporary  \n",
       "24830                                boy band, dance pop  \n",
       "24831  contemporary r&b, neo soul, r&b, urban contemp...  \n",
       "24832     funk, funk rock, minneapolis sound, synth funk  \n",
       "24833  contemporary country, country, country dawn, c...  \n",
       "24834  contemporary country, country, country dawn, c...  \n",
       "24835                                                     "
      ]
     },
     "execution_count": 24,
     "metadata": {},
     "output_type": "execute_result"
    }
   ],
   "source": [
    "genres.tail(10)"
   ]
  }
 ],
 "metadata": {
  "colab": {
   "collapsed_sections": [],
   "provenance": []
  },
  "deepnote": {
   "is_reactive": false
  },
  "deepnote_execution_queue": [],
  "deepnote_notebook_id": "f6befe7b-f492-46f9-9daa-b604daf8480d",
  "gpuClass": "standard",
  "kernelspec": {
   "display_name": "Python 3 (ipykernel)",
   "language": "python",
   "name": "python3"
  },
  "language_info": {
   "codemirror_mode": {
    "name": "ipython",
    "version": 3
   },
   "file_extension": ".py",
   "mimetype": "text/x-python",
   "name": "python",
   "nbconvert_exporter": "python",
   "pygments_lexer": "ipython3",
   "version": "3.9.12"
  }
 },
 "nbformat": 4,
 "nbformat_minor": 1
}
