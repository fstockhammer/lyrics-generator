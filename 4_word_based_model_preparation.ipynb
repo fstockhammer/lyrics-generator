{
 "cells": [
  {
   "cell_type": "markdown",
   "metadata": {
    "cell_id": "657db6d5-17d0-4811-9a01-cb012c63d6bf",
    "deepnote_cell_type": "text-cell-h1",
    "formattedRanges": [],
    "id": "jehXeXNHmclc",
    "is_collapsed": false,
    "tags": []
   },
   "source": [
    "# 4. Word-Based Modelling Preparation"
   ]
  },
  {
   "cell_type": "markdown",
   "metadata": {
    "id": "jOfrhR-9bFfh"
   },
   "source": [
    "In this notebook, the lyrics are modified and prepared such that the language model can be trained. In order to do so, some further processing steps are needed as the model architecture works with numbers instead of words. Furthermore, some cleaning of the data will be done before that.<br><br>\n",
    "__Note:__ Training the model will be done in the next notebook."
   ]
  },
  {
   "cell_type": "code",
   "execution_count": null,
   "metadata": {
    "cell_id": "00001-985082fc-d61d-4aca-812e-7b9c3c7e2211",
    "colab": {
     "base_uri": "https://localhost:8080/"
    },
    "deepnote_cell_height": 117,
    "deepnote_cell_type": "code",
    "deepnote_to_be_reexecuted": false,
    "executionInfo": {
     "elapsed": 4162,
     "status": "ok",
     "timestamp": 1663875368717,
     "user": {
      "displayName": "Felix Stockhammer (Stocki198)",
      "userId": "00639432236174564081"
     },
     "user_tz": -120
    },
    "execution_millis": 3,
    "execution_start": 1656422208266,
    "id": "LL9i5KbCmclg",
    "outputId": "c6a0c021-a9b5-4abb-9511-a863945724c6",
    "source_hash": "b4788a64",
    "tags": []
   },
   "outputs": [],
   "source": [
    "import re\n",
    "import numpy as np\n",
    "import string\n",
    "import collections # to count frequency of tokens\n",
    "!pip install more_itertools # for splitting list into sublists\n",
    "from more_itertools import split_before \n",
    "import tensorflow as tf\n",
    "from tensorflow.data import Dataset\n",
    "import matplotlib.pyplot as plt\n",
    "import nltk\n",
    "nltk.download('averaged_perceptron_tagger') # for using default pos_tag\n",
    "nltk.download('universal_tagset') # for using pos_tag with tagset = \"universal\""
   ]
  },
  {
   "cell_type": "markdown",
   "metadata": {
    "id": "AWp5wIbciPum"
   },
   "source": [
    "## Tokenizing"
   ]
  },
  {
   "cell_type": "code",
   "execution_count": 1,
   "metadata": {
    "id": "qDegVYgBjjhY"
   },
   "outputs": [],
   "source": [
    "# load lyrics\n",
    "with open(\"./data/lyrics.txt\", encoding=\"utf-8\") as f:\n",
    "    lyrics = f.read()"
   ]
  },
  {
   "cell_type": "code",
   "execution_count": 2,
   "metadata": {
    "colab": {
     "base_uri": "https://localhost:8080/"
    },
    "executionInfo": {
     "elapsed": 10,
     "status": "ok",
     "timestamp": 1663661935501,
     "user": {
      "displayName": "Felix Stockhammer (Stocki198)",
      "userId": "00639432236174564081"
     },
     "user_tz": -120
    },
    "id": "2eWCC8ngo9Hb",
    "outputId": "64139a9b-f60c-434b-bcbd-2d36635a86e2"
   },
   "outputs": [
    {
     "name": "stdout",
     "output_type": "stream",
     "text": [
      "49387903\n"
     ]
    }
   ],
   "source": [
    "# number of lines\n",
    "print(len(lyrics))"
   ]
  },
  {
   "cell_type": "code",
   "execution_count": null,
   "metadata": {
    "id": "mH55kfavQ6-W"
   },
   "outputs": [],
   "source": [
    "# only take first 1000 lyrics\n",
    "#re.findall(\"<START>\", lyrics)\n",
    "# end = [string.start() for string in re.finditer(r\"<START>\" , lyrics)][1001]\n",
    "# lyrics = lyrics[0:end]\n",
    "# print(len(lyrics))"
   ]
  },
  {
   "cell_type": "markdown",
   "metadata": {
    "id": "ylcEOi5Sb2JH"
   },
   "source": [
    "In order to work with the lyrics, the songs should be split up into lists (tokenized). Furthermore, in order to reduce the number of words, all are turned into lowercase."
   ]
  },
  {
   "cell_type": "code",
   "execution_count": 3,
   "metadata": {
    "id": "M9UKK8xG9z3g"
   },
   "outputs": [],
   "source": [
    "# function to convert words into tokens and store each song in a separate list\n",
    "def tokenize(text: str):\n",
    "\n",
    "  # turn to all lowercase to reduce vocabulary size\n",
    "  text = text.lower()\n",
    "\n",
    "  # remove punctuation but keep <> for <START>\n",
    "  punctuation = \"\".join([punct for punct in string.punctuation if punct not in {\"<\", \">\", \"'\"}])\n",
    "  for punct in punctuation:\n",
    "      text = text.replace(punct, ' '+punct+' ')\n",
    "\n",
    "  # split by whitespace and newline, keep newline character\n",
    "  words = re.split(r\"( |\\n)\", text)\n",
    "\n",
    "  # remove whitespace from list\n",
    "  unwanted = {\"\", \" \"}\n",
    "  words = [elem for elem in words if elem not in unwanted]\n",
    "\n",
    "  # split list into sublists (1 list per song)\n",
    "  # there should be a strict separation between songs, ie. the last words from one\n",
    "  #  song should not be used to predict the first words from the next song\n",
    "  words = list(split_before(words, lambda x: x == \"<start>\"))\n",
    "\n",
    "  # remove <start> tag (= first token)\n",
    "  words = [song[1:] for song in words]\n",
    "\n",
    "  # remove \"\\n\" as first token from the songs\n",
    "  songs = []\n",
    "  for i, song in enumerate(words):\n",
    "    while song[0] == \"\\n\":\n",
    "      song = song[1:]\n",
    "    songs.append(song)\n",
    "  \n",
    "  # returns nested list (1 song = 1 list)\n",
    "  return(songs)"
   ]
  },
  {
   "cell_type": "code",
   "execution_count": null,
   "metadata": {
    "id": "VNXceqmW-A3s"
   },
   "outputs": [],
   "source": [
    "words = tokenize(lyrics)"
   ]
  },
  {
   "cell_type": "code",
   "execution_count": null,
   "metadata": {
    "colab": {
     "base_uri": "https://localhost:8080/"
    },
    "executionInfo": {
     "elapsed": 8,
     "status": "ok",
     "timestamp": 1663661949302,
     "user": {
      "displayName": "Felix Stockhammer (Stocki198)",
      "userId": "00639432236174564081"
     },
     "user_tz": -120
    },
    "id": "0p-aT6pmLmb3",
    "outputId": "54dbb1ab-d998-49d2-bd0a-8cdb57e24c6f"
   },
   "outputs": [
    {
     "data": {
      "text/plain": [
       "['there', \"ain't\", 'no', 'gold', 'in', 'this', 'river', '\\n', 'that', \"i've\", 'been', \"washin'\", 'my', 'hands', 'in', 'forever', '\\n', 'i', 'know', 'there', 'is', 'hope', 'in', 'these', 'waters', '\\n', 'but', 'i', \"can't\", 'bring', 'myself', 'to', 'swim', '\\n', 'when', 'i', 'am', 'drowning', 'in', 'this', 'silence', '\\n', 'baby', ',', 'let', 'me', 'in', '\\n', '\\n', 'go', 'easy', 'on', 'me', ',', 'baby', '\\n', 'i', 'was', 'still', 'a', 'child', '\\n', \"didn't\", 'get', 'the', 'chance', 'to', '\\n', 'feel', 'the', 'world', 'around', 'me', '\\n', 'i', 'had', 'no', 'time', 'to', 'choose', 'what', 'i', 'chose', 'to', 'do', '\\n', 'so', 'go', 'easy', 'on', 'me', '\\n', '\\n', 'there', \"ain't\", 'no', 'room', 'for', 'things', 'to', 'change', '\\n', 'when', 'we', 'are', 'both', 'so', 'deeply', 'stuck', 'in', 'our', 'ways', '\\n', 'you', \"can't\", 'deny', 'how', 'hard', 'i', 'have', 'tried', '\\n', 'i', 'changed', 'who', 'i', 'was', 'to', 'put', 'you', 'both', 'first', '\\n', 'but', 'now', 'i', 'give', 'up', '\\n', '\\n', 'go', 'easy', 'on', 'mе', ',', 'baby', '\\n', 'i', 'was', 'still', 'a', 'child', '\\n', \"didn't\", 'get', 'the', 'chance', 'to', '\\n', 'feel', 'thе', 'world', 'around', 'me', '\\n', 'had', 'no', 'time', 'to', 'choose', 'what', 'i', 'chose', 'to', 'do', '\\n', 'so', 'go', 'easy', 'on', 'me', '\\n', 'i', 'had', 'good', 'intentions', '\\n', 'and', 'the', 'highest', 'hopes', '\\n', 'but', 'i', 'know', 'right', 'now', '\\n', 'it', 'probably', \"doesn't\", 'even', 'show', '\\n', '\\n', 'go', 'easy', 'on', 'me', ',', 'baby', '\\n', 'i', 'was', 'still', 'a', 'child', '\\n', 'i', \"didn't\", 'get', 'the', 'chance', 'to', '\\n', 'feel', 'the', 'world', 'around', 'me', '\\n', 'i', 'had', 'no', 'time', 'to', 'choose', 'what', 'i', 'chose', 'to', 'do', '\\n', 'so', 'go', 'easy', 'on', 'me', '\\n']"
      ]
     },
     "execution_count": 11,
     "metadata": {},
     "output_type": "execute_result"
    }
   ],
   "source": [
    "words[0]"
   ]
  },
  {
   "cell_type": "code",
   "execution_count": null,
   "metadata": {
    "colab": {
     "base_uri": "https://localhost:8080/"
    },
    "executionInfo": {
     "elapsed": 7,
     "status": "ok",
     "timestamp": 1663661949303,
     "user": {
      "displayName": "Felix Stockhammer (Stocki198)",
      "userId": "00639432236174564081"
     },
     "user_tz": -120
    },
    "id": "491p46jHa8w_",
    "outputId": "f018499c-9e81-4ee1-eeed-dea2e6c3ad6a"
   },
   "outputs": [
    {
     "data": {
      "text/plain": [
       "15496"
      ]
     },
     "execution_count": 13,
     "metadata": {},
     "output_type": "execute_result"
    }
   ],
   "source": [
    "# number of songs\n",
    "len(words)"
   ]
  },
  {
   "cell_type": "markdown",
   "metadata": {
    "id": "5HLWaaT-cQHp"
   },
   "source": [
    "Next, we count the occurences of each word to find words that occur only a few times. They will not be very useful for our model, as the model cannot really learn what follows after them when there are is only a little amount of training data."
   ]
  },
  {
   "cell_type": "code",
   "execution_count": null,
   "metadata": {
    "id": "L4L7JDcnzqUW"
   },
   "outputs": [],
   "source": [
    "# count words\n",
    "all_words = [x for xs in words for x in xs]\n",
    "c = collections.Counter(all_words)"
   ]
  },
  {
   "cell_type": "code",
   "execution_count": null,
   "metadata": {
    "colab": {
     "base_uri": "https://localhost:8080/"
    },
    "executionInfo": {
     "elapsed": 13,
     "status": "ok",
     "timestamp": 1663661951407,
     "user": {
      "displayName": "Felix Stockhammer (Stocki198)",
      "userId": "00639432236174564081"
     },
     "user_tz": -120
    },
    "id": "jE4N-1xR8xgG",
    "outputId": "abc3625f-56d0-46db-cf32-c749aa07b3d9"
   },
   "outputs": [
    {
     "data": {
      "text/plain": [
       "['much', 'too', 'late', '\\n', 'and', 'you', 'deserve', 'someone', 'better', '\\n', '\\n', 'save', 'your', 'tears', 'for', 'another', 'day', '(', 'oh', 'yeah', ')', '\\n', 'save', 'your', 'tears', 'for', 'another', 'day', '(', 'yeah', ')', '\\n', '\\n', 'i', \"don't\", 'know', 'why', 'i', 'run', 'away', '\\n', \"i'll\", 'make', 'you', 'cry', 'when', 'i', 'run', 'away', '\\n', 'save', 'your', 'tears', 'for', 'another', 'day', '\\n', 'ooh', ',', 'girl', ',', 'i', 'said', '(', 'ah', ')', '\\n', 'save', 'your', 'tears', 'for', 'another', 'day', '(', 'ah', ')', '\\n', '\\n', 'save', 'your', 'tears', 'for', 'another', 'day', '(', 'ah', ')', '\\n', 'save', 'your', 'tears', 'for', 'another', 'day', '(', 'ah', ')', '\\n', 'i', \"wouldn't\"]"
      ]
     },
     "execution_count": 15,
     "metadata": {},
     "output_type": "execute_result"
    }
   ],
   "source": [
    "all_words[10000:10100]"
   ]
  },
  {
   "cell_type": "code",
   "execution_count": null,
   "metadata": {
    "colab": {
     "base_uri": "https://localhost:8080/"
    },
    "executionInfo": {
     "elapsed": 8,
     "status": "ok",
     "timestamp": 1663661951407,
     "user": {
      "displayName": "Felix Stockhammer (Stocki198)",
      "userId": "00639432236174564081"
     },
     "user_tz": -120
    },
    "id": "wlaIqDPk21Ds",
    "outputId": "ef4bf5e6-31f6-4fde-95c7-6a2dfff3d44c"
   },
   "outputs": [
    {
     "name": "stdout",
     "output_type": "stream",
     "text": [
      "number of words before filter: 98557\n",
      "number of words after filter: 24990\n"
     ]
    }
   ],
   "source": [
    "# filter out uncommon words, s.t. only words that occur more than x times are kept\n",
    "MIN_OCCURENCE = 7\n",
    "dictionary = dict(c)\n",
    "print(\"number of words before filter: {}\".format(len(dictionary)))\n",
    "uncommon_words = sorted({k for k, v in dictionary.items() if v < MIN_OCCURENCE})\n",
    "dictionary = sorted({k for k, v in dictionary.items() if v >= MIN_OCCURENCE})\n",
    "print(\"number of words after filter: {}\".format(len(dictionary)))"
   ]
  },
  {
   "cell_type": "code",
   "execution_count": null,
   "metadata": {
    "colab": {
     "base_uri": "https://localhost:8080/"
    },
    "executionInfo": {
     "elapsed": 5,
     "status": "ok",
     "timestamp": 1663661951407,
     "user": {
      "displayName": "Felix Stockhammer (Stocki198)",
      "userId": "00639432236174564081"
     },
     "user_tz": -120
    },
    "id": "aLwLwjsPkThB",
    "outputId": "7d8c2c05-b50a-49be-cf87-1238f62b2ea2"
   },
   "outputs": [
    {
     "data": {
      "text/plain": [
       "['biddles', 'biddly', 'biddy’s', 'biden', 'bides', 'bidet', 'bidets', 'biding', 'bidness', 'bidou', 'biedermeyer', 'biennale', 'bienvenida', 'bienvenido', 'bienvenidos', 'bierhiven', 'biff', 'bifocal', 'bifurcated', \"big's\", 'bigalow', 'bigbagbone', 'bigboy', 'bigdud', 'bigfeet', 'bigga', \"biggavel'\", \"bigger's\", \"bigges'\", 'biggidy', \"biggie's\", 'biggies', 'biggie’s', 'biggin', \"biggin'\", 'bigging', 'biggio', 'biggish', 'biggity', 'biggood', \"biggs'\", 'biggy', 'biggz', 'bighead', 'bighorn', 'bight', 'bigness', 'bigot', 'bigotes', 'bigotry', 'bigots', 'bigrented', 'bigrob', 'bigslaps', 'bigsplash', 'biguidd', 'bigwig', 'bigwigs', 'big—', 'big’in', 'biitch', 'bijan', 'bikers', 'bikeygels', \"bikin'\", 'bil', \"bil'\", 'bilal', 'bilaws', 'bilbos', 'bile', 'bilge', 'biliary', 'biling', 'bilingual', 'bilious', 'bilive', 'bilks', \"bill'\", \"bill's\", 'billable', 'billers', 'billet', 'billets', 'billfold', 'billi', 'billiard', 'billiards', 'billies', 'billin', \"billin'\", 'billing', 'billington', 'billionaires', 'billions—what', 'billis', 'billot', 'billowed', 'billowing', 'billowy']"
      ]
     },
     "execution_count": 17,
     "metadata": {},
     "output_type": "execute_result"
    }
   ],
   "source": [
    "uncommon_words[8000:8100]"
   ]
  },
  {
   "cell_type": "markdown",
   "metadata": {},
   "source": [
    "## Handling uncommon words"
   ]
  },
  {
   "cell_type": "markdown",
   "metadata": {
    "id": "rqU0esy-gR-J"
   },
   "source": [
    "Instead of deleting uncommon words, we replace them with their word-type, eg. noun, verb etc. With this, we don't have to omit sequences that contain these words and the model can still learn some basic sentence structure using them. This procedure is needed to **allow our model to work with user input that contains a word that is not in the dictionary** of our model."
   ]
  },
  {
   "cell_type": "code",
   "execution_count": null,
   "metadata": {
    "colab": {
     "base_uri": "https://localhost:8080/"
    },
    "executionInfo": {
     "elapsed": 5905,
     "status": "ok",
     "timestamp": 1663661957309,
     "user": {
      "displayName": "Felix Stockhammer (Stocki198)",
      "userId": "00639432236174564081"
     },
     "user_tz": -120
    },
    "id": "OvHxq5uZkIYp",
    "outputId": "9f52c3b5-fa70-41eb-fb3c-c5a7687c905f"
   },
   "outputs": [
    {
     "name": "stdout",
     "output_type": "stream",
     "text": [
      "[('biddles', 'NOUN'), ('biddly', 'ADV'), ('biddy’s', 'VERB'), ('biden', 'ADJ'), ('bides', 'NOUN'), ('bidet', 'VERB'), ('bidets', 'NOUN'), ('biding', 'VERB'), ('bidness', 'NOUN'), ('bidou', 'NOUN'), ('biedermeyer', 'NOUN'), ('biennale', 'NOUN'), ('bienvenida', 'NOUN'), ('bienvenido', 'NOUN'), ('bienvenidos', 'VERB'), ('bierhiven', 'ADV'), ('biff', 'ADJ'), ('bifocal', 'ADJ'), ('bifurcated', 'VERB'), (\"big's\", 'NOUN'), ('bigalow', 'ADP'), ('bigbagbone', 'NOUN'), ('bigboy', 'NOUN'), ('bigdud', 'NOUN'), ('bigfeet', 'NOUN'), ('bigga', 'NOUN'), (\"biggavel'\", 'NOUN'), (\"bigger's\", 'NOUN'), (\"bigges'\", 'NOUN'), ('biggidy', 'NOUN'), (\"biggie's\", 'NOUN'), ('biggies', 'NOUN'), ('biggie’s', 'VERB'), ('biggin', 'NOUN'), (\"biggin'\", 'NOUN'), ('bigging', 'VERB'), ('biggio', 'ADJ'), ('biggish', 'ADJ'), ('biggity', 'NOUN'), ('biggood', 'NOUN'), (\"biggs'\", 'NOUN'), ('biggy', 'NOUN'), ('biggz', 'NOUN'), ('bighead', 'NOUN'), ('bighorn', 'VERB'), ('bight', 'ADJ'), ('bigness', 'NOUN'), ('bigot', 'VERB'), ('bigotes', 'NOUN'), ('bigotry', 'VERB'), ('bigots', 'NOUN'), ('bigrented', 'VERB'), ('bigrob', 'ADJ'), ('bigslaps', 'NOUN'), ('bigsplash', 'VERB'), ('biguidd', 'NOUN'), ('bigwig', 'NOUN'), ('bigwigs', 'NOUN'), ('big—', 'VERB'), ('big’in', 'ADJ'), ('biitch', 'NOUN'), ('bijan', 'NOUN'), ('bikers', 'NOUN'), ('bikeygels', 'VERB'), (\"bikin'\", 'NOUN'), ('bil', 'NOUN'), (\"bil'\", 'NOUN'), ('bilal', 'NOUN'), ('bilaws', 'NOUN'), ('bilbos', 'NOUN'), ('bile', 'ADP'), ('bilge', 'NOUN'), ('biliary', 'ADJ'), ('biling', 'VERB'), ('bilingual', 'ADJ'), ('bilious', 'ADJ'), ('bilive', 'ADJ'), ('bilks', 'NOUN'), (\"bill'\", 'VERB'), (\"bill's\", 'NOUN'), ('billable', 'ADJ'), ('billers', 'NOUN'), ('billet', 'VERB'), ('billets', 'NOUN'), ('billfold', 'VERB'), ('billi', 'ADJ'), ('billiard', 'NOUN'), ('billiards', 'NOUN'), ('billies', 'NOUN'), ('billin', 'VERB'), (\"billin'\", 'ADP'), ('billing', 'VERB'), ('billington', 'NOUN'), ('billionaires', 'NOUN'), ('billions—what', 'ADP'), ('billis', 'NOUN'), ('billot', 'NOUN'), ('billowed', 'VERB'), ('billowing', 'VERB'), ('billowy', 'NOUN')]\n"
     ]
    }
   ],
   "source": [
    "# get POS tag of uncommon words (ie. if it's a noun, verb etc.)\n",
    "# replace uncommon word with it's tag\n",
    "pos = nltk.pos_tag(uncommon_words, tagset = \"universal\")\n",
    "print(pos[8000:8100])\n",
    "# consider using tagset = \"universal\" which only returns NOUN, ADJ etc.\n",
    "# only keep tags\n",
    "pos = [\"<\" + tag + \">\" for (word, tag) in pos]"
   ]
  },
  {
   "cell_type": "code",
   "execution_count": null,
   "metadata": {
    "colab": {
     "base_uri": "https://localhost:8080/"
    },
    "executionInfo": {
     "elapsed": 269,
     "status": "ok",
     "timestamp": 1663875405379,
     "user": {
      "displayName": "Felix Stockhammer (Stocki198)",
      "userId": "00639432236174564081"
     },
     "user_tz": -120
    },
    "id": "SheLxlGSnw0N",
    "outputId": "69c51ddd-c1ed-46eb-979c-b2af68f19c9a"
   },
   "outputs": [
    {
     "data": {
      "text/plain": [
       "[('Lumos', 'NOUN')]"
      ]
     },
     "execution_count": 3,
     "metadata": {},
     "output_type": "execute_result"
    }
   ],
   "source": [
    "nltk.pos_tag([\"Lumos\"], tagset = \"universal\")"
   ]
  },
  {
   "cell_type": "code",
   "execution_count": null,
   "metadata": {
    "colab": {
     "base_uri": "https://localhost:8080/"
    },
    "executionInfo": {
     "elapsed": 5,
     "status": "ok",
     "timestamp": 1663875545552,
     "user": {
      "displayName": "Felix Stockhammer (Stocki198)",
      "userId": "00639432236174564081"
     },
     "user_tz": -120
    },
    "id": "W5_FAuN5s9tz",
    "outputId": "a01d36eb-5fd6-4590-c553-2061c5ee2734"
   },
   "outputs": [
    {
     "data": {
      "text/plain": [
       "[('wait', 'NOUN'), ('until', 'ADP')]"
      ]
     },
     "execution_count": 14,
     "metadata": {},
     "output_type": "execute_result"
    }
   ],
   "source": [
    "nltk.pos_tag([\"wait\",\"until\"], tagset = \"universal\")"
   ]
  },
  {
   "cell_type": "code",
   "execution_count": null,
   "metadata": {
    "colab": {
     "base_uri": "https://localhost:8080/"
    },
    "executionInfo": {
     "elapsed": 6,
     "status": "ok",
     "timestamp": 1663661957310,
     "user": {
      "displayName": "Felix Stockhammer (Stocki198)",
      "userId": "00639432236174564081"
     },
     "user_tz": -120
    },
    "id": "cFdoKVMCo3zd",
    "outputId": "6fe08bde-5673-4c97-d7c6-edb552544967"
   },
   "outputs": [
    {
     "data": {
      "text/plain": [
       "array(['<.>', '<ADJ>', '<ADP>', '<ADV>', '<CONJ>', '<DET>', '<NOUN>',\n",
       "       '<NUM>', '<PRON>', '<PRT>', '<VERB>', '<X>'], dtype='<U6')"
      ]
     },
     "execution_count": 20,
     "metadata": {},
     "output_type": "execute_result"
    }
   ],
   "source": [
    "# there are 12 tag-types\n",
    "np.unique(pos)"
   ]
  },
  {
   "cell_type": "code",
   "execution_count": null,
   "metadata": {
    "id": "V1KpJjwGqBYJ"
   },
   "outputs": [],
   "source": [
    "# create dictionary of uncommon word : tag\n",
    "pos_dict = dict(zip(uncommon_words, pos))"
   ]
  },
  {
   "cell_type": "code",
   "execution_count": null,
   "metadata": {
    "id": "OsQRm0ufpIYw"
   },
   "outputs": [],
   "source": [
    "# add tags to dictionary\n",
    "dictionary.extend(np.unique(pos))\n",
    "# dictionary[len(dictionary) - 13:len(dictionary) - 1]"
   ]
  },
  {
   "cell_type": "code",
   "execution_count": null,
   "metadata": {
    "colab": {
     "base_uri": "https://localhost:8080/"
    },
    "executionInfo": {
     "elapsed": 1926,
     "status": "ok",
     "timestamp": 1663661959233,
     "user": {
      "displayName": "Felix Stockhammer (Stocki198)",
      "userId": "00639432236174564081"
     },
     "user_tz": -120
    },
    "id": "MkRlca_wq3_G",
    "outputId": "149e785a-37df-4680-d66a-5bd2c080f5d1"
   },
   "outputs": [
    {
     "name": "stdout",
     "output_type": "stream",
     "text": [
      "replaced words: 151972\n"
     ]
    }
   ],
   "source": [
    "# replace uncommon words with their tags\n",
    "count_replaced = 0\n",
    "for i, song in enumerate(words):\n",
    "  for j, word in enumerate(song):\n",
    "    if word in pos_dict:\n",
    "      #print((i,j, word))\n",
    "      #print(words[i][j])\n",
    "      words[i][j] = pos_dict[word]\n",
    "      count_replaced += 1\n",
    "print(\"replaced words:\", count_replaced)    "
   ]
  },
  {
   "cell_type": "code",
   "execution_count": null,
   "metadata": {
    "colab": {
     "base_uri": "https://localhost:8080/"
    },
    "executionInfo": {
     "elapsed": 347,
     "status": "ok",
     "timestamp": 1663661959578,
     "user": {
      "displayName": "Felix Stockhammer (Stocki198)",
      "userId": "00639432236174564081"
     },
     "user_tz": -120
    },
    "id": "MkhmCb4qCNv_",
    "outputId": "1845f9bd-9c0a-4fd6-9a33-5013a46fa8f1"
   },
   "outputs": [
    {
     "data": {
      "text/plain": [
       "[('\\n', 984638), (',', 613673), ('the', 319020), ('i', 259627), ('you', 245381), ('to', 178527), ('and', 178509), ('a', 165695), ('.', 130654), (')', 124164)]"
      ]
     },
     "execution_count": 25,
     "metadata": {},
     "output_type": "execute_result"
    }
   ],
   "source": [
    "# most common words in our trainings lyrics\n",
    "c.most_common(10)"
   ]
  },
  {
   "cell_type": "markdown",
   "metadata": {},
   "source": [
    "## Create dictionaries for switching between numeric and real representation"
   ]
  },
  {
   "cell_type": "markdown",
   "metadata": {
    "id": "2hl4ousHglWk"
   },
   "source": [
    "An important step is to create two dictionaries. One that maps a word to it's numerical representation (index) and one that does it the other way around. Using them, we can switch between representations and train the model on numerical data which can then later be changed back to the actual words."
   ]
  },
  {
   "cell_type": "code",
   "execution_count": null,
   "metadata": {
    "cell_id": "00010-6f7184f9-6504-402f-b0db-5528bc0f553b",
    "deepnote_cell_height": 171,
    "deepnote_cell_type": "code",
    "deepnote_to_be_reexecuted": false,
    "execution_millis": 3,
    "execution_start": 1656422209318,
    "id": "H_MTimOymclm",
    "source_hash": "7382f4fd",
    "tags": []
   },
   "outputs": [],
   "source": [
    "# define two dictionaries for mapping words to numbers and back\n",
    "word_to_index = dict((c, i) for i, c in enumerate(dictionary))\n",
    "index_to_word = dict((i, c) for i, c in enumerate(dictionary))"
   ]
  },
  {
   "cell_type": "code",
   "execution_count": null,
   "metadata": {
    "cell_id": "00011-e52859f2-8577-4380-9be1-356cbf4b40fb",
    "colab": {
     "base_uri": "https://localhost:8080/"
    },
    "deepnote_cell_height": 708,
    "deepnote_cell_type": "code",
    "deepnote_output_heights": [
     611
    ],
    "deepnote_to_be_reexecuted": false,
    "executionInfo": {
     "elapsed": 14,
     "status": "ok",
     "timestamp": 1663661959580,
     "user": {
      "displayName": "Felix Stockhammer (Stocki198)",
      "userId": "00639432236174564081"
     },
     "user_tz": -120
    },
    "execution_millis": 5,
    "execution_start": 1656422209323,
    "id": "tQFtOnMEmclm",
    "outputId": "cbb9d3ca-2264-4055-e909-dfd253402232",
    "source_hash": "502c6875",
    "tags": []
   },
   "outputs": [
    {
     "data": {
      "text/plain": [
       "[(0, '\\n'), (1, '!'), (2, '\"'), (3, '$'), (4, '%'), (5, '&'), (6, \"'\"), (7, \"'03\"), (8, \"'09\"), (9, \"'42\"), (10, \"'64\"), (11, \"'65\"), (12, \"'69\"), (13, \"'70s\"), (14, \"'80s\"), (15, \"'87\"), (16, \"'88\"), (17, \"'89\"), (18, \"'90s\"), (19, \"'92\")]"
      ]
     },
     "execution_count": 27,
     "metadata": {},
     "output_type": "execute_result"
    }
   ],
   "source": [
    "list(index_to_word.items())[0:20]"
   ]
  },
  {
   "cell_type": "markdown",
   "metadata": {},
   "source": [
    "## Splitting into predictor / target"
   ]
  },
  {
   "cell_type": "markdown",
   "metadata": {
    "id": "4u9ZHRJ2c4-n"
   },
   "source": [
    "The model works with sequential data (our song lyrics). It takes a sequence of fixed size (eg. 5 words / tokens) to predict the next word. For example:<br><br>\n",
    "['there', \"ain't\", 'no', 'gold', 'in'] -> ['this']<br>\n",
    "[\"ain't\", 'no', 'gold', 'in', 'this'] -> ['river']<br><br>\n",
    "and so on.\n"
   ]
  },
  {
   "cell_type": "markdown",
   "metadata": {
    "id": "iCDldnmucieZ"
   },
   "source": [
    "In order to determine which sequence length the model should be trained on (eg. how long should the sequence be that can predict the next word?), the average distance between newline characters is calculated, which corresponds to the average length of lines in the song lyrics."
   ]
  },
  {
   "cell_type": "code",
   "execution_count": null,
   "metadata": {
    "colab": {
     "base_uri": "https://localhost:8080/"
    },
    "executionInfo": {
     "elapsed": 1299,
     "status": "ok",
     "timestamp": 1663661960872,
     "user": {
      "displayName": "Felix Stockhammer (Stocki198)",
      "userId": "00639432236174564081"
     },
     "user_tz": -120
    },
    "id": "KYTHtSU59Det",
    "outputId": "d12faaf5-32a8-4516-877c-3fb40467f95f"
   },
   "outputs": [
    {
     "data": {
      "text/plain": [
       "array([7214, 5648, 5506, ...,    1,    1,    1])"
      ]
     },
     "execution_count": 29,
     "metadata": {},
     "output_type": "execute_result"
    }
   ],
   "source": [
    "# find average distance between newline characters to determine optimal Sequence Length\n",
    "# = average length of lines in lyrics\n",
    "positions = [i for i, x in enumerate(all_words) if x == \"\\n\"]\n",
    "\n",
    "diff = np.diff(positions)\n",
    "# sort from high to low\n",
    "diff[::-1].sort()\n",
    "# some huge outliers on the higher end\n",
    "diff"
   ]
  },
  {
   "cell_type": "code",
   "execution_count": null,
   "metadata": {
    "colab": {
     "base_uri": "https://localhost:8080/",
     "height": 265
    },
    "executionInfo": {
     "elapsed": 561,
     "status": "ok",
     "timestamp": 1663661961428,
     "user": {
      "displayName": "Felix Stockhammer (Stocki198)",
      "userId": "00639432236174564081"
     },
     "user_tz": -120
    },
    "id": "9J-vJnSR-QOw",
    "outputId": "6ead8b13-2347-4684-995d-ba18f922988c"
   },
   "outputs": [
    {
     "data": {
      "image/png": "[encoded data removed]",
      "text/plain": [
       "<Figure size 432x288 with 1 Axes>"
      ]
     },
     "metadata": {
      "needs_background": "light"
     },
     "output_type": "display_data"
    }
   ],
   "source": [
    "# treat high values and newline characters that follow each other as outliers\n",
    "plt.hist(diff[(diff > 1) & (diff < 40)])\n",
    "plt.show()"
   ]
  },
  {
   "cell_type": "code",
   "execution_count": null,
   "metadata": {
    "colab": {
     "base_uri": "https://localhost:8080/"
    },
    "executionInfo": {
     "elapsed": 10,
     "status": "ok",
     "timestamp": 1663661961428,
     "user": {
      "displayName": "Felix Stockhammer (Stocki198)",
      "userId": "00639432236174564081"
     },
     "user_tz": -120
    },
    "id": "TLV8D7lO9w_R",
    "outputId": "d3b8a76d-ee55-438b-84e6-4431767fe36b"
   },
   "outputs": [
    {
     "data": {
      "text/plain": [
       "9.331346001383288"
      ]
     },
     "execution_count": 31,
     "metadata": {},
     "output_type": "execute_result"
    }
   ],
   "source": [
    "# average lenght of line\n",
    "np.mean(diff[(diff > 1) & (diff < 40)])\n",
    "# ~ 10"
   ]
  },
  {
   "cell_type": "markdown",
   "metadata": {
    "id": "JM56l_krg8Gx"
   },
   "source": [
    "Next, we need to create the training data. As described before, it consists of sequences of a certain length as the X-data, and the following word as the Y-data. In order to not predict the first word of the next song by the last words of the previous song, we have created a nested list of lyrics which allows us to stop at the last word for each song."
   ]
  },
  {
   "cell_type": "code",
   "execution_count": null,
   "metadata": {
    "id": "nELrsnT5JZCJ"
   },
   "outputs": [],
   "source": [
    "# make sequences for every song seperately\n",
    "# take sequence lenght corresponding to the average line length in our dataset to provide more context\n",
    "SEQ_LENGTH = 10\n",
    "\n",
    "# sequences will be the predictor data and next_word the target\n",
    "sequences = []\n",
    "next_word = []"
   ]
  },
  {
   "cell_type": "code",
   "execution_count": null,
   "metadata": {
    "id": "clxLaZMtKGnx"
   },
   "outputs": [],
   "source": [
    "# number of songs\n",
    "N_SONGS = len(words)\n",
    "\n",
    "# number of tokens in each song (words)\n",
    "song_lengths = [len(x) for x in words]"
   ]
  },
  {
   "cell_type": "code",
   "execution_count": null,
   "metadata": {
    "colab": {
     "base_uri": "https://localhost:8080/"
    },
    "executionInfo": {
     "elapsed": 10,
     "status": "ok",
     "timestamp": 1663661961430,
     "user": {
      "displayName": "Felix Stockhammer (Stocki198)",
      "userId": "00639432236174564081"
     },
     "user_tz": -120
    },
    "id": "LoTlWnB_LMvl",
    "outputId": "03b23e3e-4bf5-46c4-8af6-18bd14e4f970"
   },
   "outputs": [
    {
     "data": {
      "text/plain": [
       "[249, 541, 791, 565, 501, 863, 650, 533, 807, 741]"
      ]
     },
     "execution_count": 34,
     "metadata": {},
     "output_type": "execute_result"
    }
   ],
   "source": [
    "song_lengths[0:10]"
   ]
  },
  {
   "cell_type": "code",
   "execution_count": null,
   "metadata": {
    "colab": {
     "base_uri": "https://localhost:8080/"
    },
    "executionInfo": {
     "elapsed": 40286,
     "status": "ok",
     "timestamp": 1663662001710,
     "user": {
      "displayName": "Felix Stockhammer (Stocki198)",
      "userId": "00639432236174564081"
     },
     "user_tz": -120
    },
    "id": "acnm-xDBKiKl",
    "outputId": "9e82c640-1cc5-4b18-da05-47444f979311"
   },
   "outputs": [
    {
     "name": "stdout",
     "output_type": "stream",
     "text": [
      "Number of sequences: 10315059\n",
      "Ignored sequences: 0\n"
     ]
    }
   ],
   "source": [
    "# loop over data to create context for the prediction (next word)\n",
    "# NOTE: Also included is code that would ignore sequences which contain uncommon words\n",
    "# BUT: uncommon words were above treated differently (replaced by tag)\n",
    "# code is kept in case we switch back to this approach\n",
    "uncommon = set(uncommon_words)\n",
    "count_ignored = 0\n",
    "\n",
    "# loop over every song\n",
    "for song in range(0, N_SONGS):\n",
    "\n",
    "  # for every song create sequences of x words plus the next one until the length of the song\n",
    "  for word in range(0, song_lengths[song] - SEQ_LENGTH - 1):\n",
    "\n",
    "    # take sentence of length SEQ_LENGTH + 1 (also take the next word)\n",
    "    sentence = words[song][word: word + SEQ_LENGTH + 1]\n",
    "\n",
    "    # if sentence has one of the uncommon words, skip it\n",
    "    if len(set(sentence).intersection(uncommon)) == 0: \n",
    "      sequences.append(sentence[0:SEQ_LENGTH])\n",
    "      next_word.append(sentence[SEQ_LENGTH])\n",
    "      #next_word.append(words[song][word + SEQ_LENGTH])\n",
    "    else:\n",
    "      count_ignored += 1\n",
    "\n",
    "print(\"Number of sequences:\", len(sequences))\n",
    "print(\"Ignored sequences:\", count_ignored) # should be 0"
   ]
  },
  {
   "cell_type": "code",
   "execution_count": null,
   "metadata": {
    "colab": {
     "base_uri": "https://localhost:8080/"
    },
    "executionInfo": {
     "elapsed": 17,
     "status": "ok",
     "timestamp": 1663662001710,
     "user": {
      "displayName": "Felix Stockhammer (Stocki198)",
      "userId": "00639432236174564081"
     },
     "user_tz": -120
    },
    "id": "y-IUxN_icsz2",
    "outputId": "817548f2-4cdf-4831-f18b-530313181ecd"
   },
   "outputs": [
    {
     "data": {
      "text/plain": [
       "[['hah', '\\n', 'but', 'these', 'niggas', 'bitches', 'like', '<NOUN>', ',', 'yeah'], ['\\n', 'but', 'these', 'niggas', 'bitches', 'like', '<NOUN>', ',', 'yeah', ',']]"
      ]
     },
     "execution_count": 36,
     "metadata": {},
     "output_type": "execute_result"
    }
   ],
   "source": [
    "sequences[1000:1002]"
   ]
  },
  {
   "cell_type": "code",
   "execution_count": null,
   "metadata": {
    "colab": {
     "base_uri": "https://localhost:8080/"
    },
    "executionInfo": {
     "elapsed": 14,
     "status": "ok",
     "timestamp": 1663662001710,
     "user": {
      "displayName": "Felix Stockhammer (Stocki198)",
      "userId": "00639432236174564081"
     },
     "user_tz": -120
    },
    "id": "4xGKdw6WexPC",
    "outputId": "97f55e49-5a5c-4360-943a-102e941e5ef6"
   },
   "outputs": [
    {
     "data": {
      "text/plain": [
       "[',', 'yeah']"
      ]
     },
     "execution_count": 37,
     "metadata": {},
     "output_type": "execute_result"
    }
   ],
   "source": [
    "next_word[1000:1002]"
   ]
  },
  {
   "cell_type": "markdown",
   "metadata": {
    "id": "Z1-JDqOEhliu"
   },
   "source": [
    "Now we turn to numerical representation by using our word_to_index dictionary."
   ]
  },
  {
   "cell_type": "code",
   "execution_count": null,
   "metadata": {
    "id": "Cma3glk5lfus"
   },
   "outputs": [],
   "source": [
    "x_vector = []\n",
    "y_vector = []\n",
    "\n",
    "# turn to numerical representation\n",
    "for seq in range(0, len(sequences)):\n",
    "  single_seq = []\n",
    "  for word in sequences[seq]:\n",
    "    single_seq.append(word_to_index[word])\n",
    "  \n",
    "  x_vector.append(single_seq)\n",
    "  y_vector.append(word_to_index[next_word[seq]])"
   ]
  },
  {
   "cell_type": "code",
   "execution_count": null,
   "metadata": {
    "colab": {
     "base_uri": "https://localhost:8080/"
    },
    "executionInfo": {
     "elapsed": 15,
     "status": "ok",
     "timestamp": 1663662045902,
     "user": {
      "displayName": "Felix Stockhammer (Stocki198)",
      "userId": "00639432236174564081"
     },
     "user_tz": -120
    },
    "id": "NPGrkBtFgKWI",
    "outputId": "2bdf2fb4-9684-45ac-fe8a-ce5cfb3b54bf"
   },
   "outputs": [
    {
     "data": {
      "text/plain": [
       "10315059"
      ]
     },
     "execution_count": 40,
     "metadata": {},
     "output_type": "execute_result"
    }
   ],
   "source": [
    "len(x_vector)"
   ]
  },
  {
   "cell_type": "code",
   "execution_count": null,
   "metadata": {
    "colab": {
     "base_uri": "https://localhost:8080/"
    },
    "executionInfo": {
     "elapsed": 9,
     "status": "ok",
     "timestamp": 1663662045902,
     "user": {
      "displayName": "Felix Stockhammer (Stocki198)",
      "userId": "00639432236174564081"
     },
     "user_tz": -120
    },
    "id": "uJ0gKT3nntgU",
    "outputId": "c29b7a92-40da-4924-a4b0-475e41dd632b"
   },
   "outputs": [
    {
     "data": {
      "text/plain": [
       "10315059"
      ]
     },
     "execution_count": 41,
     "metadata": {},
     "output_type": "execute_result"
    }
   ],
   "source": [
    "len(y_vector)"
   ]
  },
  {
   "cell_type": "code",
   "execution_count": null,
   "metadata": {
    "colab": {
     "base_uri": "https://localhost:8080/"
    },
    "executionInfo": {
     "elapsed": 6,
     "status": "ok",
     "timestamp": 1663662045902,
     "user": {
      "displayName": "Felix Stockhammer (Stocki198)",
      "userId": "00639432236174564081"
     },
     "user_tz": -120
    },
    "id": "2tq8kMKVgA6I",
    "outputId": "2d68dae7-347a-4a81-ba3b-4f8086c8205d"
   },
   "outputs": [
    {
     "data": {
      "text/plain": [
       "[[11621, 24302, 2045, 7111, 14895, 22208, 14007, 24553, 0, 24212], [24302, 2045, 7111, 14895, 22208, 14007, 24553, 0, 24212, 477]]"
      ]
     },
     "execution_count": 42,
     "metadata": {},
     "output_type": "execute_result"
    }
   ],
   "source": [
    "x_vector[10000:10002]"
   ]
  },
  {
   "cell_type": "code",
   "execution_count": null,
   "metadata": {
    "colab": {
     "base_uri": "https://localhost:8080/"
    },
    "executionInfo": {
     "elapsed": 6,
     "status": "ok",
     "timestamp": 1663662045903,
     "user": {
      "displayName": "Felix Stockhammer (Stocki198)",
      "userId": "00639432236174564081"
     },
     "user_tz": -120
    },
    "id": "jbaS7DIm89m2",
    "outputId": "862e9cae-e40b-48b3-8568-d30d9f94c91f"
   },
   "outputs": [
    {
     "data": {
      "text/plain": [
       "[477, 23992]"
      ]
     },
     "execution_count": 43,
     "metadata": {},
     "output_type": "execute_result"
    }
   ],
   "source": [
    "y_vector[10000:10002]"
   ]
  },
  {
   "cell_type": "markdown",
   "metadata": {
    "id": "BGAkrQEWhuWg"
   },
   "source": [
    "As the data is quite large (more than 10 million sequences and several tens of thousands of unique words), we create a Data Generator that allows us to create batches of data. See here: https://github.com/klaudia-nazarko/nlg-text-generation/blob/main/LSTM_class.py"
   ]
  },
  {
   "cell_type": "code",
   "execution_count": null,
   "metadata": {
    "id": "z0P7z7hc9r3-"
   },
   "outputs": [],
   "source": [
    "from tensorflow.keras.utils import Sequence"
   ]
  },
  {
   "cell_type": "code",
   "execution_count": null,
   "metadata": {
    "id": "DW891WiT9kd2"
   },
   "outputs": [],
   "source": [
    "# create class for fitting to a sequence of data\n",
    "# useful for multiprocessing\n",
    "class TextDataGenerator(Sequence):\n",
    "    def __init__(self, sequences, next_words, sequence_length, vocab_size, batch_size=32, shuffle=True, embedding=False):\n",
    "        self.batch_size = batch_size\n",
    "        self.sequences = sequences\n",
    "        self.next_words = next_words\n",
    "        self.sequence_length = sequence_length\n",
    "        self.vocab_size = vocab_size\n",
    "        self.shuffle = shuffle\n",
    "        self.embedding = embedding\n",
    "        self.on_epoch_end()\n",
    "\n",
    "    # must be implemented for class Sequence\n",
    "    def __len__(self):\n",
    "        return int(np.floor(len(self.sequences) / self.batch_size))\n",
    "\n",
    "    # must be implemented for class Sequence, gets batch at position index\n",
    "    def __getitem__(self, index):\n",
    "        # take sample of indexes, length = batch_size\n",
    "        indexes = self.indexes[index * self.batch_size: (index + 1) * self.batch_size]\n",
    "\n",
    "        # store relevant x and y data\n",
    "        sequences_batch = [self.sequences[k] for k in indexes]\n",
    "        next_words_batch = [self.next_words[k] for k in indexes]\n",
    "\n",
    "        if self.embedding:\n",
    "          X = np.array(sequences_batch)\n",
    "          y = keras.utils.to_categorical(next_words_batch, num_classes=self.vocab_size)\n",
    "        else:\n",
    "          X, y = self.__data_generation(sequences_batch, next_words_batch)\n",
    "\n",
    "        return X, y\n",
    "\n",
    "    def on_epoch_end(self):\n",
    "        self.indexes = np.arange(len(self.sequences)) # vector of length len(x_data)\n",
    "        if self.shuffle == True:\n",
    "            np.random.shuffle(self.indexes)\n",
    "\n",
    "    def __data_generation(self, sequences_batch, next_words_batch):\n",
    "        # create empty, 3 dimensional matrices\n",
    "        X = np.zeros((self.batch_size, self.sequence_length, self.vocab_size), dtype=bool)\n",
    "        y = np.zeros((self.batch_size, self.vocab_size), dtype=bool)\n",
    "\n",
    "        # fill matrices with 1 at the position of the word, essentially one-hot encoding\n",
    "        for i, seq in enumerate(sequences_batch):\n",
    "            for j, word in enumerate(seq):\n",
    "                X[i, j, word] = 1\n",
    "                y[i, next_words_batch[i]] = 1\n",
    "        return X, y"
   ]
  },
  {
   "cell_type": "code",
   "execution_count": null,
   "metadata": {
    "id": "a_JTTsIi91Nr"
   },
   "outputs": [],
   "source": [
    "BATCH_SIZE = 64\n",
    "VOCAB_SIZE = len(dictionary)\n",
    "\n",
    "params = {\n",
    "  'sequence_length': SEQ_LENGTH,\n",
    "  'vocab_size': VOCAB_SIZE,\n",
    "  'batch_size': BATCH_SIZE,\n",
    "  'shuffle': True\n",
    "}\n",
    "\n",
    "train_generator = TextDataGenerator(x_vector, y_vector, **params)"
   ]
  },
  {
   "cell_type": "code",
   "execution_count": null,
   "metadata": {
    "colab": {
     "base_uri": "https://localhost:8080/"
    },
    "executionInfo": {
     "elapsed": 9,
     "status": "ok",
     "timestamp": 1663662046539,
     "user": {
      "displayName": "Felix Stockhammer (Stocki198)",
      "userId": "00639432236174564081"
     },
     "user_tz": -120
    },
    "id": "5zxgM6Uv_DHt",
    "outputId": "7b3b79ec-1e1d-4b23-eeb7-51b3342a25a4"
   },
   "outputs": [
    {
     "name": "stdout",
     "output_type": "stream",
     "text": [
      "Size of Vocabulary: 25002\n",
      "Number of Sequences: 10315059\n"
     ]
    }
   ],
   "source": [
    "print(\"Size of Vocabulary: {}\".format(VOCAB_SIZE))\n",
    "print(\"Number of Sequences: {}\".format(len(sequences)))"
   ]
  },
  {
   "cell_type": "markdown",
   "metadata": {},
   "source": [
    "## Export Objects to use in the next notebooks"
   ]
  },
  {
   "cell_type": "code",
   "execution_count": null,
   "metadata": {
    "id": "SyXsaidog88F"
   },
   "outputs": [],
   "source": [
    "# Saving relevant objects for applying the model\n",
    "import pickle\n",
    "with open('./data/objs.pkl', 'wb') as f:\n",
    "    pickle.dump([c, dictionary, index_to_word, word_to_index, SEQ_LENGTH, VOCAB_SIZE, BATCH_SIZE], f)"
   ]
  },
  {
   "cell_type": "code",
   "execution_count": null,
   "metadata": {
    "id": "YEbCpkY4HnPV"
   },
   "outputs": [],
   "source": [
    "# saving relevant objects for training the model\n",
    "with open('./data/objs_rel.pkl', 'wb') as f:\n",
    "    pickle.dump([SEQ_LENGTH, VOCAB_SIZE, train_generator], f)"
   ]
  }
 ],
 "metadata": {
  "colab": {
   "collapsed_sections": [],
   "provenance": []
  },
  "deepnote": {
   "is_reactive": false
  },
  "deepnote_execution_queue": [],
  "deepnote_notebook_id": "3174b81f-1ca2-4cc7-8a6b-69ad39b69929",
  "gpuClass": "standard",
  "kernelspec": {
   "display_name": "Python 3 (ipykernel)",
   "language": "python",
   "name": "python3"
  },
  "language_info": {
   "codemirror_mode": {
    "name": "ipython",
    "version": 3
   },
   "file_extension": ".py",
   "mimetype": "text/x-python",
   "name": "python",
   "nbconvert_exporter": "python",
   "pygments_lexer": "ipython3",
   "version": "3.9.12"
  }
 },
 "nbformat": 4,
 "nbformat_minor": 1
}
