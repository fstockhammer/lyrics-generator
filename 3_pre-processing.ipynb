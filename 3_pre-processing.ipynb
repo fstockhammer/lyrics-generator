{
 "cells": [
  {
   "cell_type": "markdown",
   "metadata": {
    "cell_id": "52abae4f-8ec9-43dc-a237-3ba8f7ceb621",
    "deepnote_cell_type": "text-cell-h1",
    "formattedRanges": [],
    "id": "JUCxWUcyUITD",
    "is_collapsed": false,
    "tags": []
   },
   "source": [
    "# 3. Data Pre-Processing"
   ]
  },
  {
   "cell_type": "markdown",
   "metadata": {
    "cell_id": "bc054266-779f-45b0-8d6b-a1d493fcb6a9",
    "deepnote_cell_height": 195.39999389648438,
    "deepnote_cell_type": "markdown",
    "id": "3HSLPJLDUITE",
    "tags": []
   },
   "source": [
    "In this notebook, the data will be processed in order to be able to run our models on the data. Some previous processing steps that were already conducted in the previous notebooks include:\n",
    "*  The language of the song was determined using <mark>pycld2</mark> and non-English songs were filtered out.\n",
    "*  Songs without any lyrics have been filtered out.\n",
    "\n",
    "The end result of this notebook is a **lyrics.txt** file with all the lyrics that we have pasted together in a .txt file which will further be used for modelling.\n"
   ]
  },
  {
   "cell_type": "code",
   "execution_count": 4,
   "metadata": {
    "cell_id": "78cd8c85-f347-4b3d-8feb-b5fa95c5fee0",
    "colab": {
     "base_uri": "https://localhost:8080/"
    },
    "deepnote_cell_height": 275.6000061035156,
    "deepnote_cell_type": "code",
    "deepnote_to_be_reexecuted": false,
    "executionInfo": {
     "elapsed": 25691,
     "status": "ok",
     "timestamp": 1661952237765,
     "user": {
      "displayName": "Felix Stockhammer (Stocki198)",
      "userId": "00639432236174564081"
     },
     "user_tz": -120
    },
    "execution_millis": 5031,
    "execution_start": 1647447184492,
    "id": "zeXdjRHLUITE",
    "outputId": "f43267a4-8503-4f5e-93a4-0906187ae59e",
    "source_hash": "18bd2f6",
    "tags": []
   },
   "outputs": [],
   "source": [
    "# imports\n",
    "import pandas as pd\n",
    "import numpy as np\n",
    "import re\n",
    "from datetime import date"
   ]
  },
  {
   "cell_type": "code",
   "execution_count": 6,
   "metadata": {
    "cell_id": "db9563c5-9cfe-4241-945a-ed4f5e86aa70",
    "colab": {
     "base_uri": "https://localhost:8080/",
     "height": 441
    },
    "deepnote_cell_height": 431,
    "deepnote_cell_type": "code",
    "deepnote_to_be_reexecuted": false,
    "executionInfo": {
     "elapsed": 1323,
     "status": "ok",
     "timestamp": 1661952360023,
     "user": {
      "displayName": "Felix Stockhammer (Stocki198)",
      "userId": "00639432236174564081"
     },
     "user_tz": -120
    },
    "execution_millis": 587,
    "execution_start": 1647447157768,
    "id": "NGPrUk5BUITF",
    "outputId": "7cd1a7fc-cfd1-4594-b0f9-de32330bc724",
    "source_hash": "3c69fc1f",
    "tags": []
   },
   "outputs": [
    {
     "data": {
      "text/html": [
       "<div>\n",
       "<style scoped>\n",
       "    .dataframe tbody tr th:only-of-type {\n",
       "        vertical-align: middle;\n",
       "    }\n",
       "\n",
       "    .dataframe tbody tr th {\n",
       "        vertical-align: top;\n",
       "    }\n",
       "\n",
       "    .dataframe thead th {\n",
       "        text-align: right;\n",
       "    }\n",
       "</style>\n",
       "<table border=\"1\" class=\"dataframe\">\n",
       "  <thead>\n",
       "    <tr style=\"text-align: right;\">\n",
       "      <th></th>\n",
       "      <th>title</th>\n",
       "      <th>artist</th>\n",
       "      <th>url</th>\n",
       "      <th>lyrics</th>\n",
       "      <th>lang</th>\n",
       "      <th>lang_acc</th>\n",
       "      <th>sp_id</th>\n",
       "      <th>danceability</th>\n",
       "      <th>energy</th>\n",
       "      <th>key</th>\n",
       "      <th>loudness</th>\n",
       "      <th>mode</th>\n",
       "      <th>speechiness</th>\n",
       "      <th>acousticness</th>\n",
       "      <th>instrumentalness</th>\n",
       "      <th>liveness</th>\n",
       "      <th>valence</th>\n",
       "      <th>tempo</th>\n",
       "    </tr>\n",
       "  </thead>\n",
       "  <tbody>\n",
       "    <tr>\n",
       "      <th>0</th>\n",
       "      <td>Easy On Me</td>\n",
       "      <td>['Adele']</td>\n",
       "      <td>https://genius.com/Adele-easy-on-me-lyrics</td>\n",
       "      <td>\\r\\nThere ain't no gold in this river\\r\\nThat ...</td>\n",
       "      <td>en</td>\n",
       "      <td>99</td>\n",
       "      <td>0gplL1WMoJ6iYaPgMCL0gX</td>\n",
       "      <td>0.604</td>\n",
       "      <td>0.366</td>\n",
       "      <td>5.0</td>\n",
       "      <td>-7.519</td>\n",
       "      <td>1.0</td>\n",
       "      <td>0.0282</td>\n",
       "      <td>0.5780</td>\n",
       "      <td>0.000000</td>\n",
       "      <td>0.1330</td>\n",
       "      <td>0.130</td>\n",
       "      <td>141.981</td>\n",
       "    </tr>\n",
       "    <tr>\n",
       "      <th>1</th>\n",
       "      <td>Stay</td>\n",
       "      <td>['The Kid LAROI', ' Justin Bieber']</td>\n",
       "      <td>https://genius.com/The-kid-laroi-and-justin-bi...</td>\n",
       "      <td>\\r\\nI do the same thing I told you that I neve...</td>\n",
       "      <td>en</td>\n",
       "      <td>99</td>\n",
       "      <td>5HCyWlXZPP0y6Gqq8TgA20</td>\n",
       "      <td>0.591</td>\n",
       "      <td>0.764</td>\n",
       "      <td>1.0</td>\n",
       "      <td>-5.484</td>\n",
       "      <td>1.0</td>\n",
       "      <td>0.0483</td>\n",
       "      <td>0.0383</td>\n",
       "      <td>0.000000</td>\n",
       "      <td>0.1030</td>\n",
       "      <td>0.478</td>\n",
       "      <td>169.928</td>\n",
       "    </tr>\n",
       "    <tr>\n",
       "      <th>2</th>\n",
       "      <td>Industry Baby</td>\n",
       "      <td>['Lil Nas X', ' Jack Harlow']</td>\n",
       "      <td>https://genius.com/Lil-nas-x-and-jack-harlow-i...</td>\n",
       "      <td>\\r\\n(D-D-Daytrip took it to ten, hey)\\r\\nBaby ...</td>\n",
       "      <td>en</td>\n",
       "      <td>99</td>\n",
       "      <td>27NovPIUIRrOZoCHxABJwK</td>\n",
       "      <td>0.736</td>\n",
       "      <td>0.704</td>\n",
       "      <td>3.0</td>\n",
       "      <td>-7.409</td>\n",
       "      <td>0.0</td>\n",
       "      <td>0.0615</td>\n",
       "      <td>0.0203</td>\n",
       "      <td>0.000000</td>\n",
       "      <td>0.0501</td>\n",
       "      <td>0.894</td>\n",
       "      <td>149.995</td>\n",
       "    </tr>\n",
       "    <tr>\n",
       "      <th>3</th>\n",
       "      <td>Fancy Like</td>\n",
       "      <td>['Walker Hayes']</td>\n",
       "      <td>https://genius.com/Walker-hayes-fancy-like-lyrics</td>\n",
       "      <td>\\r\\nAyy\\r\\nMy girl is bangin', she's so low ma...</td>\n",
       "      <td>en</td>\n",
       "      <td>99</td>\n",
       "      <td>58UKC45GPNTflCN6nwCUeF</td>\n",
       "      <td>0.647</td>\n",
       "      <td>0.765</td>\n",
       "      <td>1.0</td>\n",
       "      <td>-6.459</td>\n",
       "      <td>1.0</td>\n",
       "      <td>0.0600</td>\n",
       "      <td>0.1110</td>\n",
       "      <td>0.000000</td>\n",
       "      <td>0.3150</td>\n",
       "      <td>0.855</td>\n",
       "      <td>79.994</td>\n",
       "    </tr>\n",
       "    <tr>\n",
       "      <th>4</th>\n",
       "      <td>Bad Habits</td>\n",
       "      <td>['Ed Sheeran']</td>\n",
       "      <td>https://genius.com/Ed-sheeran-bad-habits-lyrics</td>\n",
       "      <td>\\r\\n(One, two, three, four)\\r\\nOoh, ooh\\r\\n\\r\\...</td>\n",
       "      <td>en</td>\n",
       "      <td>99</td>\n",
       "      <td>3rmo8F54jFF8OgYsqTxm5d</td>\n",
       "      <td>0.807</td>\n",
       "      <td>0.893</td>\n",
       "      <td>11.0</td>\n",
       "      <td>-3.745</td>\n",
       "      <td>0.0</td>\n",
       "      <td>0.0347</td>\n",
       "      <td>0.0451</td>\n",
       "      <td>0.000028</td>\n",
       "      <td>0.3660</td>\n",
       "      <td>0.537</td>\n",
       "      <td>126.011</td>\n",
       "    </tr>\n",
       "  </tbody>\n",
       "</table>\n",
       "</div>"
      ],
      "text/plain": [
       "           title                               artist  \\\n",
       "0     Easy On Me                            ['Adele']   \n",
       "1           Stay  ['The Kid LAROI', ' Justin Bieber']   \n",
       "2  Industry Baby        ['Lil Nas X', ' Jack Harlow']   \n",
       "3     Fancy Like                     ['Walker Hayes']   \n",
       "4     Bad Habits                       ['Ed Sheeran']   \n",
       "\n",
       "                                                 url  \\\n",
       "0         https://genius.com/Adele-easy-on-me-lyrics   \n",
       "1  https://genius.com/The-kid-laroi-and-justin-bi...   \n",
       "2  https://genius.com/Lil-nas-x-and-jack-harlow-i...   \n",
       "3  https://genius.com/Walker-hayes-fancy-like-lyrics   \n",
       "4    https://genius.com/Ed-sheeran-bad-habits-lyrics   \n",
       "\n",
       "                                              lyrics lang  lang_acc  \\\n",
       "0  \\r\\nThere ain't no gold in this river\\r\\nThat ...   en        99   \n",
       "1  \\r\\nI do the same thing I told you that I neve...   en        99   \n",
       "2  \\r\\n(D-D-Daytrip took it to ten, hey)\\r\\nBaby ...   en        99   \n",
       "3  \\r\\nAyy\\r\\nMy girl is bangin', she's so low ma...   en        99   \n",
       "4  \\r\\n(One, two, three, four)\\r\\nOoh, ooh\\r\\n\\r\\...   en        99   \n",
       "\n",
       "                    sp_id  danceability  energy   key  loudness  mode  \\\n",
       "0  0gplL1WMoJ6iYaPgMCL0gX         0.604   0.366   5.0    -7.519   1.0   \n",
       "1  5HCyWlXZPP0y6Gqq8TgA20         0.591   0.764   1.0    -5.484   1.0   \n",
       "2  27NovPIUIRrOZoCHxABJwK         0.736   0.704   3.0    -7.409   0.0   \n",
       "3  58UKC45GPNTflCN6nwCUeF         0.647   0.765   1.0    -6.459   1.0   \n",
       "4  3rmo8F54jFF8OgYsqTxm5d         0.807   0.893  11.0    -3.745   0.0   \n",
       "\n",
       "   speechiness  acousticness  instrumentalness  liveness  valence    tempo  \n",
       "0       0.0282        0.5780          0.000000    0.1330    0.130  141.981  \n",
       "1       0.0483        0.0383          0.000000    0.1030    0.478  169.928  \n",
       "2       0.0615        0.0203          0.000000    0.0501    0.894  149.995  \n",
       "3       0.0600        0.1110          0.000000    0.3150    0.855   79.994  \n",
       "4       0.0347        0.0451          0.000028    0.3660    0.537  126.011  "
      ]
     },
     "execution_count": 6,
     "metadata": {},
     "output_type": "execute_result"
    }
   ],
   "source": [
    "songs = pd.read_csv(\"./data/songs_features.csv\")\n",
    "songs.head()"
   ]
  },
  {
   "cell_type": "code",
   "execution_count": 13,
   "metadata": {
    "colab": {
     "base_uri": "https://localhost:8080/",
     "height": 458
    },
    "executionInfo": {
     "elapsed": 306,
     "status": "ok",
     "timestamp": 1661952362242,
     "user": {
      "displayName": "Felix Stockhammer (Stocki198)",
      "userId": "00639432236174564081"
     },
     "user_tz": -120
    },
    "id": "Elu5tL-cEWoN",
    "outputId": "60899fb2-39e4-44af-87c7-90db3b9b5919"
   },
   "outputs": [
    {
     "data": {
      "text/html": [
       "\n",
       "  <div id=\"df-f708b7b6-e370-4d74-aa33-6dd04373fb26\">\n",
       "    <div class=\"colab-df-container\">\n",
       "      <div>\n",
       "<style scoped>\n",
       "    .dataframe tbody tr th:only-of-type {\n",
       "        vertical-align: middle;\n",
       "    }\n",
       "\n",
       "    .dataframe tbody tr th {\n",
       "        vertical-align: top;\n",
       "    }\n",
       "\n",
       "    .dataframe thead th {\n",
       "        text-align: right;\n",
       "    }\n",
       "</style>\n",
       "<table border=\"1\" class=\"dataframe\">\n",
       "  <thead>\n",
       "    <tr style=\"text-align: right;\">\n",
       "      <th></th>\n",
       "      <th>title</th>\n",
       "      <th>artist</th>\n",
       "      <th>url</th>\n",
       "      <th>lyrics</th>\n",
       "      <th>lang</th>\n",
       "      <th>sp_id</th>\n",
       "      <th>danceability</th>\n",
       "      <th>energy</th>\n",
       "      <th>key</th>\n",
       "      <th>loudness</th>\n",
       "      <th>mode</th>\n",
       "      <th>speechiness</th>\n",
       "      <th>acousticness</th>\n",
       "      <th>instrumentalness</th>\n",
       "      <th>liveness</th>\n",
       "      <th>valence</th>\n",
       "      <th>tempo</th>\n",
       "      <th>lang_acc</th>\n",
       "    </tr>\n",
       "  </thead>\n",
       "  <tbody>\n",
       "    <tr>\n",
       "      <th>15880</th>\n",
       "      <td>I Still Have Dreams</td>\n",
       "      <td>['Richie Furay']</td>\n",
       "      <td>https://genius.com/Richie-furay-i-still-have-d...</td>\n",
       "      <td>You can find me\\nWhen you need me\\nI'll be aro...</td>\n",
       "      <td>en</td>\n",
       "      <td>6KtR2UZMKlUhJd5gUlVJJ3</td>\n",
       "      <td>0.538</td>\n",
       "      <td>0.329</td>\n",
       "      <td>11.0</td>\n",
       "      <td>-8.483</td>\n",
       "      <td>1.0</td>\n",
       "      <td>0.0299</td>\n",
       "      <td>0.7260</td>\n",
       "      <td>0.000000</td>\n",
       "      <td>0.1180</td>\n",
       "      <td>0.314</td>\n",
       "      <td>129.814</td>\n",
       "      <td>99.0</td>\n",
       "    </tr>\n",
       "    <tr>\n",
       "      <th>15881</th>\n",
       "      <td>Love Pains</td>\n",
       "      <td>['Yvonne Elliman']</td>\n",
       "      <td>https://genius.com/Yvonne-elliman-love-pains-l...</td>\n",
       "      <td>Midnight, I watch you as you're sleeping\\nYou ...</td>\n",
       "      <td>en</td>\n",
       "      <td>2ewHI38ZzJ3zld4jIJLp4p</td>\n",
       "      <td>0.642</td>\n",
       "      <td>0.560</td>\n",
       "      <td>9.0</td>\n",
       "      <td>-14.564</td>\n",
       "      <td>1.0</td>\n",
       "      <td>0.0311</td>\n",
       "      <td>0.0461</td>\n",
       "      <td>0.000005</td>\n",
       "      <td>0.0625</td>\n",
       "      <td>0.756</td>\n",
       "      <td>117.612</td>\n",
       "      <td>99.0</td>\n",
       "    </tr>\n",
       "    <tr>\n",
       "      <th>15882</th>\n",
       "      <td>Since You Been Gone</td>\n",
       "      <td>['Rainbow']</td>\n",
       "      <td>https://genius.com/Rainbow-since-you-been-gone...</td>\n",
       "      <td>\\nI get the same old dreams, same time every n...</td>\n",
       "      <td>en</td>\n",
       "      <td>6xq5DxZWGgdStAxGAil0yw</td>\n",
       "      <td>0.733</td>\n",
       "      <td>0.726</td>\n",
       "      <td>7.0</td>\n",
       "      <td>-6.514</td>\n",
       "      <td>1.0</td>\n",
       "      <td>0.0371</td>\n",
       "      <td>0.3790</td>\n",
       "      <td>0.000003</td>\n",
       "      <td>0.4710</td>\n",
       "      <td>0.915</td>\n",
       "      <td>120.814</td>\n",
       "      <td>99.0</td>\n",
       "    </tr>\n",
       "    <tr>\n",
       "      <th>15883</th>\n",
       "      <td>You Decorated My Life</td>\n",
       "      <td>['Kenny Rogers']</td>\n",
       "      <td>https://genius.com/Kenny-rogers-you-decorated-...</td>\n",
       "      <td>All my life was a paper once plain, pure and w...</td>\n",
       "      <td>en</td>\n",
       "      <td>6SFeCisbYSqaQwL9hucoF2</td>\n",
       "      <td>0.264</td>\n",
       "      <td>0.307</td>\n",
       "      <td>7.0</td>\n",
       "      <td>-12.360</td>\n",
       "      <td>1.0</td>\n",
       "      <td>0.0341</td>\n",
       "      <td>0.6620</td>\n",
       "      <td>0.000000</td>\n",
       "      <td>0.1010</td>\n",
       "      <td>0.153</td>\n",
       "      <td>172.546</td>\n",
       "      <td>99.0</td>\n",
       "    </tr>\n",
       "    <tr>\n",
       "      <th>15884</th>\n",
       "      <td>Message In A Bottle</td>\n",
       "      <td>['The Police']</td>\n",
       "      <td>https://genius.com/The-police-message-in-a-bot...</td>\n",
       "      <td>\\n\\nJust a castaway, an island lost at sea, oh...</td>\n",
       "      <td>en</td>\n",
       "      <td>1oYYd2gnWZYrt89EBXdFiO</td>\n",
       "      <td>0.577</td>\n",
       "      <td>0.808</td>\n",
       "      <td>1.0</td>\n",
       "      <td>-7.040</td>\n",
       "      <td>0.0</td>\n",
       "      <td>0.0390</td>\n",
       "      <td>0.0338</td>\n",
       "      <td>0.000013</td>\n",
       "      <td>0.2210</td>\n",
       "      <td>0.869</td>\n",
       "      <td>151.008</td>\n",
       "      <td>99.0</td>\n",
       "    </tr>\n",
       "  </tbody>\n",
       "</table>\n",
       "</div>\n",
       "      <button class=\"colab-df-convert\" onclick=\"convertToInteractive('df-f708b7b6-e370-4d74-aa33-6dd04373fb26')\"\n",
       "              title=\"Convert this dataframe to an interactive table.\"\n",
       "              style=\"display:none;\">\n",
       "        \n",
       "  <svg xmlns=\"http://www.w3.org/2000/svg\" height=\"24px\"viewBox=\"0 0 24 24\"\n",
       "       width=\"24px\">\n",
       "    <path d=\"M0 0h24v24H0V0z\" fill=\"none\"/>\n",
       "    <path d=\"M18.56 5.44l.94 2.06.94-2.06 2.06-.94-2.06-.94-.94-2.06-.94 2.06-2.06.94zm-11 1L8.5 8.5l.94-2.06 2.06-.94-2.06-.94L8.5 2.5l-.94 2.06-2.06.94zm10 10l.94 2.06.94-2.06 2.06-.94-2.06-.94-.94-2.06-.94 2.06-2.06.94z\"/><path d=\"M17.41 7.96l-1.37-1.37c-.4-.4-.92-.59-1.43-.59-.52 0-1.04.2-1.43.59L10.3 9.45l-7.72 7.72c-.78.78-.78 2.05 0 2.83L4 21.41c.39.39.9.59 1.41.59.51 0 1.02-.2 1.41-.59l7.78-7.78 2.81-2.81c.8-.78.8-2.07 0-2.86zM5.41 20L4 18.59l7.72-7.72 1.47 1.35L5.41 20z\"/>\n",
       "  </svg>\n",
       "      </button>\n",
       "      \n",
       "  <style>\n",
       "    .colab-df-container {\n",
       "      display:flex;\n",
       "      flex-wrap:wrap;\n",
       "      gap: 12px;\n",
       "    }\n",
       "\n",
       "    .colab-df-convert {\n",
       "      background-color: #E8F0FE;\n",
       "      border: none;\n",
       "      border-radius: 50%;\n",
       "      cursor: pointer;\n",
       "      display: none;\n",
       "      fill: #1967D2;\n",
       "      height: 32px;\n",
       "      padding: 0 0 0 0;\n",
       "      width: 32px;\n",
       "    }\n",
       "\n",
       "    .colab-df-convert:hover {\n",
       "      background-color: #E2EBFA;\n",
       "      box-shadow: 0px 1px 2px rgba(60, 64, 67, 0.3), 0px 1px 3px 1px rgba(60, 64, 67, 0.15);\n",
       "      fill: #174EA6;\n",
       "    }\n",
       "\n",
       "    [theme=dark] .colab-df-convert {\n",
       "      background-color: #3B4455;\n",
       "      fill: #D2E3FC;\n",
       "    }\n",
       "\n",
       "    [theme=dark] .colab-df-convert:hover {\n",
       "      background-color: #434B5C;\n",
       "      box-shadow: 0px 1px 3px 1px rgba(0, 0, 0, 0.15);\n",
       "      filter: drop-shadow(0px 1px 2px rgba(0, 0, 0, 0.3));\n",
       "      fill: #FFFFFF;\n",
       "    }\n",
       "  </style>\n",
       "\n",
       "      <script>\n",
       "        const buttonEl =\n",
       "          document.querySelector('#df-f708b7b6-e370-4d74-aa33-6dd04373fb26 button.colab-df-convert');\n",
       "        buttonEl.style.display =\n",
       "          google.colab.kernel.accessAllowed ? 'block' : 'none';\n",
       "\n",
       "        async function convertToInteractive(key) {\n",
       "          const element = document.querySelector('#df-f708b7b6-e370-4d74-aa33-6dd04373fb26');\n",
       "          const dataTable =\n",
       "            await google.colab.kernel.invokeFunction('convertToInteractive',\n",
       "                                                     [key], {});\n",
       "          if (!dataTable) return;\n",
       "\n",
       "          const docLinkHtml = 'Like what you see? Visit the ' +\n",
       "            '<a target=\"_blank\" href=https://colab.research.google.com/notebooks/data_table.ipynb>data table notebook</a>'\n",
       "            + ' to learn more about interactive tables.';\n",
       "          element.innerHTML = '';\n",
       "          dataTable['output_type'] = 'display_data';\n",
       "          await google.colab.output.renderOutput(dataTable, element);\n",
       "          const docLink = document.createElement('div');\n",
       "          docLink.innerHTML = docLinkHtml;\n",
       "          element.appendChild(docLink);\n",
       "        }\n",
       "      </script>\n",
       "    </div>\n",
       "  </div>\n",
       "  "
      ],
      "text/plain": [
       "                       title              artist  \\\n",
       "15880    I Still Have Dreams    ['Richie Furay']   \n",
       "15881             Love Pains  ['Yvonne Elliman']   \n",
       "15882    Since You Been Gone         ['Rainbow']   \n",
       "15883  You Decorated My Life    ['Kenny Rogers']   \n",
       "15884    Message In A Bottle      ['The Police']   \n",
       "\n",
       "                                                     url  \\\n",
       "15880  https://genius.com/Richie-furay-i-still-have-d...   \n",
       "15881  https://genius.com/Yvonne-elliman-love-pains-l...   \n",
       "15882  https://genius.com/Rainbow-since-you-been-gone...   \n",
       "15883  https://genius.com/Kenny-rogers-you-decorated-...   \n",
       "15884  https://genius.com/The-police-message-in-a-bot...   \n",
       "\n",
       "                                                  lyrics lang  \\\n",
       "15880  You can find me\\nWhen you need me\\nI'll be aro...   en   \n",
       "15881  Midnight, I watch you as you're sleeping\\nYou ...   en   \n",
       "15882  \\nI get the same old dreams, same time every n...   en   \n",
       "15883  All my life was a paper once plain, pure and w...   en   \n",
       "15884  \\n\\nJust a castaway, an island lost at sea, oh...   en   \n",
       "\n",
       "                        sp_id  danceability  energy   key  loudness  mode  \\\n",
       "15880  6KtR2UZMKlUhJd5gUlVJJ3         0.538   0.329  11.0    -8.483   1.0   \n",
       "15881  2ewHI38ZzJ3zld4jIJLp4p         0.642   0.560   9.0   -14.564   1.0   \n",
       "15882  6xq5DxZWGgdStAxGAil0yw         0.733   0.726   7.0    -6.514   1.0   \n",
       "15883  6SFeCisbYSqaQwL9hucoF2         0.264   0.307   7.0   -12.360   1.0   \n",
       "15884  1oYYd2gnWZYrt89EBXdFiO         0.577   0.808   1.0    -7.040   0.0   \n",
       "\n",
       "       speechiness  acousticness  instrumentalness  liveness  valence  \\\n",
       "15880       0.0299        0.7260          0.000000    0.1180    0.314   \n",
       "15881       0.0311        0.0461          0.000005    0.0625    0.756   \n",
       "15882       0.0371        0.3790          0.000003    0.4710    0.915   \n",
       "15883       0.0341        0.6620          0.000000    0.1010    0.153   \n",
       "15884       0.0390        0.0338          0.000013    0.2210    0.869   \n",
       "\n",
       "         tempo  lang_acc  \n",
       "15880  129.814      99.0  \n",
       "15881  117.612      99.0  \n",
       "15882  120.814      99.0  \n",
       "15883  172.546      99.0  \n",
       "15884  151.008      99.0  "
      ]
     },
     "execution_count": 13,
     "metadata": {},
     "output_type": "execute_result"
    }
   ],
   "source": [
    "songs.tail()"
   ]
  },
  {
   "cell_type": "code",
   "execution_count": 14,
   "metadata": {
    "colab": {
     "base_uri": "https://localhost:8080/"
    },
    "executionInfo": {
     "elapsed": 3,
     "status": "ok",
     "timestamp": 1661952364814,
     "user": {
      "displayName": "Felix Stockhammer (Stocki198)",
      "userId": "00639432236174564081"
     },
     "user_tz": -120
    },
    "id": "HhY0UK9AqGfZ",
    "outputId": "a5919283-0eba-4763-fe42-d1f8255a1a78"
   },
   "outputs": [
    {
     "data": {
      "text/plain": [
       "15885"
      ]
     },
     "execution_count": 14,
     "metadata": {},
     "output_type": "execute_result"
    }
   ],
   "source": [
    "len(songs)"
   ]
  },
  {
   "cell_type": "code",
   "execution_count": 17,
   "metadata": {
    "cell_id": "3b002700-01d4-4fbe-9649-53a65cd3f006",
    "colab": {
     "base_uri": "https://localhost:8080/"
    },
    "deepnote_cell_height": 701,
    "deepnote_cell_type": "code",
    "deepnote_to_be_reexecuted": false,
    "executionInfo": {
     "elapsed": 295,
     "status": "ok",
     "timestamp": 1661952376180,
     "user": {
      "displayName": "Felix Stockhammer (Stocki198)",
      "userId": "00639432236174564081"
     },
     "user_tz": -120
    },
    "execution_millis": 29,
    "execution_start": 1647447202229,
    "id": "YcgvW5YUUITG",
    "outputId": "30caa52d-71b4-489f-822c-e39a1b8d34b4",
    "source_hash": "8f231ec3",
    "tags": []
   },
   "outputs": [
    {
     "name": "stdout",
     "output_type": "stream",
     "text": [
      "('\\n'\n",
      " \"There ain't no gold in this river\\n\"\n",
      " \"That I've been washin' my hands in forever\\n\"\n",
      " 'I know there is hope in these waters\\n'\n",
      " \"But I can't bring myself to swim\\n\"\n",
      " 'When I am drowning in this silence\\n'\n",
      " 'Baby, let me in\\n'\n",
      " '\\n'\n",
      " 'Go easy on me, baby\\n'\n",
      " 'I was still a child\\n'\n",
      " \"Didn't get the chance to\\n\"\n",
      " 'Feel the world around me\\n'\n",
      " 'I had no time to choose what I chose to do\\n'\n",
      " 'So go easy on me\\n'\n",
      " '\\n'\n",
      " \"There ain't no room for things to change\\n\"\n",
      " 'When we are both so deeply stuck in our ways\\n'\n",
      " \"You can't deny how hard I have tried\\n\"\n",
      " 'I changed who I was to put you both first\\n'\n",
      " 'But now I give up\\n'\n",
      " '\\n'\n",
      " 'Go easy on mе, baby\\n'\n",
      " 'I was still a child\\n'\n",
      " \"Didn't get the chance to\\n\"\n",
      " 'Feel thе world around me\\n'\n",
      " 'Had no time to choose what I chose to do\\n'\n",
      " 'So go easy on me\\n'\n",
      " 'I had good intentions\\n'\n",
      " 'And the highest hopes\\n'\n",
      " 'But I know right now\\n'\n",
      " \"It probably doesn't even show\\n\"\n",
      " '\\n'\n",
      " 'Go easy on me, baby\\n'\n",
      " 'I was still a child\\n'\n",
      " \"I didn't get the chance to\\n\"\n",
      " 'Feel the world around me\\n'\n",
      " 'I had no time to choose what I chose to do\\n'\n",
      " 'So go easy on me149Embed')\n"
     ]
    }
   ],
   "source": [
    "pprint(songs.lyrics[0])"
   ]
  },
  {
   "cell_type": "markdown",
   "metadata": {
    "cell_id": "c59e7186-08a3-43ab-ae66-78edd12f50b0",
    "deepnote_cell_type": "text-cell-h2",
    "formattedRanges": [],
    "id": "SaavTWrPUITG",
    "is_collapsed": false,
    "tags": []
   },
   "source": [
    "## Look at unwanted patterns and characters appearing in lyrics"
   ]
  },
  {
   "cell_type": "code",
   "execution_count": 18,
   "metadata": {
    "cell_id": "1d1f8dba-104c-4d96-8bfb-f06a341d6998",
    "deepnote_cell_height": 99,
    "deepnote_cell_type": "code",
    "deepnote_to_be_reexecuted": false,
    "executionInfo": {
     "elapsed": 1867,
     "status": "ok",
     "timestamp": 1661952383574,
     "user": {
      "displayName": "Felix Stockhammer (Stocki198)",
      "userId": "00639432236174564081"
     },
     "user_tz": -120
    },
    "execution_millis": 1059,
    "execution_start": 1647447205472,
    "id": "RE6xZe4YUITH",
    "source_hash": "1c614a36",
    "tags": []
   },
   "outputs": [],
   "source": [
    "# Replace pattern \"123Embed\" at the end of the lyrics, with 123 being a random number\n",
    "songs[\"lyrics\"] = songs[\"lyrics\"].apply(lambda x: re.sub(r\"[0-9]*Embed\", \"\", x))"
   ]
  },
  {
   "cell_type": "code",
   "execution_count": 19,
   "metadata": {
    "cell_id": "2ebf23ec-f436-47ea-bb8f-2999ac310e25",
    "colab": {
     "base_uri": "https://localhost:8080/"
    },
    "deepnote_cell_height": 701,
    "deepnote_cell_type": "code",
    "deepnote_to_be_reexecuted": false,
    "executionInfo": {
     "elapsed": 323,
     "status": "ok",
     "timestamp": 1661952385514,
     "user": {
      "displayName": "Felix Stockhammer (Stocki198)",
      "userId": "00639432236174564081"
     },
     "user_tz": -120
    },
    "execution_millis": 48,
    "execution_start": 1647447208510,
    "id": "TDPgxKlzUITH",
    "outputId": "8091cb85-4a5f-4e46-b3a2-b5bd25e89df7",
    "source_hash": "b9324ff2",
    "tags": []
   },
   "outputs": [
    {
     "name": "stdout",
     "output_type": "stream",
     "text": [
      "('1. Drake - Knife Talk (with 21 Savage & Project Pat)\\n'\n",
      " '2. Baby Keem - family\\u2005ties\\u2005(with Kendrick Lamar)\\n'\n",
      " '3.\\u2005Key Glock - Ambition For Cash\\n'\n",
      " '4.\\u2005Young Thug - Bubbly (with Drake & Travis Scott)\\n'\n",
      " '5. Meek Mill - Sharing Locations (feat. Lil Baby & Lil Durk)\\n'\n",
      " '6. Gunna & Future - Too Easy\\n'\n",
      " '7. NLE Choppa - Jumpin (feat. Polo G)\\n'\n",
      " '8. Meek Mill - Hot (feat. Moneybagg Yo)\\n'\n",
      " '9. DaBaby - ROOF\\n'\n",
      " '10. Juice WRLD - Already Dead\\n'\n",
      " '11. Money Man - LLC (feat. Moneybagg Yo)\\n'\n",
      " '12. Travis Scott - MAFIA\\n'\n",
      " '13. Joyner Lucas & J. Cole - Your Heart\\n'\n",
      " '14. Culture Jam, Gunna & Polo G - Waves\\n'\n",
      " '15. Travis Scott - ESCAPE PLAN\\n'\n",
      " '16. Drake - Fair Trade (with Travis Scott)\\n'\n",
      " '17. Baby Keem - lost souls (with Brent Faiyaz)\\n'\n",
      " '18. Polo G - Bad Man (Smooth Criminal)\\n'\n",
      " '19. Lil Tjay - Not In The Mood (feat. Fivio Foreign & Kay Flock)\\n'\n",
      " '20. Playboi Carti - Sky\\n'\n",
      " '21. Cordae - Super\\n'\n",
      " '22. Drake - Way 2 Sexy (with Future & Young Thug)\\n'\n",
      " '23. 22Gz - Retaliation\\n'\n",
      " '24. French Montana - Bag Season (feat. Lil Tjay)\\n'\n",
      " '25. Kanye West - Praise God (feat. Travis Scott & Baby Keem)\\n'\n",
      " '26. Lil Durk - Pissed Me Off\\n'\n",
      " '27. YoungBoy Never Broke Again - No Where\\n'\n",
      " '28. Don Toliver - Flocky Flocky (feat. Don Toliver)\\n'\n",
      " '29. Blxst & Tyga - Chosen (feat. Ty Dolla $ign)\\n'\n",
      " '30. Nardo Wick - Who Want Smoke?? (feat. G Herbo, Lil Durk & 21 Savage)\\n'\n",
      " '31. Baby Keem - range brothers (with Kendrick Lamar)\\n'\n",
      " '32. 2 Chainz - Wreck (feat. Big Sean)\\n'\n",
      " '33. 24kGoldn - Prada (feat. Lil Tecca)\\n'\n",
      " '34. Bankrol Hayden - Come Through (feat. Lil Tecca)\\n'\n",
      " '35. Blueface & Blxst - Chose Me\\n'\n",
      " '36. Lil Yachty - YAE ENERGY\\n'\n",
      " '37. Big Sean & Hit-Boy - What A Life\\n'\n",
      " '38. Lil Durk - Lion Eyes\\n'\n",
      " '39. Lil Tecca - LOT OF ME\\n'\n",
      " '40. Moneybagg Yo - Scorpio\\n'\n",
      " '41. Kodak Black - Super Gremlim\\n'\n",
      " \"42. Lil Wayne & Rich The Kid - Feelin' Like Tunechi\\n\"\n",
      " '43. Moneybagg Yo - Switches & Dracs (with Lil Durk feat. EST Gee)\\n'\n",
      " '44. Coi Leray - TWINNEM (Remix) (feat. DaBaby)\\n'\n",
      " '45. Megan Thee Stallion - Eat It\\n'\n",
      " '46. Cardi B - Bet It\\n'\n",
      " \"47. BIA - CAN'T TOUCH THIS\\n\"\n",
      " '48. Latto - Big Energy\\n'\n",
      " '49. Saweetie - Icy Chain\\n'\n",
      " '50. Remble - Rocc Climbing (feat. Lil Yachty)')\n"
     ]
    }
   ],
   "source": [
    "# sometimes the songs were not found, instead tracklists occur on obscure pages on genius, \n",
    "# so they end up in the lyrics (see eg. [42]), we filter some of them out using regex, some are captured later\n",
    "pprint(songs.lyrics[42])"
   ]
  },
  {
   "cell_type": "code",
   "execution_count": 20,
   "metadata": {
    "cell_id": "b7c2fb10-2869-455d-a213-cc6c215a4d02",
    "colab": {
     "base_uri": "https://localhost:8080/"
    },
    "deepnote_cell_height": 237.1999969482422,
    "deepnote_cell_type": "code",
    "deepnote_to_be_reexecuted": false,
    "executionInfo": {
     "elapsed": 301,
     "status": "ok",
     "timestamp": 1661952389023,
     "user": {
      "displayName": "Felix Stockhammer (Stocki198)",
      "userId": "00639432236174564081"
     },
     "user_tz": -120
    },
    "execution_millis": 132,
    "execution_start": 1647447211963,
    "id": "s4SuI4ppUITH",
    "outputId": "c0c78ee0-73b4-4811-80c2-eb608a9ad1be",
    "source_hash": "be3b017f",
    "tags": []
   },
   "outputs": [
    {
     "name": "stdout",
     "output_type": "stream",
     "text": [
      "114\n"
     ]
    }
   ],
   "source": [
    "# search pattern\n",
    "print(len(songs[\"lyrics\"][~songs[\"lyrics\"].apply(lambda x: re.search(r\"1\\.\\s\", x)).isnull()]))\n",
    "\n",
    "# filter out\n",
    "songs = songs[songs[\"lyrics\"].apply(lambda x: re.search(r\"1\\.\\s\", x)).isnull()]"
   ]
  },
  {
   "cell_type": "code",
   "execution_count": 21,
   "metadata": {
    "cell_id": "8074e467-6ad6-44d4-b554-c515729baac4",
    "colab": {
     "base_uri": "https://localhost:8080/"
    },
    "deepnote_cell_height": 237.1999969482422,
    "deepnote_cell_type": "code",
    "deepnote_to_be_reexecuted": false,
    "executionInfo": {
     "elapsed": 345739,
     "status": "ok",
     "timestamp": 1661952736998,
     "user": {
      "displayName": "Felix Stockhammer (Stocki198)",
      "userId": "00639432236174564081"
     },
     "user_tz": -120
    },
    "execution_millis": 63577,
    "execution_start": 1647447214869,
    "id": "mjOQQckhUITH",
    "outputId": "304ce41a-193e-478e-d215-95ccc05b8e63",
    "source_hash": "a7745fe6",
    "tags": []
   },
   "outputs": [
    {
     "name": "stdout",
     "output_type": "stream",
     "text": [
      "108\n"
     ]
    }
   ],
   "source": [
    "# some \"lyrics\" contain tracklists, with a pattern like ArtistA - Song1 \\n ArtistB - Song2 and so on\n",
    "#  maybe there's better regex patterns to search for them than this one, but I figured searching for this\n",
    "#  pattern 10 times is ok. It still also finds songs that naturally contain many \"-\" in the lyrics, but these\n",
    "#  are weird songs anyway\n",
    "print(len(songs[\"lyrics\"][~songs[\"lyrics\"].apply(lambda x: re.search(r\"(.+ - .+\\n){10,}\", x)).isnull()]))\n",
    "\n",
    "# filter out\n",
    "songs = songs[songs[\"lyrics\"].apply(lambda x: re.search(r\"(.+ - .+\\n){10,}\", x)).isnull()]"
   ]
  },
  {
   "cell_type": "code",
   "execution_count": 22,
   "metadata": {
    "cell_id": "67d8667e-3330-4d4b-9cf6-d8b1f941fbfb",
    "deepnote_cell_height": 135,
    "deepnote_cell_type": "code",
    "deepnote_to_be_reexecuted": false,
    "executionInfo": {
     "elapsed": 766,
     "status": "ok",
     "timestamp": 1661952742274,
     "user": {
      "displayName": "Felix Stockhammer (Stocki198)",
      "userId": "00639432236174564081"
     },
     "user_tz": -120
    },
    "execution_millis": 622,
    "execution_start": 1647447489757,
    "id": "Qm73FrvOUITI",
    "owner_user_id": "9236910d-f660-4bd5-8a7c-93eb0416af51",
    "source_hash": "40d1215c",
    "tags": []
   },
   "outputs": [],
   "source": [
    "# substitute special characters -> use regex pattern on cell below to search for songs that contain unusual characters\n",
    "songs[\"lyrics\"] = songs[\"lyrics\"].apply(lambda x: re.sub(u\"\\u2005|\\u205f|\\u202f|\\u200a|\\ufeff|\\u202a|\\u202c\", \" \", x)) # special space character, substitute with space\n",
    "songs[\"lyrics\"] = songs[\"lyrics\"].apply(lambda x: re.sub(\"…\", \"...\", x)) # replace special dots with three dots\n",
    "songs[\"lyrics\"] = songs[\"lyrics\"].apply(lambda x: re.sub(u\"\\u2060\", \"-\", x)) # replace \"word-joiner\" with -"
   ]
  },
  {
   "cell_type": "code",
   "execution_count": 23,
   "metadata": {
    "cell_id": "0c71f8bf-42b8-4c62-af6f-598640ba6ac0",
    "deepnote_cell_height": 117,
    "deepnote_cell_type": "code",
    "deepnote_to_be_reexecuted": false,
    "executionInfo": {
     "elapsed": 753,
     "status": "ok",
     "timestamp": 1661952745827,
     "user": {
      "displayName": "Felix Stockhammer (Stocki198)",
      "userId": "00639432236174564081"
     },
     "user_tz": -120
    },
    "execution_millis": 397,
    "execution_start": 1647447492912,
    "id": "j8uEW79LUITI",
    "source_hash": "246f1a75",
    "tags": []
   },
   "outputs": [],
   "source": [
    "# filter out songs with weird characters\n",
    "# songs[\"lyrics\"][~songs[\"lyrics\"].apply(lambda x: re.search(r\"[^a-zA-Z0-9 ,‚'’‘′\\n\\)\\(-—\\?!\\\"“”&:ñé$%]\", x)).isnull()]\n",
    "songs = songs[songs[\"lyrics\"].apply(lambda x: re.search(r\"[^a-zA-Z0-9 ,‚'’‘′\\n\\)\\(-—\\?!\\\"“”&:ñé$%]\", x)).isnull()]"
   ]
  },
  {
   "cell_type": "code",
   "execution_count": 34,
   "metadata": {
    "cell_id": "dc47c4b6-cb8c-44df-a962-8930780b828d",
    "colab": {
     "base_uri": "https://localhost:8080/"
    },
    "deepnote_cell_height": 118,
    "deepnote_cell_type": "code",
    "deepnote_output_heights": [
     21
    ],
    "deepnote_to_be_reexecuted": false,
    "executionInfo": {
     "elapsed": 314,
     "status": "ok",
     "timestamp": 1661952827663,
     "user": {
      "displayName": "Felix Stockhammer (Stocki198)",
      "userId": "00639432236174564081"
     },
     "user_tz": -120
    },
    "execution_millis": 8,
    "execution_start": 1647447495447,
    "id": "hWg-ItuKUITI",
    "outputId": "099c539b-0909-4735-a0c6-8d0842217681",
    "source_hash": "b9d96a13",
    "tags": []
   },
   "outputs": [
    {
     "data": {
      "text/plain": [
       "15496"
      ]
     },
     "execution_count": 34,
     "metadata": {},
     "output_type": "execute_result"
    }
   ],
   "source": [
    "len(songs)"
   ]
  },
  {
   "cell_type": "code",
   "execution_count": 32,
   "metadata": {
    "executionInfo": {
     "elapsed": 1,
     "status": "ok",
     "timestamp": 1661952823198,
     "user": {
      "displayName": "Felix Stockhammer (Stocki198)",
      "userId": "00639432236174564081"
     },
     "user_tz": -120
    },
    "id": "XLUTQkRsG3Bg"
   },
   "outputs": [],
   "source": [
    "songs = songs.reset_index(drop = True)"
   ]
  },
  {
   "cell_type": "code",
   "execution_count": null,
   "metadata": {
    "cell_id": "2288ea5b-060c-4c0e-8a91-e5bc272ea466",
    "deepnote_cell_height": 99,
    "deepnote_cell_type": "code",
    "deepnote_to_be_reexecuted": false,
    "execution_millis": 2,
    "execution_start": 1644751297057,
    "id": "afNtH3BLUITJ",
    "source_hash": "b5cf5a19",
    "tags": []
   },
   "outputs": [],
   "source": [
    "#pprint(songs.loc[8528, \"lyrics\"])\n",
    "#set(songs.loc[8528, \"lyrics\"])"
   ]
  },
  {
   "cell_type": "markdown",
   "metadata": {
    "id": "MVp3A07dagqd"
   },
   "source": [
    "Look into random lyrics to see if there are some common unwanted patterns that should be handled.<br>\n",
    "**Note:** The newline character at the beginning of most of the songs is handled in the next notebook"
   ]
  },
  {
   "cell_type": "code",
   "execution_count": 40,
   "metadata": {
    "colab": {
     "base_uri": "https://localhost:8080/"
    },
    "executionInfo": {
     "elapsed": 302,
     "status": "ok",
     "timestamp": 1661952848537,
     "user": {
      "displayName": "Felix Stockhammer (Stocki198)",
      "userId": "00639432236174564081"
     },
     "user_tz": -120
    },
    "id": "VhI_5UKnYArl",
    "outputId": "097e56c7-c67d-4caa-a324-60640f568cb1"
   },
   "outputs": [
    {
     "name": "stdout",
     "output_type": "stream",
     "text": [
      "12162 My Obsession by ['Icehouse']\n"
     ]
    }
   ],
   "source": [
    "# look at random lyrics\n",
    "# note: if this throws an error, just run it again\n",
    "rndm = np.random.randint(0, len(songs))\n",
    "print(rndm, songs.title[rndm], \"by\", songs.artist[rndm])"
   ]
  },
  {
   "cell_type": "code",
   "execution_count": 41,
   "metadata": {
    "colab": {
     "base_uri": "https://localhost:8080/"
    },
    "executionInfo": {
     "elapsed": 3,
     "status": "ok",
     "timestamp": 1661952849650,
     "user": {
      "displayName": "Felix Stockhammer (Stocki198)",
      "userId": "00639432236174564081"
     },
     "user_tz": -120
    },
    "id": "Ngo-W9vVJetB",
    "outputId": "e60aaf23-0c74-4c4d-cfc9-366078901b4d"
   },
   "outputs": [
    {
     "name": "stdout",
     "output_type": "stream",
     "text": [
      "('\\n'\n",
      " 'I used to be the one who made you feel\\n'\n",
      " 'So safe and strong\\n'\n",
      " 'I could always make it right\\n'\n",
      " 'When everything was going wrong\\n'\n",
      " \"I don't know why it seems\\n\"\n",
      " \"So different now I'm on my own\\n\"\n",
      " \"And I don't know what it is\\n\"\n",
      " \"That scares me when I'm all alone\\n\"\n",
      " '\\n'\n",
      " \"I can't believe that everyone I know\\n\"\n",
      " 'Would lie to me\\n'\n",
      " \"When they all tell me that I'm not the man\\n\"\n",
      " 'I used to be\\n'\n",
      " \"Don't want to hear about the things\\n\"\n",
      " 'That I already know\\n'\n",
      " \"You've got to say it isn't so\\n\"\n",
      " \"Oh no, it's the...\\n\"\n",
      " 'The ghost of you that gets me every time (My obsession)\\n'\n",
      " \"Just won't let go until it brings me down (My obsession)\\n\"\n",
      " \"I try to hide it but there's only one (My obsession)\\n\"\n",
      " 'And my obsession is you\\n'\n",
      " 'The little things you used to do and say (My obsession)\\n'\n",
      " 'Break every moment of my night and day (My obsession)\\n'\n",
      " \"Believe me darling, oh you know it's true (My obsession)\\n\"\n",
      " 'My obsession is you\\n'\n",
      " '\\n'\n",
      " 'Yeah, my friends all turn away\\n'\n",
      " 'They tell me not to waste my time\\n'\n",
      " \"They say they just don't understand\\n\"\n",
      " 'How anyone could be so blind\\n'\n",
      " \"And there's one thing you can't change\\n\"\n",
      " \"Forget about her now you know she's gone\\n\"\n",
      " 'Hey boy, that girl is just no good\\n'\n",
      " \"She's only gonna do you harm\\n\"\n",
      " 'So I watch the hours turn\\n'\n",
      " 'Until I lose the last long ray of light\\n'\n",
      " \"And I know I can't pretend\\n\"\n",
      " \"Those shadows won't come out tonight\\n\"\n",
      " '\\n'\n",
      " \"I can't believe that everyone I know\\n\"\n",
      " 'Would lie to me\\n'\n",
      " \"When they all tell me that I'm not the man\\n\"\n",
      " 'I used to be\\n'\n",
      " \"Don't want to hear about the things\\n\"\n",
      " 'That I already know\\n'\n",
      " \"You've got to say it isn't so\\n\"\n",
      " \"Oh no, it's the...\\n\"\n",
      " 'The ghost of you that gets me every time (My obsession)\\n'\n",
      " \"Just won't let go until it brings me down (My obsession)\\n\"\n",
      " \"I try to hide it but there's only one (My obsession)\\n\"\n",
      " 'And my obsession is you\\n'\n",
      " 'The little things you used to do and say (My obsession)\\n'\n",
      " 'Break every moment of my night and day (My obsession)\\n'\n",
      " \"Believe me darling, oh you know it's true (My obsession)\\n\"\n",
      " 'My obsession is you, yeah!\\n'\n",
      " 'The ghost of you that gets me every time (My obsession)\\n'\n",
      " \"Just won't let go until it brings me down (My obsession)\\n\"\n",
      " \"I try to hide it but there's only one (My obsession)\\n\"\n",
      " 'And my obsession is you, yeah! (My obsession is you)\\n'\n",
      " 'The little things you used to do and say (My obsession is you)\\n'\n",
      " 'Break every moment, every night and day (My obsession is you)\\n'\n",
      " \"Believe me darling, oh you know it's true (My obsession is you)\\n\"\n",
      " 'My obsession is you, yeah you, yeah\\n'\n",
      " 'The ghost of you that gets me every time (My obsession)\\n'\n",
      " \"Just won't let go until it brings me down (My obsession)\\n\"\n",
      " \"I try to hide it but there's only one (My obsession)\\n\"\n",
      " 'And my obsession is you (My obsession is you)')\n"
     ]
    }
   ],
   "source": [
    "pprint(songs.lyrics[rndm])"
   ]
  },
  {
   "cell_type": "code",
   "execution_count": 42,
   "metadata": {
    "executionInfo": {
     "elapsed": 300,
     "status": "ok",
     "timestamp": 1661952856730,
     "user": {
      "displayName": "Felix Stockhammer (Stocki198)",
      "userId": "00639432236174564081"
     },
     "user_tz": -120
    },
    "id": "S6-JBc-Hq79g"
   },
   "outputs": [],
   "source": [
    "# append start tags to the lyrics\n",
    "songs[\"lyrics\"] = songs[\"lyrics\"].apply(lambda x: \"<START> \" + x)"
   ]
  },
  {
   "cell_type": "markdown",
   "metadata": {
    "cell_id": "844b3260-d5a9-417f-99ca-3a08d6dc7bb7",
    "deepnote_cell_type": "text-cell-h2",
    "formattedRanges": [],
    "id": "SodnWnE-UITJ",
    "is_collapsed": false,
    "tags": []
   },
   "source": [
    "## Output lyrics.txt file"
   ]
  },
  {
   "cell_type": "code",
   "execution_count": 43,
   "metadata": {
    "cell_id": "8109ce27-d7df-4b7e-8e45-43695bbecb5d",
    "deepnote_cell_height": 117,
    "deepnote_cell_type": "code",
    "deepnote_to_be_reexecuted": false,
    "executionInfo": {
     "elapsed": 1838,
     "status": "ok",
     "timestamp": 1661952863078,
     "user": {
      "displayName": "Felix Stockhammer (Stocki198)",
      "userId": "00639432236174564081"
     },
     "user_tz": -120
    },
    "execution_millis": 569,
    "execution_start": 1647447498599,
    "id": "rS_bI3aKUITJ",
    "source_hash": "fe1a21c9",
    "tags": []
   },
   "outputs": [],
   "source": [
    "# export lyrics without any seperation between them (quotechar)\n",
    "songs[\"lyrics\"].to_csv(\"./data/lyrics.txt\",\n",
    "                    header = None, index = None, quotechar = \" \")"
   ]
  }
 ],
 "metadata": {
  "colab": {
   "collapsed_sections": [],
   "name": "3_pre-processing_word_based.ipynb",
   "provenance": []
  },
  "deepnote": {
   "is_reactive": false
  },
  "deepnote_execution_queue": [],
  "deepnote_notebook_id": "61f30677-071e-4a62-8870-78757dd73312",
  "gpuClass": "standard",
  "kernelspec": {
   "display_name": "Python 3 (ipykernel)",
   "language": "python",
   "name": "python3"
  },
  "language_info": {
   "codemirror_mode": {
    "name": "ipython",
    "version": 3
   },
   "file_extension": ".py",
   "mimetype": "text/x-python",
   "name": "python",
   "nbconvert_exporter": "python",
   "pygments_lexer": "ipython3",
   "version": "3.9.12"
  }
 },
 "nbformat": 4,
 "nbformat_minor": 1
}
