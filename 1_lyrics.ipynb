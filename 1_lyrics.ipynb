{
 "cells": [
  {
   "cell_type": "markdown",
   "metadata": {
    "cell_id": "b6a98af5-155a-4d9f-8d4d-c178988d06aa",
    "deepnote_cell_type": "text-cell-h1",
    "formattedRanges": [],
    "id": "KYkKZ8wX3FQn",
    "is_collapsed": false,
    "owner_user_id": "33569583-19f8-4eb3-8b96-6e39cace7906",
    "tags": []
   },
   "source": [
    "# 1. Download lyrics"
   ]
  },
  {
   "cell_type": "markdown",
   "metadata": {
    "cell_id": "94427345-92c3-4671-ba45-090ba9376b95",
    "deepnote_cell_height": 141.984375,
    "deepnote_cell_type": "markdown",
    "id": "0-KGcEZZ3FQr",
    "tags": []
   },
   "source": [
    "The first step to build our Lyrics generator is to find existing songs from which the model can learn how to properly write lyrics. So, the first step is to **build a dataset of lyrics**. <br><br>\n",
    "**Idea:** scrape song titles and corresponding artists from weekly billboard hot 100 charts and later use them to download the according lyrics from genius.com. <br><br>\n",
    "Luckily, there's an existing dataset of scraped charts. However, the most recent entries are from November 2021. So in case we want more recent songs, we have to consider scraping the charts from https://www.billboard.com/charts/hot-100/ ourselves. The source of the dataset is https://www.kaggle.com/dhruvildave/billboard-the-hot-100-songs/version/11."
   ]
  },
  {
   "cell_type": "code",
   "execution_count": 1,
   "metadata": {
    "cell_id": "ae9411e6-4339-4b4e-ab43-25fde8ba265a",
    "deepnote_cell_height": 291.796875,
    "deepnote_cell_type": "code",
    "deepnote_to_be_reexecuted": false,
    "execution_millis": 9374,
    "execution_start": 1644768593246,
    "id": "Vr9XIZi13FQs",
    "is_output_hidden": true,
    "outputId": "3764e7a3-f443-4d52-b495-19110598f919",
    "source_hash": "c33d39ce",
    "tags": []
   },
   "outputs": [
    {
     "name": "stdout",
     "output_type": "stream",
     "text": [
      "Collecting git+https://github.com/johnwmillr/LyricsGenius.git\n",
      "  Cloning https://github.com/johnwmillr/LyricsGenius.git to c:\\users\\stock\\appdata\\local\\temp\\pip-req-build-alx43kp2\n",
      "  Resolved https://github.com/johnwmillr/LyricsGenius.git to commit bec02665b807941ca95e045be910e861789fc4a7\n",
      "  Preparing metadata (setup.py): started\n",
      "  Preparing metadata (setup.py): finished with status 'done'\n",
      "Requirement already satisfied: beautifulsoup4>=4.6.0 in c:\\users\\stock\\anaconda3\\lib\\site-packages (from lyricsgenius==3.0.1) (4.11.1)\n",
      "Requirement already satisfied: requests>=2.20.0 in c:\\users\\stock\\anaconda3\\lib\\site-packages (from lyricsgenius==3.0.1) (2.28.1)\n",
      "Requirement already satisfied: soupsieve>1.2 in c:\\users\\stock\\anaconda3\\lib\\site-packages (from beautifulsoup4>=4.6.0->lyricsgenius==3.0.1) (2.3.2.post1)\n",
      "Requirement already satisfied: urllib3<1.27,>=1.21.1 in c:\\users\\stock\\anaconda3\\lib\\site-packages (from requests>=2.20.0->lyricsgenius==3.0.1) (1.26.13)\n",
      "Requirement already satisfied: charset-normalizer<3,>=2 in c:\\users\\stock\\anaconda3\\lib\\site-packages (from requests>=2.20.0->lyricsgenius==3.0.1) (2.0.4)\n",
      "Requirement already satisfied: certifi>=2017.4.17 in c:\\users\\stock\\anaconda3\\lib\\site-packages (from requests>=2.20.0->lyricsgenius==3.0.1) (2022.9.24)\n",
      "Requirement already satisfied: idna<4,>=2.5 in c:\\users\\stock\\anaconda3\\lib\\site-packages (from requests>=2.20.0->lyricsgenius==3.0.1) (3.4)\n"
     ]
    },
    {
     "name": "stderr",
     "output_type": "stream",
     "text": [
      "  Running command git clone --filter=blob:none --quiet https://github.com/johnwmillr/LyricsGenius.git 'C:\\Users\\stock\\AppData\\Local\\Temp\\pip-req-build-alx43kp2'\n"
     ]
    },
    {
     "name": "stdout",
     "output_type": "stream",
     "text": [
      "Collecting spotipy\n",
      "  Downloading spotipy-2.22.0-py3-none-any.whl (28 kB)\n",
      "Requirement already satisfied: requests>=2.25.0 in c:\\users\\stock\\anaconda3\\lib\\site-packages (from spotipy) (2.28.1)\n",
      "Collecting redis>=3.5.3\n",
      "  Downloading redis-4.4.0-py3-none-any.whl (236 kB)\n",
      "     -------------------------------------- 236.4/236.4 kB 4.8 MB/s eta 0:00:00\n",
      "Requirement already satisfied: six>=1.15.0 in c:\\users\\stock\\anaconda3\\lib\\site-packages (from spotipy) (1.16.0)\n",
      "Requirement already satisfied: urllib3>=1.26.0 in c:\\users\\stock\\anaconda3\\lib\\site-packages (from spotipy) (1.26.13)\n",
      "Collecting async-timeout>=4.0.2\n",
      "  Downloading async_timeout-4.0.2-py3-none-any.whl (5.8 kB)\n",
      "Requirement already satisfied: charset-normalizer<3,>=2 in c:\\users\\stock\\anaconda3\\lib\\site-packages (from requests>=2.25.0->spotipy) (2.0.4)\n",
      "Requirement already satisfied: idna<4,>=2.5 in c:\\users\\stock\\anaconda3\\lib\\site-packages (from requests>=2.25.0->spotipy) (3.4)\n",
      "Requirement already satisfied: certifi>=2017.4.17 in c:\\users\\stock\\anaconda3\\lib\\site-packages (from requests>=2.25.0->spotipy) (2022.9.24)\n",
      "Installing collected packages: async-timeout, redis, spotipy\n",
      "Successfully installed async-timeout-4.0.2 redis-4.4.0 spotipy-2.22.0\n"
     ]
    }
   ],
   "source": [
    "# imports\n",
    "# install library LyricsGenius to access the Genius API\n",
    "!pip install git+https://github.com/johnwmillr/LyricsGenius.git\n",
    "# install library spotipy to access song characteristics by spotify\n",
    "!pip install spotipy\n",
    "import lyricsgenius\n",
    "import pandas as pd\n",
    "import numpy as np\n",
    "import re\n",
    "from datetime import date\n",
    "# import helper functions\n",
    "import lg_functions as lg"
   ]
  },
  {
   "cell_type": "markdown",
   "metadata": {
    "cell_id": "d6bd3ab6-cfda-4d0f-8aeb-0135db935560",
    "deepnote_cell_type": "text-cell-h2",
    "formattedRanges": [],
    "id": "bu67ycE43FQu",
    "is_collapsed": false,
    "tags": []
   },
   "source": [
    "## Weekly Billboard Hot 100 Charts"
   ]
  },
  {
   "cell_type": "code",
   "execution_count": 2,
   "metadata": {
    "cell_id": "746a034e-af3e-444c-b98c-81a84d8d250b",
    "deepnote_cell_height": 431,
    "deepnote_cell_type": "code",
    "deepnote_to_be_reexecuted": false,
    "execution_millis": 510,
    "execution_start": 1644075332283,
    "id": "JoNOFSeY3FQu",
    "outputId": "508cacc2-4156-4cb1-aa80-363eca286fda",
    "source_hash": "b157a042",
    "tags": []
   },
   "outputs": [
    {
     "data": {
      "text/html": [
       "<div>\n",
       "<style scoped>\n",
       "    .dataframe tbody tr th:only-of-type {\n",
       "        vertical-align: middle;\n",
       "    }\n",
       "\n",
       "    .dataframe tbody tr th {\n",
       "        vertical-align: top;\n",
       "    }\n",
       "\n",
       "    .dataframe thead th {\n",
       "        text-align: right;\n",
       "    }\n",
       "</style>\n",
       "<table border=\"1\" class=\"dataframe\">\n",
       "  <thead>\n",
       "    <tr style=\"text-align: right;\">\n",
       "      <th></th>\n",
       "      <th>date</th>\n",
       "      <th>rank</th>\n",
       "      <th>song</th>\n",
       "      <th>artist</th>\n",
       "      <th>last-week</th>\n",
       "      <th>peak-rank</th>\n",
       "      <th>weeks-on-board</th>\n",
       "    </tr>\n",
       "  </thead>\n",
       "  <tbody>\n",
       "    <tr>\n",
       "      <th>0</th>\n",
       "      <td>2021-11-06</td>\n",
       "      <td>1</td>\n",
       "      <td>Easy On Me</td>\n",
       "      <td>Adele</td>\n",
       "      <td>1.0</td>\n",
       "      <td>1</td>\n",
       "      <td>3</td>\n",
       "    </tr>\n",
       "    <tr>\n",
       "      <th>1</th>\n",
       "      <td>2021-11-06</td>\n",
       "      <td>2</td>\n",
       "      <td>Stay</td>\n",
       "      <td>The Kid LAROI &amp; Justin Bieber</td>\n",
       "      <td>2.0</td>\n",
       "      <td>1</td>\n",
       "      <td>16</td>\n",
       "    </tr>\n",
       "    <tr>\n",
       "      <th>2</th>\n",
       "      <td>2021-11-06</td>\n",
       "      <td>3</td>\n",
       "      <td>Industry Baby</td>\n",
       "      <td>Lil Nas X &amp; Jack Harlow</td>\n",
       "      <td>3.0</td>\n",
       "      <td>1</td>\n",
       "      <td>14</td>\n",
       "    </tr>\n",
       "    <tr>\n",
       "      <th>3</th>\n",
       "      <td>2021-11-06</td>\n",
       "      <td>4</td>\n",
       "      <td>Fancy Like</td>\n",
       "      <td>Walker Hayes</td>\n",
       "      <td>4.0</td>\n",
       "      <td>3</td>\n",
       "      <td>19</td>\n",
       "    </tr>\n",
       "    <tr>\n",
       "      <th>4</th>\n",
       "      <td>2021-11-06</td>\n",
       "      <td>5</td>\n",
       "      <td>Bad Habits</td>\n",
       "      <td>Ed Sheeran</td>\n",
       "      <td>5.0</td>\n",
       "      <td>2</td>\n",
       "      <td>18</td>\n",
       "    </tr>\n",
       "  </tbody>\n",
       "</table>\n",
       "</div>"
      ],
      "text/plain": [
       "         date  rank           song                         artist  last-week  \\\n",
       "0  2021-11-06     1     Easy On Me                          Adele        1.0   \n",
       "1  2021-11-06     2           Stay  The Kid LAROI & Justin Bieber        2.0   \n",
       "2  2021-11-06     3  Industry Baby        Lil Nas X & Jack Harlow        3.0   \n",
       "3  2021-11-06     4     Fancy Like                   Walker Hayes        4.0   \n",
       "4  2021-11-06     5     Bad Habits                     Ed Sheeran        5.0   \n",
       "\n",
       "   peak-rank  weeks-on-board  \n",
       "0          1               3  \n",
       "1          1              16  \n",
       "2          1              14  \n",
       "3          3              19  \n",
       "4          2              18  "
      ]
     },
     "execution_count": 2,
     "metadata": {},
     "output_type": "execute_result"
    }
   ],
   "source": [
    "# open dataset from kaggle\n",
    "charts = pd.read_csv(\"./data/charts.csv\")\n",
    "charts.head()"
   ]
  },
  {
   "cell_type": "code",
   "execution_count": 3,
   "metadata": {
    "cell_id": "0fea06cf-9c44-4025-8725-58d65b487beb",
    "deepnote_cell_height": 118,
    "deepnote_cell_type": "code",
    "deepnote_to_be_reexecuted": false,
    "execution_millis": 26,
    "execution_start": 1644075332797,
    "id": "Axbwt_U63FQv",
    "outputId": "b869cfbf-0285-44ad-ef14-ec91c2c3d854",
    "source_hash": "3b832181",
    "tags": []
   },
   "outputs": [
    {
     "data": {
      "text/plain": [
       "330087"
      ]
     },
     "execution_count": 3,
     "metadata": {},
     "output_type": "execute_result"
    }
   ],
   "source": [
    "len(charts)"
   ]
  },
  {
   "cell_type": "markdown",
   "metadata": {
    "cell_id": "a08b964a-7734-4e7d-a476-24c2ff164f69",
    "deepnote_cell_height": 52.390625,
    "deepnote_cell_type": "markdown",
    "id": "EtsjkQSA3FQv",
    "tags": []
   },
   "source": [
    "We only need every song once, moreover we restrict the data to only more \"recent\" songs, so songs after the year 1980. Note that we initially only took songs from 2000 onwards but realised that our model will then output very rap-heavy lyrics, so we increased the date range."
   ]
  },
  {
   "cell_type": "code",
   "execution_count": 4,
   "metadata": {
    "cell_id": "bb3a1d8c-9eff-42ca-b91e-0289c1e0f20f",
    "deepnote_cell_height": 431,
    "deepnote_cell_type": "code",
    "deepnote_to_be_reexecuted": false,
    "execution_millis": 221,
    "execution_start": 1644075332831,
    "id": "xHl0YZBf3FQw",
    "outputId": "66afcfe6-5582-4864-f86b-1e75b031a8f7",
    "source_hash": "89e23626",
    "tags": []
   },
   "outputs": [
    {
     "data": {
      "text/html": [
       "<div>\n",
       "<style scoped>\n",
       "    .dataframe tbody tr th:only-of-type {\n",
       "        vertical-align: middle;\n",
       "    }\n",
       "\n",
       "    .dataframe tbody tr th {\n",
       "        vertical-align: top;\n",
       "    }\n",
       "\n",
       "    .dataframe thead th {\n",
       "        text-align: right;\n",
       "    }\n",
       "</style>\n",
       "<table border=\"1\" class=\"dataframe\">\n",
       "  <thead>\n",
       "    <tr style=\"text-align: right;\">\n",
       "      <th></th>\n",
       "      <th>date</th>\n",
       "      <th>song</th>\n",
       "      <th>artist</th>\n",
       "    </tr>\n",
       "  </thead>\n",
       "  <tbody>\n",
       "    <tr>\n",
       "      <th>330076</th>\n",
       "      <td>1958-08-04</td>\n",
       "      <td>Stay</td>\n",
       "      <td>The Ames Brothers</td>\n",
       "    </tr>\n",
       "    <tr>\n",
       "      <th>330082</th>\n",
       "      <td>1958-08-04</td>\n",
       "      <td>Over And Over</td>\n",
       "      <td>Thurston Harris</td>\n",
       "    </tr>\n",
       "    <tr>\n",
       "      <th>330084</th>\n",
       "      <td>1958-08-04</td>\n",
       "      <td>Little Serenade</td>\n",
       "      <td>The Ames Brothers</td>\n",
       "    </tr>\n",
       "    <tr>\n",
       "      <th>330085</th>\n",
       "      <td>1958-08-04</td>\n",
       "      <td>I'll Get By (As Long As I Have You)</td>\n",
       "      <td>Billy Williams</td>\n",
       "    </tr>\n",
       "    <tr>\n",
       "      <th>330086</th>\n",
       "      <td>1958-08-04</td>\n",
       "      <td>Judy</td>\n",
       "      <td>Frankie Vaughan</td>\n",
       "    </tr>\n",
       "  </tbody>\n",
       "</table>\n",
       "</div>"
      ],
      "text/plain": [
       "              date                                 song             artist\n",
       "330076  1958-08-04                                 Stay  The Ames Brothers\n",
       "330082  1958-08-04                        Over And Over    Thurston Harris\n",
       "330084  1958-08-04                      Little Serenade  The Ames Brothers\n",
       "330085  1958-08-04  I'll Get By (As Long As I Have You)     Billy Williams\n",
       "330086  1958-08-04                                 Judy    Frankie Vaughan"
      ]
     },
     "execution_count": 4,
     "metadata": {},
     "output_type": "execute_result"
    }
   ],
   "source": [
    "charts = charts.drop([\"rank\", \"last-week\", \"peak-rank\", \"weeks-on-board\"], axis = 1)\n",
    "charts = charts.drop_duplicates([\"song\", \"artist\"])\n",
    "charts.tail()"
   ]
  },
  {
   "cell_type": "code",
   "execution_count": 5,
   "metadata": {
    "cell_id": "98b86eaf-02c2-40e1-b7fb-3ad18a663334",
    "deepnote_cell_height": 136,
    "deepnote_cell_type": "code",
    "deepnote_to_be_reexecuted": false,
    "execution_millis": 41,
    "execution_start": 1644075333064,
    "id": "6nwaKVuw3FQx",
    "outputId": "2989ee0c-17ef-4fe8-c04e-a1402fe1038f",
    "source_hash": "f6f9e58f",
    "tags": []
   },
   "outputs": [
    {
     "data": {
      "text/plain": [
       "29681"
      ]
     },
     "execution_count": 5,
     "metadata": {},
     "output_type": "execute_result"
    }
   ],
   "source": [
    "# number of unique songs before filter\n",
    "len(charts)"
   ]
  },
  {
   "cell_type": "code",
   "execution_count": 7,
   "metadata": {
    "cell_id": "523d3903-f7f9-456c-ab03-48661fd6ea0f",
    "deepnote_cell_height": 521,
    "deepnote_cell_type": "code",
    "deepnote_to_be_reexecuted": false,
    "execution_millis": 89,
    "execution_start": 1644075333112,
    "id": "J8_ts_MC3FQx",
    "outputId": "9773d68e-b4bf-436d-81e6-2449d5f68ad3",
    "source_hash": "dfd6d604",
    "tags": []
   },
   "outputs": [
    {
     "data": {
      "text/html": [
       "<div>\n",
       "<style scoped>\n",
       "    .dataframe tbody tr th:only-of-type {\n",
       "        vertical-align: middle;\n",
       "    }\n",
       "\n",
       "    .dataframe tbody tr th {\n",
       "        vertical-align: top;\n",
       "    }\n",
       "\n",
       "    .dataframe thead th {\n",
       "        text-align: right;\n",
       "    }\n",
       "</style>\n",
       "<table border=\"1\" class=\"dataframe\">\n",
       "  <thead>\n",
       "    <tr style=\"text-align: right;\">\n",
       "      <th></th>\n",
       "      <th>date</th>\n",
       "      <th>song</th>\n",
       "      <th>artist</th>\n",
       "    </tr>\n",
       "  </thead>\n",
       "  <tbody>\n",
       "    <tr>\n",
       "      <th>113898</th>\n",
       "      <td>2000-01-15</td>\n",
       "      <td>The Greatest Romance Ever Sold</td>\n",
       "      <td>Prince</td>\n",
       "    </tr>\n",
       "    <tr>\n",
       "      <th>113917</th>\n",
       "      <td>2000-01-08</td>\n",
       "      <td>The Christmas Song (Chestnuts Roasting On An O...</td>\n",
       "      <td>Christina Aguilera</td>\n",
       "    </tr>\n",
       "    <tr>\n",
       "      <th>113960</th>\n",
       "      <td>2000-01-08</td>\n",
       "      <td>Deck The Halls</td>\n",
       "      <td>SHeDAISY</td>\n",
       "    </tr>\n",
       "    <tr>\n",
       "      <th>113970</th>\n",
       "      <td>2000-01-08</td>\n",
       "      <td>I Love You</td>\n",
       "      <td>Martina McBride</td>\n",
       "    </tr>\n",
       "    <tr>\n",
       "      <th>113990</th>\n",
       "      <td>2000-01-08</td>\n",
       "      <td>Left &amp; Right</td>\n",
       "      <td>D'Angelo Featuring Method Man And Redman</td>\n",
       "    </tr>\n",
       "  </tbody>\n",
       "</table>\n",
       "</div>"
      ],
      "text/plain": [
       "             date                                               song  \\\n",
       "113898 2000-01-15                     The Greatest Romance Ever Sold   \n",
       "113917 2000-01-08  The Christmas Song (Chestnuts Roasting On An O...   \n",
       "113960 2000-01-08                                     Deck The Halls   \n",
       "113970 2000-01-08                                         I Love You   \n",
       "113990 2000-01-08                                       Left & Right   \n",
       "\n",
       "                                          artist  \n",
       "113898                                    Prince  \n",
       "113917                        Christina Aguilera  \n",
       "113960                                  SHeDAISY  \n",
       "113970                           Martina McBride  \n",
       "113990  D'Angelo Featuring Method Man And Redman  "
      ]
     },
     "execution_count": 7,
     "metadata": {},
     "output_type": "execute_result"
    }
   ],
   "source": [
    "# restrict to recent songs\n",
    "# change column to datetime\n",
    "charts[\"date\"] = pd.to_datetime(charts[\"date\"])\n",
    "\n",
    "# restrict to dates after 1980-01-01\n",
    "charts = charts.loc[charts[\"date\"] > pd.to_datetime(\"1980-01-01\")]\n",
    "\n",
    "charts.tail()"
   ]
  },
  {
   "cell_type": "code",
   "execution_count": 9,
   "metadata": {
    "cell_id": "24513338-38a6-443d-a05c-171d8e898c9b",
    "deepnote_cell_height": 118,
    "deepnote_cell_type": "code",
    "deepnote_to_be_reexecuted": false,
    "execution_millis": 86,
    "execution_start": 1644075333209,
    "id": "eS2mH_sg3FQy",
    "outputId": "967d44c0-aa63-4622-850d-df2ffcdea956",
    "source_hash": "3b832181",
    "tags": []
   },
   "outputs": [
    {
     "data": {
      "text/plain": [
       "9194"
      ]
     },
     "execution_count": 9,
     "metadata": {},
     "output_type": "execute_result"
    }
   ],
   "source": [
    "# number of unique songs after filter\n",
    "len(charts)"
   ]
  },
  {
   "cell_type": "code",
   "execution_count": 10,
   "metadata": {
    "cell_id": "42cba525-0a04-4e6f-a5a1-072aa6f2a6b8",
    "deepnote_cell_height": 99,
    "deepnote_cell_type": "code",
    "deepnote_to_be_reexecuted": false,
    "execution_millis": 33,
    "execution_start": 1644075333289,
    "id": "qR4yXEx43FQz",
    "source_hash": "50851753",
    "tags": []
   },
   "outputs": [],
   "source": [
    "# Now drop the date column, we don't need it anymore\n",
    "charts = charts.drop([\"date\"], axis = 1).reset_index(drop = True)"
   ]
  },
  {
   "cell_type": "code",
   "execution_count": 11,
   "metadata": {
    "cell_id": "cd9c6077-dd04-4ffc-90da-3c0b9b5dd1fb",
    "deepnote_cell_height": 171,
    "deepnote_cell_type": "code",
    "deepnote_to_be_reexecuted": false,
    "execution_millis": 21,
    "execution_start": 1644768614575,
    "id": "Y5ne8gDv3FQz",
    "source_hash": "e794e85e",
    "tags": []
   },
   "outputs": [],
   "source": [
    "# define function for stripping whitespace in list in columns\n",
    "def strip_element(my_list):\n",
    "    return [x.strip() for x in my_list]\n",
    "\n",
    "# split multiple artists into list of artists and strip whitespace\n",
    "charts[\"artist\"] = charts[\"artist\"].apply(lambda x: re.split(r\"Featuring|&\", x)).apply(strip_element)"
   ]
  },
  {
   "cell_type": "markdown",
   "metadata": {
    "cell_id": "0e1337b9-d819-4524-a8cc-9be124e5a824",
    "deepnote_cell_type": "text-cell-h2",
    "formattedRanges": [],
    "id": "1pKAhkLp3FQ0",
    "is_collapsed": false,
    "tags": []
   },
   "source": [
    "## Find song link with Genius API"
   ]
  },
  {
   "cell_type": "markdown",
   "metadata": {
    "cell_id": "6135e5e9-a91e-4678-9c76-0a2e7cafeab0",
    "deepnote_cell_height": 74.796875,
    "deepnote_cell_type": "markdown",
    "id": "uIS34BOd3FQ0",
    "tags": []
   },
   "source": [
    "Use the custom function `search_url` in lg_functions.py to search for the song url on genius, using the artist and the song title. This url can later be used to download the lyrics of the song."
   ]
  },
  {
   "cell_type": "code",
   "execution_count": null,
   "metadata": {
    "cell_id": "4b7ca9e2-92d0-4cf2-b896-289369b7b5f0",
    "deepnote_cell_height": 154,
    "deepnote_cell_type": "code",
    "deepnote_to_be_reexecuted": false,
    "execution_millis": 26,
    "execution_start": 1644095835547,
    "id": "Mj8jj7SB3FQ0",
    "outputId": "b54ee027-3669-4969-c1d6-e6f5405e072d",
    "owner_user_id": "0521d975-2628-4a52-9df2-cf8d9db8da1f",
    "source_hash": "4d4dab0a",
    "tags": []
   },
   "outputs": [
    {
     "data": {
      "text/plain": [
       "<module 'lg_functions' from '/work/lg_functions.py'>"
      ]
     },
     "execution_count": 33,
     "metadata": {},
     "output_type": "execute_result"
    }
   ],
   "source": [
    "# useful if we need to reload lg_functions.py after adapting functions there.\n",
    "# from importlib import reload\n",
    "# reload(lg)"
   ]
  },
  {
   "cell_type": "code",
   "execution_count": null,
   "metadata": {
    "cell_id": "77a7ad7d-fbe6-48a2-b088-5187ae10bd28",
    "deepnote_cell_height": 99,
    "deepnote_cell_type": "code",
    "deepnote_to_be_reexecuted": false,
    "execution_millis": 3456771,
    "execution_start": 1644096325359,
    "id": "RDUlPpWd3FQ1",
    "source_hash": "ddfadfe3",
    "tags": []
   },
   "outputs": [],
   "source": [
    "# search for url of the songs on genius\n",
    "songs = lg.search_url(charts)"
   ]
  },
  {
   "cell_type": "code",
   "execution_count": null,
   "metadata": {
    "cell_id": "30bf72ad-daf4-40a3-8faf-150a1d52b75d",
    "deepnote_cell_height": 600,
    "deepnote_cell_type": "code",
    "deepnote_table_loading": false,
    "deepnote_table_state": {
     "filters": [],
     "pageIndex": 0,
     "pageSize": 10,
     "sortBy": []
    },
    "deepnote_to_be_reexecuted": false,
    "execution_millis": 57,
    "execution_start": 1644099795292,
    "id": "y-FJbf0o3FQ1",
    "outputId": "834fa07e-ac5f-4033-926f-789e97b7fcfe",
    "owner_user_id": "9236910d-f660-4bd5-8a7c-93eb0416af51",
    "source_hash": "edc0622e",
    "tags": []
   },
   "outputs": [
    {
     "data": {
      "application/vnd.deepnote.dataframe.v3+json": {
       "column_count": 3,
       "columns": [
        {
         "dtype": "object",
         "name": "song",
         "stats": {
          "categories": [
           {
            "count": 1,
            "name": "Let's Go Brandon"
           },
           {
            "count": 1,
            "name": "Ya Superame (En Vivo Desde Culiacan, Sinaloa)"
           },
           {
            "count": 88,
            "name": "88 others"
           }
          ],
          "nan_count": 0,
          "unique_count": 90
         }
        },
        {
         "dtype": "object",
         "name": "artist",
         "stats": {
          "categories": [
           {
            "count": 3,
            "name": "['J. Cole']"
           },
           {
            "count": 2,
            "name": "['Kendrick Lamar']"
           },
           {
            "count": 85,
            "name": "81 others"
           }
          ],
          "nan_count": 0,
          "unique_count": 90
         }
        },
        {
         "dtype": "object",
         "name": "url",
         "stats": {
          "categories": [
           {
            "count": 90,
            "name": "Missing"
           }
          ],
          "nan_count": 90,
          "unique_count": 0
         }
        },
        {
         "dtype": "int64",
         "name": "_deepnote_index_column"
        }
       ],
       "row_count": 90,
       "rows": [
        {
         "_deepnote_index_column": 27,
         "artist": "['Bryson Gray', 'Tyson James', 'Chandler Crump']",
         "song": "Let's Go Brandon",
         "url": "nan"
        },
        {
         "_deepnote_index_column": 91,
         "artist": "['Grupo Firme']",
         "song": "Ya Superame (En Vivo Desde Culiacan, Sinaloa)",
         "url": "nan"
        },
        {
         "_deepnote_index_column": 270,
         "artist": "['Keith Urban Duet With P!nk']",
         "song": "One Too Many",
         "url": "nan"
        },
        {
         "_deepnote_index_column": 348,
         "artist": "['J. Cole', 'Lil Baby']",
         "song": "pride.is.the.devil",
         "url": "nan"
        },
        {
         "_deepnote_index_column": 402,
         "artist": "['J. Cole, Bas', '6LACK']",
         "song": "let.go.my.hand",
         "url": "nan"
        },
        {
         "_deepnote_index_column": 404,
         "artist": "['J. Cole']",
         "song": "punchin'.the.clock",
         "url": "nan"
        },
        {
         "_deepnote_index_column": 405,
         "artist": "['J. Cole']",
         "song": "the.climb.back",
         "url": "nan"
        },
        {
         "_deepnote_index_column": 406,
         "artist": "['J. Cole', 'Bas']",
         "song": "hunger.on.hillside",
         "url": "nan"
        },
        {
         "_deepnote_index_column": 427,
         "artist": "['Parmalee x Blanco Brown']",
         "song": "Just The Way",
         "url": "nan"
        },
        {
         "_deepnote_index_column": 468,
         "artist": "['Young Thug', 'Gunna', 'Lil Baby', 'YTB Trench']",
         "song": "Paid The Fine",
         "url": "nan"
        }
       ]
      },
      "text/html": [
       "<div>\n",
       "<style scoped>\n",
       "    .dataframe tbody tr th:only-of-type {\n",
       "        vertical-align: middle;\n",
       "    }\n",
       "\n",
       "    .dataframe tbody tr th {\n",
       "        vertical-align: top;\n",
       "    }\n",
       "\n",
       "    .dataframe thead th {\n",
       "        text-align: right;\n",
       "    }\n",
       "</style>\n",
       "<table border=\"1\" class=\"dataframe\">\n",
       "  <thead>\n",
       "    <tr style=\"text-align: right;\">\n",
       "      <th></th>\n",
       "      <th>song</th>\n",
       "      <th>artist</th>\n",
       "      <th>url</th>\n",
       "    </tr>\n",
       "  </thead>\n",
       "  <tbody>\n",
       "    <tr>\n",
       "      <th>27</th>\n",
       "      <td>Let's Go Brandon</td>\n",
       "      <td>[Bryson Gray, Tyson James, Chandler Crump]</td>\n",
       "      <td>NaN</td>\n",
       "    </tr>\n",
       "    <tr>\n",
       "      <th>91</th>\n",
       "      <td>Ya Superame (En Vivo Desde Culiacan, Sinaloa)</td>\n",
       "      <td>[Grupo Firme]</td>\n",
       "      <td>NaN</td>\n",
       "    </tr>\n",
       "    <tr>\n",
       "      <th>270</th>\n",
       "      <td>One Too Many</td>\n",
       "      <td>[Keith Urban Duet With P!nk]</td>\n",
       "      <td>NaN</td>\n",
       "    </tr>\n",
       "    <tr>\n",
       "      <th>348</th>\n",
       "      <td>pride.is.the.devil</td>\n",
       "      <td>[J. Cole, Lil Baby]</td>\n",
       "      <td>NaN</td>\n",
       "    </tr>\n",
       "    <tr>\n",
       "      <th>402</th>\n",
       "      <td>let.go.my.hand</td>\n",
       "      <td>[J. Cole, Bas, 6LACK]</td>\n",
       "      <td>NaN</td>\n",
       "    </tr>\n",
       "    <tr>\n",
       "      <th>...</th>\n",
       "      <td>...</td>\n",
       "      <td>...</td>\n",
       "      <td>...</td>\n",
       "    </tr>\n",
       "    <tr>\n",
       "      <th>8780</th>\n",
       "      <td>Change The Game</td>\n",
       "      <td>[Jay-Z, Beanie Sigel And Memphis Bleek]</td>\n",
       "      <td>NaN</td>\n",
       "    </tr>\n",
       "    <tr>\n",
       "      <th>8842</th>\n",
       "      <td>You All Dat</td>\n",
       "      <td>[Baha Men With Imani Coppola]</td>\n",
       "      <td>NaN</td>\n",
       "    </tr>\n",
       "    <tr>\n",
       "      <th>8908</th>\n",
       "      <td>Where I Wanna Be</td>\n",
       "      <td>[Damizza Presents Shade Sheist, Nate Dogg, Kur...</td>\n",
       "      <td>NaN</td>\n",
       "    </tr>\n",
       "    <tr>\n",
       "      <th>8942</th>\n",
       "      <td>Toca's Miracle</td>\n",
       "      <td>[Fragma]</td>\n",
       "      <td>NaN</td>\n",
       "    </tr>\n",
       "    <tr>\n",
       "      <th>9187</th>\n",
       "      <td>A Country Boy Can Survive (Y2K Version)</td>\n",
       "      <td>[Chad Brock With Hank Williams Jr., George Jones]</td>\n",
       "      <td>NaN</td>\n",
       "    </tr>\n",
       "  </tbody>\n",
       "</table>\n",
       "<p>90 rows × 3 columns</p>\n",
       "</div>"
      ],
      "text/plain": [
       "                                               song  \\\n",
       "27                                 Let's Go Brandon   \n",
       "91    Ya Superame (En Vivo Desde Culiacan, Sinaloa)   \n",
       "270                                    One Too Many   \n",
       "348                              pride.is.the.devil   \n",
       "402                                  let.go.my.hand   \n",
       "...                                             ...   \n",
       "8780                                Change The Game   \n",
       "8842                                    You All Dat   \n",
       "8908                               Where I Wanna Be   \n",
       "8942                                 Toca's Miracle   \n",
       "9187        A Country Boy Can Survive (Y2K Version)   \n",
       "\n",
       "                                                 artist  url  \n",
       "27           [Bryson Gray, Tyson James, Chandler Crump]  NaN  \n",
       "91                                        [Grupo Firme]  NaN  \n",
       "270                        [Keith Urban Duet With P!nk]  NaN  \n",
       "348                                 [J. Cole, Lil Baby]  NaN  \n",
       "402                               [J. Cole, Bas, 6LACK]  NaN  \n",
       "...                                                 ...  ...  \n",
       "8780            [Jay-Z, Beanie Sigel And Memphis Bleek]  NaN  \n",
       "8842                      [Baha Men With Imani Coppola]  NaN  \n",
       "8908  [Damizza Presents Shade Sheist, Nate Dogg, Kur...  NaN  \n",
       "8942                                           [Fragma]  NaN  \n",
       "9187  [Chad Brock With Hank Williams Jr., George Jones]  NaN  \n",
       "\n",
       "[90 rows x 3 columns]"
      ]
     },
     "execution_count": 40,
     "metadata": {},
     "output_type": "execute_result"
    }
   ],
   "source": [
    "# for some songs, no url can be found\n",
    "songs[songs[\"url\"].isnull()]"
   ]
  },
  {
   "cell_type": "markdown",
   "metadata": {
    "cell_id": "0389ca2d-d332-4cf1-a01d-576b4f7dd9ac",
    "deepnote_cell_height": 52.390625,
    "deepnote_cell_type": "markdown",
    "id": "fZsL-SkV3FQ1",
    "tags": []
   },
   "source": [
    "**Note:** consider specially treating the songs with missing urls, but it's only 90, so probably not worth it"
   ]
  },
  {
   "cell_type": "code",
   "execution_count": null,
   "metadata": {
    "cell_id": "c3c30026-1e15-4150-b55c-62fcb321b572",
    "deepnote_cell_height": 99,
    "deepnote_cell_type": "code",
    "deepnote_to_be_reexecuted": false,
    "execution_millis": 0,
    "execution_start": 1644100268290,
    "id": "FuevVWvv3FQ1",
    "source_hash": "265e33ab",
    "tags": []
   },
   "outputs": [],
   "source": [
    "# drop songs without url\n",
    "songs = songs.loc[~songs[\"url\"].isnull()]"
   ]
  },
  {
   "cell_type": "markdown",
   "metadata": {
    "cell_id": "b4d4270c-5940-4c8d-ae8d-47aa3a233299",
    "deepnote_cell_type": "text-cell-h2",
    "formattedRanges": [],
    "id": "1xoxsnF73FQ2",
    "is_collapsed": false,
    "tags": []
   },
   "source": [
    "## Find lyrics using the song link"
   ]
  },
  {
   "cell_type": "markdown",
   "metadata": {
    "cell_id": "3f4dd5c4-5525-452d-b83d-dafc11dec1bf",
    "deepnote_cell_type": "markdown",
    "id": "OffijEV23FQ2",
    "tags": []
   },
   "source": [
    "Use the song link to download the lyrics of the song, using `lyrics_from_url`."
   ]
  },
  {
   "cell_type": "code",
   "execution_count": null,
   "metadata": {
    "cell_id": "e3ff1f8d-4481-40f9-a154-a86406f6bbe7",
    "deepnote_cell_type": "code",
    "deepnote_to_be_reexecuted": false,
    "execution_millis": 8416328,
    "execution_start": 1644110546480,
    "id": "qeUJHiY13FQ2",
    "outputId": "daf6bcd2-0639-4afc-f8d2-2bfa068ef492",
    "source_hash": "80b5bf9d",
    "tags": []
   },
   "outputs": [
    {
     "name": "stdout",
     "output_type": "stream",
     "text": [
      "Couldn't find the lyrics section. Please report this if the song has lyrics.\n",
      "Song URL: https://genius.com/8-bit-arcade-95-south-8-bit-j-cole-emulation-lyrics\n",
      "Couldn't find the lyrics section. Please report this if the song has lyrics.\n",
      "Song URL: https://genius.com/John-legend-happy-xmas-war-is-over-lyrics\n",
      "Couldn't find the lyrics section. Please report this if the song has lyrics.\n",
      "Song URL: https://genius.com/8-bit-arcade-ganja-burn-8-bit-nicki-minaj-emulation-lyrics\n",
      "Couldn't find the lyrics section. Please report this if the song has lyrics.\n",
      "Song URL: https://genius.com/8-bit-arcade-bigger-than-you-8-bit-2-chainz-drake-and-quavo-emulation-lyrics\n",
      "Couldn't find the lyrics section. Please report this if the song has lyrics.\n",
      "Song URL: https://genius.com/Lindsey-stirling-hallelujah-lyrics\n",
      "Couldn't find the lyrics section. Please report this if the song has lyrics.\n",
      "Song URL: https://genius.com/8-bit-arcade-lady-marmalade-8-bit-christina-aguilera-lil-kim-mya-and-pink-emulation-lyrics\n"
     ]
    }
   ],
   "source": [
    "songs = lg.lyrics_from_url(songs)"
   ]
  },
  {
   "cell_type": "code",
   "execution_count": null,
   "metadata": {
    "cell_id": "6e7f3388-9129-405d-b01d-9832c5a43e56",
    "deepnote_cell_type": "code",
    "deepnote_to_be_reexecuted": false,
    "execution_millis": 747,
    "execution_start": 1644118962856,
    "id": "w1CbcN893FQ2",
    "source_hash": "51a22c0",
    "tags": []
   },
   "outputs": [],
   "source": [
    "# save as csv\n",
    "songs.to_csv(\"./data/songs_only_lyrics.csv\", index = False)"
   ]
  }
 ],
 "metadata": {
  "colab": {
   "provenance": []
  },
  "deepnote": {
   "is_reactive": false
  },
  "deepnote_execution_queue": [],
  "deepnote_notebook_id": "4f8527a0-7f0e-48ce-8086-59c44abe0e07",
  "gpuClass": "standard",
  "kernelspec": {
   "display_name": "Python 3 (ipykernel)",
   "language": "python",
   "name": "python3"
  },
  "language_info": {
   "codemirror_mode": {
    "name": "ipython",
    "version": 3
   },
   "file_extension": ".py",
   "mimetype": "text/x-python",
   "name": "python",
   "nbconvert_exporter": "python",
   "pygments_lexer": "ipython3",
   "version": "3.9.12"
  }
 },
 "nbformat": 4,
 "nbformat_minor": 1
}
