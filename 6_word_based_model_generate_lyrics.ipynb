{
 "cells": [
  {
   "cell_type": "markdown",
   "metadata": {
    "id": "jehXeXNHmclc"
   },
   "source": [
    "# 6. Text Generation using our model"
   ]
  },
  {
   "cell_type": "markdown",
   "metadata": {
    "id": "NNd6IiwRMuHi"
   },
   "source": [
    "__Note:__ model_kaggle was trained on Kaggle, which uses another version of keras (2.6.0.), so install the correct keras version first."
   ]
  },
  {
   "cell_type": "code",
   "execution_count": 2,
   "metadata": {
    "colab": {
     "base_uri": "https://localhost:8080/"
    },
    "executionInfo": {
     "elapsed": 12498,
     "status": "ok",
     "timestamp": 1665830754407,
     "user": {
      "displayName": "Felix Stockhammer (Stocki198)",
      "userId": "00639432236174564081"
     },
     "user_tz": -120
    },
    "id": "LL9i5KbCmclg",
    "outputId": "f63c24ee-0ff1-4a15-a407-1989f8fcb468"
   },
   "outputs": [
    {
     "name": "stdout",
     "output_type": "stream",
     "text": [
      "Looking in indexes: https://pypi.org/simple, https://us-python.pkg.dev/colab-wheels/public/simple/\n",
      "Collecting keras==2.6.0\n",
      "  Downloading keras-2.6.0-py2.py3-none-any.whl (1.3 MB)\n",
      "\u001b[K     |████████████████████████████████| 1.3 MB 34.9 MB/s \n",
      "\u001b[?25hInstalling collected packages: keras\n",
      "  Attempting uninstall: keras\n",
      "    Found existing installation: keras 2.9.0\n",
      "    Uninstalling keras-2.9.0:\n",
      "      Successfully uninstalled keras-2.9.0\n",
      "\u001b[31mERROR: pip's dependency resolver does not currently take into account all the packages that are installed. This behaviour is the source of the following dependency conflicts.\n",
      "tensorflow 2.9.2 requires keras<2.10.0,>=2.9.0rc0, but you have keras 2.6.0 which is incompatible.\u001b[0m\n",
      "Successfully installed keras-2.6.0\n",
      "Looking in indexes: https://pypi.org/simple, https://us-python.pkg.dev/colab-wheels/public/simple/\n",
      "Collecting pronouncing\n",
      "  Downloading pronouncing-0.2.0.tar.gz (17 kB)\n",
      "Collecting cmudict>=0.4.0\n",
      "  Downloading cmudict-1.0.2-py2.py3-none-any.whl (939 kB)\n",
      "\u001b[K     |████████████████████████████████| 939 kB 34.6 MB/s \n",
      "\u001b[?25hBuilding wheels for collected packages: pronouncing\n",
      "  Building wheel for pronouncing (setup.py) ... \u001b[?25l\u001b[?25hdone\n",
      "  Created wheel for pronouncing: filename=pronouncing-0.2.0-py2.py3-none-any.whl size=6252 sha256=afe65abc4119b47a446738b4a1876b3391537734527635e28dc74473c433973e\n",
      "  Stored in directory: /root/.cache/pip/wheels/09/e8/c0/3606d42fdbf5f3871564eb6a353591a8f5deeed013fdb73921\n",
      "Successfully built pronouncing\n",
      "Installing collected packages: cmudict, pronouncing\n",
      "Successfully installed cmudict-1.0.2 pronouncing-0.2.0\n"
     ]
    },
    {
     "name": "stderr",
     "output_type": "stream",
     "text": [
      "[nltk_data] Downloading package averaged_perceptron_tagger to\n",
      "[nltk_data]     /root/nltk_data...\n",
      "[nltk_data]   Unzipping taggers/averaged_perceptron_tagger.zip.\n",
      "[nltk_data] Downloading package universal_tagset to /root/nltk_data...\n",
      "[nltk_data]   Unzipping taggers/universal_tagset.zip.\n"
     ]
    },
    {
     "data": {
      "text/plain": [
       "True"
      ]
     },
     "execution_count": 2,
     "metadata": {},
     "output_type": "execute_result"
    }
   ],
   "source": [
    "#from pprint import pprint\n",
    "import re\n",
    "import numpy as np\n",
    "import string\n",
    "import random\n",
    "from more_itertools import split_before # for splitting list into sublists\n",
    "!pip install keras==2.6.0 # if model trained in kaggle is used\n",
    "import tensorflow as tf\n",
    "import pickle\n",
    "!pip install pronouncing\n",
    "import pronouncing\n",
    "import nltk # for tagging words\n",
    "nltk.download('averaged_perceptron_tagger') # for using default pos_tag\n",
    "nltk.download('universal_tagset') # for using pos_tag with tagset = \"universal"
   ]
  },
  {
   "cell_type": "code",
   "execution_count": 4,
   "metadata": {
    "executionInfo": {
     "elapsed": 295,
     "status": "ok",
     "timestamp": 1665830761206,
     "user": {
      "displayName": "Felix Stockhammer (Stocki198)",
      "userId": "00639432236174564081"
     },
     "user_tz": -120
    },
    "id": "AsCN5BsBfzpY"
   },
   "outputs": [],
   "source": [
    "# Loading objects:\n",
    "with open('./data/objs.pkl','rb') as f:\n",
    "    c, dictionary, index_to_word, word_to_index, SEQ_LENGTH, VOCAB_SIZE, BATCH_SIZE = pickle.load(f)"
   ]
  },
  {
   "cell_type": "code",
   "execution_count": 5,
   "metadata": {
    "colab": {
     "base_uri": "https://localhost:8080/",
     "height": 35
    },
    "executionInfo": {
     "elapsed": 318,
     "status": "ok",
     "timestamp": 1665830764350,
     "user": {
      "displayName": "Felix Stockhammer (Stocki198)",
      "userId": "00639432236174564081"
     },
     "user_tz": -120
    },
    "id": "BftYmPtOACoL",
    "outputId": "f616716f-e35b-47ef-d8b1-43a8696ca550"
   },
   "outputs": [
    {
     "data": {
      "application/vnd.google.colaboratory.intrinsic+json": {
       "type": "string"
      },
      "text/plain": [
       "'2.6.0'"
      ]
     },
     "execution_count": 5,
     "metadata": {},
     "output_type": "execute_result"
    }
   ],
   "source": [
    "tf.keras.__version__ # is 2.6.0 on Kaggle where the model was trained"
   ]
  },
  {
   "cell_type": "code",
   "execution_count": 6,
   "metadata": {
    "executionInfo": {
     "elapsed": 369,
     "status": "ok",
     "timestamp": 1665830766004,
     "user": {
      "displayName": "Felix Stockhammer (Stocki198)",
      "userId": "00639432236174564081"
     },
     "user_tz": -120
    },
    "id": "w46MWRzsmclp"
   },
   "outputs": [],
   "source": [
    "from tensorflow.keras.models import Sequential\n",
    "from tensorflow.keras.optimizers import Adam\n",
    "from tensorflow.keras.layers import Activation, Dense, LSTM, Embedding, GRU"
   ]
  },
  {
   "cell_type": "code",
   "execution_count": 7,
   "metadata": {
    "executionInfo": {
     "elapsed": 12788,
     "status": "ok",
     "timestamp": 1665830781322,
     "user": {
      "displayName": "Felix Stockhammer (Stocki198)",
      "userId": "00639432236174564081"
     },
     "user_tz": -120
    },
    "id": "ZYe9_v46QLDV"
   },
   "outputs": [],
   "source": [
    "# load the model\n",
    "model = tf.keras.models.load_model('model_kaggle.h5')"
   ]
  },
  {
   "cell_type": "code",
   "execution_count": 8,
   "metadata": {
    "executionInfo": {
     "elapsed": 12,
     "status": "ok",
     "timestamp": 1665830781323,
     "user": {
      "displayName": "Felix Stockhammer (Stocki198)",
      "userId": "00639432236174564081"
     },
     "user_tz": -120
    },
    "id": "OR9J4V_IFv_Y"
   },
   "outputs": [],
   "source": [
    "# function to tokenize user input text\n",
    "def tokenize(text: str):\n",
    "\n",
    "  # turn to all lowercase to reduce vocabulary size\n",
    "  text = text.lower()\n",
    "\n",
    "  # remove punctuation but keep <> for <START>\n",
    "  punctuation = \"\".join([punct for punct in string.punctuation if punct not in {\"<\", \">\", \"'\"}])\n",
    "  for punct in punctuation:\n",
    "      text = text.replace(punct, ' '+punct+' ')\n",
    "\n",
    "  # split by whitespace and newline, keep newline character\n",
    "  words = re.split(r\"( |\\n)\", text)\n",
    "\n",
    "  # remove whitespace from list\n",
    "  unwanted = {\"\", \" \"}\n",
    "  words = [elem for elem in words if elem not in unwanted]\n",
    "\n",
    "  # split list into sublists (1 list per song)\n",
    "  # there should be a strict separation between songs, ie. the last words from one\n",
    "  #  song should not be used to predict the first words from the next song\n",
    "  words = list(split_before(words, lambda x: x == \"<start>\"))\n",
    "\n",
    "  # returns nested list (1 song = 1 list)\n",
    "  return(words)"
   ]
  },
  {
   "cell_type": "code",
   "execution_count": 9,
   "metadata": {
    "executionInfo": {
     "elapsed": 9,
     "status": "ok",
     "timestamp": 1665830781323,
     "user": {
      "displayName": "Felix Stockhammer (Stocki198)",
      "userId": "00639432236174564081"
     },
     "user_tz": -120
    },
    "id": "E6z0UCciXXmK"
   },
   "outputs": [],
   "source": [
    "# function to count syllables\n",
    "# Stolen from: https://eayd.in/?p=232\n",
    "def sylco(word) :\n",
    "\n",
    "    word = word.lower()\n",
    "\n",
    "    # exception_add are words that need extra syllables\n",
    "    # exception_del are words that need less syllables\n",
    "\n",
    "    exception_add = ['serious','crucial']\n",
    "    exception_del = ['fortunately','unfortunately']\n",
    "\n",
    "    co_one = ['cool','coach','coat','coal','count','coin','coarse','coup','coif','cook','coign','coiffe','coof','court']\n",
    "    co_two = ['coapt','coed','coinci']\n",
    "\n",
    "    pre_one = ['preach']\n",
    "\n",
    "    syls = 0 #added syllable number\n",
    "    disc = 0 #discarded syllable number\n",
    "\n",
    "    #1) if letters < 3 : return 1\n",
    "    if len(word) <= 3 :\n",
    "        syls = 1\n",
    "        return syls\n",
    "\n",
    "    #2) if doesn't end with \"ted\" or \"tes\" or \"ses\" or \"ied\" or \"ies\", discard \"es\" and \"ed\" at the end.\n",
    "    # if it has only 1 vowel or 1 set of consecutive vowels, discard. (like \"speed\", \"fled\" etc.)\n",
    "\n",
    "    if word[-2:] == \"es\" or word[-2:] == \"ed\" :\n",
    "        doubleAndtripple_1 = len(re.findall(r'[eaoui][eaoui]',word))\n",
    "        if doubleAndtripple_1 > 1 or len(re.findall(r'[eaoui][^eaoui]',word)) > 1 :\n",
    "            if word[-3:] == \"ted\" or word[-3:] == \"tes\" or word[-3:] == \"ses\" or word[-3:] == \"ied\" or word[-3:] == \"ies\" :\n",
    "                pass\n",
    "            else :\n",
    "                disc+=1\n",
    "\n",
    "    #3) discard trailing \"e\", except where ending is \"le\"  \n",
    "\n",
    "    le_except = ['whole','mobile','pole','male','female','hale','pale','tale','sale','aisle','whale','while']\n",
    "\n",
    "    if word[-1:] == \"e\" :\n",
    "        if word[-2:] == \"le\" and word not in le_except :\n",
    "            pass\n",
    "\n",
    "        else :\n",
    "            disc+=1\n",
    "\n",
    "    #4) check if consecutive vowels exists, triplets or pairs, count them as one.\n",
    "\n",
    "    doubleAndtripple = len(re.findall(r'[eaoui][eaoui]',word))\n",
    "    tripple = len(re.findall(r'[eaoui][eaoui][eaoui]',word))\n",
    "    disc+=doubleAndtripple + tripple\n",
    "\n",
    "    #5) count remaining vowels in word.\n",
    "    numVowels = len(re.findall(r'[eaoui]',word))\n",
    "\n",
    "    #6) add one if starts with \"mc\"\n",
    "    if word[:2] == \"mc\" :\n",
    "        syls+=1\n",
    "\n",
    "    #7) add one if ends with \"y\" but is not surrouned by vowel\n",
    "    if word[-1:] == \"y\" and word[-2] not in \"aeoui\" :\n",
    "        syls +=1\n",
    "\n",
    "    #8) add one if \"y\" is surrounded by non-vowels and is not in the last word.\n",
    "\n",
    "    for i,j in enumerate(word) :\n",
    "        if j == \"y\" :\n",
    "            if (i != 0) and (i != len(word)-1) :\n",
    "                if word[i-1] not in \"aeoui\" and word[i+1] not in \"aeoui\" :\n",
    "                    syls+=1\n",
    "\n",
    "    #9) if starts with \"tri-\" or \"bi-\" and is followed by a vowel, add one.\n",
    "\n",
    "    if word[:3] == \"tri\" and word[3] in \"aeoui\" :\n",
    "        syls+=1\n",
    "\n",
    "    if word[:2] == \"bi\" and word[2] in \"aeoui\" :\n",
    "        syls+=1\n",
    "\n",
    "    #10) if ends with \"-ian\", should be counted as two syllables, except for \"-tian\" and \"-cian\"\n",
    "\n",
    "    if word[-3:] == \"ian\" : \n",
    "    #and (word[-4:] != \"cian\" or word[-4:] != \"tian\") :\n",
    "        if word[-4:] == \"cian\" or word[-4:] == \"tian\" :\n",
    "            pass\n",
    "        else :\n",
    "            syls+=1\n",
    "\n",
    "    #11) if starts with \"co-\" and is followed by a vowel, check if exists in the double syllable dictionary, if not, check if in single dictionary and act accordingly.\n",
    "\n",
    "    if word[:2] == \"co\" and word[2] in 'eaoui' :\n",
    "\n",
    "        if word[:4] in co_two or word[:5] in co_two or word[:6] in co_two :\n",
    "            syls+=1\n",
    "        elif word[:4] in co_one or word[:5] in co_one or word[:6] in co_one :\n",
    "            pass\n",
    "        else :\n",
    "            syls+=1\n",
    "\n",
    "    #12) if starts with \"pre-\" and is followed by a vowel, check if exists in the double syllable dictionary, if not, check if in single dictionary and act accordingly.\n",
    "\n",
    "    if word[:3] == \"pre\" and word[3] in 'eaoui' :\n",
    "        if word[:6] in pre_one :\n",
    "            pass\n",
    "        else :\n",
    "            syls+=1\n",
    "\n",
    "    #13) check for \"-n't\" and cross match with dictionary to add syllable.\n",
    "\n",
    "    negative = [\"doesn't\", \"isn't\", \"shouldn't\", \"couldn't\",\"wouldn't\"]\n",
    "\n",
    "    if word[-3:] == \"n't\" :\n",
    "        if word in negative :\n",
    "            syls+=1\n",
    "        else :\n",
    "            pass   \n",
    "\n",
    "    #14) Handling the exceptional words.\n",
    "\n",
    "    if word in exception_del :\n",
    "        disc+=1\n",
    "\n",
    "    if word in exception_add :\n",
    "        syls+=1     \n",
    "\n",
    "    # calculate the output\n",
    "    return numVowels - disc + syls"
   ]
  },
  {
   "cell_type": "code",
   "execution_count": null,
   "metadata": {
    "colab": {
     "base_uri": "https://localhost:8080/"
    },
    "executionInfo": {
     "elapsed": 19,
     "status": "ok",
     "timestamp": 1665769180607,
     "user": {
      "displayName": "Felix Stockhammer (Stocki198)",
      "userId": "00639432236174564081"
     },
     "user_tz": -120
    },
    "id": "SZIge2u0jVRN",
    "outputId": "62424721-f042-4a48-de17-2d48e029c91c"
   },
   "outputs": [
    {
     "data": {
      "text/plain": [
       "(None, 10, 25002)"
      ]
     },
     "execution_count": 14,
     "metadata": {},
     "output_type": "execute_result"
    }
   ],
   "source": [
    "# expected input shape of the model\n",
    "model.input_shape # batch dimension, sequence length, vocabulary size (incl. tags)"
   ]
  },
  {
   "cell_type": "markdown",
   "metadata": {
    "id": "lpxurPFzswdA"
   },
   "source": [
    "<h2>Generating Text from the model</h2>"
   ]
  },
  {
   "cell_type": "markdown",
   "metadata": {},
   "source": [
    "Generating text is split up into various subtasks:<br>\n",
    "- *sample_word* takes the output of the model (a vector of probabilities) as an input to determine which word should follow next. This should not always be the word that has the highest probability as this would lead to \"overfitting\" in terms of being very similar to the training lyrics. Therefore we introduce some randomness into it.\n",
    "- *generate_word* is iteratively called to use the model to predict the next word. It also handles rhyming, ie. it re-weights words that rhyme if at this position there should be a rhyme.\n",
    "- *generate_chapter* is based on the idea that we don't want a coherent string of lyrics but rather \"chapters\" in the sense of a chorus or a verse. Based on the chapter type the model behaves differently, eg. uses different rhyming patterns for chorus vs. verses.\n",
    "- *generate_song* is the function that pastes the functions above together. It takes user input and will then generate the whole song."
   ]
  },
  {
   "cell_type": "code",
   "execution_count": 10,
   "metadata": {
    "executionInfo": {
     "elapsed": 276,
     "status": "ok",
     "timestamp": 1665830789762,
     "user": {
      "displayName": "Felix Stockhammer (Stocki198)",
      "userId": "00639432236174564081"
     },
     "user_tz": -120
    },
    "id": "qDshKYpNRzFE"
   },
   "outputs": [],
   "source": [
    "# define punctuation characters and add newline character\n",
    "PUNCT = string.punctuation + \"\\n\"\n",
    "\n",
    "# find their indices\n",
    "punct_indices = [word_to_index[i] for i in PUNCT if i in word_to_index]\n",
    "\n",
    "# define tags that are the placeholders but should not be returned in the generated text\n",
    "TAGS = ['<.>', '<ADJ>', '<ADP>', '<ADV>', '<CONJ>', '<DET>', '<NOUN>', '<NUM>', '<PRON>', '<PRT>', '<VERB>', '<X>']\n",
    "\n",
    "# add words that should not be returned (at least for the songs presented at Lighthouse)\n",
    "bad_words = [\"nigga\", \"niggas\", \"motherfucker\", \"fuck\", \"fucked\", \"bitch\", \"bitches\"]\n",
    "bad_indices = [word_to_index[i] for i in bad_words]"
   ]
  },
  {
   "cell_type": "code",
   "execution_count": 11,
   "metadata": {
    "executionInfo": {
     "elapsed": 326,
     "status": "ok",
     "timestamp": 1665830793094,
     "user": {
      "displayName": "Felix Stockhammer (Stocki198)",
      "userId": "00639432236174564081"
     },
     "user_tz": -120
    },
    "id": "pUo2szkSnuqj"
   },
   "outputs": [],
   "source": [
    "# sample the next word based on the previous sequence\n",
    "# don't always take the word with the highest probability but introduce randomness by increasing the parameter \"temperature\"\n",
    "def sample_word(preds, temperature = 0.8, ban_punctuation = False):\n",
    "  # the higher the temperature, the more random the word\n",
    "  # the lower, the more conservative (might lead to copying existing lyrics)\n",
    "  preds = np.asarray(preds).astype('float64')\n",
    "\n",
    "  # newline characters should never be returned with our current approach\n",
    "  preds[0][word_to_index[\"\\n\"]] = 1e-10\n",
    "\n",
    "  # some unprofessional words should also not be returned\n",
    "  preds[0][bad_indices] = 1e-10\n",
    "\n",
    "  # should not return puncutations characters, so set their probabilty very low (but not 0 because of taking the log later)\n",
    "  if ban_punctuation:\n",
    "    #preds[0][word_to_index[\"\\n\"]] = 1e-10\n",
    "    preds[0][punct_indices] = 1e-10\n",
    "\n",
    "  # take logarithm of predictions and divide by temperature\n",
    "  # when calculating the exponential function again, lower temperature values lead\n",
    "  #  to a curve that is more on the right bottom than the linear line exp(log(pred))\n",
    "  preds = np.log(preds) / temperature\n",
    "  exp_preds = np.exp(preds)\n",
    "  preds = exp_preds / np.sum(exp_preds)\n",
    "\n",
    "  # the reweighted predictions are then used as probabilities to draw from a multinomial distribution\n",
    "  probas = np.random.multinomial(1, preds[0], 1)\n",
    "\n",
    "  # the index of the highest value is then returned\n",
    "  return np.argmax(probas)"
   ]
  },
  {
   "cell_type": "code",
   "execution_count": 12,
   "metadata": {
    "colab": {
     "base_uri": "https://localhost:8080/",
     "height": 295
    },
    "executionInfo": {
     "elapsed": 646,
     "status": "ok",
     "timestamp": 1665830797435,
     "user": {
      "displayName": "Felix Stockhammer (Stocki198)",
      "userId": "00639432236174564081"
     },
     "user_tz": -120
    },
    "id": "V9fF-IMEy3i7",
    "outputId": "6623965d-ec45-409c-a263-76f4e2a0694d"
   },
   "outputs": [
    {
     "data": {
      "image/png": "[encoded data removed]",
      "text/plain": [
       "<Figure size 432x288 with 1 Axes>"
      ]
     },
     "metadata": {
      "needs_background": "light"
     },
     "output_type": "display_data"
    }
   ],
   "source": [
    "# visualising the behaviour of predictions depending on the temperature\n",
    "import matplotlib.pyplot as plt\n",
    "temperatures = [1.33, 1, 0.66, 0.33]\n",
    "x = np.arange(1e-10, 1, 0.01)\n",
    "for i, temp in enumerate(temperatures):\n",
    "  exp_preds = np.exp(np.log(x) / temp)\n",
    "  y = exp_preds / np.sum(exp_preds)\n",
    "  #y = (np.exp(np.log(x) / temp)) / np.sum(np.exp(np.log(x) / temp))\n",
    "  plt.plot(x, y, label = temp)\n",
    "plt.legend()\n",
    "#plt.grid()\n",
    "plt.title('Prediction curve depending on temperature')\n",
    "plt.xlabel('prediction before modification')\n",
    "plt.ylabel('prediction after modification')\n",
    "plt.show()"
   ]
  },
  {
   "cell_type": "markdown",
   "metadata": {
    "id": "7_ZS5jy_t3wC"
   },
   "source": [
    "the HIGHER the temperature, the flatter the prediction curve.<br>\n",
    "therefore, predictions are more equal, meaning that the possibility of choosing different indices for each repetition gets increased.<br>\n",
    "consequently, for LOWER temperature, high prediction values stay high after modification and the distance to the next highest values get's bigger, meaning that the chance that the highest value (before modification) get's chosen is increased."
   ]
  },
  {
   "cell_type": "code",
   "execution_count": 14,
   "metadata": {
    "executionInfo": {
     "elapsed": 6,
     "status": "ok",
     "timestamp": 1665830803870,
     "user": {
      "displayName": "Felix Stockhammer (Stocki198)",
      "userId": "00639432236174564081"
     },
     "user_tz": -120
    },
    "id": "T20K6_QOB6uM"
   },
   "outputs": [],
   "source": [
    "# generate the next word\n",
    "def generate_word(sequence_indices, sequence_words, temperature = 0.8, rhyme_with = None, rhyming_reweight_factor = 100000, ban = False):\n",
    "  # ban refers to banning punctuation characters from being generated\n",
    "\n",
    "  # make empty matrix to fill with one-hot encoded sequence\n",
    "  # first dimension is needed to make predictions with the model (batch dimension)\n",
    "  X = np.zeros((1, SEQ_LENGTH, VOCAB_SIZE), dtype=bool)\n",
    "\n",
    "  # consider relevant sequence (latest x entries, based on SEQ_LENGTH of the model)\n",
    "  n_elements = len(sequence_indices)\n",
    "  if n_elements < SEQ_LENGTH: # = 10 currently\n",
    "    relevant = sequence_indices\n",
    "  else:\n",
    "    relevant = sequence_indices[n_elements - SEQ_LENGTH : n_elements + 1]\n",
    "\n",
    "  # fill sequence into created matrix\n",
    "  for i, token in enumerate(relevant):\n",
    "    X[0, i, token] = 1\n",
    "  \n",
    "  # calculate predictions\n",
    "  predictions = model.predict(X)\n",
    "\n",
    "  if rhyme_with is not None:\n",
    "    print(\"--------------------------------------------------------------------\")\n",
    "    # find words that rhyme\n",
    "    print(\"Rhyme with: \" + rhyme_with)\n",
    "    rhyming_words = pronouncing.rhymes(rhyme_with)\n",
    "    print(\"Possible rhymes: \" + str(rhyming_words))\n",
    "    # reweight words that rhyme\n",
    "    indices_to_reweight = [word_to_index.get(key) for key in rhyming_words]\n",
    "    indices_to_reweight = [i for i in indices_to_reweight if i is not None]\n",
    "    print(\"Found in dictionary: \" + str([index_to_word[i] for i in indices_to_reweight]))\n",
    "    print(\"Top 10 predictions BEFORE reweight: \" + str([index_to_word[i] for i in np.argpartition(predictions[0], -10)[-10:]]))\n",
    "    predictions[:,indices_to_reweight] = predictions[:,indices_to_reweight] * rhyming_reweight_factor\n",
    "    print(\"Top 10 predictions AFTER reweight: \" + str([index_to_word[i] for i in np.argpartition(predictions[0], -10)[-10:]]))\n",
    "    # should not return punctuation character, so set it's probabilty very low (but not 0 because of taking the log later)\n",
    "    ban = True # used as input for sample_word\n",
    " \n",
    "  # sample the next word (index of the word) \n",
    "  next_index = sample_word(predictions, temperature = temperature, ban_punctuation = ban)\n",
    "  next_word = index_to_word[next_index]\n",
    "\n",
    "  # catch if the generated word is unwanted (is a tag, or same to the one to be rhymed with)\n",
    "  # don't allow two same tokens after another\n",
    "  # check if the model is stuck on a specific pattern consisting of two tokens, eg. hey, hey, and would then generate another hey\n",
    "  # not used currently: specifically don't allow two punctuations characters after each other\n",
    "  # (next_word in PUNCT and sequence_words[-1] in PUNCT)\n",
    "  t = temperature\n",
    "  r = rhyme_with\n",
    "  b = ban\n",
    "  #repeated_pattern = (sequence_words[-2:] == sequence_words[-4:-2]) and (next_word == sequence_words[-2])\n",
    "  while (next_word in TAGS or next_word == r or next_word == sequence_words[-1] or ((sequence_words[-2:] == sequence_words[-4:-2]) and (next_word == sequence_words[-2]))):\n",
    "   print(\"Re-do...\")\n",
    "   t = t*1.5\n",
    "   next_index, next_word = generate_word(sequence_indices, sequence_words, temperature = t, rhyme_with = r, ban = b)\n",
    "\n",
    "  return next_index, next_word"
   ]
  },
  {
   "cell_type": "code",
   "execution_count": 15,
   "metadata": {
    "executionInfo": {
     "elapsed": 309,
     "status": "ok",
     "timestamp": 1665830808983,
     "user": {
      "displayName": "Felix Stockhammer (Stocki198)",
      "userId": "00639432236174564081"
     },
     "user_tz": -120
    },
    "id": "q1j3ShzUYXVV"
   },
   "outputs": [],
   "source": [
    "def generate_chapter(sequence_indices, sequence_words, temperature = 0.8, n_lines = 4, chapter_type = \"chorus\", verse_pattern = \"ABABAB\"):\n",
    "\n",
    "    # Initialize with something:\n",
    "    MIN_SENTENCE_LENGTH_SYLLABLES = 10\n",
    "    MAX_TOKENS = 15\n",
    "\n",
    "    # if we generate chorus starting from user input, we have a reference point for rhyming\n",
    "    if chapter_type == \"chorus\":\n",
    "      # last word from second-to-last line (excluding punctuations)\n",
    "      # but: how to handle stuff in brackets? (yeah, yeah, yeah) etc.\n",
    "      RHYME_CURRENT = [word for word in list(split_before(sequence_words, lambda x: x == \"\\n\"))[-3] if not word in PUNCT][-1]\n",
    "      # last word from last line (excluding punctuations)\n",
    "      RHYME_NEXT = [word for word in list(split_before(sequence_words, lambda x: x == \"\\n\"))[-2] if not word in PUNCT][-1]\n",
    "    \n",
    "    # if we generate the verse, the first two lines should be \"free\", then the third rhymes with the first and so on\n",
    "    if chapter_type == \"verse\":\n",
    "      RHYME_CURRENT = None\n",
    "      RHYME_NEXT = None\n",
    "      SKIP_1_LINE = True # if verse_pattern = \"-A-A-A\", skip first line, then act like \"A-A-A-\"\n",
    "\n",
    "    # generate fixed number of lines\n",
    "    for sentence_no in range(n_lines):\n",
    "      current_sentence = []\n",
    "      # initialize syllables count\n",
    "      curr_sent_syls = 0\n",
    "      LAST_WORD_IN_SENTENCE = False\n",
    "\n",
    "      # every line has a maximum number of words\n",
    "      for word_no_in_sentence in range(MAX_TOKENS):\n",
    "        # print(\"Line %d - Word %d out of MAX %d - Syllable %d out of MAX %d\" %(sentence_no, word_no_in_sentence, MAX_TOKENS, curr_sent_syls, MIN_SENTENCE_LENGTH_SYLLABLES))\n",
    "        # if there are already more syllables than our minimum, stop the line\n",
    "        if curr_sent_syls >= MIN_SENTENCE_LENGTH_SYLLABLES or word_no_in_sentence == MAX_TOKENS - 1:\n",
    "          #print(\"Stopping this line\")\n",
    "          LAST_WORD_IN_SENTENCE = True\n",
    "          rhyme_with_now = RHYME_CURRENT\n",
    "\n",
    "          # ban all punctuations at the end of the sentence\n",
    "          # Note: newline character is banned anyways!\n",
    "          ban_all_punctuations = True\n",
    "        else:\n",
    "          rhyme_with_now = None\n",
    "          ban_all_punctuations = False\n",
    "\n",
    "        next_index, next_word = generate_word(sequence_indices, sequence_words, temperature = temperature, rhyme_with = rhyme_with_now, ban = ban_all_punctuations)\n",
    "        # note: handling unwanted tags is implemented in generate_word\n",
    "\n",
    "        if rhyme_with_now is not None:\n",
    "          print(\"Picked: \" + next_word)\n",
    "\n",
    "        sequence_indices.append(next_index)\n",
    "        sequence_words.append(next_word)\n",
    "        current_sentence.append(next_word)\n",
    "        curr_sent_syls = sylco(' '.join(current_sentence))\n",
    "\n",
    "        if LAST_WORD_IN_SENTENCE:\n",
    "          # if there's open parenthesis, add closing one\n",
    "          if \"(\" in current_sentence and \")\" not in current_sentence:\n",
    "            sequence_indices.append(word_to_index[\")\"])\n",
    "            sequence_words.append(\")\")\n",
    "\n",
    "          # end line with newline character\n",
    "          sequence_indices.append(word_to_index[\"\\n\"])\n",
    "          sequence_words.append(\"\\n\")\n",
    "\n",
    "          if (chapter_type == \"chorus\") or (verse_pattern == \"ABABAB\"):\n",
    "            # ABABAB rhyme pattern\n",
    "            RHYME_CURRENT = RHYME_NEXT\n",
    "            RHYME_NEXT = next_word\n",
    "\n",
    "          # implement different rhyme pattern for verse \n",
    "          if chapter_type == \"verse\":\n",
    "            if verse_pattern == \"AAAAAA\":\n",
    "              # AAAAAA (rhyme every line with each other)\n",
    "              RHYME_NEXT = next_word\n",
    "              RHYME_CURRENT = RHYME_NEXT\n",
    "\n",
    "            if verse_pattern == \"AABBCC\":\n",
    "              # AABBCC\n",
    "              if RHYME_CURRENT is None:\n",
    "                RHYME_CURRENT = next_word\n",
    "              \n",
    "              else:\n",
    "                RHYME_CURRENT = None\n",
    "\n",
    "            if verse_pattern == \"A_A_A_\":\n",
    "              # A_A_A_\n",
    "              if RHYME_NEXT is None:\n",
    "                RHYME_NEXT = next_word\n",
    "                RHYME_CURRENT = None\n",
    "              \n",
    "              else:\n",
    "                RHYME_CURRENT = RHYME_NEXT\n",
    "                RHYME_NEXT = None\n",
    "            \n",
    "            if verse_pattern == \"_A_A_A\":\n",
    "              # _A_A_A\n",
    "              if SKIP_1_LINE:\n",
    "                SKIP_1_LINE = False\n",
    "              else:\n",
    "                if RHYME_NEXT is None:\n",
    "                  RHYME_NEXT = next_word\n",
    "                  RHYME_CURRENT = None\n",
    "                \n",
    "                else:\n",
    "                  RHYME_CURRENT = RHYME_NEXT\n",
    "                  RHYME_NEXT = None\n",
    "\n",
    "          break\n",
    "\n",
    "    whole_chorus_indices = sequence_indices.copy()\n",
    "    whole_chorus_words = sequence_words.copy()\n",
    "\n",
    "    return whole_chorus_indices, whole_chorus_words"
   ]
  },
  {
   "cell_type": "code",
   "execution_count": 16,
   "metadata": {
    "executionInfo": {
     "elapsed": 250,
     "status": "ok",
     "timestamp": 1665830814556,
     "user": {
      "displayName": "Felix Stockhammer (Stocki198)",
      "userId": "00639432236174564081"
     },
     "user_tz": -120
    },
    "id": "bCqtOsl65toO"
   },
   "outputs": [],
   "source": [
    "# generate song by sampling new words\n",
    "def generate_song(text_input = None, temperature = 0.8, chorus_length = 4, verse_length = 6, verse_pattern = \"ABABAB\"):\n",
    "    \n",
    "    if text_input is not None:\n",
    "      text_input = tokenize(text_input)[0]\n",
    "\n",
    "      # if first character is newline, delete it\n",
    "      if text_input[0] == \"\\n\":\n",
    "        text_input = text_input[1:]\n",
    "\n",
    "      # if last character is not newline, add newline\n",
    "      if text_input[-1] != \"\\n\":\n",
    "        text_input.append(\"\\n\")\n",
    "\n",
    "      # change to numerical representation\n",
    "      start_index = []\n",
    "      for word in text_input:\n",
    "        try: \n",
    "          index = word_to_index[word]\n",
    "        except KeyError:\n",
    "          # if word is not in vocabulary, replace it with it's tag (eg. noun, verb, etc.)\n",
    "          tag = nltk.pos_tag([word], tagset = \"universal\")[0][1]\n",
    "          word = \"<\" + tag + \">\"\n",
    "          index = word_to_index[word]\n",
    "        start_index.append(index)\n",
    "\n",
    "    else:\n",
    "      # select random word from vocabulary\n",
    "      start_index = list(np.random.randint(low = 0, high = VOCAB_SIZE, size = 1))\n",
    "\n",
    "    # create two sequences, one for the generated indices and one for the generated words  \n",
    "    seq_generated = []\n",
    "    seq_generated.extend(start_index)\n",
    "\n",
    "    seq_words = []\n",
    "    seq_words.extend([index_to_word[index] for index in seq_generated])\n",
    "\n",
    "    # instead of randomly generating a sequence word by word, create a structure of lines connected to each other\n",
    "    # generate chorus from user input and then 2 verses\n",
    "\n",
    "    # count number of lines of user input\n",
    "    n_lines_user_input = sum([word == \"\\n\" for word in seq_words])\n",
    "\n",
    "    # check if there are at least 2 lines to know where to rhyme\n",
    "    if n_lines_user_input < 2:\n",
    "      raise ValueError(\"User input not long enough, should be at least 2 lines\")\n",
    "\n",
    "    # if number of user input lines >= inputted chorus length, treat user input as chorus and don't generate more\n",
    "    if n_lines_user_input >= chorus_length:\n",
    "      print(\"Treat user input as whole chorus\")\n",
    "      chorus_indices, chorus_words = seq_generated.copy(), seq_words.copy()\n",
    "      \n",
    "    # else, generate rest of chorus\n",
    "    else:    \n",
    "      chorus_indices, chorus_words = generate_chapter(seq_generated, seq_words, n_lines = chorus_length - n_lines_user_input, chapter_type = \"chorus\")\n",
    "      # when generating the chorus, seq_words and seq_generated are automatically appended\n",
    "      # save chorus_words nevertheless, as we will copy it later\n",
    "    \n",
    "    seq_generated.append(word_to_index[\"\\n\"])\n",
    "    seq_words.append(\"\\n\")\n",
    "\n",
    "    # generate first verse\n",
    "    generate_chapter(seq_generated, seq_words, n_lines = verse_length, chapter_type = \"verse\", verse_pattern = verse_pattern)\n",
    "    seq_generated.append(word_to_index[\"\\n\"])\n",
    "    seq_words.append(\"\\n\")\n",
    "    # save index to mask chorus with user input later\n",
    "    chorus_2_start = len(seq_words)\n",
    "\n",
    "    # copy chorus\n",
    "    seq_generated.extend(chorus_indices)\n",
    "    seq_words.extend(chorus_words)\n",
    "    seq_generated.append(word_to_index[\"\\n\"])\n",
    "    seq_words.append(\"\\n\")\n",
    "\n",
    "    # generate second verse\n",
    "    generate_chapter(seq_generated, seq_words, n_lines = verse_length, chapter_type = \"verse\", verse_pattern = verse_pattern)\n",
    "\n",
    "    # replace tags that come from the user input by the correct words from the user input   \n",
    "    if text_input is not None:\n",
    "      seq_words[0:len(text_input)] = text_input\n",
    "      seq_words[chorus_2_start:chorus_2_start+len(text_input)] = text_input\n",
    "\n",
    "    # add newline character at start again\n",
    "    seq_words = [\"\\n\"] + seq_words\n",
    "\n",
    "    # paste generated words to one string\n",
    "    text = \" \".join(seq_words)\n",
    "\n",
    "    # clean the text with custom function\n",
    "    text = clean_text(text)\n",
    "\n",
    "    return text\n"
   ]
  },
  {
   "cell_type": "code",
   "execution_count": 13,
   "metadata": {
    "executionInfo": {
     "elapsed": 5,
     "status": "ok",
     "timestamp": 1665830800589,
     "user": {
      "displayName": "Felix Stockhammer (Stocki198)",
      "userId": "00639432236174564081"
     },
     "user_tz": -120
    },
    "id": "wJ8spKkhTnJb"
   },
   "outputs": [],
   "source": [
    "# function cleans the text by removing unnecessary whitespace\n",
    "def clean_text(text: str):\n",
    "    # delete extra space from punctuation\n",
    "    for i in PUNCT:\n",
    "      #print(i)\n",
    "      if i == \"(\":\n",
    "        text = re.sub(\"\\( \", i, text)\n",
    "      elif i == \")\":\n",
    "        text = re.sub(\" \\)\", i, text)\n",
    "      elif i == \"\\\\\":\n",
    "        text = re.sub(r\" \\\\\", r\"\\\\\", text)\n",
    "      elif i == \"\\n\":\n",
    "        text = re.sub(r\" \\n\", r\"\\n\", text)\n",
    "      else:\n",
    "        text = re.sub(\" \\\\\" + i, i, text)\n",
    "    \n",
    "    return text"
   ]
  },
  {
   "cell_type": "markdown",
   "metadata": {},
   "source": [
    "# Try out the model!"
   ]
  },
  {
   "cell_type": "code",
   "execution_count": null,
   "metadata": {
    "id": "c3Hlq9NAJZ5_"
   },
   "outputs": [],
   "source": [
    "input = \"\"\"\n",
    "Straight outta Vienna, everybody wants to be a member\n",
    "We are Lumos, the best, yeah that's us\n",
    "\"\"\""
   ]
  },
  {
   "cell_type": "code",
   "execution_count": 17,
   "metadata": {
    "executionInfo": {
     "elapsed": 358,
     "status": "ok",
     "timestamp": 1665830858859,
     "user": {
      "displayName": "Felix Stockhammer (Stocki198)",
      "userId": "00639432236174564081"
     },
     "user_tz": -120
    },
    "id": "jJEO6USKHPNi"
   },
   "outputs": [],
   "source": [
    "input = \"\"\"\n",
    "Shining from our lighthouse, call us illuminated\n",
    "Straight outta Vienna, Lumos is our name\n",
    "\"\"\""
   ]
  },
  {
   "cell_type": "code",
   "execution_count": 25,
   "metadata": {
    "colab": {
     "base_uri": "https://localhost:8080/"
    },
    "executionInfo": {
     "elapsed": 8855,
     "status": "ok",
     "timestamp": 1665831087310,
     "user": {
      "displayName": "Felix Stockhammer (Stocki198)",
      "userId": "00639432236174564081"
     },
     "user_tz": -120
    },
    "id": "PoYnU0PXE746",
    "outputId": "bab3bd7b-704f-494c-e5e4-44ff6a2fe5fc"
   },
   "outputs": [
    {
     "name": "stdout",
     "output_type": "stream",
     "text": [
      "Picked: complicated\n",
      "Picked: game\n",
      "Picked: me\n",
      "Picked: night\n",
      "Re-do...\n",
      "Picked: part\n",
      "Picked: love\n",
      "Picked: right\n",
      "Picked: can\n"
     ]
    }
   ],
   "source": [
    "# choose rhyming pattern for verse from \"ABABAB\", \"AAAAAA\", \"AABBCC\", \"A_A_A_\", \"_A_A_A\" (default \"ABABAB\")\n",
    "song = generate_song(text_input = input, temperature = 0.8, chorus_length = 4, verse_length = 6, verse_pattern = \"AABBCC\")"
   ]
  },
  {
   "cell_type": "code",
   "execution_count": 26,
   "metadata": {
    "colab": {
     "base_uri": "https://localhost:8080/"
    },
    "executionInfo": {
     "elapsed": 263,
     "status": "ok",
     "timestamp": 1665831091059,
     "user": {
      "displayName": "Felix Stockhammer (Stocki198)",
      "userId": "00639432236174564081"
     },
     "user_tz": -120
    },
    "id": "ukI0MSdyJTlV",
    "outputId": "a05c4b26-ae38-47de-d997-e4cdcfb6d835"
   },
   "outputs": [
    {
     "name": "stdout",
     "output_type": "stream",
     "text": [
      "\n",
      " shining from our lighthouse, call us illuminated\n",
      " straight outta vienna, lumos is our name\n",
      " but if i could not leave here is complicated\n",
      " i've been looking for you, so looking game\n",
      "\n",
      " we're all in a love feelin' like we\n",
      " come on and roll with me, baby, under me\n",
      " embrace the world just to make it right\n",
      " love some time to love this night\n",
      " listen to the heart that's made of my heart\n",
      " and i still got to keep you still wrote and part\n",
      "\n",
      " shining from our lighthouse, call us illuminated\n",
      " straight outta vienna, lumos is our name\n",
      " but if i could not leave here is complicated\n",
      " i've been looking for you, so looking game\n",
      "\n",
      " i just feel like i'm dying inside, above\n",
      " i don't want to be your lover, but i love\n",
      " i wanna be your lover, yeah, in the candlelight tonight\n",
      " and we can just go home in the club right\n",
      " i just brought it some more (one more dollars)\n",
      " but only i go (chasing new), who else can\n",
      "\n"
     ]
    }
   ],
   "source": [
    "print(song)"
   ]
  },
  {
   "cell_type": "markdown",
   "metadata": {
    "id": "LIuAR8G2TBWX"
   },
   "source": [
    "__Notes__:<br>\n",
    "model_kaggle was trained with vocabulary of 24990 real words and 10,315,059 sequences of length 10. The Network had Total params: 16,092,330."
   ]
  }
 ],
 "metadata": {
  "colab": {
   "collapsed_sections": [],
   "provenance": []
  },
  "deepnote": {
   "is_reactive": false
  },
  "deepnote_execution_queue": [],
  "deepnote_notebook_id": "3174b81f-1ca2-4cc7-8a6b-69ad39b69929",
  "gpuClass": "standard",
  "kernelspec": {
   "display_name": "Python 3 (ipykernel)",
   "language": "python",
   "name": "python3"
  },
  "language_info": {
   "codemirror_mode": {
    "name": "ipython",
    "version": 3
   },
   "file_extension": ".py",
   "mimetype": "text/x-python",
   "name": "python",
   "nbconvert_exporter": "python",
   "pygments_lexer": "ipython3",
   "version": "3.9.12"
  }
 },
 "nbformat": 4,
 "nbformat_minor": 1
}
